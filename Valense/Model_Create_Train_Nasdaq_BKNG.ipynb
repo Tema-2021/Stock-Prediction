{
  "cells": [
    {
      "cell_type": "code",
      "execution_count": 1,
      "metadata": {},
      "outputs": [],
      "source": [
        "# !pip install pandas_datareader"
      ]
    },
    {
      "cell_type": "code",
      "execution_count": 2,
      "metadata": {
        "id": "brsCiv-W6GZ2"
      },
      "outputs": [],
      "source": [
        "import math\n",
        "import numpy as np\n",
        "import os\n",
        "from sklearn.preprocessing import MinMaxScaler\n",
        "import tensorflow as tf\n",
        "import matplotlib.pyplot as plt\n",
        "plt.style.use('ggplot')\n",
        "import pandas_datareader as pdr\n",
        "from datetime import datetime, timedelta"
      ]
    },
    {
      "cell_type": "code",
      "execution_count": 3,
      "metadata": {},
      "outputs": [],
      "source": [
        "#Get the stock\n",
        "ticker = 'BKNG'\n",
        "stock =\"Booking Holdings Inc\"\n",
        "# Time step n days, here we will use n  days historical data to predict next day closing\n",
        "ts_points = 120\n",
        "# train_data[0:60,0]  \n",
        "\n",
        "today = datetime.today()\n",
        "# start_date ='2016-01-01'\n",
        "start_date = (today - timedelta(days=5*365) ).strftime('%Y-%m-%d')\n",
        "\n",
        "end_date   = today.strftime('%Y-%m-%d')\n",
        "stock_df = pdr.DataReader(ticker, data_source=\"yahoo\", start=start_date, end=end_date)"
      ]
    },
    {
      "cell_type": "code",
      "execution_count": 4,
      "metadata": {},
      "outputs": [
        {
          "data": {
            "text/html": [
              "<div>\n",
              "<style scoped>\n",
              "    .dataframe tbody tr th:only-of-type {\n",
              "        vertical-align: middle;\n",
              "    }\n",
              "\n",
              "    .dataframe tbody tr th {\n",
              "        vertical-align: top;\n",
              "    }\n",
              "\n",
              "    .dataframe thead th {\n",
              "        text-align: right;\n",
              "    }\n",
              "</style>\n",
              "<table border=\"1\" class=\"dataframe\">\n",
              "  <thead>\n",
              "    <tr style=\"text-align: right;\">\n",
              "      <th></th>\n",
              "      <th>High</th>\n",
              "      <th>Low</th>\n",
              "      <th>Open</th>\n",
              "      <th>Close</th>\n",
              "      <th>Volume</th>\n",
              "      <th>Adj Close</th>\n",
              "    </tr>\n",
              "    <tr>\n",
              "      <th>Date</th>\n",
              "      <th></th>\n",
              "      <th></th>\n",
              "      <th></th>\n",
              "      <th></th>\n",
              "      <th></th>\n",
              "      <th></th>\n",
              "    </tr>\n",
              "  </thead>\n",
              "  <tbody>\n",
              "    <tr>\n",
              "      <th>2016-10-26</th>\n",
              "      <td>1477.550049</td>\n",
              "      <td>1465.479980</td>\n",
              "      <td>1475.000000</td>\n",
              "      <td>1469.160034</td>\n",
              "      <td>416700</td>\n",
              "      <td>1469.160034</td>\n",
              "    </tr>\n",
              "    <tr>\n",
              "      <th>2016-10-27</th>\n",
              "      <td>1480.000000</td>\n",
              "      <td>1461.079956</td>\n",
              "      <td>1475.099976</td>\n",
              "      <td>1463.020020</td>\n",
              "      <td>358800</td>\n",
              "      <td>1463.020020</td>\n",
              "    </tr>\n",
              "    <tr>\n",
              "      <th>2016-10-28</th>\n",
              "      <td>1483.000000</td>\n",
              "      <td>1460.000000</td>\n",
              "      <td>1465.079956</td>\n",
              "      <td>1474.819946</td>\n",
              "      <td>600900</td>\n",
              "      <td>1474.819946</td>\n",
              "    </tr>\n",
              "    <tr>\n",
              "      <th>2016-10-31</th>\n",
              "      <td>1479.609985</td>\n",
              "      <td>1472.280029</td>\n",
              "      <td>1478.300049</td>\n",
              "      <td>1474.229980</td>\n",
              "      <td>284200</td>\n",
              "      <td>1474.229980</td>\n",
              "    </tr>\n",
              "    <tr>\n",
              "      <th>2016-11-01</th>\n",
              "      <td>1480.010010</td>\n",
              "      <td>1453.930054</td>\n",
              "      <td>1474.229980</td>\n",
              "      <td>1467.000000</td>\n",
              "      <td>562900</td>\n",
              "      <td>1467.000000</td>\n",
              "    </tr>\n",
              "    <tr>\n",
              "      <th>...</th>\n",
              "      <td>...</td>\n",
              "      <td>...</td>\n",
              "      <td>...</td>\n",
              "      <td>...</td>\n",
              "      <td>...</td>\n",
              "      <td>...</td>\n",
              "    </tr>\n",
              "    <tr>\n",
              "      <th>2021-10-19</th>\n",
              "      <td>2503.260010</td>\n",
              "      <td>2455.780029</td>\n",
              "      <td>2502.520020</td>\n",
              "      <td>2463.100098</td>\n",
              "      <td>274600</td>\n",
              "      <td>2463.100098</td>\n",
              "    </tr>\n",
              "    <tr>\n",
              "      <th>2021-10-20</th>\n",
              "      <td>2465.010010</td>\n",
              "      <td>2368.739990</td>\n",
              "      <td>2465.010010</td>\n",
              "      <td>2384.179932</td>\n",
              "      <td>406900</td>\n",
              "      <td>2384.179932</td>\n",
              "    </tr>\n",
              "    <tr>\n",
              "      <th>2021-10-21</th>\n",
              "      <td>2419.830078</td>\n",
              "      <td>2390.030029</td>\n",
              "      <td>2400.550049</td>\n",
              "      <td>2411.129883</td>\n",
              "      <td>212500</td>\n",
              "      <td>2411.129883</td>\n",
              "    </tr>\n",
              "    <tr>\n",
              "      <th>2021-10-22</th>\n",
              "      <td>2438.959961</td>\n",
              "      <td>2385.719971</td>\n",
              "      <td>2407.110107</td>\n",
              "      <td>2394.590088</td>\n",
              "      <td>161900</td>\n",
              "      <td>2394.590088</td>\n",
              "    </tr>\n",
              "    <tr>\n",
              "      <th>2021-10-25</th>\n",
              "      <td>2420.519287</td>\n",
              "      <td>2374.350098</td>\n",
              "      <td>2397.840088</td>\n",
              "      <td>2412.979980</td>\n",
              "      <td>142414</td>\n",
              "      <td>2412.979980</td>\n",
              "    </tr>\n",
              "  </tbody>\n",
              "</table>\n",
              "<p>1258 rows × 6 columns</p>\n",
              "</div>"
            ],
            "text/plain": [
              "                   High          Low         Open        Close  Volume  \\\n",
              "Date                                                                     \n",
              "2016-10-26  1477.550049  1465.479980  1475.000000  1469.160034  416700   \n",
              "2016-10-27  1480.000000  1461.079956  1475.099976  1463.020020  358800   \n",
              "2016-10-28  1483.000000  1460.000000  1465.079956  1474.819946  600900   \n",
              "2016-10-31  1479.609985  1472.280029  1478.300049  1474.229980  284200   \n",
              "2016-11-01  1480.010010  1453.930054  1474.229980  1467.000000  562900   \n",
              "...                 ...          ...          ...          ...     ...   \n",
              "2021-10-19  2503.260010  2455.780029  2502.520020  2463.100098  274600   \n",
              "2021-10-20  2465.010010  2368.739990  2465.010010  2384.179932  406900   \n",
              "2021-10-21  2419.830078  2390.030029  2400.550049  2411.129883  212500   \n",
              "2021-10-22  2438.959961  2385.719971  2407.110107  2394.590088  161900   \n",
              "2021-10-25  2420.519287  2374.350098  2397.840088  2412.979980  142414   \n",
              "\n",
              "              Adj Close  \n",
              "Date                     \n",
              "2016-10-26  1469.160034  \n",
              "2016-10-27  1463.020020  \n",
              "2016-10-28  1474.819946  \n",
              "2016-10-31  1474.229980  \n",
              "2016-11-01  1467.000000  \n",
              "...                 ...  \n",
              "2021-10-19  2463.100098  \n",
              "2021-10-20  2384.179932  \n",
              "2021-10-21  2411.129883  \n",
              "2021-10-22  2394.590088  \n",
              "2021-10-25  2412.979980  \n",
              "\n",
              "[1258 rows x 6 columns]"
            ]
          },
          "execution_count": 4,
          "metadata": {},
          "output_type": "execute_result"
        }
      ],
      "source": [
        "# Date is an index but to be sure , let's sort\n",
        "stock_df = stock_df.sort_index(ascending=True)\n",
        "stock_df"
      ]
    },
    {
      "cell_type": "code",
      "execution_count": 5,
      "metadata": {},
      "outputs": [
        {
          "data": {
            "text/plain": [
              "High         0\n",
              "Low          0\n",
              "Open         0\n",
              "Close        0\n",
              "Volume       0\n",
              "Adj Close    0\n",
              "dtype: int64"
            ]
          },
          "execution_count": 5,
          "metadata": {},
          "output_type": "execute_result"
        }
      ],
      "source": [
        "# check for nulls\n",
        "stock_df.isna().sum()"
      ]
    },
    {
      "cell_type": "code",
      "execution_count": 6,
      "metadata": {},
      "outputs": [
        {
          "data": {
            "text/plain": [
              "(1258, 6)"
            ]
          },
          "execution_count": 6,
          "metadata": {},
          "output_type": "execute_result"
        }
      ],
      "source": [
        "# Get shape\n",
        "stock_df.shape"
      ]
    },
    {
      "cell_type": "code",
      "execution_count": 7,
      "metadata": {},
      "outputs": [
        {
          "data": {
            "image/png": "[encoded data removed]",
            "text/plain": [
              "<Figure size 1152x576 with 1 Axes>"
            ]
          },
          "metadata": {},
          "output_type": "display_data"
        }
      ],
      "source": [
        "# Visualize closing price history\n",
        "plt.figure(figsize=(16,8))\n",
        "plt.title (f\"Closing Price History for '{stock}' - {ticker}\")\n",
        "plt.plot(stock_df['Close'])\n",
        "plt.xlabel('Date')\n",
        "plt.ylabel('Close Price USD', fontsize=16)\n",
        "plt.savefig('Saved_Models/Images/his_'+ticker+'.png')\n",
        "plt.show()"
      ]
    },
    {
      "cell_type": "code",
      "execution_count": 8,
      "metadata": {},
      "outputs": [
        {
          "data": {
            "image/png": "[encoded data removed]",
            "text/plain": [
              "<Figure size 432x288 with 1 Axes>"
            ]
          },
          "metadata": {},
          "output_type": "display_data"
        }
      ],
      "source": [
        "stock_df['Close'].plot.density()\n",
        "plt.xlabel('Distribution of the closing stock price')\n",
        "plt.savefig('Saved_Models/Images/den_'+ticker+'.png')\n",
        "plt.show()"
      ]
    },
    {
      "cell_type": "code",
      "execution_count": 9,
      "metadata": {},
      "outputs": [
        {
          "data": {
            "text/plain": [
              "array([[1469.16003418],\n",
              "       [1463.02001953],\n",
              "       [1474.81994629],\n",
              "       ...,\n",
              "       [2411.12988281],\n",
              "       [2394.59008789],\n",
              "       [2412.97998047]])"
            ]
          },
          "execution_count": 9,
          "metadata": {},
          "output_type": "execute_result"
        }
      ],
      "source": [
        "# DF with only close\n",
        "TSdata_df = stock_df.filter(['Close'])\n",
        "TSdata_arr = TSdata_df.values # this creates an array of Close Price\n",
        "TSdata_arr"
      ]
    },
    {
      "cell_type": "code",
      "execution_count": 10,
      "metadata": {},
      "outputs": [],
      "source": [
        "# Scale the Data\n",
        "scaler = MinMaxScaler(feature_range =(0,1))\n",
        "scaled_data = scaler.fit_transform(TSdata_arr)\n",
        "# scaled_data"
      ]
    },
    {
      "cell_type": "code",
      "execution_count": 11,
      "metadata": {},
      "outputs": [
        {
          "data": {
            "text/plain": [
              "944"
            ]
          },
          "execution_count": 11,
          "metadata": {},
          "output_type": "execute_result"
        }
      ],
      "source": [
        "training_data_len = math.ceil(len(TSdata_arr) * 0.75)\n",
        "training_data_len"
      ]
    },
    {
      "cell_type": "code",
      "execution_count": 12,
      "metadata": {},
      "outputs": [
        {
          "data": {
            "text/plain": [
              "(944, 1)"
            ]
          },
          "execution_count": 12,
          "metadata": {},
          "output_type": "execute_result"
        }
      ],
      "source": [
        "# Created scaled training dataset\n",
        "train_data = scaled_data[0:training_data_len]\n",
        "train_data.shape"
      ]
    },
    {
      "cell_type": "code",
      "execution_count": 13,
      "metadata": {},
      "outputs": [],
      "source": [
        "# Split\n",
        "X_train = []\n",
        "y_train = []\n",
        "\n",
        "for i in range(ts_points, len(train_data)):\n",
        "    X_train.append(train_data[i-ts_points:i,0])\n",
        "    y_train.append(train_data[i,0])\n",
        "    # if i <= ts_points+3:\n",
        "    #     print(X_train)\n",
        "    #     print(y_train)\n",
        "    #     print()\n"
      ]
    },
    {
      "cell_type": "code",
      "execution_count": 14,
      "metadata": {},
      "outputs": [],
      "source": [
        "# convert X_train and y_train to numpy arrays for LSTM\n",
        "X_train, y_train = np.array(X_train), np.array(y_train)"
      ]
    },
    {
      "cell_type": "code",
      "execution_count": 15,
      "metadata": {},
      "outputs": [
        {
          "name": "stdout",
          "output_type": "stream",
          "text": [
            "(824, 120)\n",
            "(824,)\n"
          ]
        }
      ],
      "source": [
        "print (X_train.shape)\n",
        "print (y_train.shape)"
      ]
    },
    {
      "cell_type": "code",
      "execution_count": 16,
      "metadata": {},
      "outputs": [
        {
          "data": {
            "text/plain": [
              "(824, 120, 1)"
            ]
          },
          "execution_count": 16,
          "metadata": {},
          "output_type": "execute_result"
        }
      ],
      "source": [
        "# LSTM network expects a 3D input (No_of_Samples, number of time steps, and number of features) no_of_features = 1 (Close)\n",
        "X_train = np.reshape(X_train, (X_train.shape[0], X_train.shape[1], 1))\n",
        "X_train.shape"
      ]
    },
    {
      "cell_type": "code",
      "execution_count": 17,
      "metadata": {},
      "outputs": [
        {
          "data": {
            "text/plain": [
              "824"
            ]
          },
          "execution_count": 17,
          "metadata": {},
          "output_type": "execute_result"
        }
      ],
      "source": [
        "training_data_len - ts_points"
      ]
    },
    {
      "cell_type": "code",
      "execution_count": 18,
      "metadata": {},
      "outputs": [],
      "source": [
        "# hidden_nodes = int(2/3 * (X_train.shape[1] * 1))\n",
        "# print(f\"The number of hidden nodes is {hidden_nodes}.\")"
      ]
    },
    {
      "cell_type": "code",
      "execution_count": 19,
      "metadata": {},
      "outputs": [],
      "source": [
        "# LSTM MOdel\n",
        "model = tf.keras.models.Sequential()\n",
        "# model.add(tf.keras.layers.LSTM(50, return_sequences=True, input_shape=(X_train.shape[1],1)))\n",
        "# model.add(tf.keras.layers.LSTM(50, return_sequences=False))\n",
        "# model.add(tf.keras.layers.Dropout(0.2))\n",
        "# model.add(tf.keras.layers.Dense(25))\n",
        "# model.add(tf.keras.layers.Dense(1))\n",
        "# model.summary()\n"
      ]
    },
    {
      "cell_type": "code",
      "execution_count": 20,
      "metadata": {},
      "outputs": [
        {
          "name": "stdout",
          "output_type": "stream",
          "text": [
            "Model: \"sequential\"\n",
            "_________________________________________________________________\n",
            "Layer (type)                 Output Shape              Param #   \n",
            "=================================================================\n",
            "lstm (LSTM)                  (None, 120, 50)           10400     \n",
            "_________________________________________________________________\n",
            "lstm_1 (LSTM)                (None, 50)                20200     \n",
            "_________________________________________________________________\n",
            "dense (Dense)                (None, 25)                1275      \n",
            "_________________________________________________________________\n",
            "dense_1 (Dense)              (None, 1)                 26        \n",
            "=================================================================\n",
            "Total params: 31,901\n",
            "Trainable params: 31,901\n",
            "Non-trainable params: 0\n",
            "_________________________________________________________________\n"
          ]
        }
      ],
      "source": [
        "\n",
        "# BEST FOR BKNG#\n",
        "model.add(tf.keras.layers.LSTM(50, return_sequences=True, input_shape=(X_train.shape[1],1)))\n",
        "model.add(tf.keras.layers.LSTM(50, return_sequences=False))\n",
        "# model.add(tf.keras.layers.Dropout(0.2))\n",
        "model.add(tf.keras.layers.Dense(25))\n",
        "model.add(tf.keras.layers.Dense(1))\n",
        "model.summary()\n",
        "\n",
        "# model.fit(X_train, y_train, batch_size=64, epochs=50"
      ]
    },
    {
      "cell_type": "code",
      "execution_count": 21,
      "metadata": {},
      "outputs": [],
      "source": [
        "model.compile(optimizer='adam', loss='mean_squared_error')\n",
        "# model.compile(loss=\"binary_crossentropy\", optimizer=\"adam\", metrics=[\"accuracy\"])"
      ]
    },
    {
      "cell_type": "code",
      "execution_count": 22,
      "metadata": {},
      "outputs": [
        {
          "name": "stdout",
          "output_type": "stream",
          "text": [
            "WARNING:tensorflow:`period` argument is deprecated. Please use `save_freq` to specify the frequency in number of batches seen.\n"
          ]
        }
      ],
      "source": [
        "import os\n",
        "from tensorflow.keras.callbacks import ModelCheckpoint\n",
        "\n",
        "batch_size=64\n",
        "\n",
        "os.makedirs(\"chk_points/\", exist_ok=True)\n",
        "chkpoint_path=\"chk_points/weights.{epoch}.hdf5\"\n",
        "\n",
        "# Create chk points\n",
        "chkpt_callback = ModelCheckpoint(filepath=chkpoint_path,\n",
        "                              verbose=1,\n",
        "                              save_weights_only=True,\n",
        "                              save_freq=\"epoch\",\n",
        "                              period=5)\n",
        "\n",
        "# chkpoint_path = \"chk_points/cp-{epoch:04d}.ckpt\"\n",
        "# chkpt_callback = tf.keras.callbacks.ModelCheckpoint(\n",
        "#     filepath=chkpoint_path, \n",
        "#     verbose=1, \n",
        "#     save_weights_only=True,\n",
        "#     save_freq=5*batch_size)                    \n",
        "\n",
        "# model.save_weights(chkpoint_path.format(epoch=0))    \n"
      ]
    },
    {
      "cell_type": "code",
      "execution_count": 23,
      "metadata": {},
      "outputs": [],
      "source": [
        "# training_data_len\n",
        "# scaled_data"
      ]
    },
    {
      "cell_type": "code",
      "execution_count": 24,
      "metadata": {},
      "outputs": [
        {
          "name": "stdout",
          "output_type": "stream",
          "text": [
            "Epoch 1/50\n",
            "13/13 [==============================] - 3s 70ms/step - loss: 0.0668\n",
            "Epoch 2/50\n",
            "13/13 [==============================] - 1s 70ms/step - loss: 0.0094\n",
            "Epoch 3/50\n",
            "13/13 [==============================] - 1s 66ms/step - loss: 0.0058\n",
            "Epoch 4/50\n",
            "13/13 [==============================] - 1s 74ms/step - loss: 0.0047\n",
            "Epoch 5/50\n",
            "13/13 [==============================] - 1s 76ms/step - loss: 0.0041\n",
            "Epoch 6/50\n",
            "13/13 [==============================] - 1s 63ms/step - loss: 0.0037\n",
            "Epoch 7/50\n",
            "13/13 [==============================] - 1s 70ms/step - loss: 0.0035\n",
            "Epoch 8/50\n",
            "13/13 [==============================] - 1s 68ms/step - loss: 0.0034\n",
            "Epoch 9/50\n",
            "13/13 [==============================] - 1s 87ms/step - loss: 0.0033\n",
            "Epoch 10/50\n",
            "13/13 [==============================] - 1s 80ms/step - loss: 0.0031\n",
            "Epoch 11/50\n",
            "13/13 [==============================] - 1s 80ms/step - loss: 0.0030\n",
            "Epoch 12/50\n",
            "13/13 [==============================] - 1s 85ms/step - loss: 0.0029\n",
            "Epoch 13/50\n",
            "13/13 [==============================] - 1s 93ms/step - loss: 0.0029\n",
            "Epoch 14/50\n",
            "13/13 [==============================] - 1s 68ms/step - loss: 0.0028\n",
            "Epoch 15/50\n",
            "13/13 [==============================] - 1s 83ms/step - loss: 0.0027\n",
            "Epoch 16/50\n",
            "13/13 [==============================] - 1s 77ms/step - loss: 0.0026\n",
            "Epoch 17/50\n",
            "13/13 [==============================] - 1s 80ms/step - loss: 0.0026\n",
            "Epoch 18/50\n",
            "13/13 [==============================] - 1s 86ms/step - loss: 0.0025\n",
            "Epoch 19/50\n",
            "13/13 [==============================] - 1s 77ms/step - loss: 0.0025\n",
            "Epoch 20/50\n",
            "13/13 [==============================] - 1s 78ms/step - loss: 0.0024\n",
            "Epoch 21/50\n",
            "13/13 [==============================] - 1s 80ms/step - loss: 0.0024\n",
            "Epoch 22/50\n",
            "13/13 [==============================] - 1s 78ms/step - loss: 0.0023\n",
            "Epoch 23/50\n",
            "13/13 [==============================] - 1s 77ms/step - loss: 0.0023\n",
            "Epoch 24/50\n",
            "13/13 [==============================] - 1s 79ms/step - loss: 0.0022\n",
            "Epoch 25/50\n",
            "13/13 [==============================] - 1s 79ms/step - loss: 0.0021\n",
            "Epoch 26/50\n",
            "13/13 [==============================] - 1s 78ms/step - loss: 0.0021\n",
            "Epoch 27/50\n",
            "13/13 [==============================] - 1s 83ms/step - loss: 0.0020\n",
            "Epoch 28/50\n",
            "13/13 [==============================] - 1s 78ms/step - loss: 0.0021\n",
            "Epoch 29/50\n",
            "13/13 [==============================] - 1s 79ms/step - loss: 0.0021\n",
            "Epoch 30/50\n",
            "13/13 [==============================] - 1s 81ms/step - loss: 0.0021\n",
            "Epoch 31/50\n",
            "13/13 [==============================] - 1s 79ms/step - loss: 0.0019\n",
            "Epoch 32/50\n",
            "13/13 [==============================] - 1s 79ms/step - loss: 0.0018\n",
            "Epoch 33/50\n",
            "13/13 [==============================] - 1s 78ms/step - loss: 0.0018\n",
            "Epoch 34/50\n",
            "13/13 [==============================] - 1s 78ms/step - loss: 0.0017\n",
            "Epoch 35/50\n",
            "13/13 [==============================] - 1s 77ms/step - loss: 0.0017\n",
            "Epoch 36/50\n",
            "13/13 [==============================] - 1s 78ms/step - loss: 0.0017\n",
            "Epoch 37/50\n",
            "13/13 [==============================] - 1s 78ms/step - loss: 0.0017\n",
            "Epoch 38/50\n",
            "13/13 [==============================] - 1s 80ms/step - loss: 0.0017\n",
            "Epoch 39/50\n",
            "13/13 [==============================] - 1s 80ms/step - loss: 0.0016\n",
            "Epoch 40/50\n",
            "13/13 [==============================] - 1s 83ms/step - loss: 0.0016\n",
            "Epoch 41/50\n",
            "13/13 [==============================] - 1s 79ms/step - loss: 0.0015\n",
            "Epoch 42/50\n",
            "13/13 [==============================] - 1s 84ms/step - loss: 0.0015\n",
            "Epoch 43/50\n",
            "13/13 [==============================] - 1s 78ms/step - loss: 0.0015\n",
            "Epoch 44/50\n",
            "13/13 [==============================] - 1s 79ms/step - loss: 0.0015\n",
            "Epoch 45/50\n",
            "13/13 [==============================] - 1s 80ms/step - loss: 0.0014\n",
            "Epoch 46/50\n",
            "13/13 [==============================] - 1s 77ms/step - loss: 0.0015\n",
            "Epoch 47/50\n",
            "13/13 [==============================] - 1s 79ms/step - loss: 0.0015\n",
            "Epoch 48/50\n",
            "13/13 [==============================] - 1s 80ms/step - loss: 0.0014\n",
            "Epoch 49/50\n",
            "13/13 [==============================] - 1s 79ms/step - loss: 0.0014\n",
            "Epoch 50/50\n",
            "13/13 [==============================] - 1s 83ms/step - loss: 0.0013\n"
          ]
        },
        {
          "data": {
            "text/plain": [
              "<keras.callbacks.History at 0x1d1b18f1be0>"
            ]
          },
          "execution_count": 24,
          "metadata": {},
          "output_type": "execute_result"
        }
      ],
      "source": [
        "# model.fit(X_train, y_train, batch_size=batch_size, epochs=50, validation_split=0.43, callbacks=[chkpt_callback])\n",
        "model.fit(X_train, y_train, batch_size=64, epochs=50)"
      ]
    },
    {
      "cell_type": "code",
      "execution_count": 25,
      "metadata": {},
      "outputs": [],
      "source": [
        "model.save('Saved_Models/Model_'+ticker+'.h5')"
      ]
    },
    {
      "cell_type": "code",
      "execution_count": 26,
      "metadata": {},
      "outputs": [],
      "source": [
        "# test_data = scaled_data[training_data_len:]\n",
        "\n",
        "# Bring in the last 'ts_points' (60 values) from training set so when X_test is used to predict , predictions have same shape as Y_test\n",
        "# The for loop starts with 'ts_points' thatbmeans the resultant array will have 60 less rows\n",
        "test_data = scaled_data[training_data_len-ts_points:]\n",
        "# test_data[0:60,0]\n"
      ]
    },
    {
      "cell_type": "code",
      "execution_count": 27,
      "metadata": {},
      "outputs": [],
      "source": [
        "X_test = []\n",
        "y_test = TSdata_arr[training_data_len:]\n",
        "for i in range(ts_points, len(test_data)):\n",
        "    X_test.append(test_data[i-ts_points:i,0])\n"
      ]
    },
    {
      "cell_type": "code",
      "execution_count": 28,
      "metadata": {},
      "outputs": [],
      "source": [
        "# convert the data to a numpy array to use it in LSTM MODEL\n",
        "X_test = np.array(X_test)\n",
        "X_test = np.reshape(X_test, (X_test.shape[0],  X_test.shape[1], 1))"
      ]
    },
    {
      "cell_type": "code",
      "execution_count": 29,
      "metadata": {},
      "outputs": [],
      "source": [
        "from sklearn.metrics import mean_squared_error"
      ]
    },
    {
      "cell_type": "code",
      "execution_count": 30,
      "metadata": {},
      "outputs": [
        {
          "data": {
            "text/plain": [
              "50.38935600372028"
            ]
          },
          "execution_count": 30,
          "metadata": {},
          "output_type": "execute_result"
        }
      ],
      "source": [
        "# Models predicted price for X_train\n",
        "predictions_tr = model.predict(X_train)\n",
        "predictions_tr = scaler.inverse_transform(predictions_tr)\n",
        "\n",
        "y_train_tr =  scaler.inverse_transform(y_train.reshape(-1,1))\n",
        "rmse_tr = math.sqrt(mean_squared_error(y_train_tr, predictions_tr))\n",
        "rmse_tr"
      ]
    },
    {
      "cell_type": "code",
      "execution_count": 31,
      "metadata": {},
      "outputs": [],
      "source": [
        "# Models predicted price for X_test\n",
        "predictions = model.predict(X_test)\n",
        "predictions = scaler.inverse_transform(predictions)"
      ]
    },
    {
      "cell_type": "code",
      "execution_count": 32,
      "metadata": {},
      "outputs": [
        {
          "data": {
            "text/plain": [
              "((314, 1), (314, 1))"
            ]
          },
          "execution_count": 32,
          "metadata": {},
          "output_type": "execute_result"
        }
      ],
      "source": [
        "y_test.shape, predictions.shape"
      ]
    },
    {
      "cell_type": "code",
      "execution_count": 33,
      "metadata": {},
      "outputs": [
        {
          "data": {
            "text/plain": [
              "69.93742663284912"
            ]
          },
          "execution_count": 33,
          "metadata": {},
          "output_type": "execute_result"
        }
      ],
      "source": [
        "# RMSE to check accuracy\n",
        "\n",
        "rmse = math.sqrt(mean_squared_error(y_test, predictions))\n",
        "rmse"
      ]
    },
    {
      "cell_type": "code",
      "execution_count": 34,
      "metadata": {},
      "outputs": [
        {
          "name": "stderr",
          "output_type": "stream",
          "text": [
            "<ipython-input-34-bb86776ae978>:4: SettingWithCopyWarning: \n",
            "A value is trying to be set on a copy of a slice from a DataFrame.\n",
            "Try using .loc[row_indexer,col_indexer] = value instead\n",
            "\n",
            "See the caveats in the documentation: https://pandas.pydata.org/pandas-docs/stable/user_guide/indexing.html#returning-a-view-versus-a-copy\n",
            "  actual['Predictions'] = predictions\n"
          ]
        },
        {
          "data": {
            "text/html": [
              "<div>\n",
              "<style scoped>\n",
              "    .dataframe tbody tr th:only-of-type {\n",
              "        vertical-align: middle;\n",
              "    }\n",
              "\n",
              "    .dataframe tbody tr th {\n",
              "        vertical-align: top;\n",
              "    }\n",
              "\n",
              "    .dataframe thead th {\n",
              "        text-align: right;\n",
              "    }\n",
              "</style>\n",
              "<table border=\"1\" class=\"dataframe\">\n",
              "  <thead>\n",
              "    <tr style=\"text-align: right;\">\n",
              "      <th></th>\n",
              "      <th>Close</th>\n",
              "      <th>Predictions</th>\n",
              "    </tr>\n",
              "    <tr>\n",
              "      <th>Date</th>\n",
              "      <th></th>\n",
              "      <th></th>\n",
              "    </tr>\n",
              "  </thead>\n",
              "  <tbody>\n",
              "    <tr>\n",
              "      <th>2020-07-29</th>\n",
              "      <td>1707.540039</td>\n",
              "      <td>1694.599731</td>\n",
              "    </tr>\n",
              "    <tr>\n",
              "      <th>2020-07-30</th>\n",
              "      <td>1687.739990</td>\n",
              "      <td>1691.584595</td>\n",
              "    </tr>\n",
              "    <tr>\n",
              "      <th>2020-07-31</th>\n",
              "      <td>1662.130005</td>\n",
              "      <td>1688.634033</td>\n",
              "    </tr>\n",
              "    <tr>\n",
              "      <th>2020-08-03</th>\n",
              "      <td>1650.239990</td>\n",
              "      <td>1682.124390</td>\n",
              "    </tr>\n",
              "    <tr>\n",
              "      <th>2020-08-04</th>\n",
              "      <td>1675.130005</td>\n",
              "      <td>1673.151611</td>\n",
              "    </tr>\n",
              "    <tr>\n",
              "      <th>...</th>\n",
              "      <td>...</td>\n",
              "      <td>...</td>\n",
              "    </tr>\n",
              "    <tr>\n",
              "      <th>2021-10-19</th>\n",
              "      <td>2463.100098</td>\n",
              "      <td>2472.303223</td>\n",
              "    </tr>\n",
              "    <tr>\n",
              "      <th>2021-10-20</th>\n",
              "      <td>2384.179932</td>\n",
              "      <td>2466.998535</td>\n",
              "    </tr>\n",
              "    <tr>\n",
              "      <th>2021-10-21</th>\n",
              "      <td>2411.129883</td>\n",
              "      <td>2433.976074</td>\n",
              "    </tr>\n",
              "    <tr>\n",
              "      <th>2021-10-22</th>\n",
              "      <td>2394.590088</td>\n",
              "      <td>2401.867920</td>\n",
              "    </tr>\n",
              "    <tr>\n",
              "      <th>2021-10-25</th>\n",
              "      <td>2412.979980</td>\n",
              "      <td>2372.227783</td>\n",
              "    </tr>\n",
              "  </tbody>\n",
              "</table>\n",
              "<p>314 rows × 2 columns</p>\n",
              "</div>"
            ],
            "text/plain": [
              "                  Close  Predictions\n",
              "Date                                \n",
              "2020-07-29  1707.540039  1694.599731\n",
              "2020-07-30  1687.739990  1691.584595\n",
              "2020-07-31  1662.130005  1688.634033\n",
              "2020-08-03  1650.239990  1682.124390\n",
              "2020-08-04  1675.130005  1673.151611\n",
              "...                 ...          ...\n",
              "2021-10-19  2463.100098  2472.303223\n",
              "2021-10-20  2384.179932  2466.998535\n",
              "2021-10-21  2411.129883  2433.976074\n",
              "2021-10-22  2394.590088  2401.867920\n",
              "2021-10-25  2412.979980  2372.227783\n",
              "\n",
              "[314 rows x 2 columns]"
            ]
          },
          "execution_count": 34,
          "metadata": {},
          "output_type": "execute_result"
        }
      ],
      "source": [
        "# Plot\n",
        "train = TSdata_df[:training_data_len]\n",
        "actual = TSdata_df[training_data_len:]\n",
        "actual['Predictions'] = predictions\n",
        "actual"
      ]
    },
    {
      "cell_type": "code",
      "execution_count": 35,
      "metadata": {},
      "outputs": [
        {
          "data": {
            "image/png": "[encoded data removed]",
            "text/plain": [
              "<Figure size 1152x576 with 1 Axes>"
            ]
          },
          "metadata": {},
          "output_type": "display_data"
        }
      ],
      "source": [
        "plt.figure(figsize=(16,8))\n",
        "plt.title(f\"Model for '{stock}' - {ticker}\")\n",
        "plt.xlabel(\"Date\")\n",
        "plt.ylabel(\"Close Price USD\")\n",
        "plt.plot(train['Close'])\n",
        "plt.plot(actual[['Close', 'Predictions']])\n",
        "plt.legend(['Train', 'Actual', 'Predictions'], loc='lower right')\n",
        "plt.savefig('Saved_Models/Images/'+ticker+'.png')\n",
        "plt.show()"
      ]
    },
    {
      "cell_type": "markdown",
      "metadata": {},
      "source": [
        "# TEST"
      ]
    },
    {
      "cell_type": "code",
      "execution_count": 36,
      "metadata": {},
      "outputs": [],
      "source": [
        "# for predictions add 100 extra days to make sure it has more than ts_points to make up for missing days (weekends and holidays)\n",
        "\n",
        "fetch_days = ts_points + 100    \n",
        "\n",
        "sd =  today - timedelta(days=fetch_days)\n",
        "sd = sd.strftime('%Y-%m-%d')\n",
        "\n",
        "ed = today.strftime('%Y-%m-%d')\n",
        "ed\n",
        "\n",
        "next_day = (today + timedelta(days=1) ).strftime('%Y-%m-%d')\n",
        "# next_day"
      ]
    },
    {
      "cell_type": "code",
      "execution_count": 37,
      "metadata": {},
      "outputs": [],
      "source": [
        "# get the quote\n",
        "quote = pdr.DataReader(ticker, data_source=\"yahoo\", start=sd, end=ed)\n",
        "new_df = quote.filter(['Close'])\n",
        "last_n_days = ts_points\n",
        "last_n_days_arr = new_df[-last_n_days:].values "
      ]
    },
    {
      "cell_type": "code",
      "execution_count": 38,
      "metadata": {},
      "outputs": [],
      "source": [
        "last_n_days_scaled = scaler.transform(last_n_days_arr)\n",
        "X_test = []\n",
        "X_test.append(last_n_days_scaled)\n",
        "X_test = np.array(X_test)\n",
        "X_test = np.reshape(X_test,(X_test.shape[0], X_test.shape[1],1))\n"
      ]
    },
    {
      "cell_type": "code",
      "execution_count": 39,
      "metadata": {},
      "outputs": [
        {
          "name": "stdout",
          "output_type": "stream",
          "text": [
            "Model: \"sequential\"\n",
            "_________________________________________________________________\n",
            "Layer (type)                 Output Shape              Param #   \n",
            "=================================================================\n",
            "lstm (LSTM)                  (None, 120, 50)           10400     \n",
            "_________________________________________________________________\n",
            "lstm_1 (LSTM)                (None, 50)                20200     \n",
            "_________________________________________________________________\n",
            "dense (Dense)                (None, 25)                1275      \n",
            "_________________________________________________________________\n",
            "dense_1 (Dense)              (None, 1)                 26        \n",
            "=================================================================\n",
            "Total params: 31,901\n",
            "Trainable params: 31,901\n",
            "Non-trainable params: 0\n",
            "_________________________________________________________________\n",
            "Predicted Closing price for 'Booking Holdings Inc' on 2021-10-26 is 2355.5840\n"
          ]
        }
      ],
      "source": [
        "##########################loading saved model ###############################\n",
        "new_model = tf.keras.models.load_model('Saved_Models/Model_'+ticker+'.h5')\n",
        "\n",
        "# Check its architecture\n",
        "new_model.summary()\n",
        "nmpred_price = new_model.predict(X_test)\n",
        "nmpred_price = scaler.inverse_transform(nmpred_price)\n",
        "nmpred_price = nmpred_price[0][0]\n",
        "print(f\"Predicted Closing price for '{stock}' on {next_day} is {nmpred_price:.4f}\")"
      ]
    },
    {
      "cell_type": "code",
      "execution_count": 40,
      "metadata": {},
      "outputs": [
        {
          "name": "stdout",
          "output_type": "stream",
          "text": [
            "Predicted Closing price for 'Booking Holdings Inc' on 2021-10-26 is 2355.5840\n"
          ]
        }
      ],
      "source": [
        "pred_price = model.predict(X_test)\n",
        "pred_price = scaler.inverse_transform(pred_price)\n",
        "pred_price = pred_price[0][0]\n",
        "print(f\"Predicted Closing price for '{stock}' on {next_day} is {pred_price:.4f}\")"
      ]
    },
    {
      "cell_type": "code",
      "execution_count": 41,
      "metadata": {},
      "outputs": [
        {
          "data": {
            "text/html": [
              "<div>\n",
              "<style scoped>\n",
              "    .dataframe tbody tr th:only-of-type {\n",
              "        vertical-align: middle;\n",
              "    }\n",
              "\n",
              "    .dataframe tbody tr th {\n",
              "        vertical-align: top;\n",
              "    }\n",
              "\n",
              "    .dataframe thead th {\n",
              "        text-align: right;\n",
              "    }\n",
              "</style>\n",
              "<table border=\"1\" class=\"dataframe\">\n",
              "  <thead>\n",
              "    <tr style=\"text-align: right;\">\n",
              "      <th></th>\n",
              "      <th>High</th>\n",
              "      <th>Low</th>\n",
              "      <th>Open</th>\n",
              "      <th>Close</th>\n",
              "      <th>Volume</th>\n",
              "      <th>Adj Close</th>\n",
              "    </tr>\n",
              "    <tr>\n",
              "      <th>Date</th>\n",
              "      <th></th>\n",
              "      <th></th>\n",
              "      <th></th>\n",
              "      <th></th>\n",
              "      <th></th>\n",
              "      <th></th>\n",
              "    </tr>\n",
              "  </thead>\n",
              "  <tbody>\n",
              "    <tr>\n",
              "      <th>2021-10-20</th>\n",
              "      <td>2465.010010</td>\n",
              "      <td>2368.739990</td>\n",
              "      <td>2465.010010</td>\n",
              "      <td>2384.179932</td>\n",
              "      <td>406900</td>\n",
              "      <td>2384.179932</td>\n",
              "    </tr>\n",
              "    <tr>\n",
              "      <th>2021-10-21</th>\n",
              "      <td>2419.830078</td>\n",
              "      <td>2390.030029</td>\n",
              "      <td>2400.550049</td>\n",
              "      <td>2411.129883</td>\n",
              "      <td>212500</td>\n",
              "      <td>2411.129883</td>\n",
              "    </tr>\n",
              "    <tr>\n",
              "      <th>2021-10-22</th>\n",
              "      <td>2438.959961</td>\n",
              "      <td>2385.719971</td>\n",
              "      <td>2407.110107</td>\n",
              "      <td>2394.590088</td>\n",
              "      <td>161900</td>\n",
              "      <td>2394.590088</td>\n",
              "    </tr>\n",
              "    <tr>\n",
              "      <th>2021-10-25</th>\n",
              "      <td>2420.519287</td>\n",
              "      <td>2374.350098</td>\n",
              "      <td>2397.840088</td>\n",
              "      <td>2412.979980</td>\n",
              "      <td>142414</td>\n",
              "      <td>2412.979980</td>\n",
              "    </tr>\n",
              "  </tbody>\n",
              "</table>\n",
              "</div>"
            ],
            "text/plain": [
              "                   High          Low         Open        Close  Volume  \\\n",
              "Date                                                                     \n",
              "2021-10-20  2465.010010  2368.739990  2465.010010  2384.179932  406900   \n",
              "2021-10-21  2419.830078  2390.030029  2400.550049  2411.129883  212500   \n",
              "2021-10-22  2438.959961  2385.719971  2407.110107  2394.590088  161900   \n",
              "2021-10-25  2420.519287  2374.350098  2397.840088  2412.979980  142414   \n",
              "\n",
              "              Adj Close  \n",
              "Date                     \n",
              "2021-10-20  2384.179932  \n",
              "2021-10-21  2411.129883  \n",
              "2021-10-22  2394.590088  \n",
              "2021-10-25  2412.979980  "
            ]
          },
          "execution_count": 41,
          "metadata": {},
          "output_type": "execute_result"
        }
      ],
      "source": [
        "# verify\n",
        "d1 = today - timedelta(days=5)\n",
        "d1 = d1.strftime('%Y-%m-%d')\n",
        "\n",
        "quote2 = pdr.DataReader(ticker, data_source=\"yahoo\", start=d1)\n",
        "quote2"
      ]
    },
    {
      "cell_type": "code",
      "execution_count": null,
      "metadata": {},
      "outputs": [],
      "source": []
    },
    {
      "cell_type": "code",
      "execution_count": null,
      "metadata": {},
      "outputs": [],
      "source": []
    }
  ],
  "metadata": {
    "colab": {
      "name": "Untitled1.ipynb",
      "provenance": []
    },
    "interpreter": {
      "hash": "b3ba2566441a7c06988d0923437866b63cedc61552a5af99d1f4fb67d367b25f"
    },
    "kernelspec": {
      "display_name": "Python 3.8.5 64-bit ('base': conda)",
      "name": "python3"
    },
    "language_info": {
      "codemirror_mode": {
        "name": "ipython",
        "version": 3
      },
      "file_extension": ".py",
      "mimetype": "text/x-python",
      "name": "python",
      "nbconvert_exporter": "python",
      "pygments_lexer": "ipython3",
      "version": "3.8.5"
    }
  },
  "nbformat": 4,
  "nbformat_minor": 0
}
