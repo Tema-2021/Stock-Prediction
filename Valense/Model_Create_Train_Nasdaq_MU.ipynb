{
  "cells": [
    {
      "cell_type": "code",
      "execution_count": 1,
      "metadata": {},
      "outputs": [],
      "source": [
        "# !pip install pandas_datareader"
      ]
    },
    {
      "cell_type": "code",
      "execution_count": 2,
      "metadata": {
        "id": "brsCiv-W6GZ2"
      },
      "outputs": [],
      "source": [
        "import math\n",
        "import numpy as np\n",
        "import os\n",
        "from sklearn.preprocessing import MinMaxScaler\n",
        "import tensorflow as tf\n",
        "import matplotlib.pyplot as plt\n",
        "plt.style.use('ggplot')\n",
        "import pandas_datareader as pdr\n",
        "from datetime import datetime, timedelta"
      ]
    },
    {
      "cell_type": "code",
      "execution_count": 3,
      "metadata": {},
      "outputs": [],
      "source": [
        "#Get the stock\n",
        "ticker = 'MU'\n",
        "stock =\"Micron Technology Inc\"\n",
        "# Time step n days, here we will use n  days historical data to predict next day closing\n",
        "ts_points = 120\n",
        "# train_data[0:60,0]  \n",
        "\n",
        "today = datetime.today()\n",
        "# start_date ='2016-01-01'\n",
        "start_date = (today - timedelta(days=5*365) ).strftime('%Y-%m-%d')\n",
        "\n",
        "end_date   = today.strftime('%Y-%m-%d')\n",
        "stock_df = pdr.DataReader(ticker, data_source=\"yahoo\", start=start_date, end=end_date)"
      ]
    },
    {
      "cell_type": "code",
      "execution_count": 4,
      "metadata": {},
      "outputs": [
        {
          "data": {
            "text/html": [
              "<div>\n",
              "<style scoped>\n",
              "    .dataframe tbody tr th:only-of-type {\n",
              "        vertical-align: middle;\n",
              "    }\n",
              "\n",
              "    .dataframe tbody tr th {\n",
              "        vertical-align: top;\n",
              "    }\n",
              "\n",
              "    .dataframe thead th {\n",
              "        text-align: right;\n",
              "    }\n",
              "</style>\n",
              "<table border=\"1\" class=\"dataframe\">\n",
              "  <thead>\n",
              "    <tr style=\"text-align: right;\">\n",
              "      <th></th>\n",
              "      <th>High</th>\n",
              "      <th>Low</th>\n",
              "      <th>Open</th>\n",
              "      <th>Close</th>\n",
              "      <th>Volume</th>\n",
              "      <th>Adj Close</th>\n",
              "    </tr>\n",
              "    <tr>\n",
              "      <th>Date</th>\n",
              "      <th></th>\n",
              "      <th></th>\n",
              "      <th></th>\n",
              "      <th></th>\n",
              "      <th></th>\n",
              "      <th></th>\n",
              "    </tr>\n",
              "  </thead>\n",
              "  <tbody>\n",
              "    <tr>\n",
              "      <th>2016-10-26</th>\n",
              "      <td>17.930000</td>\n",
              "      <td>17.200001</td>\n",
              "      <td>17.299999</td>\n",
              "      <td>17.639999</td>\n",
              "      <td>23610500.0</td>\n",
              "      <td>17.615376</td>\n",
              "    </tr>\n",
              "    <tr>\n",
              "      <th>2016-10-27</th>\n",
              "      <td>17.900000</td>\n",
              "      <td>17.400000</td>\n",
              "      <td>17.820000</td>\n",
              "      <td>17.530001</td>\n",
              "      <td>21198300.0</td>\n",
              "      <td>17.505531</td>\n",
              "    </tr>\n",
              "    <tr>\n",
              "      <th>2016-10-28</th>\n",
              "      <td>17.670000</td>\n",
              "      <td>17.100000</td>\n",
              "      <td>17.600000</td>\n",
              "      <td>17.200001</td>\n",
              "      <td>20832400.0</td>\n",
              "      <td>17.175991</td>\n",
              "    </tr>\n",
              "    <tr>\n",
              "      <th>2016-10-31</th>\n",
              "      <td>17.760000</td>\n",
              "      <td>17.160000</td>\n",
              "      <td>17.540001</td>\n",
              "      <td>17.160000</td>\n",
              "      <td>23267600.0</td>\n",
              "      <td>17.136047</td>\n",
              "    </tr>\n",
              "    <tr>\n",
              "      <th>2016-11-01</th>\n",
              "      <td>17.410000</td>\n",
              "      <td>16.580000</td>\n",
              "      <td>17.200001</td>\n",
              "      <td>16.980000</td>\n",
              "      <td>27146100.0</td>\n",
              "      <td>16.956297</td>\n",
              "    </tr>\n",
              "    <tr>\n",
              "      <th>...</th>\n",
              "      <td>...</td>\n",
              "      <td>...</td>\n",
              "      <td>...</td>\n",
              "      <td>...</td>\n",
              "      <td>...</td>\n",
              "      <td>...</td>\n",
              "    </tr>\n",
              "    <tr>\n",
              "      <th>2021-10-19</th>\n",
              "      <td>67.889999</td>\n",
              "      <td>66.639999</td>\n",
              "      <td>67.370003</td>\n",
              "      <td>67.570000</td>\n",
              "      <td>16930300.0</td>\n",
              "      <td>67.570000</td>\n",
              "    </tr>\n",
              "    <tr>\n",
              "      <th>2021-10-20</th>\n",
              "      <td>69.199997</td>\n",
              "      <td>67.010002</td>\n",
              "      <td>67.199997</td>\n",
              "      <td>68.269997</td>\n",
              "      <td>19457800.0</td>\n",
              "      <td>68.269997</td>\n",
              "    </tr>\n",
              "    <tr>\n",
              "      <th>2021-10-21</th>\n",
              "      <td>68.699997</td>\n",
              "      <td>67.669998</td>\n",
              "      <td>67.949997</td>\n",
              "      <td>68.639999</td>\n",
              "      <td>11140700.0</td>\n",
              "      <td>68.639999</td>\n",
              "    </tr>\n",
              "    <tr>\n",
              "      <th>2021-10-22</th>\n",
              "      <td>69.089996</td>\n",
              "      <td>67.080002</td>\n",
              "      <td>68.510002</td>\n",
              "      <td>67.510002</td>\n",
              "      <td>17885500.0</td>\n",
              "      <td>67.510002</td>\n",
              "    </tr>\n",
              "    <tr>\n",
              "      <th>2021-10-25</th>\n",
              "      <td>71.120003</td>\n",
              "      <td>68.544998</td>\n",
              "      <td>69.620003</td>\n",
              "      <td>68.760002</td>\n",
              "      <td>22548137.0</td>\n",
              "      <td>68.760002</td>\n",
              "    </tr>\n",
              "  </tbody>\n",
              "</table>\n",
              "<p>1258 rows × 6 columns</p>\n",
              "</div>"
            ],
            "text/plain": [
              "                 High        Low       Open      Close      Volume  Adj Close\n",
              "Date                                                                         \n",
              "2016-10-26  17.930000  17.200001  17.299999  17.639999  23610500.0  17.615376\n",
              "2016-10-27  17.900000  17.400000  17.820000  17.530001  21198300.0  17.505531\n",
              "2016-10-28  17.670000  17.100000  17.600000  17.200001  20832400.0  17.175991\n",
              "2016-10-31  17.760000  17.160000  17.540001  17.160000  23267600.0  17.136047\n",
              "2016-11-01  17.410000  16.580000  17.200001  16.980000  27146100.0  16.956297\n",
              "...               ...        ...        ...        ...         ...        ...\n",
              "2021-10-19  67.889999  66.639999  67.370003  67.570000  16930300.0  67.570000\n",
              "2021-10-20  69.199997  67.010002  67.199997  68.269997  19457800.0  68.269997\n",
              "2021-10-21  68.699997  67.669998  67.949997  68.639999  11140700.0  68.639999\n",
              "2021-10-22  69.089996  67.080002  68.510002  67.510002  17885500.0  67.510002\n",
              "2021-10-25  71.120003  68.544998  69.620003  68.760002  22548137.0  68.760002\n",
              "\n",
              "[1258 rows x 6 columns]"
            ]
          },
          "execution_count": 4,
          "metadata": {},
          "output_type": "execute_result"
        }
      ],
      "source": [
        "# Date is an index but to be sure , let's sort\n",
        "stock_df = stock_df.sort_index(ascending=True)\n",
        "stock_df"
      ]
    },
    {
      "cell_type": "code",
      "execution_count": 5,
      "metadata": {},
      "outputs": [
        {
          "data": {
            "text/plain": [
              "High         0\n",
              "Low          0\n",
              "Open         0\n",
              "Close        0\n",
              "Volume       0\n",
              "Adj Close    0\n",
              "dtype: int64"
            ]
          },
          "execution_count": 5,
          "metadata": {},
          "output_type": "execute_result"
        }
      ],
      "source": [
        "# check for nulls\n",
        "stock_df.isna().sum()"
      ]
    },
    {
      "cell_type": "code",
      "execution_count": 6,
      "metadata": {},
      "outputs": [
        {
          "data": {
            "text/plain": [
              "(1258, 6)"
            ]
          },
          "execution_count": 6,
          "metadata": {},
          "output_type": "execute_result"
        }
      ],
      "source": [
        "# Get shape\n",
        "stock_df.shape"
      ]
    },
    {
      "cell_type": "code",
      "execution_count": 7,
      "metadata": {},
      "outputs": [
        {
          "data": {
            "image/png": "[encoded data removed]",
            "text/plain": [
              "<Figure size 1152x576 with 1 Axes>"
            ]
          },
          "metadata": {},
          "output_type": "display_data"
        }
      ],
      "source": [
        "# Visualize closing price history\n",
        "plt.figure(figsize=(16,8))\n",
        "plt.title (f\"Closing Price History for '{stock}' - {ticker}\")\n",
        "plt.plot(stock_df['Close'])\n",
        "plt.xlabel('Date')\n",
        "plt.ylabel('Close Price USD', fontsize=16)\n",
        "plt.savefig('Saved_Models/Images/his_'+ticker+'.png')\n",
        "plt.show()"
      ]
    },
    {
      "cell_type": "code",
      "execution_count": 8,
      "metadata": {},
      "outputs": [
        {
          "data": {
            "image/png": "[encoded data removed]",
            "text/plain": [
              "<Figure size 432x288 with 1 Axes>"
            ]
          },
          "metadata": {},
          "output_type": "display_data"
        }
      ],
      "source": [
        "stock_df['Close'].plot.density()\n",
        "plt.xlabel('Distribution of the closing stock price')\n",
        "plt.savefig('Saved_Models/Images/den_'+ticker+'.png')\n",
        "plt.show()"
      ]
    },
    {
      "cell_type": "code",
      "execution_count": 9,
      "metadata": {},
      "outputs": [
        {
          "data": {
            "text/plain": [
              "array([[17.63999939],\n",
              "       [17.53000069],\n",
              "       [17.20000076],\n",
              "       ...,\n",
              "       [68.63999939],\n",
              "       [67.51000214],\n",
              "       [68.76000214]])"
            ]
          },
          "execution_count": 9,
          "metadata": {},
          "output_type": "execute_result"
        }
      ],
      "source": [
        "# DF with only close\n",
        "TSdata_df = stock_df.filter(['Close'])\n",
        "TSdata_arr = TSdata_df.values # this creates an array of Close Price\n",
        "TSdata_arr"
      ]
    },
    {
      "cell_type": "code",
      "execution_count": 10,
      "metadata": {},
      "outputs": [],
      "source": [
        "# Scale the Data\n",
        "scaler = MinMaxScaler(feature_range =(0,1))\n",
        "scaled_data = scaler.fit_transform(TSdata_arr)\n",
        "#scaled_data"
      ]
    },
    {
      "cell_type": "code",
      "execution_count": 11,
      "metadata": {},
      "outputs": [
        {
          "data": {
            "text/plain": [
              "944"
            ]
          },
          "execution_count": 11,
          "metadata": {},
          "output_type": "execute_result"
        }
      ],
      "source": [
        "training_data_len = math.ceil(len(TSdata_arr) * 0.75)\n",
        "training_data_len"
      ]
    },
    {
      "cell_type": "code",
      "execution_count": 12,
      "metadata": {},
      "outputs": [
        {
          "data": {
            "text/plain": [
              "(944, 1)"
            ]
          },
          "execution_count": 12,
          "metadata": {},
          "output_type": "execute_result"
        }
      ],
      "source": [
        "# Created scaled training dataset\n",
        "train_data = scaled_data[0:training_data_len]\n",
        "train_data.shape"
      ]
    },
    {
      "cell_type": "code",
      "execution_count": 13,
      "metadata": {},
      "outputs": [],
      "source": [
        "# Split\n",
        "X_train = []\n",
        "y_train = []\n",
        "\n",
        "for i in range(ts_points, len(train_data)):\n",
        "    X_train.append(train_data[i-ts_points:i,0])\n",
        "    y_train.append(train_data[i,0])\n",
        "    # if i <= ts_points+3:\n",
        "    #     print(X_train)\n",
        "    #     print(y_train)\n",
        "    #     print()\n"
      ]
    },
    {
      "cell_type": "code",
      "execution_count": 14,
      "metadata": {},
      "outputs": [],
      "source": [
        "# convert X_train and y_train to numpy arrays for LSTM\n",
        "X_train, y_train = np.array(X_train), np.array(y_train)"
      ]
    },
    {
      "cell_type": "code",
      "execution_count": 15,
      "metadata": {},
      "outputs": [
        {
          "name": "stdout",
          "output_type": "stream",
          "text": [
            "(824, 120)\n",
            "(824,)\n"
          ]
        }
      ],
      "source": [
        "print (X_train.shape)\n",
        "print (y_train.shape)"
      ]
    },
    {
      "cell_type": "code",
      "execution_count": 16,
      "metadata": {},
      "outputs": [
        {
          "data": {
            "text/plain": [
              "(824, 120, 1)"
            ]
          },
          "execution_count": 16,
          "metadata": {},
          "output_type": "execute_result"
        }
      ],
      "source": [
        "# LSTM network expects a 3D input (No_of_Samples, number of time steps, and number of features) no_of_features = 1 (Close)\n",
        "X_train = np.reshape(X_train, (X_train.shape[0], X_train.shape[1], 1))\n",
        "X_train.shape"
      ]
    },
    {
      "cell_type": "code",
      "execution_count": 17,
      "metadata": {},
      "outputs": [
        {
          "data": {
            "text/plain": [
              "824"
            ]
          },
          "execution_count": 17,
          "metadata": {},
          "output_type": "execute_result"
        }
      ],
      "source": [
        "training_data_len - ts_points"
      ]
    },
    {
      "cell_type": "code",
      "execution_count": 18,
      "metadata": {},
      "outputs": [],
      "source": [
        "# hidden_nodes = int(2/3 * (X_train.shape[1] * 1))\n",
        "# print(f\"The number of hidden nodes is {hidden_nodes}.\")"
      ]
    },
    {
      "cell_type": "code",
      "execution_count": 19,
      "metadata": {},
      "outputs": [],
      "source": [
        "# LSTM MOdel\n",
        "model = tf.keras.models.Sequential()\n",
        "# model.add(tf.keras.layers.LSTM(50, return_sequences=True, input_shape=(X_train.shape[1],1)))\n",
        "# model.add(tf.keras.layers.LSTM(50, return_sequences=False))\n",
        "# model.add(tf.keras.layers.Dropout(0.2))\n",
        "# model.add(tf.keras.layers.Dense(25))\n",
        "# model.add(tf.keras.layers.Dense(1))\n",
        "# model.summary()\n"
      ]
    },
    {
      "cell_type": "code",
      "execution_count": 20,
      "metadata": {},
      "outputs": [
        {
          "name": "stdout",
          "output_type": "stream",
          "text": [
            "Model: \"sequential\"\n",
            "_________________________________________________________________\n",
            "Layer (type)                 Output Shape              Param #   \n",
            "=================================================================\n",
            "lstm (LSTM)                  (None, 120, 50)           10400     \n",
            "_________________________________________________________________\n",
            "lstm_1 (LSTM)                (None, 50)                20200     \n",
            "_________________________________________________________________\n",
            "dense (Dense)                (None, 25)                1275      \n",
            "_________________________________________________________________\n",
            "dense_1 (Dense)              (None, 1)                 26        \n",
            "=================================================================\n",
            "Total params: 31,901\n",
            "Trainable params: 31,901\n",
            "Non-trainable params: 0\n",
            "_________________________________________________________________\n"
          ]
        }
      ],
      "source": [
        "\n",
        "# BEST FOR MU#\n",
        "model.add(tf.keras.layers.LSTM(50, return_sequences=True, input_shape=(X_train.shape[1],1)))\n",
        "model.add(tf.keras.layers.LSTM(50, return_sequences=False))\n",
        "# model.add(tf.keras.layers.Dropout(0.2))\n",
        "model.add(tf.keras.layers.Dense(25))\n",
        "model.add(tf.keras.layers.Dense(1))\n",
        "model.summary()\n",
        "\n",
        "# model.fit(X_train, y_train, batch_size=64, epochs=50"
      ]
    },
    {
      "cell_type": "code",
      "execution_count": 21,
      "metadata": {},
      "outputs": [],
      "source": [
        "model.compile(optimizer='adam', loss='mean_squared_error')\n",
        "# model.compile(loss=\"binary_crossentropy\", optimizer=\"adam\", metrics=[\"accuracy\"])"
      ]
    },
    {
      "cell_type": "code",
      "execution_count": 22,
      "metadata": {},
      "outputs": [
        {
          "name": "stdout",
          "output_type": "stream",
          "text": [
            "WARNING:tensorflow:`period` argument is deprecated. Please use `save_freq` to specify the frequency in number of batches seen.\n"
          ]
        }
      ],
      "source": [
        "import os\n",
        "from tensorflow.keras.callbacks import ModelCheckpoint\n",
        "\n",
        "batch_size=64\n",
        "\n",
        "os.makedirs(\"chk_points/\", exist_ok=True)\n",
        "chkpoint_path=\"chk_points/weights.{epoch}.hdf5\"\n",
        "\n",
        "# Create chk points\n",
        "chkpt_callback = ModelCheckpoint(filepath=chkpoint_path,\n",
        "                              verbose=1,\n",
        "                              save_weights_only=True,\n",
        "                              save_freq=\"epoch\",\n",
        "                              period=5)\n",
        "\n",
        "chkpoint_path = \"chk_points/cp-{epoch:04d}.ckpt\"\n",
        "chkpt_callback = tf.keras.callbacks.ModelCheckpoint(\n",
        "    filepath=chkpoint_path, \n",
        "    verbose=1, \n",
        "    save_weights_only=True,\n",
        "    save_freq=5*batch_size)                    \n",
        "\n",
        "model.save_weights(chkpoint_path.format(epoch=0))    \n"
      ]
    },
    {
      "cell_type": "code",
      "execution_count": 23,
      "metadata": {},
      "outputs": [],
      "source": [
        "# training_data_len\n",
        "# scaled_data"
      ]
    },
    {
      "cell_type": "code",
      "execution_count": 24,
      "metadata": {},
      "outputs": [
        {
          "name": "stdout",
          "output_type": "stream",
          "text": [
            "Epoch 1/50\n",
            "13/13 [==============================] - 7s 121ms/step - loss: 0.0279\n",
            "Epoch 2/50\n",
            "13/13 [==============================] - 2s 118ms/step - loss: 0.0044\n",
            "Epoch 3/50\n",
            "13/13 [==============================] - 1s 112ms/step - loss: 0.0031\n",
            "Epoch 4/50\n",
            "13/13 [==============================] - 1s 107ms/step - loss: 0.0022\n",
            "Epoch 5/50\n",
            "13/13 [==============================] - 2s 117ms/step - loss: 0.0019\n",
            "Epoch 6/50\n",
            "13/13 [==============================] - 2s 120ms/step - loss: 0.0017\n",
            "Epoch 7/50\n",
            "13/13 [==============================] - 1s 100ms/step - loss: 0.0015\n",
            "Epoch 8/50\n",
            "13/13 [==============================] - 1s 95ms/step - loss: 0.0015\n",
            "Epoch 9/50\n",
            "13/13 [==============================] - 1s 104ms/step - loss: 0.0014\n",
            "Epoch 10/50\n",
            "13/13 [==============================] - 1s 97ms/step - loss: 0.0014\n",
            "Epoch 11/50\n",
            "13/13 [==============================] - 1s 98ms/step - loss: 0.0014\n",
            "Epoch 12/50\n",
            "13/13 [==============================] - 1s 98ms/step - loss: 0.0013\n",
            "Epoch 13/50\n",
            "13/13 [==============================] - 1s 96ms/step - loss: 0.0013\n",
            "Epoch 14/50\n",
            "13/13 [==============================] - 1s 101ms/step - loss: 0.0013\n",
            "Epoch 15/50\n",
            "13/13 [==============================] - 1s 102ms/step - loss: 0.0012\n",
            "Epoch 16/50\n",
            "13/13 [==============================] - 2s 117ms/step - loss: 0.0012\n",
            "Epoch 17/50\n",
            "13/13 [==============================] - 2s 119ms/step - loss: 0.0012\n",
            "Epoch 18/50\n",
            "13/13 [==============================] - 1s 113ms/step - loss: 0.0011\n",
            "Epoch 19/50\n",
            "13/13 [==============================] - 1s 113ms/step - loss: 0.0011\n",
            "Epoch 20/50\n",
            "13/13 [==============================] - 1s 115ms/step - loss: 0.0011\n",
            "Epoch 21/50\n",
            "13/13 [==============================] - 2s 117ms/step - loss: 0.0010\n",
            "Epoch 22/50\n",
            "13/13 [==============================] - 1s 112ms/step - loss: 0.0010\n",
            "Epoch 23/50\n",
            "13/13 [==============================] - 1s 107ms/step - loss: 0.0010\n",
            "Epoch 24/50\n",
            "13/13 [==============================] - 1s 113ms/step - loss: 0.0010\n",
            "Epoch 25/50\n",
            "13/13 [==============================] - 1s 104ms/step - loss: 9.6222e-04\n",
            "Epoch 26/50\n",
            "13/13 [==============================] - 1s 114ms/step - loss: 9.0004e-04\n",
            "Epoch 27/50\n",
            "13/13 [==============================] - 1s 107ms/step - loss: 9.0168e-04\n",
            "Epoch 28/50\n",
            "13/13 [==============================] - 2s 121ms/step - loss: 8.7258e-04\n",
            "Epoch 29/50\n",
            "13/13 [==============================] - 2s 117ms/step - loss: 8.5468e-04\n",
            "Epoch 30/50\n",
            "13/13 [==============================] - 1s 105ms/step - loss: 8.2199e-04\n",
            "Epoch 31/50\n",
            "13/13 [==============================] - 1s 107ms/step - loss: 8.1833e-04\n",
            "Epoch 32/50\n",
            "13/13 [==============================] - 1s 110ms/step - loss: 8.5157e-04\n",
            "Epoch 33/50\n",
            "13/13 [==============================] - 1s 99ms/step - loss: 8.3862e-04\n",
            "Epoch 34/50\n",
            "13/13 [==============================] - 1s 99ms/step - loss: 7.8094e-04\n",
            "Epoch 35/50\n",
            "13/13 [==============================] - 1s 102ms/step - loss: 7.4572e-04\n",
            "Epoch 36/50\n",
            "13/13 [==============================] - 1s 104ms/step - loss: 7.7905e-04\n",
            "Epoch 37/50\n",
            "13/13 [==============================] - 1s 112ms/step - loss: 8.0714e-04\n",
            "Epoch 38/50\n",
            "13/13 [==============================] - 1s 110ms/step - loss: 8.0127e-04\n",
            "Epoch 39/50\n",
            "13/13 [==============================] - 1s 106ms/step - loss: 7.6124e-04\n",
            "Epoch 40/50\n",
            "13/13 [==============================] - 1s 112ms/step - loss: 7.0744e-04\n",
            "Epoch 41/50\n",
            "13/13 [==============================] - 1s 113ms/step - loss: 7.2297e-04\n",
            "Epoch 42/50\n",
            "13/13 [==============================] - 1s 105ms/step - loss: 6.9774e-04\n",
            "Epoch 43/50\n",
            "13/13 [==============================] - 1s 96ms/step - loss: 6.8066e-04\n",
            "Epoch 44/50\n",
            "13/13 [==============================] - 1s 116ms/step - loss: 6.7514e-04\n",
            "Epoch 45/50\n",
            "13/13 [==============================] - 2s 114ms/step - loss: 6.5156e-04\n",
            "Epoch 46/50\n",
            "13/13 [==============================] - 1s 103ms/step - loss: 6.4167e-04\n",
            "Epoch 47/50\n",
            "13/13 [==============================] - 1s 112ms/step - loss: 6.4701e-04\n",
            "Epoch 48/50\n",
            "13/13 [==============================] - 1s 93ms/step - loss: 6.1469e-04\n",
            "Epoch 49/50\n",
            "13/13 [==============================] - 1s 94ms/step - loss: 6.0493e-04\n",
            "Epoch 50/50\n",
            "13/13 [==============================] - 1s 94ms/step - loss: 6.3623e-04\n"
          ]
        },
        {
          "data": {
            "text/plain": [
              "<keras.callbacks.History at 0x263116f7340>"
            ]
          },
          "execution_count": 24,
          "metadata": {},
          "output_type": "execute_result"
        }
      ],
      "source": [
        "# model.fit(X_train, y_train, batch_size=batch_size, epochs=50, validation_split=0.43, callbacks=[chkpt_callback])\n",
        "model.fit(X_train, y_train, batch_size=64, epochs=50)"
      ]
    },
    {
      "cell_type": "code",
      "execution_count": 25,
      "metadata": {},
      "outputs": [],
      "source": [
        "model.save('Saved_Models/Model_'+ticker+'.h5')"
      ]
    },
    {
      "cell_type": "code",
      "execution_count": 26,
      "metadata": {},
      "outputs": [],
      "source": [
        "# test_data = scaled_data[training_data_len:]\n",
        "\n",
        "# Bring in the last 'ts_points' (60 values) from training set so when X_test is used to predict , predictions have same shape as Y_test\n",
        "# The for loop starts with 'ts_points' thatbmeans the resultant array will have 60 less rows\n",
        "test_data = scaled_data[training_data_len-ts_points:]\n",
        "# test_data[0:60,0]\n"
      ]
    },
    {
      "cell_type": "code",
      "execution_count": 27,
      "metadata": {},
      "outputs": [],
      "source": [
        "X_test = []\n",
        "y_test = TSdata_arr[training_data_len:]\n",
        "for i in range(ts_points, len(test_data)):\n",
        "    X_test.append(test_data[i-ts_points:i,0])\n"
      ]
    },
    {
      "cell_type": "code",
      "execution_count": 28,
      "metadata": {},
      "outputs": [],
      "source": [
        "# convert the data to a numpy array to use it in LSTM MODEL\n",
        "X_test = np.array(X_test)\n",
        "X_test = np.reshape(X_test, (X_test.shape[0],  X_test.shape[1], 1))"
      ]
    },
    {
      "cell_type": "code",
      "execution_count": 29,
      "metadata": {},
      "outputs": [],
      "source": [
        "from sklearn.metrics import mean_squared_error"
      ]
    },
    {
      "cell_type": "code",
      "execution_count": 30,
      "metadata": {},
      "outputs": [
        {
          "data": {
            "text/plain": [
              "1.887219590798326"
            ]
          },
          "execution_count": 30,
          "metadata": {},
          "output_type": "execute_result"
        }
      ],
      "source": [
        "# Models predicted price for X_train\n",
        "predictions_tr = model.predict(X_train)\n",
        "predictions_tr = scaler.inverse_transform(predictions_tr)\n",
        "\n",
        "y_train_tr =  scaler.inverse_transform(y_train.reshape(-1,1))\n",
        "rmse_tr = math.sqrt(mean_squared_error(y_train_tr, predictions_tr))\n",
        "rmse_tr"
      ]
    },
    {
      "cell_type": "code",
      "execution_count": 31,
      "metadata": {},
      "outputs": [],
      "source": [
        "# Models predicted price for X_test\n",
        "predictions = model.predict(X_test)\n",
        "predictions = scaler.inverse_transform(predictions)"
      ]
    },
    {
      "cell_type": "code",
      "execution_count": 32,
      "metadata": {},
      "outputs": [
        {
          "data": {
            "text/plain": [
              "((314, 1), (314, 1))"
            ]
          },
          "execution_count": 32,
          "metadata": {},
          "output_type": "execute_result"
        }
      ],
      "source": [
        "y_test.shape, predictions.shape"
      ]
    },
    {
      "cell_type": "code",
      "execution_count": 33,
      "metadata": {},
      "outputs": [
        {
          "data": {
            "text/plain": [
              "3.871759328268361"
            ]
          },
          "execution_count": 33,
          "metadata": {},
          "output_type": "execute_result"
        }
      ],
      "source": [
        "# RMSE to check accuracy\n",
        "\n",
        "rmse = math.sqrt(mean_squared_error(y_test, predictions))\n",
        "rmse"
      ]
    },
    {
      "cell_type": "code",
      "execution_count": 34,
      "metadata": {},
      "outputs": [
        {
          "name": "stderr",
          "output_type": "stream",
          "text": [
            "<ipython-input-34-bb86776ae978>:4: SettingWithCopyWarning: \n",
            "A value is trying to be set on a copy of a slice from a DataFrame.\n",
            "Try using .loc[row_indexer,col_indexer] = value instead\n",
            "\n",
            "See the caveats in the documentation: https://pandas.pydata.org/pandas-docs/stable/user_guide/indexing.html#returning-a-view-versus-a-copy\n",
            "  actual['Predictions'] = predictions\n"
          ]
        },
        {
          "data": {
            "text/html": [
              "<div>\n",
              "<style scoped>\n",
              "    .dataframe tbody tr th:only-of-type {\n",
              "        vertical-align: middle;\n",
              "    }\n",
              "\n",
              "    .dataframe tbody tr th {\n",
              "        vertical-align: top;\n",
              "    }\n",
              "\n",
              "    .dataframe thead th {\n",
              "        text-align: right;\n",
              "    }\n",
              "</style>\n",
              "<table border=\"1\" class=\"dataframe\">\n",
              "  <thead>\n",
              "    <tr style=\"text-align: right;\">\n",
              "      <th></th>\n",
              "      <th>Close</th>\n",
              "      <th>Predictions</th>\n",
              "    </tr>\n",
              "    <tr>\n",
              "      <th>Date</th>\n",
              "      <th></th>\n",
              "      <th></th>\n",
              "    </tr>\n",
              "  </thead>\n",
              "  <tbody>\n",
              "    <tr>\n",
              "      <th>2020-07-29</th>\n",
              "      <td>50.389999</td>\n",
              "      <td>51.183060</td>\n",
              "    </tr>\n",
              "    <tr>\n",
              "      <th>2020-07-30</th>\n",
              "      <td>50.740002</td>\n",
              "      <td>50.834885</td>\n",
              "    </tr>\n",
              "    <tr>\n",
              "      <th>2020-07-31</th>\n",
              "      <td>50.060001</td>\n",
              "      <td>50.626171</td>\n",
              "    </tr>\n",
              "    <tr>\n",
              "      <th>2020-08-03</th>\n",
              "      <td>50.389999</td>\n",
              "      <td>50.369724</td>\n",
              "    </tr>\n",
              "    <tr>\n",
              "      <th>2020-08-04</th>\n",
              "      <td>51.299999</td>\n",
              "      <td>50.225582</td>\n",
              "    </tr>\n",
              "    <tr>\n",
              "      <th>...</th>\n",
              "      <td>...</td>\n",
              "      <td>...</td>\n",
              "    </tr>\n",
              "    <tr>\n",
              "      <th>2021-10-19</th>\n",
              "      <td>67.570000</td>\n",
              "      <td>65.493782</td>\n",
              "    </tr>\n",
              "    <tr>\n",
              "      <th>2021-10-20</th>\n",
              "      <td>68.269997</td>\n",
              "      <td>65.674164</td>\n",
              "    </tr>\n",
              "    <tr>\n",
              "      <th>2021-10-21</th>\n",
              "      <td>68.639999</td>\n",
              "      <td>66.084618</td>\n",
              "    </tr>\n",
              "    <tr>\n",
              "      <th>2021-10-22</th>\n",
              "      <td>67.510002</td>\n",
              "      <td>66.606071</td>\n",
              "    </tr>\n",
              "    <tr>\n",
              "      <th>2021-10-25</th>\n",
              "      <td>68.760002</td>\n",
              "      <td>66.739998</td>\n",
              "    </tr>\n",
              "  </tbody>\n",
              "</table>\n",
              "<p>314 rows × 2 columns</p>\n",
              "</div>"
            ],
            "text/plain": [
              "                Close  Predictions\n",
              "Date                              \n",
              "2020-07-29  50.389999    51.183060\n",
              "2020-07-30  50.740002    50.834885\n",
              "2020-07-31  50.060001    50.626171\n",
              "2020-08-03  50.389999    50.369724\n",
              "2020-08-04  51.299999    50.225582\n",
              "...               ...          ...\n",
              "2021-10-19  67.570000    65.493782\n",
              "2021-10-20  68.269997    65.674164\n",
              "2021-10-21  68.639999    66.084618\n",
              "2021-10-22  67.510002    66.606071\n",
              "2021-10-25  68.760002    66.739998\n",
              "\n",
              "[314 rows x 2 columns]"
            ]
          },
          "execution_count": 34,
          "metadata": {},
          "output_type": "execute_result"
        }
      ],
      "source": [
        "# Plot\n",
        "train = TSdata_df[:training_data_len]\n",
        "actual = TSdata_df[training_data_len:]\n",
        "actual['Predictions'] = predictions\n",
        "actual"
      ]
    },
    {
      "cell_type": "code",
      "execution_count": 35,
      "metadata": {},
      "outputs": [
        {
          "data": {
            "image/png": "[encoded data removed]",
            "text/plain": [
              "<Figure size 1152x576 with 1 Axes>"
            ]
          },
          "metadata": {},
          "output_type": "display_data"
        }
      ],
      "source": [
        "plt.figure(figsize=(16,8))\n",
        "plt.title(f\"Model for '{stock}' - {ticker}\")\n",
        "plt.xlabel(\"Date\")\n",
        "plt.ylabel(\"Close Price USD\")\n",
        "plt.plot(train['Close'])\n",
        "plt.plot(actual[['Close', 'Predictions']])\n",
        "plt.legend(['Train', 'Actual', 'Predictions'], loc='lower right')\n",
        "plt.savefig('Saved_Models/Images/'+ticker+'.png')\n",
        "plt.show()"
      ]
    },
    {
      "cell_type": "markdown",
      "metadata": {},
      "source": [
        "# TEST"
      ]
    },
    {
      "cell_type": "code",
      "execution_count": 36,
      "metadata": {},
      "outputs": [],
      "source": [
        "# for predictions add 100 extra days to make sure it has more than ts_points to make up for missing days (weekends and holidays)\n",
        "\n",
        "fetch_days = ts_points + 100    \n",
        "\n",
        "sd =  today - timedelta(days=fetch_days)\n",
        "sd = sd.strftime('%Y-%m-%d')\n",
        "\n",
        "ed = today.strftime('%Y-%m-%d')\n",
        "ed\n",
        "\n",
        "next_day = (today + timedelta(days=1) ).strftime('%Y-%m-%d')\n",
        "# next_day"
      ]
    },
    {
      "cell_type": "code",
      "execution_count": 37,
      "metadata": {},
      "outputs": [],
      "source": [
        "# get the quote\n",
        "quote = pdr.DataReader(ticker, data_source=\"yahoo\", start=sd, end=ed)\n",
        "new_df = quote.filter(['Close'])\n",
        "last_n_days = ts_points\n",
        "last_n_days_arr = new_df[-last_n_days:].values "
      ]
    },
    {
      "cell_type": "code",
      "execution_count": 38,
      "metadata": {},
      "outputs": [],
      "source": [
        "last_n_days_scaled = scaler.transform(last_n_days_arr)\n",
        "X_test = []\n",
        "X_test.append(last_n_days_scaled)\n",
        "X_test = np.array(X_test)\n",
        "X_test = np.reshape(X_test,(X_test.shape[0], X_test.shape[1],1))\n"
      ]
    },
    {
      "cell_type": "code",
      "execution_count": 39,
      "metadata": {},
      "outputs": [
        {
          "name": "stdout",
          "output_type": "stream",
          "text": [
            "Model: \"sequential\"\n",
            "_________________________________________________________________\n",
            "Layer (type)                 Output Shape              Param #   \n",
            "=================================================================\n",
            "lstm (LSTM)                  (None, 120, 50)           10400     \n",
            "_________________________________________________________________\n",
            "lstm_1 (LSTM)                (None, 50)                20200     \n",
            "_________________________________________________________________\n",
            "dense (Dense)                (None, 25)                1275      \n",
            "_________________________________________________________________\n",
            "dense_1 (Dense)              (None, 1)                 26        \n",
            "=================================================================\n",
            "Total params: 31,901\n",
            "Trainable params: 31,901\n",
            "Non-trainable params: 0\n",
            "_________________________________________________________________\n",
            "Predicted Closing price for 'Micron Technology Inc' on 2021-10-26 is 67.0166\n"
          ]
        }
      ],
      "source": [
        "##########################loading saved model ###############################\n",
        "new_model = tf.keras.models.load_model('Saved_Models/Model_'+ticker+'.h5')\n",
        "\n",
        "# Check its architecture\n",
        "new_model.summary()\n",
        "nmpred_price = new_model.predict(X_test)\n",
        "nmpred_price = scaler.inverse_transform(nmpred_price)\n",
        "nmpred_price = nmpred_price[0][0]\n",
        "print(f\"Predicted Closing price for '{stock}' on {next_day} is {nmpred_price:.4f}\")"
      ]
    },
    {
      "cell_type": "code",
      "execution_count": 40,
      "metadata": {},
      "outputs": [
        {
          "name": "stdout",
          "output_type": "stream",
          "text": [
            "Predicted Closing price for 'Micron Technology Inc' on 2021-10-26 is 67.0166\n"
          ]
        }
      ],
      "source": [
        "pred_price = model.predict(X_test)\n",
        "pred_price = scaler.inverse_transform(pred_price)\n",
        "pred_price = pred_price[0][0]\n",
        "print(f\"Predicted Closing price for '{stock}' on {next_day} is {pred_price:.4f}\")"
      ]
    },
    {
      "cell_type": "code",
      "execution_count": 41,
      "metadata": {},
      "outputs": [
        {
          "data": {
            "text/html": [
              "<div>\n",
              "<style scoped>\n",
              "    .dataframe tbody tr th:only-of-type {\n",
              "        vertical-align: middle;\n",
              "    }\n",
              "\n",
              "    .dataframe tbody tr th {\n",
              "        vertical-align: top;\n",
              "    }\n",
              "\n",
              "    .dataframe thead th {\n",
              "        text-align: right;\n",
              "    }\n",
              "</style>\n",
              "<table border=\"1\" class=\"dataframe\">\n",
              "  <thead>\n",
              "    <tr style=\"text-align: right;\">\n",
              "      <th></th>\n",
              "      <th>High</th>\n",
              "      <th>Low</th>\n",
              "      <th>Open</th>\n",
              "      <th>Close</th>\n",
              "      <th>Volume</th>\n",
              "      <th>Adj Close</th>\n",
              "    </tr>\n",
              "    <tr>\n",
              "      <th>Date</th>\n",
              "      <th></th>\n",
              "      <th></th>\n",
              "      <th></th>\n",
              "      <th></th>\n",
              "      <th></th>\n",
              "      <th></th>\n",
              "    </tr>\n",
              "  </thead>\n",
              "  <tbody>\n",
              "    <tr>\n",
              "      <th>2021-10-20</th>\n",
              "      <td>69.199997</td>\n",
              "      <td>67.010002</td>\n",
              "      <td>67.199997</td>\n",
              "      <td>68.269997</td>\n",
              "      <td>19457800</td>\n",
              "      <td>68.269997</td>\n",
              "    </tr>\n",
              "    <tr>\n",
              "      <th>2021-10-21</th>\n",
              "      <td>68.699997</td>\n",
              "      <td>67.669998</td>\n",
              "      <td>67.949997</td>\n",
              "      <td>68.639999</td>\n",
              "      <td>11140700</td>\n",
              "      <td>68.639999</td>\n",
              "    </tr>\n",
              "    <tr>\n",
              "      <th>2021-10-22</th>\n",
              "      <td>69.089996</td>\n",
              "      <td>67.080002</td>\n",
              "      <td>68.510002</td>\n",
              "      <td>67.510002</td>\n",
              "      <td>17885500</td>\n",
              "      <td>67.510002</td>\n",
              "    </tr>\n",
              "    <tr>\n",
              "      <th>2021-10-25</th>\n",
              "      <td>71.120003</td>\n",
              "      <td>68.544998</td>\n",
              "      <td>69.620003</td>\n",
              "      <td>68.760002</td>\n",
              "      <td>22548137</td>\n",
              "      <td>68.760002</td>\n",
              "    </tr>\n",
              "  </tbody>\n",
              "</table>\n",
              "</div>"
            ],
            "text/plain": [
              "                 High        Low       Open      Close    Volume  Adj Close\n",
              "Date                                                                       \n",
              "2021-10-20  69.199997  67.010002  67.199997  68.269997  19457800  68.269997\n",
              "2021-10-21  68.699997  67.669998  67.949997  68.639999  11140700  68.639999\n",
              "2021-10-22  69.089996  67.080002  68.510002  67.510002  17885500  67.510002\n",
              "2021-10-25  71.120003  68.544998  69.620003  68.760002  22548137  68.760002"
            ]
          },
          "execution_count": 41,
          "metadata": {},
          "output_type": "execute_result"
        }
      ],
      "source": [
        "# verify\n",
        "d1 = today - timedelta(days=5)\n",
        "d1 = d1.strftime('%Y-%m-%d')\n",
        "\n",
        "quote2 = pdr.DataReader(ticker, data_source=\"yahoo\", start=d1)\n",
        "quote2"
      ]
    },
    {
      "cell_type": "code",
      "execution_count": null,
      "metadata": {},
      "outputs": [],
      "source": []
    },
    {
      "cell_type": "code",
      "execution_count": null,
      "metadata": {},
      "outputs": [],
      "source": []
    }
  ],
  "metadata": {
    "colab": {
      "name": "Untitled1.ipynb",
      "provenance": []
    },
    "interpreter": {
      "hash": "b3ba2566441a7c06988d0923437866b63cedc61552a5af99d1f4fb67d367b25f"
    },
    "kernelspec": {
      "display_name": "Python 3.8.5 64-bit ('base': conda)",
      "name": "python3"
    },
    "language_info": {
      "codemirror_mode": {
        "name": "ipython",
        "version": 3
      },
      "file_extension": ".py",
      "mimetype": "text/x-python",
      "name": "python",
      "nbconvert_exporter": "python",
      "pygments_lexer": "ipython3",
      "version": "3.8.5"
    }
  },
  "nbformat": 4,
  "nbformat_minor": 0
}
