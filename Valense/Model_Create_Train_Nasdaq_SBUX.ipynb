{
  "cells": [
    {
      "cell_type": "code",
      "execution_count": 1,
      "metadata": {},
      "outputs": [],
      "source": [
        "# !pip install pandas_datareader"
      ]
    },
    {
      "cell_type": "code",
      "execution_count": 2,
      "metadata": {
        "id": "brsCiv-W6GZ2"
      },
      "outputs": [],
      "source": [
        "import math\n",
        "import numpy as np\n",
        "import os\n",
        "from sklearn.preprocessing import MinMaxScaler\n",
        "import tensorflow as tf\n",
        "import matplotlib.pyplot as plt\n",
        "plt.style.use('ggplot')\n",
        "import pandas_datareader as pdr\n",
        "from datetime import datetime, timedelta"
      ]
    },
    {
      "cell_type": "code",
      "execution_count": 3,
      "metadata": {},
      "outputs": [],
      "source": [
        "#Get the stock\n",
        "ticker = 'SBUX'\n",
        "stock =\"Starbucks Corp\"\n",
        "# Time step n days, here we will use n  days historical data to predict next day closing\n",
        "ts_points = 120\n",
        "# train_data[0:60,0]  \n",
        "\n",
        "today = datetime.today()\n",
        "# start_date ='2016-01-01'\n",
        "start_date = (today - timedelta(days=5*365) ).strftime('%Y-%m-%d')\n",
        "\n",
        "end_date   = today.strftime('%Y-%m-%d')\n",
        "stock_df = pdr.DataReader(ticker, data_source=\"yahoo\", start=start_date, end=end_date)"
      ]
    },
    {
      "cell_type": "code",
      "execution_count": 4,
      "metadata": {},
      "outputs": [
        {
          "data": {
            "text/html": [
              "<div>\n",
              "<style scoped>\n",
              "    .dataframe tbody tr th:only-of-type {\n",
              "        vertical-align: middle;\n",
              "    }\n",
              "\n",
              "    .dataframe tbody tr th {\n",
              "        vertical-align: top;\n",
              "    }\n",
              "\n",
              "    .dataframe thead th {\n",
              "        text-align: right;\n",
              "    }\n",
              "</style>\n",
              "<table border=\"1\" class=\"dataframe\">\n",
              "  <thead>\n",
              "    <tr style=\"text-align: right;\">\n",
              "      <th></th>\n",
              "      <th>High</th>\n",
              "      <th>Low</th>\n",
              "      <th>Open</th>\n",
              "      <th>Close</th>\n",
              "      <th>Volume</th>\n",
              "      <th>Adj Close</th>\n",
              "    </tr>\n",
              "    <tr>\n",
              "      <th>Date</th>\n",
              "      <th></th>\n",
              "      <th></th>\n",
              "      <th></th>\n",
              "      <th></th>\n",
              "      <th></th>\n",
              "      <th></th>\n",
              "    </tr>\n",
              "  </thead>\n",
              "  <tbody>\n",
              "    <tr>\n",
              "      <th>2016-10-26</th>\n",
              "      <td>53.840000</td>\n",
              "      <td>53.360001</td>\n",
              "      <td>53.599998</td>\n",
              "      <td>53.630001</td>\n",
              "      <td>5817800.0</td>\n",
              "      <td>48.670071</td>\n",
              "    </tr>\n",
              "    <tr>\n",
              "      <th>2016-10-27</th>\n",
              "      <td>53.830002</td>\n",
              "      <td>53.130001</td>\n",
              "      <td>53.599998</td>\n",
              "      <td>53.590000</td>\n",
              "      <td>7900000.0</td>\n",
              "      <td>48.633762</td>\n",
              "    </tr>\n",
              "    <tr>\n",
              "      <th>2016-10-28</th>\n",
              "      <td>53.840000</td>\n",
              "      <td>53.110001</td>\n",
              "      <td>53.650002</td>\n",
              "      <td>53.529999</td>\n",
              "      <td>6620300.0</td>\n",
              "      <td>48.579330</td>\n",
              "    </tr>\n",
              "    <tr>\n",
              "      <th>2016-10-31</th>\n",
              "      <td>53.700001</td>\n",
              "      <td>53.060001</td>\n",
              "      <td>53.700001</td>\n",
              "      <td>53.070000</td>\n",
              "      <td>9142500.0</td>\n",
              "      <td>48.161865</td>\n",
              "    </tr>\n",
              "    <tr>\n",
              "      <th>2016-11-01</th>\n",
              "      <td>53.209999</td>\n",
              "      <td>52.090000</td>\n",
              "      <td>53.139999</td>\n",
              "      <td>52.500000</td>\n",
              "      <td>15425800.0</td>\n",
              "      <td>47.644577</td>\n",
              "    </tr>\n",
              "    <tr>\n",
              "      <th>...</th>\n",
              "      <td>...</td>\n",
              "      <td>...</td>\n",
              "      <td>...</td>\n",
              "      <td>...</td>\n",
              "      <td>...</td>\n",
              "      <td>...</td>\n",
              "    </tr>\n",
              "    <tr>\n",
              "      <th>2021-10-19</th>\n",
              "      <td>114.540001</td>\n",
              "      <td>112.760002</td>\n",
              "      <td>113.739998</td>\n",
              "      <td>113.489998</td>\n",
              "      <td>5799300.0</td>\n",
              "      <td>113.489998</td>\n",
              "    </tr>\n",
              "    <tr>\n",
              "      <th>2021-10-20</th>\n",
              "      <td>115.110001</td>\n",
              "      <td>112.709999</td>\n",
              "      <td>113.059998</td>\n",
              "      <td>113.860001</td>\n",
              "      <td>7645200.0</td>\n",
              "      <td>113.860001</td>\n",
              "    </tr>\n",
              "    <tr>\n",
              "      <th>2021-10-21</th>\n",
              "      <td>114.559998</td>\n",
              "      <td>113.610001</td>\n",
              "      <td>113.930000</td>\n",
              "      <td>114.440002</td>\n",
              "      <td>3684300.0</td>\n",
              "      <td>114.440002</td>\n",
              "    </tr>\n",
              "    <tr>\n",
              "      <th>2021-10-22</th>\n",
              "      <td>114.980003</td>\n",
              "      <td>114.070000</td>\n",
              "      <td>114.410004</td>\n",
              "      <td>114.550003</td>\n",
              "      <td>3396000.0</td>\n",
              "      <td>114.550003</td>\n",
              "    </tr>\n",
              "    <tr>\n",
              "      <th>2021-10-25</th>\n",
              "      <td>114.879700</td>\n",
              "      <td>113.355003</td>\n",
              "      <td>114.739998</td>\n",
              "      <td>114.709999</td>\n",
              "      <td>4290626.0</td>\n",
              "      <td>114.709999</td>\n",
              "    </tr>\n",
              "  </tbody>\n",
              "</table>\n",
              "<p>1258 rows × 6 columns</p>\n",
              "</div>"
            ],
            "text/plain": [
              "                  High         Low        Open       Close      Volume  \\\n",
              "Date                                                                     \n",
              "2016-10-26   53.840000   53.360001   53.599998   53.630001   5817800.0   \n",
              "2016-10-27   53.830002   53.130001   53.599998   53.590000   7900000.0   \n",
              "2016-10-28   53.840000   53.110001   53.650002   53.529999   6620300.0   \n",
              "2016-10-31   53.700001   53.060001   53.700001   53.070000   9142500.0   \n",
              "2016-11-01   53.209999   52.090000   53.139999   52.500000  15425800.0   \n",
              "...                ...         ...         ...         ...         ...   \n",
              "2021-10-19  114.540001  112.760002  113.739998  113.489998   5799300.0   \n",
              "2021-10-20  115.110001  112.709999  113.059998  113.860001   7645200.0   \n",
              "2021-10-21  114.559998  113.610001  113.930000  114.440002   3684300.0   \n",
              "2021-10-22  114.980003  114.070000  114.410004  114.550003   3396000.0   \n",
              "2021-10-25  114.879700  113.355003  114.739998  114.709999   4290626.0   \n",
              "\n",
              "             Adj Close  \n",
              "Date                    \n",
              "2016-10-26   48.670071  \n",
              "2016-10-27   48.633762  \n",
              "2016-10-28   48.579330  \n",
              "2016-10-31   48.161865  \n",
              "2016-11-01   47.644577  \n",
              "...                ...  \n",
              "2021-10-19  113.489998  \n",
              "2021-10-20  113.860001  \n",
              "2021-10-21  114.440002  \n",
              "2021-10-22  114.550003  \n",
              "2021-10-25  114.709999  \n",
              "\n",
              "[1258 rows x 6 columns]"
            ]
          },
          "execution_count": 4,
          "metadata": {},
          "output_type": "execute_result"
        }
      ],
      "source": [
        "# Date is an index but to be sure , let's sort\n",
        "stock_df = stock_df.sort_index(ascending=True)\n",
        "stock_df"
      ]
    },
    {
      "cell_type": "code",
      "execution_count": 5,
      "metadata": {},
      "outputs": [
        {
          "data": {
            "text/plain": [
              "High         0\n",
              "Low          0\n",
              "Open         0\n",
              "Close        0\n",
              "Volume       0\n",
              "Adj Close    0\n",
              "dtype: int64"
            ]
          },
          "execution_count": 5,
          "metadata": {},
          "output_type": "execute_result"
        }
      ],
      "source": [
        "# check for nulls\n",
        "stock_df.isna().sum()"
      ]
    },
    {
      "cell_type": "code",
      "execution_count": 6,
      "metadata": {},
      "outputs": [
        {
          "data": {
            "text/plain": [
              "(1258, 6)"
            ]
          },
          "execution_count": 6,
          "metadata": {},
          "output_type": "execute_result"
        }
      ],
      "source": [
        "# Get shape\n",
        "stock_df.shape"
      ]
    },
    {
      "cell_type": "code",
      "execution_count": 7,
      "metadata": {},
      "outputs": [
        {
          "data": {
            "image/png": "[encoded data removed]",
            "text/plain": [
              "<Figure size 1152x576 with 1 Axes>"
            ]
          },
          "metadata": {},
          "output_type": "display_data"
        }
      ],
      "source": [
        "# Visualize closing price history\n",
        "plt.figure(figsize=(16,8))\n",
        "plt.title (f\"Closing Price History for '{stock}' - {ticker}\")\n",
        "plt.plot(stock_df['Close'])\n",
        "plt.xlabel('Date')\n",
        "plt.ylabel('Close Price USD', fontsize=16)\n",
        "plt.savefig('Saved_Models/Images/his_'+ticker+'.png')\n",
        "plt.show()"
      ]
    },
    {
      "cell_type": "code",
      "execution_count": 8,
      "metadata": {},
      "outputs": [
        {
          "data": {
            "image/png": "[encoded data removed]",
            "text/plain": [
              "<Figure size 432x288 with 1 Axes>"
            ]
          },
          "metadata": {},
          "output_type": "display_data"
        }
      ],
      "source": [
        "stock_df['Close'].plot.density()\n",
        "plt.xlabel('Distribution of the closing stock price')\n",
        "plt.savefig('Saved_Models/Images/den_'+ticker+'.png')\n",
        "plt.show()"
      ]
    },
    {
      "cell_type": "code",
      "execution_count": 9,
      "metadata": {},
      "outputs": [
        {
          "data": {
            "text/plain": [
              "array([[ 53.63000107],\n",
              "       [ 53.59000015],\n",
              "       [ 53.52999878],\n",
              "       ...,\n",
              "       [114.44000244],\n",
              "       [114.55000305],\n",
              "       [114.70999908]])"
            ]
          },
          "execution_count": 9,
          "metadata": {},
          "output_type": "execute_result"
        }
      ],
      "source": [
        "# DF with only close\n",
        "TSdata_df = stock_df.filter(['Close'])\n",
        "TSdata_arr = TSdata_df.values # this creates an array of Close Price\n",
        "TSdata_arr"
      ]
    },
    {
      "cell_type": "code",
      "execution_count": 10,
      "metadata": {},
      "outputs": [],
      "source": [
        "# Scale the Data\n",
        "scaler = MinMaxScaler(feature_range =(0,1))\n",
        "scaled_data = scaler.fit_transform(TSdata_arr)\n",
        "# scaled_data"
      ]
    },
    {
      "cell_type": "code",
      "execution_count": 11,
      "metadata": {},
      "outputs": [
        {
          "data": {
            "text/plain": [
              "944"
            ]
          },
          "execution_count": 11,
          "metadata": {},
          "output_type": "execute_result"
        }
      ],
      "source": [
        "training_data_len = math.ceil(len(TSdata_arr) * 0.75)\n",
        "training_data_len"
      ]
    },
    {
      "cell_type": "code",
      "execution_count": 12,
      "metadata": {},
      "outputs": [
        {
          "data": {
            "text/plain": [
              "(944, 1)"
            ]
          },
          "execution_count": 12,
          "metadata": {},
          "output_type": "execute_result"
        }
      ],
      "source": [
        "# Created scaled training dataset\n",
        "train_data = scaled_data[0:training_data_len]\n",
        "train_data.shape"
      ]
    },
    {
      "cell_type": "code",
      "execution_count": 13,
      "metadata": {},
      "outputs": [],
      "source": [
        "# Split\n",
        "X_train = []\n",
        "y_train = []\n",
        "\n",
        "for i in range(ts_points, len(train_data)):\n",
        "    X_train.append(train_data[i-ts_points:i,0])\n",
        "    y_train.append(train_data[i,0])\n",
        "    # if i <= ts_points+3:\n",
        "    #     print(X_train)\n",
        "    #     print(y_train)\n",
        "    #     print()\n"
      ]
    },
    {
      "cell_type": "code",
      "execution_count": 14,
      "metadata": {},
      "outputs": [],
      "source": [
        "# convert X_train and y_train to numpy arrays for LSTM\n",
        "X_train, y_train = np.array(X_train), np.array(y_train)"
      ]
    },
    {
      "cell_type": "code",
      "execution_count": 15,
      "metadata": {},
      "outputs": [
        {
          "name": "stdout",
          "output_type": "stream",
          "text": [
            "(824, 120)\n",
            "(824,)\n"
          ]
        }
      ],
      "source": [
        "print (X_train.shape)\n",
        "print (y_train.shape)"
      ]
    },
    {
      "cell_type": "code",
      "execution_count": 16,
      "metadata": {},
      "outputs": [
        {
          "data": {
            "text/plain": [
              "(824, 120, 1)"
            ]
          },
          "execution_count": 16,
          "metadata": {},
          "output_type": "execute_result"
        }
      ],
      "source": [
        "# LSTM network expects a 3D input (No_of_Samples, number of time steps, and number of features) no_of_features = 1 (Close)\n",
        "X_train = np.reshape(X_train, (X_train.shape[0], X_train.shape[1], 1))\n",
        "X_train.shape"
      ]
    },
    {
      "cell_type": "code",
      "execution_count": 17,
      "metadata": {},
      "outputs": [
        {
          "data": {
            "text/plain": [
              "824"
            ]
          },
          "execution_count": 17,
          "metadata": {},
          "output_type": "execute_result"
        }
      ],
      "source": [
        "training_data_len - ts_points"
      ]
    },
    {
      "cell_type": "code",
      "execution_count": 18,
      "metadata": {},
      "outputs": [],
      "source": [
        "# hidden_nodes = int(2/3 * (X_train.shape[1] * 1))\n",
        "# print(f\"The number of hidden nodes is {hidden_nodes}.\")"
      ]
    },
    {
      "cell_type": "code",
      "execution_count": 19,
      "metadata": {},
      "outputs": [],
      "source": [
        "# LSTM MOdel\n",
        "model = tf.keras.models.Sequential()\n",
        "# model.add(tf.keras.layers.LSTM(50, return_sequences=True, input_shape=(X_train.shape[1],1)))\n",
        "# model.add(tf.keras.layers.LSTM(50, return_sequences=False))\n",
        "# model.add(tf.keras.layers.Dropout(0.2))\n",
        "# model.add(tf.keras.layers.Dense(25))\n",
        "# model.add(tf.keras.layers.Dense(1))\n",
        "# model.summary()\n"
      ]
    },
    {
      "cell_type": "code",
      "execution_count": 20,
      "metadata": {},
      "outputs": [
        {
          "name": "stdout",
          "output_type": "stream",
          "text": [
            "Model: \"sequential\"\n",
            "_________________________________________________________________\n",
            "Layer (type)                 Output Shape              Param #   \n",
            "=================================================================\n",
            "lstm (LSTM)                  (None, 120, 50)           10400     \n",
            "_________________________________________________________________\n",
            "lstm_1 (LSTM)                (None, 50)                20200     \n",
            "_________________________________________________________________\n",
            "dense (Dense)                (None, 25)                1275      \n",
            "_________________________________________________________________\n",
            "dense_1 (Dense)              (None, 1)                 26        \n",
            "=================================================================\n",
            "Total params: 31,901\n",
            "Trainable params: 31,901\n",
            "Non-trainable params: 0\n",
            "_________________________________________________________________\n"
          ]
        }
      ],
      "source": [
        "\n",
        "# BEST FOR SBUX#\n",
        "model.add(tf.keras.layers.LSTM(50, return_sequences=True, input_shape=(X_train.shape[1],1)))\n",
        "model.add(tf.keras.layers.LSTM(50, return_sequences=False))\n",
        "# model.add(tf.keras.layers.Dropout(0.2))\n",
        "model.add(tf.keras.layers.Dense(25))\n",
        "model.add(tf.keras.layers.Dense(1))\n",
        "model.summary()\n",
        "\n",
        "# model.fit(X_train, y_train, batch_size=64, epochs=50"
      ]
    },
    {
      "cell_type": "code",
      "execution_count": 21,
      "metadata": {},
      "outputs": [],
      "source": [
        "model.compile(optimizer='adam', loss='mean_squared_error')\n",
        "# model.compile(loss=\"binary_crossentropy\", optimizer=\"adam\", metrics=[\"accuracy\"])"
      ]
    },
    {
      "cell_type": "code",
      "execution_count": 22,
      "metadata": {},
      "outputs": [
        {
          "name": "stdout",
          "output_type": "stream",
          "text": [
            "WARNING:tensorflow:`period` argument is deprecated. Please use `save_freq` to specify the frequency in number of batches seen.\n"
          ]
        }
      ],
      "source": [
        "import os\n",
        "from tensorflow.keras.callbacks import ModelCheckpoint\n",
        "\n",
        "batch_size=64\n",
        "\n",
        "os.makedirs(\"chk_points/\", exist_ok=True)\n",
        "chkpoint_path=\"chk_points/weights.{epoch}.hdf5\"\n",
        "\n",
        "# Create chk points\n",
        "chkpt_callback = ModelCheckpoint(filepath=chkpoint_path,\n",
        "                              verbose=1,\n",
        "                              save_weights_only=True,\n",
        "                              save_freq=\"epoch\",\n",
        "                              period=5)\n",
        "\n",
        "# chkpoint_path = \"chk_points/cp-{epoch:04d}.ckpt\"\n",
        "# chkpt_callback = tf.keras.callbacks.ModelCheckpoint(\n",
        "#     filepath=chkpoint_path, \n",
        "#     verbose=1, \n",
        "#     save_weights_only=True,\n",
        "#     save_freq=5*batch_size)                    \n",
        "\n",
        "# model.save_weights(chkpoint_path.format(epoch=0))    \n"
      ]
    },
    {
      "cell_type": "code",
      "execution_count": 23,
      "metadata": {},
      "outputs": [],
      "source": [
        "# training_data_len\n",
        "# scaled_data"
      ]
    },
    {
      "cell_type": "code",
      "execution_count": 24,
      "metadata": {},
      "outputs": [
        {
          "name": "stdout",
          "output_type": "stream",
          "text": [
            "Epoch 1/50\n",
            "13/13 [==============================] - 3s 86ms/step - loss: 0.0209\n",
            "Epoch 2/50\n",
            "13/13 [==============================] - 1s 87ms/step - loss: 0.0052\n",
            "Epoch 3/50\n",
            "13/13 [==============================] - 1s 77ms/step - loss: 0.0023\n",
            "Epoch 4/50\n",
            "13/13 [==============================] - 1s 81ms/step - loss: 0.0017\n",
            "Epoch 5/50\n",
            "13/13 [==============================] - 1s 77ms/step - loss: 0.0015\n",
            "Epoch 6/50\n",
            "13/13 [==============================] - 1s 75ms/step - loss: 0.0015\n",
            "Epoch 7/50\n",
            "13/13 [==============================] - 1s 74ms/step - loss: 0.0014\n",
            "Epoch 8/50\n",
            "13/13 [==============================] - 1s 73ms/step - loss: 0.0013\n",
            "Epoch 9/50\n",
            "13/13 [==============================] - 1s 73ms/step - loss: 0.0013\n",
            "Epoch 10/50\n",
            "13/13 [==============================] - 1s 74ms/step - loss: 0.0013\n",
            "Epoch 11/50\n",
            "13/13 [==============================] - 1s 73ms/step - loss: 0.0011\n",
            "Epoch 12/50\n",
            "13/13 [==============================] - 1s 73ms/step - loss: 0.0011\n",
            "Epoch 13/50\n",
            "13/13 [==============================] - 1s 73ms/step - loss: 0.0011\n",
            "Epoch 14/50\n",
            "13/13 [==============================] - 1s 74ms/step - loss: 9.8263e-04\n",
            "Epoch 15/50\n",
            "13/13 [==============================] - 1s 72ms/step - loss: 9.1256e-04\n",
            "Epoch 16/50\n",
            "13/13 [==============================] - 1s 73ms/step - loss: 8.9244e-04\n",
            "Epoch 17/50\n",
            "13/13 [==============================] - 1s 71ms/step - loss: 9.2605e-04\n",
            "Epoch 18/50\n",
            "13/13 [==============================] - 1s 72ms/step - loss: 9.4333e-04\n",
            "Epoch 19/50\n",
            "13/13 [==============================] - 1s 72ms/step - loss: 8.5406e-04\n",
            "Epoch 20/50\n",
            "13/13 [==============================] - 1s 73ms/step - loss: 8.8731e-04\n",
            "Epoch 21/50\n",
            "13/13 [==============================] - 1s 94ms/step - loss: 7.7357e-04\n",
            "Epoch 22/50\n",
            "13/13 [==============================] - 2s 119ms/step - loss: 7.3724e-04\n",
            "Epoch 23/50\n",
            "13/13 [==============================] - 2s 120ms/step - loss: 7.4883e-04\n",
            "Epoch 24/50\n",
            "13/13 [==============================] - 1s 80ms/step - loss: 7.0615e-04\n",
            "Epoch 25/50\n",
            "13/13 [==============================] - 1s 102ms/step - loss: 7.4515e-04\n",
            "Epoch 26/50\n",
            "13/13 [==============================] - 1s 109ms/step - loss: 7.1586e-04\n",
            "Epoch 27/50\n",
            "13/13 [==============================] - 2s 120ms/step - loss: 7.5652e-04\n",
            "Epoch 28/50\n",
            "13/13 [==============================] - 1s 101ms/step - loss: 6.9481e-04\n",
            "Epoch 29/50\n",
            "13/13 [==============================] - 1s 114ms/step - loss: 6.5603e-04\n",
            "Epoch 30/50\n",
            "13/13 [==============================] - 1s 104ms/step - loss: 6.6153e-04\n",
            "Epoch 31/50\n",
            "13/13 [==============================] - 1s 113ms/step - loss: 6.7744e-04\n",
            "Epoch 32/50\n",
            "13/13 [==============================] - 2s 115ms/step - loss: 6.2203e-04\n",
            "Epoch 33/50\n",
            "13/13 [==============================] - 1s 104ms/step - loss: 6.3289e-04\n",
            "Epoch 34/50\n",
            "13/13 [==============================] - 1s 92ms/step - loss: 6.1173e-04\n",
            "Epoch 35/50\n",
            "13/13 [==============================] - 1s 78ms/step - loss: 5.9595e-04\n",
            "Epoch 36/50\n",
            "13/13 [==============================] - 1s 75ms/step - loss: 6.0971e-04\n",
            "Epoch 37/50\n",
            "13/13 [==============================] - 1s 75ms/step - loss: 5.9054e-04\n",
            "Epoch 38/50\n",
            "13/13 [==============================] - 1s 77ms/step - loss: 6.5905e-04\n",
            "Epoch 39/50\n",
            "13/13 [==============================] - 1s 72ms/step - loss: 5.8928e-04\n",
            "Epoch 40/50\n",
            "13/13 [==============================] - 1s 74ms/step - loss: 5.8181e-04\n",
            "Epoch 41/50\n",
            "13/13 [==============================] - 1s 72ms/step - loss: 5.7264e-04\n",
            "Epoch 42/50\n",
            "13/13 [==============================] - 1s 72ms/step - loss: 5.4934e-04\n",
            "Epoch 43/50\n",
            "13/13 [==============================] - 1s 72ms/step - loss: 5.8637e-04\n",
            "Epoch 44/50\n",
            "13/13 [==============================] - 1s 72ms/step - loss: 5.5027e-04\n",
            "Epoch 45/50\n",
            "13/13 [==============================] - 1s 73ms/step - loss: 5.4103e-04\n",
            "Epoch 46/50\n",
            "13/13 [==============================] - 1s 73ms/step - loss: 5.4484e-04\n",
            "Epoch 47/50\n",
            "13/13 [==============================] - 1s 77ms/step - loss: 5.3199e-04\n",
            "Epoch 48/50\n",
            "13/13 [==============================] - 1s 76ms/step - loss: 5.2561e-04\n",
            "Epoch 49/50\n",
            "13/13 [==============================] - 1s 73ms/step - loss: 5.3454e-04\n",
            "Epoch 50/50\n",
            "13/13 [==============================] - 1s 73ms/step - loss: 5.1708e-04\n"
          ]
        },
        {
          "data": {
            "text/plain": [
              "<keras.callbacks.History at 0x28000262520>"
            ]
          },
          "execution_count": 24,
          "metadata": {},
          "output_type": "execute_result"
        }
      ],
      "source": [
        "# model.fit(X_train, y_train, batch_size=batch_size, epochs=50, validation_split=0.43, callbacks=[chkpt_callback])\n",
        "model.fit(X_train, y_train, batch_size=64, epochs=50)"
      ]
    },
    {
      "cell_type": "code",
      "execution_count": 25,
      "metadata": {},
      "outputs": [],
      "source": [
        "model.save('Saved_Models/Model_'+ticker+'.h5')"
      ]
    },
    {
      "cell_type": "code",
      "execution_count": 26,
      "metadata": {},
      "outputs": [],
      "source": [
        "#test_data = scaled_data[training_data_len:]\n",
        "\n",
        "# Bring in the last 'ts_points' (60 values) from training set so when X_test is used to predict , predictions have same shape as Y_test\n",
        "# The for loop starts with 'ts_points' thatbmeans the resultant array will have 60 less rows\n",
        "test_data = scaled_data[training_data_len-ts_points:]\n",
        "#test_data[0:60,0]\n"
      ]
    },
    {
      "cell_type": "code",
      "execution_count": 27,
      "metadata": {},
      "outputs": [],
      "source": [
        "X_test = []\n",
        "y_test = TSdata_arr[training_data_len:]\n",
        "for i in range(ts_points, len(test_data)):\n",
        "    X_test.append(test_data[i-ts_points:i,0])\n"
      ]
    },
    {
      "cell_type": "code",
      "execution_count": 28,
      "metadata": {},
      "outputs": [],
      "source": [
        "# convert the data to a numpy array to use it in LSTM MODEL\n",
        "X_test = np.array(X_test)\n",
        "X_test = np.reshape(X_test, (X_test.shape[0],  X_test.shape[1], 1))"
      ]
    },
    {
      "cell_type": "code",
      "execution_count": 29,
      "metadata": {},
      "outputs": [],
      "source": [
        "from sklearn.metrics import mean_squared_error"
      ]
    },
    {
      "cell_type": "code",
      "execution_count": 30,
      "metadata": {},
      "outputs": [
        {
          "data": {
            "text/plain": [
              "1.79577273775298"
            ]
          },
          "execution_count": 30,
          "metadata": {},
          "output_type": "execute_result"
        }
      ],
      "source": [
        "# Models predicted price for X_train\n",
        "predictions_tr = model.predict(X_train)\n",
        "predictions_tr = scaler.inverse_transform(predictions_tr)\n",
        "\n",
        "y_train_tr =  scaler.inverse_transform(y_train.reshape(-1,1))\n",
        "rmse_tr = math.sqrt(mean_squared_error(y_train_tr, predictions_tr))\n",
        "rmse_tr"
      ]
    },
    {
      "cell_type": "code",
      "execution_count": 31,
      "metadata": {},
      "outputs": [],
      "source": [
        "# Models predicted price for X_test\n",
        "predictions = model.predict(X_test)\n",
        "predictions = scaler.inverse_transform(predictions)"
      ]
    },
    {
      "cell_type": "code",
      "execution_count": 32,
      "metadata": {},
      "outputs": [
        {
          "data": {
            "text/plain": [
              "((314, 1), (314, 1))"
            ]
          },
          "execution_count": 32,
          "metadata": {},
          "output_type": "execute_result"
        }
      ],
      "source": [
        "y_test.shape, predictions.shape"
      ]
    },
    {
      "cell_type": "code",
      "execution_count": 33,
      "metadata": {},
      "outputs": [
        {
          "data": {
            "text/plain": [
              "3.935153580472995"
            ]
          },
          "execution_count": 33,
          "metadata": {},
          "output_type": "execute_result"
        }
      ],
      "source": [
        "# RMSE to check accuracy\n",
        "\n",
        "rmse = math.sqrt(mean_squared_error(y_test, predictions))\n",
        "rmse"
      ]
    },
    {
      "cell_type": "code",
      "execution_count": 34,
      "metadata": {},
      "outputs": [
        {
          "name": "stderr",
          "output_type": "stream",
          "text": [
            "<ipython-input-34-bb86776ae978>:4: SettingWithCopyWarning: \n",
            "A value is trying to be set on a copy of a slice from a DataFrame.\n",
            "Try using .loc[row_indexer,col_indexer] = value instead\n",
            "\n",
            "See the caveats in the documentation: https://pandas.pydata.org/pandas-docs/stable/user_guide/indexing.html#returning-a-view-versus-a-copy\n",
            "  actual['Predictions'] = predictions\n"
          ]
        },
        {
          "data": {
            "text/html": [
              "<div>\n",
              "<style scoped>\n",
              "    .dataframe tbody tr th:only-of-type {\n",
              "        vertical-align: middle;\n",
              "    }\n",
              "\n",
              "    .dataframe tbody tr th {\n",
              "        vertical-align: top;\n",
              "    }\n",
              "\n",
              "    .dataframe thead th {\n",
              "        text-align: right;\n",
              "    }\n",
              "</style>\n",
              "<table border=\"1\" class=\"dataframe\">\n",
              "  <thead>\n",
              "    <tr style=\"text-align: right;\">\n",
              "      <th></th>\n",
              "      <th>Close</th>\n",
              "      <th>Predictions</th>\n",
              "    </tr>\n",
              "    <tr>\n",
              "      <th>Date</th>\n",
              "      <th></th>\n",
              "      <th></th>\n",
              "    </tr>\n",
              "  </thead>\n",
              "  <tbody>\n",
              "    <tr>\n",
              "      <th>2020-07-29</th>\n",
              "      <td>77.419998</td>\n",
              "      <td>75.766045</td>\n",
              "    </tr>\n",
              "    <tr>\n",
              "      <th>2020-07-30</th>\n",
              "      <td>76.639999</td>\n",
              "      <td>75.994598</td>\n",
              "    </tr>\n",
              "    <tr>\n",
              "      <th>2020-07-31</th>\n",
              "      <td>76.529999</td>\n",
              "      <td>76.171623</td>\n",
              "    </tr>\n",
              "    <tr>\n",
              "      <th>2020-08-03</th>\n",
              "      <td>75.500000</td>\n",
              "      <td>76.280853</td>\n",
              "    </tr>\n",
              "    <tr>\n",
              "      <th>2020-08-04</th>\n",
              "      <td>75.129997</td>\n",
              "      <td>76.129776</td>\n",
              "    </tr>\n",
              "    <tr>\n",
              "      <th>...</th>\n",
              "      <td>...</td>\n",
              "      <td>...</td>\n",
              "    </tr>\n",
              "    <tr>\n",
              "      <th>2021-10-19</th>\n",
              "      <td>113.489998</td>\n",
              "      <td>107.902267</td>\n",
              "    </tr>\n",
              "    <tr>\n",
              "      <th>2021-10-20</th>\n",
              "      <td>113.860001</td>\n",
              "      <td>108.528999</td>\n",
              "    </tr>\n",
              "    <tr>\n",
              "      <th>2021-10-21</th>\n",
              "      <td>114.440002</td>\n",
              "      <td>109.170113</td>\n",
              "    </tr>\n",
              "    <tr>\n",
              "      <th>2021-10-22</th>\n",
              "      <td>114.550003</td>\n",
              "      <td>109.826454</td>\n",
              "    </tr>\n",
              "    <tr>\n",
              "      <th>2021-10-25</th>\n",
              "      <td>114.709999</td>\n",
              "      <td>110.375732</td>\n",
              "    </tr>\n",
              "  </tbody>\n",
              "</table>\n",
              "<p>314 rows × 2 columns</p>\n",
              "</div>"
            ],
            "text/plain": [
              "                 Close  Predictions\n",
              "Date                               \n",
              "2020-07-29   77.419998    75.766045\n",
              "2020-07-30   76.639999    75.994598\n",
              "2020-07-31   76.529999    76.171623\n",
              "2020-08-03   75.500000    76.280853\n",
              "2020-08-04   75.129997    76.129776\n",
              "...                ...          ...\n",
              "2021-10-19  113.489998   107.902267\n",
              "2021-10-20  113.860001   108.528999\n",
              "2021-10-21  114.440002   109.170113\n",
              "2021-10-22  114.550003   109.826454\n",
              "2021-10-25  114.709999   110.375732\n",
              "\n",
              "[314 rows x 2 columns]"
            ]
          },
          "execution_count": 34,
          "metadata": {},
          "output_type": "execute_result"
        }
      ],
      "source": [
        "# Plot\n",
        "train = TSdata_df[:training_data_len]\n",
        "actual = TSdata_df[training_data_len:]\n",
        "actual['Predictions'] = predictions\n",
        "actual"
      ]
    },
    {
      "cell_type": "code",
      "execution_count": 35,
      "metadata": {},
      "outputs": [
        {
          "data": {
            "image/png": "[encoded data removed]",
            "text/plain": [
              "<Figure size 1152x576 with 1 Axes>"
            ]
          },
          "metadata": {},
          "output_type": "display_data"
        }
      ],
      "source": [
        "plt.figure(figsize=(16,8))\n",
        "plt.title(f\"Model for '{stock}' - {ticker}\")\n",
        "plt.xlabel(\"Date\")\n",
        "plt.ylabel(\"Close Price USD\")\n",
        "plt.plot(train['Close'])\n",
        "plt.plot(actual[['Close', 'Predictions']])\n",
        "plt.legend(['Train', 'Actual', 'Predictions'], loc='lower right')\n",
        "plt.savefig('Saved_Models/Images/'+ticker+'.png')\n",
        "plt.show()"
      ]
    },
    {
      "cell_type": "markdown",
      "metadata": {},
      "source": [
        "# TEST"
      ]
    },
    {
      "cell_type": "code",
      "execution_count": 36,
      "metadata": {},
      "outputs": [],
      "source": [
        "# for predictions add 100 extra days to make sure it has more than ts_points to make up for missing days (weekends and holidays)\n",
        "\n",
        "fetch_days = ts_points + 100    \n",
        "\n",
        "sd =  today - timedelta(days=fetch_days)\n",
        "sd = sd.strftime('%Y-%m-%d')\n",
        "\n",
        "ed = today.strftime('%Y-%m-%d')\n",
        "ed\n",
        "\n",
        "next_day = (today + timedelta(days=1) ).strftime('%Y-%m-%d')\n",
        "# next_day"
      ]
    },
    {
      "cell_type": "code",
      "execution_count": 37,
      "metadata": {},
      "outputs": [],
      "source": [
        "# get the quote\n",
        "quote = pdr.DataReader(ticker, data_source=\"yahoo\", start=sd, end=ed)\n",
        "new_df = quote.filter(['Close'])\n",
        "last_n_days = ts_points\n",
        "last_n_days_arr = new_df[-last_n_days:].values "
      ]
    },
    {
      "cell_type": "code",
      "execution_count": 38,
      "metadata": {},
      "outputs": [],
      "source": [
        "last_n_days_scaled = scaler.transform(last_n_days_arr)\n",
        "X_test = []\n",
        "X_test.append(last_n_days_scaled)\n",
        "X_test = np.array(X_test)\n",
        "X_test = np.reshape(X_test,(X_test.shape[0], X_test.shape[1],1))\n"
      ]
    },
    {
      "cell_type": "code",
      "execution_count": 39,
      "metadata": {},
      "outputs": [
        {
          "name": "stdout",
          "output_type": "stream",
          "text": [
            "Model: \"sequential\"\n",
            "_________________________________________________________________\n",
            "Layer (type)                 Output Shape              Param #   \n",
            "=================================================================\n",
            "lstm (LSTM)                  (None, 120, 50)           10400     \n",
            "_________________________________________________________________\n",
            "lstm_1 (LSTM)                (None, 50)                20200     \n",
            "_________________________________________________________________\n",
            "dense (Dense)                (None, 25)                1275      \n",
            "_________________________________________________________________\n",
            "dense_1 (Dense)              (None, 1)                 26        \n",
            "=================================================================\n",
            "Total params: 31,901\n",
            "Trainable params: 31,901\n",
            "Non-trainable params: 0\n",
            "_________________________________________________________________\n",
            "Predicted Closing price for 'Starbucks Corp' on 2021-10-26 is 110.7995\n"
          ]
        }
      ],
      "source": [
        "##########################loading saved model ###############################\n",
        "new_model = tf.keras.models.load_model('Saved_Models/Model_'+ticker+'.h5')\n",
        "\n",
        "# Check its architecture\n",
        "new_model.summary()\n",
        "nmpred_price = new_model.predict(X_test)\n",
        "nmpred_price = scaler.inverse_transform(nmpred_price)\n",
        "nmpred_price = nmpred_price[0][0]\n",
        "print(f\"Predicted Closing price for '{stock}' on {next_day} is {nmpred_price:.4f}\")"
      ]
    },
    {
      "cell_type": "code",
      "execution_count": 40,
      "metadata": {},
      "outputs": [
        {
          "name": "stdout",
          "output_type": "stream",
          "text": [
            "Predicted Closing price for 'Starbucks Corp' on 2021-10-26 is 110.7995\n"
          ]
        }
      ],
      "source": [
        "pred_price = model.predict(X_test)\n",
        "pred_price = scaler.inverse_transform(pred_price)\n",
        "pred_price = pred_price[0][0]\n",
        "print(f\"Predicted Closing price for '{stock}' on {next_day} is {pred_price:.4f}\")"
      ]
    },
    {
      "cell_type": "code",
      "execution_count": 41,
      "metadata": {},
      "outputs": [
        {
          "data": {
            "text/html": [
              "<div>\n",
              "<style scoped>\n",
              "    .dataframe tbody tr th:only-of-type {\n",
              "        vertical-align: middle;\n",
              "    }\n",
              "\n",
              "    .dataframe tbody tr th {\n",
              "        vertical-align: top;\n",
              "    }\n",
              "\n",
              "    .dataframe thead th {\n",
              "        text-align: right;\n",
              "    }\n",
              "</style>\n",
              "<table border=\"1\" class=\"dataframe\">\n",
              "  <thead>\n",
              "    <tr style=\"text-align: right;\">\n",
              "      <th></th>\n",
              "      <th>High</th>\n",
              "      <th>Low</th>\n",
              "      <th>Open</th>\n",
              "      <th>Close</th>\n",
              "      <th>Volume</th>\n",
              "      <th>Adj Close</th>\n",
              "    </tr>\n",
              "    <tr>\n",
              "      <th>Date</th>\n",
              "      <th></th>\n",
              "      <th></th>\n",
              "      <th></th>\n",
              "      <th></th>\n",
              "      <th></th>\n",
              "      <th></th>\n",
              "    </tr>\n",
              "  </thead>\n",
              "  <tbody>\n",
              "    <tr>\n",
              "      <th>2021-10-20</th>\n",
              "      <td>115.110001</td>\n",
              "      <td>112.709999</td>\n",
              "      <td>113.059998</td>\n",
              "      <td>113.860001</td>\n",
              "      <td>7645200</td>\n",
              "      <td>113.860001</td>\n",
              "    </tr>\n",
              "    <tr>\n",
              "      <th>2021-10-21</th>\n",
              "      <td>114.559998</td>\n",
              "      <td>113.610001</td>\n",
              "      <td>113.930000</td>\n",
              "      <td>114.440002</td>\n",
              "      <td>3684300</td>\n",
              "      <td>114.440002</td>\n",
              "    </tr>\n",
              "    <tr>\n",
              "      <th>2021-10-22</th>\n",
              "      <td>114.980003</td>\n",
              "      <td>114.070000</td>\n",
              "      <td>114.410004</td>\n",
              "      <td>114.550003</td>\n",
              "      <td>3396000</td>\n",
              "      <td>114.550003</td>\n",
              "    </tr>\n",
              "    <tr>\n",
              "      <th>2021-10-25</th>\n",
              "      <td>114.879700</td>\n",
              "      <td>113.355003</td>\n",
              "      <td>114.739998</td>\n",
              "      <td>114.709999</td>\n",
              "      <td>4290626</td>\n",
              "      <td>114.709999</td>\n",
              "    </tr>\n",
              "  </tbody>\n",
              "</table>\n",
              "</div>"
            ],
            "text/plain": [
              "                  High         Low        Open       Close   Volume  \\\n",
              "Date                                                                  \n",
              "2021-10-20  115.110001  112.709999  113.059998  113.860001  7645200   \n",
              "2021-10-21  114.559998  113.610001  113.930000  114.440002  3684300   \n",
              "2021-10-22  114.980003  114.070000  114.410004  114.550003  3396000   \n",
              "2021-10-25  114.879700  113.355003  114.739998  114.709999  4290626   \n",
              "\n",
              "             Adj Close  \n",
              "Date                    \n",
              "2021-10-20  113.860001  \n",
              "2021-10-21  114.440002  \n",
              "2021-10-22  114.550003  \n",
              "2021-10-25  114.709999  "
            ]
          },
          "execution_count": 41,
          "metadata": {},
          "output_type": "execute_result"
        }
      ],
      "source": [
        "# verify\n",
        "d1 = today - timedelta(days=5)\n",
        "d1 = d1.strftime('%Y-%m-%d')\n",
        "\n",
        "quote2 = pdr.DataReader(ticker, data_source=\"yahoo\", start=d1)\n",
        "quote2"
      ]
    },
    {
      "cell_type": "code",
      "execution_count": null,
      "metadata": {},
      "outputs": [],
      "source": []
    },
    {
      "cell_type": "code",
      "execution_count": null,
      "metadata": {},
      "outputs": [],
      "source": []
    }
  ],
  "metadata": {
    "colab": {
      "name": "Untitled1.ipynb",
      "provenance": []
    },
    "interpreter": {
      "hash": "b3ba2566441a7c06988d0923437866b63cedc61552a5af99d1f4fb67d367b25f"
    },
    "kernelspec": {
      "display_name": "Python 3.8.5 64-bit ('base': conda)",
      "name": "python3"
    },
    "language_info": {
      "codemirror_mode": {
        "name": "ipython",
        "version": 3
      },
      "file_extension": ".py",
      "mimetype": "text/x-python",
      "name": "python",
      "nbconvert_exporter": "python",
      "pygments_lexer": "ipython3",
      "version": "3.8.5"
    }
  },
  "nbformat": 4,
  "nbformat_minor": 0
}
