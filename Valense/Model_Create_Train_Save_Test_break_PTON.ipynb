{
  "cells": [
    {
      "cell_type": "code",
      "execution_count": 46,
      "metadata": {
        "id": "brsCiv-W6GZ2"
      },
      "outputs": [],
      "source": [
        "import math\n",
        "import numpy as np\n",
        "import os\n",
        "from sklearn.preprocessing import MinMaxScaler\n",
        "import tensorflow as tf\n",
        "import matplotlib.pyplot as plt\n",
        "plt.style.use('ggplot')\n",
        "import pandas_datareader as pdr\n",
        "from datetime import datetime, timedelta"
      ]
    },
    {
      "cell_type": "code",
      "execution_count": 47,
      "metadata": {},
      "outputs": [],
      "source": [
        "#Get the stock\n",
        "ticker = 'PTON'\n",
        "stock =\"Peloton Interactive Inc\"\n",
        "# Time step n days, here we will use n  days historical data to predict next day closing\n",
        "ts_points = 120\n",
        "# train_data[0:60,0]  \n",
        "\n",
        "today = datetime.today()\n",
        "# start_date ='2016-01-01'\n",
        "start_date = (today - timedelta(days=5*365) ).strftime('%Y-%m-%d')\n",
        "\n",
        "# end_date   = today.strftime('%Y-%m-%d')\n",
        "end_date = (today - timedelta(days=31) ).strftime('%Y-%m-%d')\n",
        "\n",
        "stock_df = pdr.DataReader(ticker, data_source=\"yahoo\", start=start_date, end=end_date)"
      ]
    },
    {
      "cell_type": "code",
      "execution_count": 48,
      "metadata": {},
      "outputs": [
        {
          "data": {
            "text/html": [
              "<div>\n",
              "<style scoped>\n",
              "    .dataframe tbody tr th:only-of-type {\n",
              "        vertical-align: middle;\n",
              "    }\n",
              "\n",
              "    .dataframe tbody tr th {\n",
              "        vertical-align: top;\n",
              "    }\n",
              "\n",
              "    .dataframe thead th {\n",
              "        text-align: right;\n",
              "    }\n",
              "</style>\n",
              "<table border=\"1\" class=\"dataframe\">\n",
              "  <thead>\n",
              "    <tr style=\"text-align: right;\">\n",
              "      <th></th>\n",
              "      <th>High</th>\n",
              "      <th>Low</th>\n",
              "      <th>Open</th>\n",
              "      <th>Close</th>\n",
              "      <th>Volume</th>\n",
              "      <th>Adj Close</th>\n",
              "    </tr>\n",
              "    <tr>\n",
              "      <th>Date</th>\n",
              "      <th></th>\n",
              "      <th></th>\n",
              "      <th></th>\n",
              "      <th></th>\n",
              "      <th></th>\n",
              "      <th></th>\n",
              "    </tr>\n",
              "  </thead>\n",
              "  <tbody>\n",
              "    <tr>\n",
              "      <th>2019-09-26</th>\n",
              "      <td>27.980000</td>\n",
              "      <td>24.750000</td>\n",
              "      <td>27.170000</td>\n",
              "      <td>25.760000</td>\n",
              "      <td>47067700</td>\n",
              "      <td>25.760000</td>\n",
              "    </tr>\n",
              "    <tr>\n",
              "      <th>2019-09-27</th>\n",
              "      <td>26.170000</td>\n",
              "      <td>23.750000</td>\n",
              "      <td>26.170000</td>\n",
              "      <td>25.240000</td>\n",
              "      <td>15976000</td>\n",
              "      <td>25.240000</td>\n",
              "    </tr>\n",
              "    <tr>\n",
              "      <th>2019-09-30</th>\n",
              "      <td>25.850000</td>\n",
              "      <td>25.000000</td>\n",
              "      <td>25.260000</td>\n",
              "      <td>25.100000</td>\n",
              "      <td>4482900</td>\n",
              "      <td>25.100000</td>\n",
              "    </tr>\n",
              "    <tr>\n",
              "      <th>2019-10-01</th>\n",
              "      <td>25.170000</td>\n",
              "      <td>22.510000</td>\n",
              "      <td>25.000000</td>\n",
              "      <td>22.510000</td>\n",
              "      <td>8816100</td>\n",
              "      <td>22.510000</td>\n",
              "    </tr>\n",
              "    <tr>\n",
              "      <th>2019-10-02</th>\n",
              "      <td>23.180000</td>\n",
              "      <td>21.760000</td>\n",
              "      <td>22.250000</td>\n",
              "      <td>22.600000</td>\n",
              "      <td>9454700</td>\n",
              "      <td>22.600000</td>\n",
              "    </tr>\n",
              "    <tr>\n",
              "      <th>...</th>\n",
              "      <td>...</td>\n",
              "      <td>...</td>\n",
              "      <td>...</td>\n",
              "      <td>...</td>\n",
              "      <td>...</td>\n",
              "      <td>...</td>\n",
              "    </tr>\n",
              "    <tr>\n",
              "      <th>2021-09-20</th>\n",
              "      <td>104.129997</td>\n",
              "      <td>99.300003</td>\n",
              "      <td>101.400002</td>\n",
              "      <td>100.730003</td>\n",
              "      <td>5282300</td>\n",
              "      <td>100.730003</td>\n",
              "    </tr>\n",
              "    <tr>\n",
              "      <th>2021-09-21</th>\n",
              "      <td>103.930000</td>\n",
              "      <td>100.440002</td>\n",
              "      <td>101.250000</td>\n",
              "      <td>100.919998</td>\n",
              "      <td>3909900</td>\n",
              "      <td>100.919998</td>\n",
              "    </tr>\n",
              "    <tr>\n",
              "      <th>2021-09-22</th>\n",
              "      <td>99.980003</td>\n",
              "      <td>92.610001</td>\n",
              "      <td>99.510002</td>\n",
              "      <td>94.550003</td>\n",
              "      <td>17075000</td>\n",
              "      <td>94.550003</td>\n",
              "    </tr>\n",
              "    <tr>\n",
              "      <th>2021-09-23</th>\n",
              "      <td>96.570000</td>\n",
              "      <td>94.010002</td>\n",
              "      <td>94.809998</td>\n",
              "      <td>94.379997</td>\n",
              "      <td>5366900</td>\n",
              "      <td>94.379997</td>\n",
              "    </tr>\n",
              "    <tr>\n",
              "      <th>2021-09-24</th>\n",
              "      <td>94.129997</td>\n",
              "      <td>91.760002</td>\n",
              "      <td>94.129997</td>\n",
              "      <td>92.639999</td>\n",
              "      <td>5244900</td>\n",
              "      <td>92.639999</td>\n",
              "    </tr>\n",
              "  </tbody>\n",
              "</table>\n",
              "<p>504 rows × 6 columns</p>\n",
              "</div>"
            ],
            "text/plain": [
              "                  High         Low        Open       Close    Volume  \\\n",
              "Date                                                                   \n",
              "2019-09-26   27.980000   24.750000   27.170000   25.760000  47067700   \n",
              "2019-09-27   26.170000   23.750000   26.170000   25.240000  15976000   \n",
              "2019-09-30   25.850000   25.000000   25.260000   25.100000   4482900   \n",
              "2019-10-01   25.170000   22.510000   25.000000   22.510000   8816100   \n",
              "2019-10-02   23.180000   21.760000   22.250000   22.600000   9454700   \n",
              "...                ...         ...         ...         ...       ...   \n",
              "2021-09-20  104.129997   99.300003  101.400002  100.730003   5282300   \n",
              "2021-09-21  103.930000  100.440002  101.250000  100.919998   3909900   \n",
              "2021-09-22   99.980003   92.610001   99.510002   94.550003  17075000   \n",
              "2021-09-23   96.570000   94.010002   94.809998   94.379997   5366900   \n",
              "2021-09-24   94.129997   91.760002   94.129997   92.639999   5244900   \n",
              "\n",
              "             Adj Close  \n",
              "Date                    \n",
              "2019-09-26   25.760000  \n",
              "2019-09-27   25.240000  \n",
              "2019-09-30   25.100000  \n",
              "2019-10-01   22.510000  \n",
              "2019-10-02   22.600000  \n",
              "...                ...  \n",
              "2021-09-20  100.730003  \n",
              "2021-09-21  100.919998  \n",
              "2021-09-22   94.550003  \n",
              "2021-09-23   94.379997  \n",
              "2021-09-24   92.639999  \n",
              "\n",
              "[504 rows x 6 columns]"
            ]
          },
          "execution_count": 48,
          "metadata": {},
          "output_type": "execute_result"
        }
      ],
      "source": [
        "# Date is an index but to be sure , let's sort\n",
        "stock_df = stock_df.sort_index(ascending=True)\n",
        "stock_df"
      ]
    },
    {
      "cell_type": "code",
      "execution_count": 49,
      "metadata": {},
      "outputs": [
        {
          "data": {
            "text/plain": [
              "High         0\n",
              "Low          0\n",
              "Open         0\n",
              "Close        0\n",
              "Volume       0\n",
              "Adj Close    0\n",
              "dtype: int64"
            ]
          },
          "execution_count": 49,
          "metadata": {},
          "output_type": "execute_result"
        }
      ],
      "source": [
        "# check for nulls\n",
        "stock_df.isna().sum()"
      ]
    },
    {
      "cell_type": "code",
      "execution_count": 50,
      "metadata": {},
      "outputs": [
        {
          "data": {
            "text/plain": [
              "(504, 6)"
            ]
          },
          "execution_count": 50,
          "metadata": {},
          "output_type": "execute_result"
        }
      ],
      "source": [
        "# Get shape\n",
        "stock_df.shape"
      ]
    },
    {
      "cell_type": "code",
      "execution_count": 51,
      "metadata": {},
      "outputs": [
        {
          "data": {
            "image/png": "[encoded data removed]",
            "text/plain": [
              "<Figure size 1152x576 with 1 Axes>"
            ]
          },
          "metadata": {},
          "output_type": "display_data"
        }
      ],
      "source": [
        "# Visualize closing price history\n",
        "plt.figure(figsize=(16,8))\n",
        "plt.title (f\"Closing Price History for '{stock}' - {ticker}\")\n",
        "plt.plot(stock_df['Close'])\n",
        "plt.xlabel('Date')\n",
        "plt.ylabel('Close Price USD', fontsize=16)\n",
        "plt.savefig('Saved_Models/Images/his_'+ticker+'.png')\n",
        "plt.show()"
      ]
    },
    {
      "cell_type": "code",
      "execution_count": 52,
      "metadata": {},
      "outputs": [
        {
          "data": {
            "image/png": "[encoded data removed]",
            "text/plain": [
              "<Figure size 432x288 with 1 Axes>"
            ]
          },
          "metadata": {},
          "output_type": "display_data"
        }
      ],
      "source": [
        "stock_df['Close'].plot.density()\n",
        "plt.xlabel('Distribution of the closing stock price')\n",
        "plt.savefig('Saved_Models/Images/den_'+ticker+'.png')\n",
        "plt.show()"
      ]
    },
    {
      "cell_type": "code",
      "execution_count": 53,
      "metadata": {},
      "outputs": [
        {
          "data": {
            "text/html": [
              "<div>\n",
              "<style scoped>\n",
              "    .dataframe tbody tr th:only-of-type {\n",
              "        vertical-align: middle;\n",
              "    }\n",
              "\n",
              "    .dataframe tbody tr th {\n",
              "        vertical-align: top;\n",
              "    }\n",
              "\n",
              "    .dataframe thead th {\n",
              "        text-align: right;\n",
              "    }\n",
              "</style>\n",
              "<table border=\"1\" class=\"dataframe\">\n",
              "  <thead>\n",
              "    <tr style=\"text-align: right;\">\n",
              "      <th></th>\n",
              "      <th>Close</th>\n",
              "    </tr>\n",
              "    <tr>\n",
              "      <th>Date</th>\n",
              "      <th></th>\n",
              "    </tr>\n",
              "  </thead>\n",
              "  <tbody>\n",
              "    <tr>\n",
              "      <th>2019-09-26</th>\n",
              "      <td>25.760000</td>\n",
              "    </tr>\n",
              "    <tr>\n",
              "      <th>2019-09-27</th>\n",
              "      <td>25.240000</td>\n",
              "    </tr>\n",
              "    <tr>\n",
              "      <th>2019-09-30</th>\n",
              "      <td>25.100000</td>\n",
              "    </tr>\n",
              "    <tr>\n",
              "      <th>2019-10-01</th>\n",
              "      <td>22.510000</td>\n",
              "    </tr>\n",
              "    <tr>\n",
              "      <th>2019-10-02</th>\n",
              "      <td>22.600000</td>\n",
              "    </tr>\n",
              "    <tr>\n",
              "      <th>...</th>\n",
              "      <td>...</td>\n",
              "    </tr>\n",
              "    <tr>\n",
              "      <th>2021-09-20</th>\n",
              "      <td>100.730003</td>\n",
              "    </tr>\n",
              "    <tr>\n",
              "      <th>2021-09-21</th>\n",
              "      <td>100.919998</td>\n",
              "    </tr>\n",
              "    <tr>\n",
              "      <th>2021-09-22</th>\n",
              "      <td>94.550003</td>\n",
              "    </tr>\n",
              "    <tr>\n",
              "      <th>2021-09-23</th>\n",
              "      <td>94.379997</td>\n",
              "    </tr>\n",
              "    <tr>\n",
              "      <th>2021-09-24</th>\n",
              "      <td>92.639999</td>\n",
              "    </tr>\n",
              "  </tbody>\n",
              "</table>\n",
              "<p>504 rows × 1 columns</p>\n",
              "</div>"
            ],
            "text/plain": [
              "                 Close\n",
              "Date                  \n",
              "2019-09-26   25.760000\n",
              "2019-09-27   25.240000\n",
              "2019-09-30   25.100000\n",
              "2019-10-01   22.510000\n",
              "2019-10-02   22.600000\n",
              "...                ...\n",
              "2021-09-20  100.730003\n",
              "2021-09-21  100.919998\n",
              "2021-09-22   94.550003\n",
              "2021-09-23   94.379997\n",
              "2021-09-24   92.639999\n",
              "\n",
              "[504 rows x 1 columns]"
            ]
          },
          "execution_count": 53,
          "metadata": {},
          "output_type": "execute_result"
        }
      ],
      "source": [
        "# DF with only close\n",
        "TSdata_df = stock_df.filter(['Close'])\n",
        "TSdata_df\n"
      ]
    },
    {
      "cell_type": "code",
      "execution_count": 54,
      "metadata": {},
      "outputs": [
        {
          "data": {
            "text/plain": [
              "array([[ 25.76000023],\n",
              "       [ 25.23999977],\n",
              "       [ 25.10000038],\n",
              "       [ 22.51000023],\n",
              "       [ 22.60000038],\n",
              "       [ 22.32999992],\n",
              "       [ 23.01000023],\n",
              "       [ 23.51000023],\n",
              "       [ 23.20999908],\n",
              "       [ 24.        ],\n",
              "       [ 23.13999939],\n",
              "       [ 22.38999939],\n",
              "       [ 21.46999931],\n",
              "       [ 23.44499969],\n",
              "       [ 23.03000069],\n",
              "       [ 23.86000061],\n",
              "       [ 23.52000046],\n",
              "       [ 22.26000023],\n",
              "       [ 21.15999985],\n",
              "       [ 21.07999992],\n",
              "       [ 21.34000015],\n",
              "       [ 22.39999962],\n",
              "       [ 21.45999908],\n",
              "       [ 23.18000031],\n",
              "       [ 23.71999931],\n",
              "       [ 23.87000084],\n",
              "       [ 24.98999977],\n",
              "       [ 24.61000061],\n",
              "       [ 22.73999977],\n",
              "       [ 23.02000046],\n",
              "       [ 22.62999916],\n",
              "       [ 23.52000046],\n",
              "       [ 24.04000092],\n",
              "       [ 24.69000053],\n",
              "       [ 25.97999954],\n",
              "       [ 25.93000031],\n",
              "       [ 27.22999954],\n",
              "       [ 30.25      ],\n",
              "       [ 29.23999977],\n",
              "       [ 29.10000038],\n",
              "       [ 29.79999924],\n",
              "       [ 29.36000061],\n",
              "       [ 30.87000084],\n",
              "       [ 30.95999908],\n",
              "       [ 32.15999985],\n",
              "       [ 35.22999954],\n",
              "       [ 36.84000015],\n",
              "       [ 33.47999954],\n",
              "       [ 32.95999908],\n",
              "       [ 31.30999947],\n",
              "       [ 32.63000107],\n",
              "       [ 34.77000046],\n",
              "       [ 32.77999878],\n",
              "       [ 32.02999878],\n",
              "       [ 30.85000038],\n",
              "       [ 31.53000069],\n",
              "       [ 31.34000015],\n",
              "       [ 32.93000031],\n",
              "       [ 31.88999939],\n",
              "       [ 31.93000031],\n",
              "       [ 29.98999977],\n",
              "       [ 29.21999931],\n",
              "       [ 28.75      ],\n",
              "       [ 27.        ],\n",
              "       [ 27.        ],\n",
              "       [ 27.69000053],\n",
              "       [ 28.39999962],\n",
              "       [ 29.73999977],\n",
              "       [ 30.60000038],\n",
              "       [ 29.75      ],\n",
              "       [ 30.39999962],\n",
              "       [ 29.64999962],\n",
              "       [ 27.87000084],\n",
              "       [ 28.01000023],\n",
              "       [ 28.53000069],\n",
              "       [ 29.69000053],\n",
              "       [ 30.86000061],\n",
              "       [ 30.82999992],\n",
              "       [ 31.70000076],\n",
              "       [ 32.        ],\n",
              "       [ 30.68000031],\n",
              "       [ 30.05999947],\n",
              "       [ 30.5       ],\n",
              "       [ 31.25      ],\n",
              "       [ 31.37999916],\n",
              "       [ 31.5       ],\n",
              "       [ 32.25999832],\n",
              "       [ 32.36000061],\n",
              "       [ 33.36999893],\n",
              "       [ 33.47000122],\n",
              "       [ 32.70000076],\n",
              "       [ 29.        ],\n",
              "       [ 27.86000061],\n",
              "       [ 28.60000038],\n",
              "       [ 28.64999962],\n",
              "       [ 28.34000015],\n",
              "       [ 28.85000038],\n",
              "       [ 27.65999985],\n",
              "       [ 27.07999992],\n",
              "       [ 27.10000038],\n",
              "       [ 26.97999954],\n",
              "       [ 25.48999977],\n",
              "       [ 26.5       ],\n",
              "       [ 27.11000061],\n",
              "       [ 29.19000053],\n",
              "       [ 28.71999931],\n",
              "       [ 26.69000053],\n",
              "       [ 27.92000008],\n",
              "       [ 26.68499947],\n",
              "       [ 27.25      ],\n",
              "       [ 27.10000038],\n",
              "       [ 24.97999954],\n",
              "       [ 23.20999908],\n",
              "       [ 22.96999931],\n",
              "       [ 22.        ],\n",
              "       [ 19.51000023],\n",
              "       [ 19.71999931],\n",
              "       [ 22.25      ],\n",
              "       [ 25.45000076],\n",
              "       [ 25.79000092],\n",
              "       [ 24.98999977],\n",
              "       [ 23.01000023],\n",
              "       [ 23.34000015],\n",
              "       [ 24.56999969],\n",
              "       [ 24.52000046],\n",
              "       [ 25.75      ],\n",
              "       [ 25.97999954],\n",
              "       [ 27.70000076],\n",
              "       [ 26.54999924],\n",
              "       [ 27.95999908],\n",
              "       [ 26.73999977],\n",
              "       [ 28.75      ],\n",
              "       [ 28.37000084],\n",
              "       [ 27.57999992],\n",
              "       [ 27.5       ],\n",
              "       [ 28.45000076],\n",
              "       [ 31.98999977],\n",
              "       [ 31.87999916],\n",
              "       [ 35.61000061],\n",
              "       [ 36.34999847],\n",
              "       [ 33.49000168],\n",
              "       [ 31.06999969],\n",
              "       [ 31.38999939],\n",
              "       [ 31.18000031],\n",
              "       [ 29.88999939],\n",
              "       [ 31.73999977],\n",
              "       [ 31.78000069],\n",
              "       [ 30.        ],\n",
              "       [ 31.88999939],\n",
              "       [ 31.5       ],\n",
              "       [ 32.04999924],\n",
              "       [ 33.90000153],\n",
              "       [ 36.22000122],\n",
              "       [ 38.02999878],\n",
              "       [ 44.11999893],\n",
              "       [ 43.        ],\n",
              "       [ 42.79999924],\n",
              "       [ 46.16999817],\n",
              "       [ 45.16999817],\n",
              "       [ 45.11000061],\n",
              "       [ 48.41999817],\n",
              "       [ 43.61000061],\n",
              "       [ 44.79999924],\n",
              "       [ 45.11000061],\n",
              "       [ 45.29999924],\n",
              "       [ 45.81000137],\n",
              "       [ 41.70000076],\n",
              "       [ 41.06999969],\n",
              "       [ 42.61000061],\n",
              "       [ 42.18999863],\n",
              "       [ 45.84999847],\n",
              "       [ 49.00999832],\n",
              "       [ 47.83000183],\n",
              "       [ 47.88000107],\n",
              "       [ 45.90000153],\n",
              "       [ 44.77999878],\n",
              "       [ 47.63999939],\n",
              "       [ 47.11000061],\n",
              "       [ 45.97999954],\n",
              "       [ 47.09999847],\n",
              "       [ 49.93999863],\n",
              "       [ 49.90999985],\n",
              "       [ 49.16999817],\n",
              "       [ 51.08000183],\n",
              "       [ 50.88999939],\n",
              "       [ 53.02999878],\n",
              "       [ 54.88000107],\n",
              "       [ 55.54999924],\n",
              "       [ 58.06000137],\n",
              "       [ 58.43000031],\n",
              "       [ 57.20999908],\n",
              "       [ 57.77000046],\n",
              "       [ 60.25      ],\n",
              "       [ 59.15999985],\n",
              "       [ 60.47999954],\n",
              "       [ 60.81999969],\n",
              "       [ 62.52000046],\n",
              "       [ 64.48999786],\n",
              "       [ 68.47000122],\n",
              "       [ 61.58000183],\n",
              "       [ 62.95000076],\n",
              "       [ 63.13000107],\n",
              "       [ 61.29000092],\n",
              "       [ 58.52999878],\n",
              "       [ 64.70999908],\n",
              "       [ 62.88000107],\n",
              "       [ 64.13999939],\n",
              "       [ 62.31000137],\n",
              "       [ 61.81999969],\n",
              "       [ 63.68000031],\n",
              "       [ 64.11000061],\n",
              "       [ 66.65000153],\n",
              "       [ 65.27999878],\n",
              "       [ 68.22000122],\n",
              "       [ 72.68000031],\n",
              "       [ 70.01000214],\n",
              "       [ 71.20999908],\n",
              "       [ 69.72000122],\n",
              "       [ 68.30000305],\n",
              "       [ 67.12000275],\n",
              "       [ 64.95999908],\n",
              "       [ 64.36000061],\n",
              "       [ 65.70999908],\n",
              "       [ 64.33999634],\n",
              "       [ 65.26000214],\n",
              "       [ 69.81999969],\n",
              "       [ 67.58999634],\n",
              "       [ 68.72000122],\n",
              "       [ 69.34999847],\n",
              "       [ 66.87000275],\n",
              "       [ 66.44999695],\n",
              "       [ 67.30000305],\n",
              "       [ 70.30000305],\n",
              "       [ 75.95999908],\n",
              "       [ 76.66999817],\n",
              "       [ 83.66999817],\n",
              "       [ 91.05999756],\n",
              "       [ 82.27999878],\n",
              "       [ 80.62999725],\n",
              "       [ 85.59999847],\n",
              "       [ 91.16999817],\n",
              "       [ 87.75      ],\n",
              "       [ 84.04000092],\n",
              "       [ 82.01000214],\n",
              "       [ 85.44999695],\n",
              "       [ 82.58999634],\n",
              "       [ 85.19999695],\n",
              "       [ 89.69999695],\n",
              "       [ 94.80000305],\n",
              "       [ 94.38999939],\n",
              "       [ 95.23000336],\n",
              "       [ 88.55999756],\n",
              "       [ 97.73000336],\n",
              "       [ 96.91000366],\n",
              "       [100.47000122],\n",
              "       [ 99.23999786],\n",
              "       [105.19999695],\n",
              "       [107.51000214],\n",
              "       [110.73999786],\n",
              "       [111.30999756],\n",
              "       [116.95999908],\n",
              "       [115.        ],\n",
              "       [123.01999664],\n",
              "       [127.30000305],\n",
              "       [130.97000122],\n",
              "       [131.44000244],\n",
              "       [136.42999268],\n",
              "       [131.33000183],\n",
              "       [133.00999451],\n",
              "       [131.92999268],\n",
              "       [124.30000305],\n",
              "       [120.80000305],\n",
              "       [122.52999878],\n",
              "       [118.09999847],\n",
              "       [121.15000153],\n",
              "       [122.12000275],\n",
              "       [115.91000366],\n",
              "       [110.20999908],\n",
              "       [113.44000244],\n",
              "       [111.69999695],\n",
              "       [118.59999847],\n",
              "       [126.62999725],\n",
              "       [125.45999908],\n",
              "       [100.01000214],\n",
              "       [105.20999908],\n",
              "       [106.20999908],\n",
              "       [108.72000122],\n",
              "       [100.79000092],\n",
              "       [101.90000153],\n",
              "       [102.48999786],\n",
              "       [104.48999786],\n",
              "       [105.26000214],\n",
              "       [110.90000153],\n",
              "       [112.05000305],\n",
              "       [105.41999817],\n",
              "       [106.94000244],\n",
              "       [108.98000336],\n",
              "       [116.34999847],\n",
              "       [112.02999878],\n",
              "       [113.18000031],\n",
              "       [116.19999695],\n",
              "       [114.44999695],\n",
              "       [116.62999725],\n",
              "       [118.25      ],\n",
              "       [110.79000092],\n",
              "       [117.98999786],\n",
              "       [117.09999847],\n",
              "       [121.91000366],\n",
              "       [127.77999878],\n",
              "       [134.        ],\n",
              "       [136.80000305],\n",
              "       [139.83999634],\n",
              "       [144.38999939],\n",
              "       [161.21000671],\n",
              "       [162.75999451],\n",
              "       [162.72000122],\n",
              "       [152.17999268],\n",
              "       [150.1000061 ],\n",
              "       [154.96000671],\n",
              "       [151.72000122],\n",
              "       [145.96000671],\n",
              "       [148.52999878],\n",
              "       [143.75999451],\n",
              "       [154.        ],\n",
              "       [158.88000488],\n",
              "       [152.33999634],\n",
              "       [156.03999329],\n",
              "       [167.41999817],\n",
              "       [165.25      ],\n",
              "       [157.80999756],\n",
              "       [150.13999939],\n",
              "       [155.78999329],\n",
              "       [158.13000488],\n",
              "       [159.75      ],\n",
              "       [157.13999939],\n",
              "       [147.78999329],\n",
              "       [144.96000671],\n",
              "       [145.83000183],\n",
              "       [146.13000488],\n",
              "       [146.78999329],\n",
              "       [147.72999573],\n",
              "       [147.16999817],\n",
              "       [157.52999878],\n",
              "       [148.30000305],\n",
              "       [144.99000549],\n",
              "       [147.75999451],\n",
              "       [145.03999329],\n",
              "       [146.47999573],\n",
              "       [154.66999817],\n",
              "       [145.88000488],\n",
              "       [139.22999573],\n",
              "       [138.44999695],\n",
              "       [139.71000671],\n",
              "       [125.75      ],\n",
              "       [126.88999939],\n",
              "       [122.72000122],\n",
              "       [115.20999908],\n",
              "       [120.47000122],\n",
              "       [123.80999756],\n",
              "       [117.97000122],\n",
              "       [108.08000183],\n",
              "       [104.75      ],\n",
              "       [105.12999725],\n",
              "       [101.34999847],\n",
              "       [116.01999664],\n",
              "       [111.31999969],\n",
              "       [117.65000153],\n",
              "       [111.55000305],\n",
              "       [112.73999786],\n",
              "       [107.95999908],\n",
              "       [107.79000092],\n",
              "       [102.73999786],\n",
              "       [108.30999756],\n",
              "       [109.54000092],\n",
              "       [113.34999847],\n",
              "       [101.79000092],\n",
              "       [103.23000336],\n",
              "       [106.41999817],\n",
              "       [105.01999664],\n",
              "       [107.16999817],\n",
              "       [112.44000244],\n",
              "       [112.08999634],\n",
              "       [109.08999634],\n",
              "       [115.37999725],\n",
              "       [115.19999695],\n",
              "       [123.62000275],\n",
              "       [118.59999847],\n",
              "       [118.97000122],\n",
              "       [122.36000061],\n",
              "       [117.80000305],\n",
              "       [119.90000153],\n",
              "       [116.20999908],\n",
              "       [107.75      ],\n",
              "       [106.5       ],\n",
              "       [ 99.93000031],\n",
              "       [101.48999786],\n",
              "       [101.06999969],\n",
              "       [103.26999664],\n",
              "       [102.33999634],\n",
              "       [103.22000122],\n",
              "       [ 98.90000153],\n",
              "       [ 98.34999847],\n",
              "       [ 95.83999634],\n",
              "       [ 96.69999695],\n",
              "       [ 82.62000275],\n",
              "       [ 83.77999878],\n",
              "       [ 83.80999756],\n",
              "       [ 87.48999786],\n",
              "       [ 91.01000214],\n",
              "       [ 89.34999847],\n",
              "       [ 95.29000092],\n",
              "       [ 96.58000183],\n",
              "       [ 92.29000092],\n",
              "       [ 95.19000244],\n",
              "       [ 96.55000305],\n",
              "       [100.45999908],\n",
              "       [100.90000153],\n",
              "       [101.16000366],\n",
              "       [ 99.44000244],\n",
              "       [109.55999756],\n",
              "       [112.59999847],\n",
              "       [110.30999756],\n",
              "       [108.88999939],\n",
              "       [108.55000305],\n",
              "       [103.09999847],\n",
              "       [103.01000214],\n",
              "       [109.79000092],\n",
              "       [109.69000244],\n",
              "       [106.97000122],\n",
              "       [106.08000183],\n",
              "       [113.12000275],\n",
              "       [112.08999634],\n",
              "       [106.11000061],\n",
              "       [105.06999969],\n",
              "       [108.80999756],\n",
              "       [109.12000275],\n",
              "       [108.11000061],\n",
              "       [117.16999817],\n",
              "       [117.48000336],\n",
              "       [121.84999847],\n",
              "       [121.48999786],\n",
              "       [126.91999817],\n",
              "       [125.68000031],\n",
              "       [124.01999664],\n",
              "       [122.16000366],\n",
              "       [121.59999847],\n",
              "       [123.69000244],\n",
              "       [123.51000214],\n",
              "       [124.05999756],\n",
              "       [117.83999634],\n",
              "       [120.30999756],\n",
              "       [119.84999847],\n",
              "       [113.36000061],\n",
              "       [111.19000244],\n",
              "       [110.54000092],\n",
              "       [118.43000031],\n",
              "       [126.34999847],\n",
              "       [126.43000031],\n",
              "       [119.66999817],\n",
              "       [121.55000305],\n",
              "       [122.68000031],\n",
              "       [121.36000061],\n",
              "       [121.91999817],\n",
              "       [118.09999847],\n",
              "       [118.05000305],\n",
              "       [120.69000244],\n",
              "       [119.26999664],\n",
              "       [120.93000031],\n",
              "       [120.22000122],\n",
              "       [112.69000244],\n",
              "       [116.58000183],\n",
              "       [113.83999634],\n",
              "       [112.94999695],\n",
              "       [112.63999939],\n",
              "       [110.87999725],\n",
              "       [110.        ],\n",
              "       [113.25      ],\n",
              "       [110.65000153],\n",
              "       [107.80000305],\n",
              "       [108.06999969],\n",
              "       [106.58999634],\n",
              "       [113.70999908],\n",
              "       [116.25      ],\n",
              "       [114.08999634],\n",
              "       [104.33999634],\n",
              "       [101.48000336],\n",
              "       [100.19000244],\n",
              "       [100.04000092],\n",
              "       [101.        ],\n",
              "       [ 98.55999756],\n",
              "       [ 96.48000336],\n",
              "       [ 97.5       ],\n",
              "       [107.08000183],\n",
              "       [114.38999939],\n",
              "       [111.51000214],\n",
              "       [108.5       ],\n",
              "       [105.55999756],\n",
              "       [104.91999817],\n",
              "       [103.41999817],\n",
              "       [100.73000336],\n",
              "       [100.91999817],\n",
              "       [ 94.55000305],\n",
              "       [ 94.37999725],\n",
              "       [ 92.63999939]])"
            ]
          },
          "execution_count": 54,
          "metadata": {},
          "output_type": "execute_result"
        }
      ],
      "source": [
        "TSdata_arr = TSdata_df.values # this creates an array of Close Price\n",
        "TSdata_arr"
      ]
    },
    {
      "cell_type": "code",
      "execution_count": 55,
      "metadata": {},
      "outputs": [
        {
          "name": "stdout",
          "output_type": "stream",
          "text": [
            "ADF Statistic: -1.399188\n",
            "p-value: 0.582665\n",
            "Critical Values:\n",
            "\t1%: -3.444\n",
            "\t5%: -2.867\n",
            "\t10%: -2.570\n",
            "Failed to Reject Ho - Time Series is Non-Stationary\n"
          ]
        }
      ],
      "source": [
        "from statsmodels.tsa.stattools import adfuller\n",
        "import pandas as pd\n",
        "import numpy as np\n",
        "\n",
        "# ADF Test\n",
        "result = adfuller(TSdata_arr, autolag='AIC')\n",
        "\n",
        "print('ADF Statistic: %f' % result[0])\n",
        "\n",
        "print('p-value: %f' % result[1])\n",
        "\n",
        "print('Critical Values:')\n",
        "\n",
        "for key, value in result[4].items():\n",
        "    print('\\t%s: %.3f' % (key, value))\n",
        "if result[0] < result[4][\"5%\"]:\n",
        "    print (\"Reject Ho - Time Series is Stationary\")\n",
        "else:\n",
        "    print (\"Failed to Reject Ho - Time Series is Non-Stationary\")"
      ]
    },
    {
      "cell_type": "code",
      "execution_count": 56,
      "metadata": {},
      "outputs": [
        {
          "data": {
            "text/html": [
              "<div>\n",
              "<style scoped>\n",
              "    .dataframe tbody tr th:only-of-type {\n",
              "        vertical-align: middle;\n",
              "    }\n",
              "\n",
              "    .dataframe tbody tr th {\n",
              "        vertical-align: top;\n",
              "    }\n",
              "\n",
              "    .dataframe thead th {\n",
              "        text-align: right;\n",
              "    }\n",
              "</style>\n",
              "<table border=\"1\" class=\"dataframe\">\n",
              "  <thead>\n",
              "    <tr style=\"text-align: right;\">\n",
              "      <th></th>\n",
              "      <th>Close</th>\n",
              "    </tr>\n",
              "    <tr>\n",
              "      <th>Date</th>\n",
              "      <th></th>\n",
              "    </tr>\n",
              "  </thead>\n",
              "  <tbody>\n",
              "    <tr>\n",
              "      <th>2019-09-27</th>\n",
              "      <td>-0.520000</td>\n",
              "    </tr>\n",
              "    <tr>\n",
              "      <th>2019-09-30</th>\n",
              "      <td>-0.139999</td>\n",
              "    </tr>\n",
              "    <tr>\n",
              "      <th>2019-10-01</th>\n",
              "      <td>-2.590000</td>\n",
              "    </tr>\n",
              "    <tr>\n",
              "      <th>2019-10-02</th>\n",
              "      <td>0.090000</td>\n",
              "    </tr>\n",
              "    <tr>\n",
              "      <th>2019-10-03</th>\n",
              "      <td>-0.270000</td>\n",
              "    </tr>\n",
              "    <tr>\n",
              "      <th>...</th>\n",
              "      <td>...</td>\n",
              "    </tr>\n",
              "    <tr>\n",
              "      <th>2021-09-20</th>\n",
              "      <td>-2.689995</td>\n",
              "    </tr>\n",
              "    <tr>\n",
              "      <th>2021-09-21</th>\n",
              "      <td>0.189995</td>\n",
              "    </tr>\n",
              "    <tr>\n",
              "      <th>2021-09-22</th>\n",
              "      <td>-6.369995</td>\n",
              "    </tr>\n",
              "    <tr>\n",
              "      <th>2021-09-23</th>\n",
              "      <td>-0.170006</td>\n",
              "    </tr>\n",
              "    <tr>\n",
              "      <th>2021-09-24</th>\n",
              "      <td>-1.739998</td>\n",
              "    </tr>\n",
              "  </tbody>\n",
              "</table>\n",
              "<p>503 rows × 1 columns</p>\n",
              "</div>"
            ],
            "text/plain": [
              "               Close\n",
              "Date                \n",
              "2019-09-27 -0.520000\n",
              "2019-09-30 -0.139999\n",
              "2019-10-01 -2.590000\n",
              "2019-10-02  0.090000\n",
              "2019-10-03 -0.270000\n",
              "...              ...\n",
              "2021-09-20 -2.689995\n",
              "2021-09-21  0.189995\n",
              "2021-09-22 -6.369995\n",
              "2021-09-23 -0.170006\n",
              "2021-09-24 -1.739998\n",
              "\n",
              "[503 rows x 1 columns]"
            ]
          },
          "execution_count": 56,
          "metadata": {},
          "output_type": "execute_result"
        }
      ],
      "source": [
        "df2 = TSdata_df['Close'].diff().dropna().to_frame()\n",
        "df2"
      ]
    },
    {
      "cell_type": "code",
      "execution_count": 57,
      "metadata": {},
      "outputs": [
        {
          "data": {
            "image/png": "[encoded data removed]",
            "text/plain": [
              "<Figure size 1152x576 with 1 Axes>"
            ]
          },
          "metadata": {},
          "output_type": "display_data"
        }
      ],
      "source": [
        "# Visualize closing price history\n",
        "plt.figure(figsize=(16,8))\n",
        "plt.title (f\"Closing Price History for '{stock}' - {ticker}\")\n",
        "plt.plot(df2['Close'])\n",
        "plt.xlabel('Date')\n",
        "plt.ylabel('Close Price USD', fontsize=16)\n",
        "plt.savefig('Saved_Models/Images/diff_'+ticker+'.png')\n",
        "plt.show()"
      ]
    },
    {
      "cell_type": "code",
      "execution_count": 58,
      "metadata": {},
      "outputs": [],
      "source": [
        "# TSdata_arr = df2.filter(['Close']).values\n",
        "# TSdata_arr"
      ]
    },
    {
      "cell_type": "code",
      "execution_count": 59,
      "metadata": {},
      "outputs": [],
      "source": [
        "# Scale the Data\n",
        "scaler = MinMaxScaler(feature_range =(0,1))\n",
        "scaled_data = scaler.fit_transform(TSdata_arr)\n",
        "# scaled_data"
      ]
    },
    {
      "cell_type": "code",
      "execution_count": 60,
      "metadata": {},
      "outputs": [
        {
          "data": {
            "text/plain": [
              "378"
            ]
          },
          "execution_count": 60,
          "metadata": {},
          "output_type": "execute_result"
        }
      ],
      "source": [
        "training_data_len = math.ceil(len(TSdata_arr) * 0.75)\n",
        "training_data_len"
      ]
    },
    {
      "cell_type": "code",
      "execution_count": 61,
      "metadata": {},
      "outputs": [
        {
          "data": {
            "text/plain": [
              "(378, 1)"
            ]
          },
          "execution_count": 61,
          "metadata": {},
          "output_type": "execute_result"
        }
      ],
      "source": [
        "# Created scaled training dataset\n",
        "train_data = scaled_data[0:training_data_len]\n",
        "train_data.shape"
      ]
    },
    {
      "cell_type": "code",
      "execution_count": 62,
      "metadata": {},
      "outputs": [],
      "source": [
        "# Split\n",
        "X_train = []\n",
        "y_train = []\n",
        "\n",
        "for i in range(ts_points, len(train_data)):\n",
        "    X_train.append(train_data[i-ts_points:i,0])\n",
        "    y_train.append(train_data[i,0])\n",
        "    # if i <= ts_points+3:\n",
        "    #     print(X_train)\n",
        "    #     print(y_train)\n",
        "    #     print()\n"
      ]
    },
    {
      "cell_type": "code",
      "execution_count": 63,
      "metadata": {},
      "outputs": [],
      "source": [
        "# convert X_train and y_train to numpy arrays for LSTM\n",
        "X_train, y_train = np.array(X_train), np.array(y_train)"
      ]
    },
    {
      "cell_type": "code",
      "execution_count": 64,
      "metadata": {},
      "outputs": [
        {
          "name": "stdout",
          "output_type": "stream",
          "text": [
            "(258, 120)\n",
            "(258,)\n"
          ]
        }
      ],
      "source": [
        "print (X_train.shape)\n",
        "print (y_train.shape)"
      ]
    },
    {
      "cell_type": "code",
      "execution_count": 65,
      "metadata": {},
      "outputs": [
        {
          "data": {
            "text/plain": [
              "(258, 120, 1)"
            ]
          },
          "execution_count": 65,
          "metadata": {},
          "output_type": "execute_result"
        }
      ],
      "source": [
        "# LSTM network expects a 3D input (No_of_Samples, number of time steps, and number of features) no_of_features = 1 (Close)\n",
        "X_train = np.reshape(X_train, (X_train.shape[0], X_train.shape[1], 1))\n",
        "X_train.shape"
      ]
    },
    {
      "cell_type": "code",
      "execution_count": 66,
      "metadata": {},
      "outputs": [
        {
          "data": {
            "text/plain": [
              "258"
            ]
          },
          "execution_count": 66,
          "metadata": {},
          "output_type": "execute_result"
        }
      ],
      "source": [
        "training_data_len - ts_points"
      ]
    },
    {
      "cell_type": "code",
      "execution_count": 67,
      "metadata": {},
      "outputs": [],
      "source": [
        "# hidden_nodes = int(2/3 * (X_train.shape[1] * 1))\n",
        "# print(f\"The number of hidden nodes is {hidden_nodes}.\")"
      ]
    },
    {
      "cell_type": "code",
      "execution_count": 68,
      "metadata": {},
      "outputs": [],
      "source": [
        "# LSTM MOdel\n",
        "model = tf.keras.models.Sequential()\n",
        "# model.add(tf.keras.layers.LSTM(50, return_sequences=True, input_shape=(X_train.shape[1],1)))\n",
        "# model.add(tf.keras.layers.LSTM(50, return_sequences=False))\n",
        "# model.add(tf.keras.layers.Dropout(0.2))\n",
        "# model.add(tf.keras.layers.Dense(25))\n",
        "# model.add(tf.keras.layers.Dense(1))\n",
        "# model.summary()\n"
      ]
    },
    {
      "cell_type": "code",
      "execution_count": 69,
      "metadata": {},
      "outputs": [
        {
          "name": "stdout",
          "output_type": "stream",
          "text": [
            "Model: \"sequential_1\"\n",
            "_________________________________________________________________\n",
            "Layer (type)                 Output Shape              Param #   \n",
            "=================================================================\n",
            "lstm_2 (LSTM)                (None, 120, 50)           10400     \n",
            "_________________________________________________________________\n",
            "lstm_3 (LSTM)                (None, 50)                20200     \n",
            "_________________________________________________________________\n",
            "dropout_1 (Dropout)          (None, 50)                0         \n",
            "_________________________________________________________________\n",
            "dense_2 (Dense)              (None, 25)                1275      \n",
            "_________________________________________________________________\n",
            "dense_3 (Dense)              (None, 1)                 26        \n",
            "=================================================================\n",
            "Total params: 31,901\n",
            "Trainable params: 31,901\n",
            "Non-trainable params: 0\n",
            "_________________________________________________________________\n"
          ]
        }
      ],
      "source": [
        "\n",
        "# # BEST FOR PTON#\n",
        "model.add(tf.keras.layers.LSTM(50, return_sequences=True, input_shape=(X_train.shape[1],1)))\n",
        "model.add(tf.keras.layers.LSTM(50, return_sequences=False))\n",
        "model.add(tf.keras.layers.Dropout(0.2))\n",
        "model.add(tf.keras.layers.Dense(25))\n",
        "model.add(tf.keras.layers.Dense(1))\n",
        "model.summary()\n",
        "\n",
        "# #model.fit(X_train, y_train, batch_size=64, epochs=50"
      ]
    },
    {
      "cell_type": "code",
      "execution_count": 70,
      "metadata": {},
      "outputs": [],
      "source": [
        "model.compile(optimizer='adam', loss='mean_squared_error')\n",
        "# model.compile(loss=\"binary_crossentropy\", optimizer=\"adam\", metrics=[\"accuracy\"])"
      ]
    },
    {
      "cell_type": "code",
      "execution_count": 71,
      "metadata": {},
      "outputs": [
        {
          "name": "stdout",
          "output_type": "stream",
          "text": [
            "WARNING:tensorflow:`period` argument is deprecated. Please use `save_freq` to specify the frequency in number of batches seen.\n"
          ]
        }
      ],
      "source": [
        "import os\n",
        "from tensorflow.keras.callbacks import ModelCheckpoint\n",
        "\n",
        "batch_size=64\n",
        "\n",
        "os.makedirs(\"chk_points/\", exist_ok=True)\n",
        "chkpoint_path=\"chk_points/weights.{epoch}.hdf5\"\n",
        "\n",
        "# Create chk points\n",
        "chkpt_callback = ModelCheckpoint(filepath=chkpoint_path,\n",
        "                              verbose=1,\n",
        "                              save_weights_only=True,\n",
        "                              save_freq=\"epoch\",\n",
        "                              period=5)\n",
        "\n",
        "# chkpoint_path = \"chk_points/cp-{epoch:04d}.ckpt\"\n",
        "# chkpt_callback = tf.keras.callbacks.ModelCheckpoint(\n",
        "#     filepath=chkpoint_path, \n",
        "#     verbose=1, \n",
        "#     save_weights_only=True,\n",
        "#     save_freq=5*batch_size)                    \n",
        "\n",
        "# model.save_weights(chkpoint_path.format(epoch=0))    \n"
      ]
    },
    {
      "cell_type": "code",
      "execution_count": 72,
      "metadata": {},
      "outputs": [],
      "source": [
        "# training_data_len\n",
        "# scaled_data"
      ]
    },
    {
      "cell_type": "code",
      "execution_count": 28,
      "metadata": {},
      "outputs": [
        {
          "name": "stdout",
          "output_type": "stream",
          "text": [
            "Epoch 1/32\n",
            "5/5 [==============================] - 4s 112ms/step - loss: 0.1747\n",
            "Epoch 2/32\n",
            "5/5 [==============================] - 0s 89ms/step - loss: 0.0275\n",
            "Epoch 3/32\n",
            "5/5 [==============================] - 0s 68ms/step - loss: 0.0242\n",
            "Epoch 4/32\n",
            "5/5 [==============================] - 0s 79ms/step - loss: 0.0155\n",
            "Epoch 5/32\n",
            "5/5 [==============================] - 0s 70ms/step - loss: 0.0206\n",
            "Epoch 6/32\n",
            "5/5 [==============================] - 0s 85ms/step - loss: 0.0125\n",
            "Epoch 7/32\n",
            "5/5 [==============================] - 0s 86ms/step - loss: 0.0159\n",
            "Epoch 8/32\n",
            "5/5 [==============================] - 0s 81ms/step - loss: 0.0096\n",
            "Epoch 9/32\n",
            "5/5 [==============================] - 0s 84ms/step - loss: 0.0096\n",
            "Epoch 10/32\n",
            "5/5 [==============================] - 0s 83ms/step - loss: 0.0084\n",
            "Epoch 11/32\n",
            "5/5 [==============================] - 0s 85ms/step - loss: 0.0088\n",
            "Epoch 12/32\n",
            "5/5 [==============================] - 0s 63ms/step - loss: 0.0091\n",
            "Epoch 13/32\n",
            "5/5 [==============================] - 0s 76ms/step - loss: 0.0067\n",
            "Epoch 14/32\n",
            "5/5 [==============================] - 0s 95ms/step - loss: 0.0078\n",
            "Epoch 15/32\n",
            "5/5 [==============================] - 0s 81ms/step - loss: 0.0089\n",
            "Epoch 16/32\n",
            "5/5 [==============================] - 0s 66ms/step - loss: 0.0068\n",
            "Epoch 17/32\n",
            "5/5 [==============================] - 0s 70ms/step - loss: 0.0065\n",
            "Epoch 18/32\n",
            "5/5 [==============================] - 0s 67ms/step - loss: 0.0076\n",
            "Epoch 19/32\n",
            "5/5 [==============================] - 0s 66ms/step - loss: 0.0060\n",
            "Epoch 20/32\n",
            "5/5 [==============================] - 0s 71ms/step - loss: 0.0081\n",
            "Epoch 21/32\n",
            "5/5 [==============================] - 0s 63ms/step - loss: 0.0069\n",
            "Epoch 22/32\n",
            "5/5 [==============================] - 0s 65ms/step - loss: 0.0063\n",
            "Epoch 23/32\n",
            "5/5 [==============================] - 0s 70ms/step - loss: 0.0069\n",
            "Epoch 24/32\n",
            "5/5 [==============================] - 0s 65ms/step - loss: 0.0083\n",
            "Epoch 25/32\n",
            "5/5 [==============================] - 0s 65ms/step - loss: 0.0078\n",
            "Epoch 26/32\n",
            "5/5 [==============================] - 0s 74ms/step - loss: 0.0062\n",
            "Epoch 27/32\n",
            "5/5 [==============================] - 0s 65ms/step - loss: 0.0057\n",
            "Epoch 28/32\n",
            "5/5 [==============================] - 0s 64ms/step - loss: 0.0063\n",
            "Epoch 29/32\n",
            "5/5 [==============================] - 0s 68ms/step - loss: 0.0053\n",
            "Epoch 30/32\n",
            "5/5 [==============================] - 0s 64ms/step - loss: 0.0046\n",
            "Epoch 31/32\n",
            "5/5 [==============================] - 0s 63ms/step - loss: 0.0062\n",
            "Epoch 32/32\n",
            "5/5 [==============================] - 0s 71ms/step - loss: 0.0054\n"
          ]
        },
        {
          "data": {
            "text/plain": [
              "<keras.callbacks.History at 0x28a79216190>"
            ]
          },
          "execution_count": 28,
          "metadata": {},
          "output_type": "execute_result"
        }
      ],
      "source": [
        "# model.fit(X_train, y_train, batch_size=batch_size, epochs=50, validation_split=0.43, callbacks=[chkpt_callback])\n",
        "model.fit(X_train, y_train, batch_size=64 ,epochs=32)"
      ]
    },
    {
      "cell_type": "code",
      "execution_count": 29,
      "metadata": {},
      "outputs": [],
      "source": [
        "model.save('Saved_Models/Model_'+ticker+'.h5')"
      ]
    },
    {
      "cell_type": "code",
      "execution_count": 30,
      "metadata": {},
      "outputs": [],
      "source": [
        "# test_data = scaled_data[training_data_len:]\n",
        "\n",
        "# Bring in the last 'ts_points' (60 values) from training set so when X_test is used to predict , predictions have same shape as Y_test\n",
        "# The for loop starts with 'ts_points' thatbmeans the resultant array will have 60 less rows\n",
        "test_data = scaled_data[training_data_len-ts_points:]\n",
        "# test_data[0:60,0]\n"
      ]
    },
    {
      "cell_type": "code",
      "execution_count": 31,
      "metadata": {},
      "outputs": [],
      "source": [
        "X_test = []\n",
        "y_test = TSdata_arr[training_data_len:]\n",
        "for i in range(ts_points, len(test_data)):\n",
        "    X_test.append(test_data[i-ts_points:i,0])\n"
      ]
    },
    {
      "cell_type": "code",
      "execution_count": 32,
      "metadata": {},
      "outputs": [],
      "source": [
        "# convert the data to a numpy array to use it in LSTM MODEL\n",
        "X_test = np.array(X_test)\n",
        "X_test = np.reshape(X_test, (X_test.shape[0],  X_test.shape[1], 1))"
      ]
    },
    {
      "cell_type": "code",
      "execution_count": 33,
      "metadata": {},
      "outputs": [],
      "source": [
        "from sklearn.metrics import mean_squared_error"
      ]
    },
    {
      "cell_type": "code",
      "execution_count": 34,
      "metadata": {},
      "outputs": [
        {
          "data": {
            "text/plain": [
              "9.033311870808491"
            ]
          },
          "execution_count": 34,
          "metadata": {},
          "output_type": "execute_result"
        }
      ],
      "source": [
        "# Models predicted price for X_train\n",
        "predictions_tr = model.predict(X_train)\n",
        "predictions_tr = scaler.inverse_transform(predictions_tr)\n",
        "\n",
        "y_train_tr =  scaler.inverse_transform(y_train.reshape(-1,1))\n",
        "rmse_tr = math.sqrt(mean_squared_error(y_train_tr, predictions_tr))\n",
        "rmse_tr"
      ]
    },
    {
      "cell_type": "code",
      "execution_count": 35,
      "metadata": {},
      "outputs": [],
      "source": [
        "# Models predicted price for X_test\n",
        "predictions = model.predict(X_test)\n",
        "predictions = scaler.inverse_transform(predictions)"
      ]
    },
    {
      "cell_type": "code",
      "execution_count": 36,
      "metadata": {},
      "outputs": [
        {
          "data": {
            "text/plain": [
              "((126, 1), (126, 1))"
            ]
          },
          "execution_count": 36,
          "metadata": {},
          "output_type": "execute_result"
        }
      ],
      "source": [
        "y_test.shape, predictions.shape"
      ]
    },
    {
      "cell_type": "code",
      "execution_count": 37,
      "metadata": {},
      "outputs": [
        {
          "data": {
            "text/plain": [
              "10.263766806465746"
            ]
          },
          "execution_count": 37,
          "metadata": {},
          "output_type": "execute_result"
        }
      ],
      "source": [
        "# RMSE to check accuracy\n",
        "\n",
        "rmse = math.sqrt(mean_squared_error(y_test, predictions))\n",
        "rmse"
      ]
    },
    {
      "cell_type": "code",
      "execution_count": 38,
      "metadata": {},
      "outputs": [
        {
          "name": "stderr",
          "output_type": "stream",
          "text": [
            "<ipython-input-38-bb86776ae978>:4: SettingWithCopyWarning: \n",
            "A value is trying to be set on a copy of a slice from a DataFrame.\n",
            "Try using .loc[row_indexer,col_indexer] = value instead\n",
            "\n",
            "See the caveats in the documentation: https://pandas.pydata.org/pandas-docs/stable/user_guide/indexing.html#returning-a-view-versus-a-copy\n",
            "  actual['Predictions'] = predictions\n"
          ]
        },
        {
          "data": {
            "text/html": [
              "<div>\n",
              "<style scoped>\n",
              "    .dataframe tbody tr th:only-of-type {\n",
              "        vertical-align: middle;\n",
              "    }\n",
              "\n",
              "    .dataframe tbody tr th {\n",
              "        vertical-align: top;\n",
              "    }\n",
              "\n",
              "    .dataframe thead th {\n",
              "        text-align: right;\n",
              "    }\n",
              "</style>\n",
              "<table border=\"1\" class=\"dataframe\">\n",
              "  <thead>\n",
              "    <tr style=\"text-align: right;\">\n",
              "      <th></th>\n",
              "      <th>Close</th>\n",
              "      <th>Predictions</th>\n",
              "    </tr>\n",
              "    <tr>\n",
              "      <th>Date</th>\n",
              "      <th></th>\n",
              "      <th></th>\n",
              "    </tr>\n",
              "  </thead>\n",
              "  <tbody>\n",
              "    <tr>\n",
              "      <th>2021-03-29</th>\n",
              "      <td>105.019997</td>\n",
              "      <td>113.875832</td>\n",
              "    </tr>\n",
              "    <tr>\n",
              "      <th>2021-03-30</th>\n",
              "      <td>107.169998</td>\n",
              "      <td>113.559006</td>\n",
              "    </tr>\n",
              "    <tr>\n",
              "      <th>2021-03-31</th>\n",
              "      <td>112.440002</td>\n",
              "      <td>113.358002</td>\n",
              "    </tr>\n",
              "    <tr>\n",
              "      <th>2021-04-01</th>\n",
              "      <td>112.089996</td>\n",
              "      <td>113.495926</td>\n",
              "    </tr>\n",
              "    <tr>\n",
              "      <th>2021-04-05</th>\n",
              "      <td>109.089996</td>\n",
              "      <td>113.852776</td>\n",
              "    </tr>\n",
              "    <tr>\n",
              "      <th>...</th>\n",
              "      <td>...</td>\n",
              "      <td>...</td>\n",
              "    </tr>\n",
              "    <tr>\n",
              "      <th>2021-09-20</th>\n",
              "      <td>100.730003</td>\n",
              "      <td>111.909233</td>\n",
              "    </tr>\n",
              "    <tr>\n",
              "      <th>2021-09-21</th>\n",
              "      <td>100.919998</td>\n",
              "      <td>111.918724</td>\n",
              "    </tr>\n",
              "    <tr>\n",
              "      <th>2021-09-22</th>\n",
              "      <td>94.550003</td>\n",
              "      <td>111.748154</td>\n",
              "    </tr>\n",
              "    <tr>\n",
              "      <th>2021-09-23</th>\n",
              "      <td>94.379997</td>\n",
              "      <td>111.157715</td>\n",
              "    </tr>\n",
              "    <tr>\n",
              "      <th>2021-09-24</th>\n",
              "      <td>92.639999</td>\n",
              "      <td>110.291748</td>\n",
              "    </tr>\n",
              "  </tbody>\n",
              "</table>\n",
              "<p>126 rows × 2 columns</p>\n",
              "</div>"
            ],
            "text/plain": [
              "                 Close  Predictions\n",
              "Date                               \n",
              "2021-03-29  105.019997   113.875832\n",
              "2021-03-30  107.169998   113.559006\n",
              "2021-03-31  112.440002   113.358002\n",
              "2021-04-01  112.089996   113.495926\n",
              "2021-04-05  109.089996   113.852776\n",
              "...                ...          ...\n",
              "2021-09-20  100.730003   111.909233\n",
              "2021-09-21  100.919998   111.918724\n",
              "2021-09-22   94.550003   111.748154\n",
              "2021-09-23   94.379997   111.157715\n",
              "2021-09-24   92.639999   110.291748\n",
              "\n",
              "[126 rows x 2 columns]"
            ]
          },
          "execution_count": 38,
          "metadata": {},
          "output_type": "execute_result"
        }
      ],
      "source": [
        "# Plot\n",
        "train = TSdata_df[:training_data_len]\n",
        "actual = TSdata_df[training_data_len:]\n",
        "actual['Predictions'] = predictions\n",
        "actual"
      ]
    },
    {
      "cell_type": "code",
      "execution_count": 39,
      "metadata": {},
      "outputs": [
        {
          "data": {
            "image/png": "[encoded data removed]",
            "text/plain": [
              "<Figure size 1152x576 with 1 Axes>"
            ]
          },
          "metadata": {},
          "output_type": "display_data"
        }
      ],
      "source": [
        "plt.figure(figsize=(16,8))\n",
        "plt.title(f\"Model for '{stock}' - {ticker}\")\n",
        "plt.xlabel(\"Date\")\n",
        "plt.ylabel(\"Close Price USD\")\n",
        "plt.plot(train['Close'])\n",
        "plt.plot(actual[['Close', 'Predictions']])\n",
        "plt.legend(['Train', 'Actual', 'Predictions'], loc='lower right')\n",
        "plt.savefig('Saved_Models/Images/'+ticker+'.png')\n",
        "plt.show()"
      ]
    },
    {
      "cell_type": "markdown",
      "metadata": {},
      "source": [
        "# TEST"
      ]
    },
    {
      "cell_type": "code",
      "execution_count": 40,
      "metadata": {},
      "outputs": [],
      "source": [
        "# for predictions add 100 extra days to make sure it has more than ts_points to make up for missing days (weekends and holidays)\n",
        "\n",
        "fetch_days = ts_points + 100    \n",
        "\n",
        "sd =  today - timedelta(days=fetch_days)\n",
        "sd = sd.strftime('%Y-%m-%d')\n",
        "\n",
        "ed = today.strftime('%Y-%m-%d')\n",
        "ed\n",
        "\n",
        "next_day = (today + timedelta(days=1) ).strftime('%Y-%m-%d')\n",
        "# next_day"
      ]
    },
    {
      "cell_type": "code",
      "execution_count": 41,
      "metadata": {},
      "outputs": [],
      "source": [
        "# get the quote\n",
        "quote = pdr.DataReader(ticker, data_source=\"yahoo\", start=sd, end=ed)\n",
        "new_df = quote.filter(['Close'])\n",
        "last_n_days = ts_points\n",
        "last_n_days_arr = new_df[-last_n_days:].values "
      ]
    },
    {
      "cell_type": "code",
      "execution_count": 42,
      "metadata": {},
      "outputs": [],
      "source": [
        "last_n_days_scaled = scaler.transform(last_n_days_arr)\n",
        "X_test = []\n",
        "X_test.append(last_n_days_scaled)\n",
        "X_test = np.array(X_test)\n",
        "X_test = np.reshape(X_test,(X_test.shape[0], X_test.shape[1],1))\n"
      ]
    },
    {
      "cell_type": "code",
      "execution_count": 43,
      "metadata": {},
      "outputs": [
        {
          "name": "stdout",
          "output_type": "stream",
          "text": [
            "Model: \"sequential\"\n",
            "_________________________________________________________________\n",
            "Layer (type)                 Output Shape              Param #   \n",
            "=================================================================\n",
            "lstm (LSTM)                  (None, 120, 50)           10400     \n",
            "_________________________________________________________________\n",
            "lstm_1 (LSTM)                (None, 50)                20200     \n",
            "_________________________________________________________________\n",
            "dropout (Dropout)            (None, 50)                0         \n",
            "_________________________________________________________________\n",
            "dense (Dense)                (None, 25)                1275      \n",
            "_________________________________________________________________\n",
            "dense_1 (Dense)              (None, 1)                 26        \n",
            "=================================================================\n",
            "Total params: 31,901\n",
            "Trainable params: 31,901\n",
            "Non-trainable params: 0\n",
            "_________________________________________________________________\n",
            "Predicted Closing price for 'Peloton Interactive Inc' on 2021-10-26 is 96.0543\n"
          ]
        }
      ],
      "source": [
        "##########################loading saved model ###############################\n",
        "new_model = tf.keras.models.load_model('Saved_Models/Model_'+ticker+'.h5')\n",
        "\n",
        "# Check its architecture\n",
        "new_model.summary()\n",
        "nmpred_price = new_model.predict(X_test)\n",
        "nmpred_price = scaler.inverse_transform(nmpred_price)\n",
        "nmpred_price = nmpred_price[0][0]\n",
        "print(f\"Predicted Closing price for '{stock}' on {next_day} is {nmpred_price:.4f}\")"
      ]
    },
    {
      "cell_type": "code",
      "execution_count": 44,
      "metadata": {},
      "outputs": [
        {
          "name": "stdout",
          "output_type": "stream",
          "text": [
            "Predicted Closing price for 'Peloton Interactive Inc' on 2021-10-26 is 96.0543\n"
          ]
        }
      ],
      "source": [
        "pred_price = model.predict(X_test)\n",
        "pred_price = scaler.inverse_transform(pred_price)\n",
        "pred_price = pred_price[0][0]\n",
        "print(f\"Predicted Closing price for '{stock}' on {next_day} is {pred_price:.4f}\")"
      ]
    },
    {
      "cell_type": "code",
      "execution_count": 45,
      "metadata": {},
      "outputs": [
        {
          "data": {
            "text/html": [
              "<div>\n",
              "<style scoped>\n",
              "    .dataframe tbody tr th:only-of-type {\n",
              "        vertical-align: middle;\n",
              "    }\n",
              "\n",
              "    .dataframe tbody tr th {\n",
              "        vertical-align: top;\n",
              "    }\n",
              "\n",
              "    .dataframe thead th {\n",
              "        text-align: right;\n",
              "    }\n",
              "</style>\n",
              "<table border=\"1\" class=\"dataframe\">\n",
              "  <thead>\n",
              "    <tr style=\"text-align: right;\">\n",
              "      <th></th>\n",
              "      <th>High</th>\n",
              "      <th>Low</th>\n",
              "      <th>Open</th>\n",
              "      <th>Close</th>\n",
              "      <th>Volume</th>\n",
              "      <th>Adj Close</th>\n",
              "    </tr>\n",
              "    <tr>\n",
              "      <th>Date</th>\n",
              "      <th></th>\n",
              "      <th></th>\n",
              "      <th></th>\n",
              "      <th></th>\n",
              "      <th></th>\n",
              "      <th></th>\n",
              "    </tr>\n",
              "  </thead>\n",
              "  <tbody>\n",
              "    <tr>\n",
              "      <th>2021-10-20</th>\n",
              "      <td>93.750000</td>\n",
              "      <td>89.779999</td>\n",
              "      <td>91.410004</td>\n",
              "      <td>90.650002</td>\n",
              "      <td>9689600</td>\n",
              "      <td>90.650002</td>\n",
              "    </tr>\n",
              "    <tr>\n",
              "      <th>2021-10-21</th>\n",
              "      <td>95.589996</td>\n",
              "      <td>90.349998</td>\n",
              "      <td>90.410004</td>\n",
              "      <td>94.830002</td>\n",
              "      <td>7021600</td>\n",
              "      <td>94.830002</td>\n",
              "    </tr>\n",
              "    <tr>\n",
              "      <th>2021-10-22</th>\n",
              "      <td>94.904999</td>\n",
              "      <td>92.180000</td>\n",
              "      <td>93.954002</td>\n",
              "      <td>93.830002</td>\n",
              "      <td>3920300</td>\n",
              "      <td>93.830002</td>\n",
              "    </tr>\n",
              "    <tr>\n",
              "      <th>2021-10-25</th>\n",
              "      <td>97.529900</td>\n",
              "      <td>93.290001</td>\n",
              "      <td>93.500000</td>\n",
              "      <td>96.599998</td>\n",
              "      <td>5713176</td>\n",
              "      <td>96.599998</td>\n",
              "    </tr>\n",
              "  </tbody>\n",
              "</table>\n",
              "</div>"
            ],
            "text/plain": [
              "                 High        Low       Open      Close   Volume  Adj Close\n",
              "Date                                                                      \n",
              "2021-10-20  93.750000  89.779999  91.410004  90.650002  9689600  90.650002\n",
              "2021-10-21  95.589996  90.349998  90.410004  94.830002  7021600  94.830002\n",
              "2021-10-22  94.904999  92.180000  93.954002  93.830002  3920300  93.830002\n",
              "2021-10-25  97.529900  93.290001  93.500000  96.599998  5713176  96.599998"
            ]
          },
          "execution_count": 45,
          "metadata": {},
          "output_type": "execute_result"
        }
      ],
      "source": [
        "# verify\n",
        "d1 = today - timedelta(days=5)\n",
        "d1 = d1.strftime('%Y-%m-%d')\n",
        "\n",
        "quote2 = pdr.DataReader(ticker, data_source=\"yahoo\", start=d1)\n",
        "quote2"
      ]
    }
  ],
  "metadata": {
    "colab": {
      "name": "Untitled1.ipynb",
      "provenance": []
    },
    "interpreter": {
      "hash": "b3ba2566441a7c06988d0923437866b63cedc61552a5af99d1f4fb67d367b25f"
    },
    "kernelspec": {
      "display_name": "Python 3.8.5 64-bit ('base': conda)",
      "name": "python3"
    },
    "language_info": {
      "codemirror_mode": {
        "name": "ipython",
        "version": 3
      },
      "file_extension": ".py",
      "mimetype": "text/x-python",
      "name": "python",
      "nbconvert_exporter": "python",
      "pygments_lexer": "ipython3",
      "version": "3.8.5"
    }
  },
  "nbformat": 4,
  "nbformat_minor": 0
}
