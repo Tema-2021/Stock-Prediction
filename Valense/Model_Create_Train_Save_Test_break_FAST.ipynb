{
  "cells": [
    {
      "cell_type": "code",
      "execution_count": 1,
      "metadata": {
        "id": "brsCiv-W6GZ2"
      },
      "outputs": [],
      "source": [
        "import math\n",
        "import numpy as np\n",
        "import os\n",
        "from sklearn.preprocessing import MinMaxScaler\n",
        "import tensorflow as tf\n",
        "import matplotlib.pyplot as plt\n",
        "plt.style.use('ggplot')\n",
        "import pandas_datareader as pdr\n",
        "from datetime import datetime, timedelta"
      ]
    },
    {
      "cell_type": "code",
      "execution_count": 2,
      "metadata": {},
      "outputs": [],
      "source": [
        "#Get the stock\n",
        "ticker = 'FAST'\n",
        "stock =\"Fastenal Co\"\n",
        "# Time step n days, here we will use n  days historical data to predict next day closing\n",
        "ts_points = 120\n",
        "# train_data[0:60,0]  \n",
        "\n",
        "today = datetime.today()\n",
        "# start_date ='2016-01-01'\n",
        "start_date = (today - timedelta(days=5*365) ).strftime('%Y-%m-%d')\n",
        "\n",
        "# end_date   = today.strftime('%Y-%m-%d')\n",
        "end_date = (today - timedelta(days=31) ).strftime('%Y-%m-%d')\n",
        "\n",
        "stock_df = pdr.DataReader(ticker, data_source=\"yahoo\", start=start_date, end=end_date)"
      ]
    },
    {
      "cell_type": "code",
      "execution_count": 3,
      "metadata": {},
      "outputs": [
        {
          "data": {
            "text/html": [
              "<div>\n",
              "<style scoped>\n",
              "    .dataframe tbody tr th:only-of-type {\n",
              "        vertical-align: middle;\n",
              "    }\n",
              "\n",
              "    .dataframe tbody tr th {\n",
              "        vertical-align: top;\n",
              "    }\n",
              "\n",
              "    .dataframe thead th {\n",
              "        text-align: right;\n",
              "    }\n",
              "</style>\n",
              "<table border=\"1\" class=\"dataframe\">\n",
              "  <thead>\n",
              "    <tr style=\"text-align: right;\">\n",
              "      <th></th>\n",
              "      <th>High</th>\n",
              "      <th>Low</th>\n",
              "      <th>Open</th>\n",
              "      <th>Close</th>\n",
              "      <th>Volume</th>\n",
              "      <th>Adj Close</th>\n",
              "    </tr>\n",
              "    <tr>\n",
              "      <th>Date</th>\n",
              "      <th></th>\n",
              "      <th></th>\n",
              "      <th></th>\n",
              "      <th></th>\n",
              "      <th></th>\n",
              "      <th></th>\n",
              "    </tr>\n",
              "  </thead>\n",
              "  <tbody>\n",
              "    <tr>\n",
              "      <th>2016-10-26</th>\n",
              "      <td>19.690001</td>\n",
              "      <td>19.215000</td>\n",
              "      <td>19.260000</td>\n",
              "      <td>19.510000</td>\n",
              "      <td>3458200.0</td>\n",
              "      <td>17.095045</td>\n",
              "    </tr>\n",
              "    <tr>\n",
              "      <th>2016-10-27</th>\n",
              "      <td>19.565001</td>\n",
              "      <td>19.184999</td>\n",
              "      <td>19.535000</td>\n",
              "      <td>19.225000</td>\n",
              "      <td>2500600.0</td>\n",
              "      <td>16.845325</td>\n",
              "    </tr>\n",
              "    <tr>\n",
              "      <th>2016-10-28</th>\n",
              "      <td>19.500000</td>\n",
              "      <td>19.219999</td>\n",
              "      <td>19.230000</td>\n",
              "      <td>19.379999</td>\n",
              "      <td>2429800.0</td>\n",
              "      <td>16.981138</td>\n",
              "    </tr>\n",
              "    <tr>\n",
              "      <th>2016-10-31</th>\n",
              "      <td>19.525000</td>\n",
              "      <td>19.340000</td>\n",
              "      <td>19.469999</td>\n",
              "      <td>19.490000</td>\n",
              "      <td>3524600.0</td>\n",
              "      <td>17.077526</td>\n",
              "    </tr>\n",
              "    <tr>\n",
              "      <th>2016-11-01</th>\n",
              "      <td>19.565001</td>\n",
              "      <td>19.105000</td>\n",
              "      <td>19.540001</td>\n",
              "      <td>19.200001</td>\n",
              "      <td>3320600.0</td>\n",
              "      <td>16.823421</td>\n",
              "    </tr>\n",
              "    <tr>\n",
              "      <th>...</th>\n",
              "      <td>...</td>\n",
              "      <td>...</td>\n",
              "      <td>...</td>\n",
              "      <td>...</td>\n",
              "      <td>...</td>\n",
              "      <td>...</td>\n",
              "    </tr>\n",
              "    <tr>\n",
              "      <th>2021-09-20</th>\n",
              "      <td>53.060001</td>\n",
              "      <td>52.139999</td>\n",
              "      <td>52.240002</td>\n",
              "      <td>52.900002</td>\n",
              "      <td>3536400.0</td>\n",
              "      <td>52.900002</td>\n",
              "    </tr>\n",
              "    <tr>\n",
              "      <th>2021-09-21</th>\n",
              "      <td>53.220001</td>\n",
              "      <td>52.259998</td>\n",
              "      <td>53.130001</td>\n",
              "      <td>52.669998</td>\n",
              "      <td>2732700.0</td>\n",
              "      <td>52.669998</td>\n",
              "    </tr>\n",
              "    <tr>\n",
              "      <th>2021-09-22</th>\n",
              "      <td>53.490002</td>\n",
              "      <td>52.869999</td>\n",
              "      <td>53.130001</td>\n",
              "      <td>53.230000</td>\n",
              "      <td>2360000.0</td>\n",
              "      <td>53.230000</td>\n",
              "    </tr>\n",
              "    <tr>\n",
              "      <th>2021-09-23</th>\n",
              "      <td>54.139999</td>\n",
              "      <td>53.099998</td>\n",
              "      <td>53.259998</td>\n",
              "      <td>53.869999</td>\n",
              "      <td>1980300.0</td>\n",
              "      <td>53.869999</td>\n",
              "    </tr>\n",
              "    <tr>\n",
              "      <th>2021-09-24</th>\n",
              "      <td>54.270000</td>\n",
              "      <td>53.549999</td>\n",
              "      <td>53.660000</td>\n",
              "      <td>54.099998</td>\n",
              "      <td>1825300.0</td>\n",
              "      <td>54.099998</td>\n",
              "    </tr>\n",
              "  </tbody>\n",
              "</table>\n",
              "<p>1237 rows × 6 columns</p>\n",
              "</div>"
            ],
            "text/plain": [
              "                 High        Low       Open      Close     Volume  Adj Close\n",
              "Date                                                                        \n",
              "2016-10-26  19.690001  19.215000  19.260000  19.510000  3458200.0  17.095045\n",
              "2016-10-27  19.565001  19.184999  19.535000  19.225000  2500600.0  16.845325\n",
              "2016-10-28  19.500000  19.219999  19.230000  19.379999  2429800.0  16.981138\n",
              "2016-10-31  19.525000  19.340000  19.469999  19.490000  3524600.0  17.077526\n",
              "2016-11-01  19.565001  19.105000  19.540001  19.200001  3320600.0  16.823421\n",
              "...               ...        ...        ...        ...        ...        ...\n",
              "2021-09-20  53.060001  52.139999  52.240002  52.900002  3536400.0  52.900002\n",
              "2021-09-21  53.220001  52.259998  53.130001  52.669998  2732700.0  52.669998\n",
              "2021-09-22  53.490002  52.869999  53.130001  53.230000  2360000.0  53.230000\n",
              "2021-09-23  54.139999  53.099998  53.259998  53.869999  1980300.0  53.869999\n",
              "2021-09-24  54.270000  53.549999  53.660000  54.099998  1825300.0  54.099998\n",
              "\n",
              "[1237 rows x 6 columns]"
            ]
          },
          "execution_count": 3,
          "metadata": {},
          "output_type": "execute_result"
        }
      ],
      "source": [
        "# Date is an index but to be sure , let's sort\n",
        "stock_df = stock_df.sort_index(ascending=True)\n",
        "stock_df"
      ]
    },
    {
      "cell_type": "code",
      "execution_count": 4,
      "metadata": {},
      "outputs": [
        {
          "data": {
            "text/plain": [
              "High         0\n",
              "Low          0\n",
              "Open         0\n",
              "Close        0\n",
              "Volume       0\n",
              "Adj Close    0\n",
              "dtype: int64"
            ]
          },
          "execution_count": 4,
          "metadata": {},
          "output_type": "execute_result"
        }
      ],
      "source": [
        "# check for nulls\n",
        "stock_df.isna().sum()"
      ]
    },
    {
      "cell_type": "code",
      "execution_count": 5,
      "metadata": {},
      "outputs": [
        {
          "data": {
            "text/plain": [
              "(1237, 6)"
            ]
          },
          "execution_count": 5,
          "metadata": {},
          "output_type": "execute_result"
        }
      ],
      "source": [
        "# Get shape\n",
        "stock_df.shape"
      ]
    },
    {
      "cell_type": "code",
      "execution_count": 6,
      "metadata": {},
      "outputs": [
        {
          "data": {
            "image/png": "[encoded data removed]",
            "text/plain": [
              "<Figure size 1152x576 with 1 Axes>"
            ]
          },
          "metadata": {},
          "output_type": "display_data"
        }
      ],
      "source": [
        "# Visualize closing price history\n",
        "plt.figure(figsize=(16,8))\n",
        "plt.title (f\"Closing Price History for '{stock}' - {ticker}\")\n",
        "plt.plot(stock_df['Close'])\n",
        "plt.xlabel('Date')\n",
        "plt.ylabel('Close Price USD', fontsize=16)\n",
        "plt.savefig('Saved_Models/Images/his_'+ticker+'.png')\n",
        "plt.show()"
      ]
    },
    {
      "cell_type": "code",
      "execution_count": 7,
      "metadata": {},
      "outputs": [
        {
          "data": {
            "image/png": "[encoded data removed]",
            "text/plain": [
              "<Figure size 432x288 with 1 Axes>"
            ]
          },
          "metadata": {},
          "output_type": "display_data"
        }
      ],
      "source": [
        "stock_df['Close'].plot.density()\n",
        "plt.xlabel('Distribution of the closing stock price')\n",
        "plt.savefig('Saved_Models/Images/den_'+ticker+'.png')\n",
        "plt.show()"
      ]
    },
    {
      "cell_type": "code",
      "execution_count": 8,
      "metadata": {},
      "outputs": [
        {
          "data": {
            "text/html": [
              "<div>\n",
              "<style scoped>\n",
              "    .dataframe tbody tr th:only-of-type {\n",
              "        vertical-align: middle;\n",
              "    }\n",
              "\n",
              "    .dataframe tbody tr th {\n",
              "        vertical-align: top;\n",
              "    }\n",
              "\n",
              "    .dataframe thead th {\n",
              "        text-align: right;\n",
              "    }\n",
              "</style>\n",
              "<table border=\"1\" class=\"dataframe\">\n",
              "  <thead>\n",
              "    <tr style=\"text-align: right;\">\n",
              "      <th></th>\n",
              "      <th>Close</th>\n",
              "    </tr>\n",
              "    <tr>\n",
              "      <th>Date</th>\n",
              "      <th></th>\n",
              "    </tr>\n",
              "  </thead>\n",
              "  <tbody>\n",
              "    <tr>\n",
              "      <th>2016-10-26</th>\n",
              "      <td>19.510000</td>\n",
              "    </tr>\n",
              "    <tr>\n",
              "      <th>2016-10-27</th>\n",
              "      <td>19.225000</td>\n",
              "    </tr>\n",
              "    <tr>\n",
              "      <th>2016-10-28</th>\n",
              "      <td>19.379999</td>\n",
              "    </tr>\n",
              "    <tr>\n",
              "      <th>2016-10-31</th>\n",
              "      <td>19.490000</td>\n",
              "    </tr>\n",
              "    <tr>\n",
              "      <th>2016-11-01</th>\n",
              "      <td>19.200001</td>\n",
              "    </tr>\n",
              "    <tr>\n",
              "      <th>...</th>\n",
              "      <td>...</td>\n",
              "    </tr>\n",
              "    <tr>\n",
              "      <th>2021-09-20</th>\n",
              "      <td>52.900002</td>\n",
              "    </tr>\n",
              "    <tr>\n",
              "      <th>2021-09-21</th>\n",
              "      <td>52.669998</td>\n",
              "    </tr>\n",
              "    <tr>\n",
              "      <th>2021-09-22</th>\n",
              "      <td>53.230000</td>\n",
              "    </tr>\n",
              "    <tr>\n",
              "      <th>2021-09-23</th>\n",
              "      <td>53.869999</td>\n",
              "    </tr>\n",
              "    <tr>\n",
              "      <th>2021-09-24</th>\n",
              "      <td>54.099998</td>\n",
              "    </tr>\n",
              "  </tbody>\n",
              "</table>\n",
              "<p>1237 rows × 1 columns</p>\n",
              "</div>"
            ],
            "text/plain": [
              "                Close\n",
              "Date                 \n",
              "2016-10-26  19.510000\n",
              "2016-10-27  19.225000\n",
              "2016-10-28  19.379999\n",
              "2016-10-31  19.490000\n",
              "2016-11-01  19.200001\n",
              "...               ...\n",
              "2021-09-20  52.900002\n",
              "2021-09-21  52.669998\n",
              "2021-09-22  53.230000\n",
              "2021-09-23  53.869999\n",
              "2021-09-24  54.099998\n",
              "\n",
              "[1237 rows x 1 columns]"
            ]
          },
          "execution_count": 8,
          "metadata": {},
          "output_type": "execute_result"
        }
      ],
      "source": [
        "# DF with only close\n",
        "TSdata_df = stock_df.filter(['Close'])\n",
        "TSdata_df\n"
      ]
    },
    {
      "cell_type": "code",
      "execution_count": 9,
      "metadata": {},
      "outputs": [
        {
          "data": {
            "text/plain": [
              "array([[19.51000023],\n",
              "       [19.22500038],\n",
              "       [19.37999916],\n",
              "       ...,\n",
              "       [53.22999954],\n",
              "       [53.86999893],\n",
              "       [54.09999847]])"
            ]
          },
          "execution_count": 9,
          "metadata": {},
          "output_type": "execute_result"
        }
      ],
      "source": [
        "TSdata_arr = TSdata_df.values # this creates an array of Close Price\n",
        "TSdata_arr"
      ]
    },
    {
      "cell_type": "code",
      "execution_count": 10,
      "metadata": {},
      "outputs": [
        {
          "name": "stdout",
          "output_type": "stream",
          "text": [
            "ADF Statistic: -0.225578\n",
            "p-value: 0.935403\n",
            "Critical Values:\n",
            "\t1%: -3.436\n",
            "\t5%: -2.864\n",
            "\t10%: -2.568\n",
            "Failed to Reject Ho - Time Series is Non-Stationary\n"
          ]
        }
      ],
      "source": [
        "from statsmodels.tsa.stattools import adfuller\n",
        "import pandas as pd\n",
        "import numpy as np\n",
        "\n",
        "# ADF Test\n",
        "result = adfuller(TSdata_arr, autolag='AIC')\n",
        "\n",
        "print('ADF Statistic: %f' % result[0])\n",
        "\n",
        "print('p-value: %f' % result[1])\n",
        "\n",
        "print('Critical Values:')\n",
        "\n",
        "for key, value in result[4].items():\n",
        "    print('\\t%s: %.3f' % (key, value))\n",
        "if result[0] < result[4][\"5%\"]:\n",
        "    print (\"Reject Ho - Time Series is Stationary\")\n",
        "else:\n",
        "    print (\"Failed to Reject Ho - Time Series is Non-Stationary\")"
      ]
    },
    {
      "cell_type": "code",
      "execution_count": 11,
      "metadata": {},
      "outputs": [
        {
          "data": {
            "text/html": [
              "<div>\n",
              "<style scoped>\n",
              "    .dataframe tbody tr th:only-of-type {\n",
              "        vertical-align: middle;\n",
              "    }\n",
              "\n",
              "    .dataframe tbody tr th {\n",
              "        vertical-align: top;\n",
              "    }\n",
              "\n",
              "    .dataframe thead th {\n",
              "        text-align: right;\n",
              "    }\n",
              "</style>\n",
              "<table border=\"1\" class=\"dataframe\">\n",
              "  <thead>\n",
              "    <tr style=\"text-align: right;\">\n",
              "      <th></th>\n",
              "      <th>Close</th>\n",
              "    </tr>\n",
              "    <tr>\n",
              "      <th>Date</th>\n",
              "      <th></th>\n",
              "    </tr>\n",
              "  </thead>\n",
              "  <tbody>\n",
              "    <tr>\n",
              "      <th>2016-10-27</th>\n",
              "      <td>-0.285000</td>\n",
              "    </tr>\n",
              "    <tr>\n",
              "      <th>2016-10-28</th>\n",
              "      <td>0.154999</td>\n",
              "    </tr>\n",
              "    <tr>\n",
              "      <th>2016-10-31</th>\n",
              "      <td>0.110001</td>\n",
              "    </tr>\n",
              "    <tr>\n",
              "      <th>2016-11-01</th>\n",
              "      <td>-0.289999</td>\n",
              "    </tr>\n",
              "    <tr>\n",
              "      <th>2016-11-02</th>\n",
              "      <td>-0.075001</td>\n",
              "    </tr>\n",
              "    <tr>\n",
              "      <th>...</th>\n",
              "      <td>...</td>\n",
              "    </tr>\n",
              "    <tr>\n",
              "      <th>2021-09-20</th>\n",
              "      <td>-0.059998</td>\n",
              "    </tr>\n",
              "    <tr>\n",
              "      <th>2021-09-21</th>\n",
              "      <td>-0.230003</td>\n",
              "    </tr>\n",
              "    <tr>\n",
              "      <th>2021-09-22</th>\n",
              "      <td>0.560001</td>\n",
              "    </tr>\n",
              "    <tr>\n",
              "      <th>2021-09-23</th>\n",
              "      <td>0.639999</td>\n",
              "    </tr>\n",
              "    <tr>\n",
              "      <th>2021-09-24</th>\n",
              "      <td>0.230000</td>\n",
              "    </tr>\n",
              "  </tbody>\n",
              "</table>\n",
              "<p>1236 rows × 1 columns</p>\n",
              "</div>"
            ],
            "text/plain": [
              "               Close\n",
              "Date                \n",
              "2016-10-27 -0.285000\n",
              "2016-10-28  0.154999\n",
              "2016-10-31  0.110001\n",
              "2016-11-01 -0.289999\n",
              "2016-11-02 -0.075001\n",
              "...              ...\n",
              "2021-09-20 -0.059998\n",
              "2021-09-21 -0.230003\n",
              "2021-09-22  0.560001\n",
              "2021-09-23  0.639999\n",
              "2021-09-24  0.230000\n",
              "\n",
              "[1236 rows x 1 columns]"
            ]
          },
          "execution_count": 11,
          "metadata": {},
          "output_type": "execute_result"
        }
      ],
      "source": [
        "df2 = TSdata_df['Close'].diff().dropna().to_frame()\n",
        "df2"
      ]
    },
    {
      "cell_type": "code",
      "execution_count": 12,
      "metadata": {},
      "outputs": [
        {
          "data": {
            "image/png": "[encoded data removed]",
            "text/plain": [
              "<Figure size 1152x576 with 1 Axes>"
            ]
          },
          "metadata": {},
          "output_type": "display_data"
        }
      ],
      "source": [
        "# Visualize closing price history\n",
        "plt.figure(figsize=(16,8))\n",
        "plt.title (f\"Closing Price History for '{stock}' - {ticker}\")\n",
        "plt.plot(df2['Close'])\n",
        "plt.xlabel('Date')\n",
        "plt.ylabel('Close Price USD', fontsize=16)\n",
        "plt.savefig('Saved_Models/Images/diff_'+ticker+'.png')\n",
        "plt.show()"
      ]
    },
    {
      "cell_type": "code",
      "execution_count": 13,
      "metadata": {},
      "outputs": [],
      "source": [
        "# TSdata_arr = df2.filter(['Close']).values\n",
        "# TSdata_arr"
      ]
    },
    {
      "cell_type": "code",
      "execution_count": 14,
      "metadata": {},
      "outputs": [],
      "source": [
        "# Scale the Data\n",
        "scaler = MinMaxScaler(feature_range =(0,1))\n",
        "scaled_data = scaler.fit_transform(TSdata_arr)\n",
        "# scaled_data"
      ]
    },
    {
      "cell_type": "code",
      "execution_count": 15,
      "metadata": {},
      "outputs": [
        {
          "data": {
            "text/plain": [
              "928"
            ]
          },
          "execution_count": 15,
          "metadata": {},
          "output_type": "execute_result"
        }
      ],
      "source": [
        "training_data_len = math.ceil(len(TSdata_arr) * 0.75)\n",
        "training_data_len"
      ]
    },
    {
      "cell_type": "code",
      "execution_count": 16,
      "metadata": {},
      "outputs": [
        {
          "data": {
            "text/plain": [
              "(928, 1)"
            ]
          },
          "execution_count": 16,
          "metadata": {},
          "output_type": "execute_result"
        }
      ],
      "source": [
        "# Created scaled training dataset\n",
        "train_data = scaled_data[0:training_data_len]\n",
        "train_data.shape"
      ]
    },
    {
      "cell_type": "code",
      "execution_count": 17,
      "metadata": {},
      "outputs": [],
      "source": [
        "# Split\n",
        "X_train = []\n",
        "y_train = []\n",
        "\n",
        "for i in range(ts_points, len(train_data)):\n",
        "    X_train.append(train_data[i-ts_points:i,0])\n",
        "    y_train.append(train_data[i,0])\n",
        "    # if i <= ts_points+3:\n",
        "    #     print(X_train)\n",
        "    #     print(y_train)\n",
        "    #     print()\n"
      ]
    },
    {
      "cell_type": "code",
      "execution_count": 18,
      "metadata": {},
      "outputs": [],
      "source": [
        "# convert X_train and y_train to numpy arrays for LSTM\n",
        "X_train, y_train = np.array(X_train), np.array(y_train)"
      ]
    },
    {
      "cell_type": "code",
      "execution_count": 19,
      "metadata": {},
      "outputs": [
        {
          "name": "stdout",
          "output_type": "stream",
          "text": [
            "(808, 120)\n",
            "(808,)\n"
          ]
        }
      ],
      "source": [
        "print (X_train.shape)\n",
        "print (y_train.shape)"
      ]
    },
    {
      "cell_type": "code",
      "execution_count": 20,
      "metadata": {},
      "outputs": [
        {
          "data": {
            "text/plain": [
              "(808, 120, 1)"
            ]
          },
          "execution_count": 20,
          "metadata": {},
          "output_type": "execute_result"
        }
      ],
      "source": [
        "# LSTM network expects a 3D input (No_of_Samples, number of time steps, and number of features) no_of_features = 1 (Close)\n",
        "X_train = np.reshape(X_train, (X_train.shape[0], X_train.shape[1], 1))\n",
        "X_train.shape"
      ]
    },
    {
      "cell_type": "code",
      "execution_count": 21,
      "metadata": {},
      "outputs": [
        {
          "data": {
            "text/plain": [
              "808"
            ]
          },
          "execution_count": 21,
          "metadata": {},
          "output_type": "execute_result"
        }
      ],
      "source": [
        "training_data_len - ts_points"
      ]
    },
    {
      "cell_type": "code",
      "execution_count": 22,
      "metadata": {},
      "outputs": [],
      "source": [
        "# hidden_nodes = int(2/3 * (X_train.shape[1] * 1))\n",
        "# print(f\"The number of hidden nodes is {hidden_nodes}.\")"
      ]
    },
    {
      "cell_type": "code",
      "execution_count": 23,
      "metadata": {},
      "outputs": [],
      "source": [
        "# LSTM MOdel\n",
        "model = tf.keras.models.Sequential()\n",
        "# model.add(tf.keras.layers.LSTM(50, return_sequences=True, input_shape=(X_train.shape[1],1)))\n",
        "# model.add(tf.keras.layers.LSTM(50, return_sequences=False))\n",
        "# model.add(tf.keras.layers.Dropout(0.2))\n",
        "# model.add(tf.keras.layers.Dense(25))\n",
        "# model.add(tf.keras.layers.Dense(1))\n",
        "# model.summary()\n"
      ]
    },
    {
      "cell_type": "code",
      "execution_count": 24,
      "metadata": {},
      "outputs": [
        {
          "name": "stdout",
          "output_type": "stream",
          "text": [
            "Model: \"sequential\"\n",
            "_________________________________________________________________\n",
            "Layer (type)                 Output Shape              Param #   \n",
            "=================================================================\n",
            "lstm (LSTM)                  (None, 120, 50)           10400     \n",
            "_________________________________________________________________\n",
            "lstm_1 (LSTM)                (None, 50)                20200     \n",
            "_________________________________________________________________\n",
            "dropout (Dropout)            (None, 50)                0         \n",
            "_________________________________________________________________\n",
            "dense (Dense)                (None, 25)                1275      \n",
            "_________________________________________________________________\n",
            "dense_1 (Dense)              (None, 1)                 26        \n",
            "=================================================================\n",
            "Total params: 31,901\n",
            "Trainable params: 31,901\n",
            "Non-trainable params: 0\n",
            "_________________________________________________________________\n"
          ]
        }
      ],
      "source": [
        "\n",
        "# # BEST FOR FAST#\n",
        "model.add(tf.keras.layers.LSTM(50, return_sequences=True, input_shape=(X_train.shape[1],1)))\n",
        "model.add(tf.keras.layers.LSTM(50, return_sequences=False))\n",
        "model.add(tf.keras.layers.Dropout(0.2))\n",
        "model.add(tf.keras.layers.Dense(25))\n",
        "model.add(tf.keras.layers.Dense(1))\n",
        "model.summary()\n",
        "\n",
        "# #model.fit(X_train, y_train, batch_size=64, epochs=50"
      ]
    },
    {
      "cell_type": "code",
      "execution_count": 25,
      "metadata": {},
      "outputs": [],
      "source": [
        "model.compile(optimizer='adam', loss='mean_squared_error')\n",
        "# model.compile(loss=\"binary_crossentropy\", optimizer=\"adam\", metrics=[\"accuracy\"])"
      ]
    },
    {
      "cell_type": "code",
      "execution_count": 26,
      "metadata": {},
      "outputs": [
        {
          "name": "stdout",
          "output_type": "stream",
          "text": [
            "WARNING:tensorflow:`period` argument is deprecated. Please use `save_freq` to specify the frequency in number of batches seen.\n"
          ]
        }
      ],
      "source": [
        "import os\n",
        "from tensorflow.keras.callbacks import ModelCheckpoint\n",
        "\n",
        "batch_size=64\n",
        "\n",
        "os.makedirs(\"chk_points/\", exist_ok=True)\n",
        "chkpoint_path=\"chk_points/weights.{epoch}.hdf5\"\n",
        "\n",
        "# Create chk points\n",
        "chkpt_callback = ModelCheckpoint(filepath=chkpoint_path,\n",
        "                              verbose=1,\n",
        "                              save_weights_only=True,\n",
        "                              save_freq=\"epoch\",\n",
        "                              period=5)\n",
        "\n",
        "# chkpoint_path = \"chk_points/cp-{epoch:04d}.ckpt\"\n",
        "# chkpt_callback = tf.keras.callbacks.ModelCheckpoint(\n",
        "#     filepath=chkpoint_path, \n",
        "#     verbose=1, \n",
        "#     save_weights_only=True,\n",
        "#     save_freq=5*batch_size)                    \n",
        "\n",
        "# model.save_weights(chkpoint_path.format(epoch=0))    \n"
      ]
    },
    {
      "cell_type": "code",
      "execution_count": 27,
      "metadata": {},
      "outputs": [],
      "source": [
        "# training_data_len\n",
        "# scaled_data"
      ]
    },
    {
      "cell_type": "code",
      "execution_count": 28,
      "metadata": {},
      "outputs": [
        {
          "name": "stdout",
          "output_type": "stream",
          "text": [
            "Epoch 1/32\n",
            "13/13 [==============================] - 4s 109ms/step - loss: 0.0204\n",
            "Epoch 2/32\n",
            "13/13 [==============================] - 1s 100ms/step - loss: 0.0054\n",
            "Epoch 3/32\n",
            "13/13 [==============================] - 1s 88ms/step - loss: 0.0030\n",
            "Epoch 4/32\n",
            "13/13 [==============================] - 1s 87ms/step - loss: 0.0022\n",
            "Epoch 5/32\n",
            "13/13 [==============================] - 1s 86ms/step - loss: 0.0018\n",
            "Epoch 6/32\n",
            "13/13 [==============================] - 1s 85ms/step - loss: 0.0020\n",
            "Epoch 7/32\n",
            "13/13 [==============================] - 1s 86ms/step - loss: 0.0017\n",
            "Epoch 8/32\n",
            "13/13 [==============================] - 1s 90ms/step - loss: 0.0016\n",
            "Epoch 9/32\n",
            "13/13 [==============================] - 1s 87ms/step - loss: 0.0015\n",
            "Epoch 10/32\n",
            "13/13 [==============================] - 1s 85ms/step - loss: 0.0016\n",
            "Epoch 11/32\n",
            "13/13 [==============================] - 1s 85ms/step - loss: 0.0014\n",
            "Epoch 12/32\n",
            "13/13 [==============================] - 1s 84ms/step - loss: 0.0014\n",
            "Epoch 13/32\n",
            "13/13 [==============================] - 1s 85ms/step - loss: 0.0013\n",
            "Epoch 14/32\n",
            "13/13 [==============================] - 1s 84ms/step - loss: 0.0014\n",
            "Epoch 15/32\n",
            "13/13 [==============================] - 1s 82ms/step - loss: 0.0013\n",
            "Epoch 16/32\n",
            "13/13 [==============================] - 1s 85ms/step - loss: 0.0013\n",
            "Epoch 17/32\n",
            "13/13 [==============================] - 1s 85ms/step - loss: 0.0013\n",
            "Epoch 18/32\n",
            "13/13 [==============================] - 1s 84ms/step - loss: 0.0012\n",
            "Epoch 19/32\n",
            "13/13 [==============================] - 1s 84ms/step - loss: 0.0012\n",
            "Epoch 20/32\n",
            "13/13 [==============================] - 1s 84ms/step - loss: 0.0011\n",
            "Epoch 21/32\n",
            "13/13 [==============================] - 1s 82ms/step - loss: 0.0012\n",
            "Epoch 22/32\n",
            "13/13 [==============================] - 1s 83ms/step - loss: 0.0012\n",
            "Epoch 23/32\n",
            "13/13 [==============================] - 1s 84ms/step - loss: 0.0011\n",
            "Epoch 24/32\n",
            "13/13 [==============================] - 1s 87ms/step - loss: 0.0011\n",
            "Epoch 25/32\n",
            "13/13 [==============================] - 1s 83ms/step - loss: 9.7228e-04\n",
            "Epoch 26/32\n",
            "13/13 [==============================] - 1s 83ms/step - loss: 9.7171e-04\n",
            "Epoch 27/32\n",
            "13/13 [==============================] - 1s 89ms/step - loss: 0.0010\n",
            "Epoch 28/32\n",
            "13/13 [==============================] - 1s 87ms/step - loss: 9.2381e-04\n",
            "Epoch 29/32\n",
            "13/13 [==============================] - 1s 85ms/step - loss: 8.8180e-04\n",
            "Epoch 30/32\n",
            "13/13 [==============================] - 1s 86ms/step - loss: 9.3093e-04\n",
            "Epoch 31/32\n",
            "13/13 [==============================] - 1s 84ms/step - loss: 8.9932e-04\n",
            "Epoch 32/32\n",
            "13/13 [==============================] - 1s 82ms/step - loss: 8.8599e-04\n"
          ]
        },
        {
          "data": {
            "text/plain": [
              "<keras.callbacks.History at 0x1dda5113640>"
            ]
          },
          "execution_count": 28,
          "metadata": {},
          "output_type": "execute_result"
        }
      ],
      "source": [
        "# model.fit(X_train, y_train, batch_size=batch_size, epochs=50, validation_split=0.43, callbacks=[chkpt_callback])\n",
        "model.fit(X_train, y_train, batch_size=64 ,epochs=32)"
      ]
    },
    {
      "cell_type": "code",
      "execution_count": 29,
      "metadata": {},
      "outputs": [],
      "source": [
        "model.save('Saved_Models/Model_'+ticker+'.h5')"
      ]
    },
    {
      "cell_type": "code",
      "execution_count": 30,
      "metadata": {},
      "outputs": [],
      "source": [
        "# test_data = scaled_data[training_data_len:]\n",
        "\n",
        "# Bring in the last 'ts_points' (60 values) from training set so when X_test is used to predict , predictions have same shape as Y_test\n",
        "# The for loop starts with 'ts_points' thatbmeans the resultant array will have 60 less rows\n",
        "test_data = scaled_data[training_data_len-ts_points:]\n",
        "# test_data[0:60,0]\n"
      ]
    },
    {
      "cell_type": "code",
      "execution_count": 31,
      "metadata": {},
      "outputs": [],
      "source": [
        "X_test = []\n",
        "y_test = TSdata_arr[training_data_len:]\n",
        "for i in range(ts_points, len(test_data)):\n",
        "    X_test.append(test_data[i-ts_points:i,0])\n"
      ]
    },
    {
      "cell_type": "code",
      "execution_count": 32,
      "metadata": {},
      "outputs": [],
      "source": [
        "# convert the data to a numpy array to use it in LSTM MODEL\n",
        "X_test = np.array(X_test)\n",
        "X_test = np.reshape(X_test, (X_test.shape[0],  X_test.shape[1], 1))"
      ]
    },
    {
      "cell_type": "code",
      "execution_count": 33,
      "metadata": {},
      "outputs": [],
      "source": [
        "from sklearn.metrics import mean_squared_error"
      ]
    },
    {
      "cell_type": "code",
      "execution_count": 34,
      "metadata": {},
      "outputs": [
        {
          "data": {
            "text/plain": [
              "0.9058667303907025"
            ]
          },
          "execution_count": 34,
          "metadata": {},
          "output_type": "execute_result"
        }
      ],
      "source": [
        "# Models predicted price for X_train\n",
        "predictions_tr = model.predict(X_train)\n",
        "predictions_tr = scaler.inverse_transform(predictions_tr)\n",
        "\n",
        "y_train_tr =  scaler.inverse_transform(y_train.reshape(-1,1))\n",
        "rmse_tr = math.sqrt(mean_squared_error(y_train_tr, predictions_tr))\n",
        "rmse_tr"
      ]
    },
    {
      "cell_type": "code",
      "execution_count": 35,
      "metadata": {},
      "outputs": [],
      "source": [
        "# Models predicted price for X_test\n",
        "predictions = model.predict(X_test)\n",
        "predictions = scaler.inverse_transform(predictions)"
      ]
    },
    {
      "cell_type": "code",
      "execution_count": 36,
      "metadata": {},
      "outputs": [
        {
          "data": {
            "text/plain": [
              "((309, 1), (309, 1))"
            ]
          },
          "execution_count": 36,
          "metadata": {},
          "output_type": "execute_result"
        }
      ],
      "source": [
        "y_test.shape, predictions.shape"
      ]
    },
    {
      "cell_type": "code",
      "execution_count": 37,
      "metadata": {},
      "outputs": [
        {
          "data": {
            "text/plain": [
              "0.9788752049964232"
            ]
          },
          "execution_count": 37,
          "metadata": {},
          "output_type": "execute_result"
        }
      ],
      "source": [
        "# RMSE to check accuracy\n",
        "\n",
        "rmse = math.sqrt(mean_squared_error(y_test, predictions))\n",
        "rmse"
      ]
    },
    {
      "cell_type": "code",
      "execution_count": 38,
      "metadata": {},
      "outputs": [
        {
          "name": "stderr",
          "output_type": "stream",
          "text": [
            "<ipython-input-38-bb86776ae978>:4: SettingWithCopyWarning: \n",
            "A value is trying to be set on a copy of a slice from a DataFrame.\n",
            "Try using .loc[row_indexer,col_indexer] = value instead\n",
            "\n",
            "See the caveats in the documentation: https://pandas.pydata.org/pandas-docs/stable/user_guide/indexing.html#returning-a-view-versus-a-copy\n",
            "  actual['Predictions'] = predictions\n"
          ]
        },
        {
          "data": {
            "text/html": [
              "<div>\n",
              "<style scoped>\n",
              "    .dataframe tbody tr th:only-of-type {\n",
              "        vertical-align: middle;\n",
              "    }\n",
              "\n",
              "    .dataframe tbody tr th {\n",
              "        vertical-align: top;\n",
              "    }\n",
              "\n",
              "    .dataframe thead th {\n",
              "        text-align: right;\n",
              "    }\n",
              "</style>\n",
              "<table border=\"1\" class=\"dataframe\">\n",
              "  <thead>\n",
              "    <tr style=\"text-align: right;\">\n",
              "      <th></th>\n",
              "      <th>Close</th>\n",
              "      <th>Predictions</th>\n",
              "    </tr>\n",
              "    <tr>\n",
              "      <th>Date</th>\n",
              "      <th></th>\n",
              "      <th></th>\n",
              "    </tr>\n",
              "  </thead>\n",
              "  <tbody>\n",
              "    <tr>\n",
              "      <th>2020-07-07</th>\n",
              "      <td>44.060001</td>\n",
              "      <td>43.087387</td>\n",
              "    </tr>\n",
              "    <tr>\n",
              "      <th>2020-07-08</th>\n",
              "      <td>43.020000</td>\n",
              "      <td>43.556664</td>\n",
              "    </tr>\n",
              "    <tr>\n",
              "      <th>2020-07-09</th>\n",
              "      <td>43.099998</td>\n",
              "      <td>43.812038</td>\n",
              "    </tr>\n",
              "    <tr>\n",
              "      <th>2020-07-10</th>\n",
              "      <td>43.029999</td>\n",
              "      <td>43.920002</td>\n",
              "    </tr>\n",
              "    <tr>\n",
              "      <th>2020-07-13</th>\n",
              "      <td>43.380001</td>\n",
              "      <td>43.910824</td>\n",
              "    </tr>\n",
              "    <tr>\n",
              "      <th>...</th>\n",
              "      <td>...</td>\n",
              "      <td>...</td>\n",
              "    </tr>\n",
              "    <tr>\n",
              "      <th>2021-09-20</th>\n",
              "      <td>52.900002</td>\n",
              "      <td>52.941074</td>\n",
              "    </tr>\n",
              "    <tr>\n",
              "      <th>2021-09-21</th>\n",
              "      <td>52.669998</td>\n",
              "      <td>52.845016</td>\n",
              "    </tr>\n",
              "    <tr>\n",
              "      <th>2021-09-22</th>\n",
              "      <td>53.230000</td>\n",
              "      <td>52.747650</td>\n",
              "    </tr>\n",
              "    <tr>\n",
              "      <th>2021-09-23</th>\n",
              "      <td>53.869999</td>\n",
              "      <td>52.751034</td>\n",
              "    </tr>\n",
              "    <tr>\n",
              "      <th>2021-09-24</th>\n",
              "      <td>54.099998</td>\n",
              "      <td>52.909847</td>\n",
              "    </tr>\n",
              "  </tbody>\n",
              "</table>\n",
              "<p>309 rows × 2 columns</p>\n",
              "</div>"
            ],
            "text/plain": [
              "                Close  Predictions\n",
              "Date                              \n",
              "2020-07-07  44.060001    43.087387\n",
              "2020-07-08  43.020000    43.556664\n",
              "2020-07-09  43.099998    43.812038\n",
              "2020-07-10  43.029999    43.920002\n",
              "2020-07-13  43.380001    43.910824\n",
              "...               ...          ...\n",
              "2021-09-20  52.900002    52.941074\n",
              "2021-09-21  52.669998    52.845016\n",
              "2021-09-22  53.230000    52.747650\n",
              "2021-09-23  53.869999    52.751034\n",
              "2021-09-24  54.099998    52.909847\n",
              "\n",
              "[309 rows x 2 columns]"
            ]
          },
          "execution_count": 38,
          "metadata": {},
          "output_type": "execute_result"
        }
      ],
      "source": [
        "# Plot\n",
        "train = TSdata_df[:training_data_len]\n",
        "actual = TSdata_df[training_data_len:]\n",
        "actual['Predictions'] = predictions\n",
        "actual"
      ]
    },
    {
      "cell_type": "code",
      "execution_count": 39,
      "metadata": {},
      "outputs": [
        {
          "data": {
            "image/png": "[encoded data removed]",
            "text/plain": [
              "<Figure size 1152x576 with 1 Axes>"
            ]
          },
          "metadata": {},
          "output_type": "display_data"
        }
      ],
      "source": [
        "plt.figure(figsize=(16,8))\n",
        "plt.title(f\"Model for '{stock}' - {ticker}\")\n",
        "plt.xlabel(\"Date\")\n",
        "plt.ylabel(\"Close Price USD\")\n",
        "plt.plot(train['Close'])\n",
        "plt.plot(actual[['Close', 'Predictions']])\n",
        "plt.legend(['Train', 'Actual', 'Predictions'], loc='lower right')\n",
        "plt.savefig('Saved_Models/Images/'+ticker+'.png')\n",
        "plt.show()"
      ]
    },
    {
      "cell_type": "markdown",
      "metadata": {},
      "source": [
        "# TEST"
      ]
    },
    {
      "cell_type": "code",
      "execution_count": 40,
      "metadata": {},
      "outputs": [],
      "source": [
        "# for predictions add 100 extra days to make sure it has more than ts_points to make up for missing days (weekends and holidays)\n",
        "\n",
        "fetch_days = ts_points + 100    \n",
        "\n",
        "sd =  today - timedelta(days=fetch_days)\n",
        "sd = sd.strftime('%Y-%m-%d')\n",
        "\n",
        "ed = today.strftime('%Y-%m-%d')\n",
        "ed\n",
        "\n",
        "next_day = (today + timedelta(days=1) ).strftime('%Y-%m-%d')\n",
        "# next_day"
      ]
    },
    {
      "cell_type": "code",
      "execution_count": 41,
      "metadata": {},
      "outputs": [],
      "source": [
        "# get the quote\n",
        "quote = pdr.DataReader(ticker, data_source=\"yahoo\", start=sd, end=ed)\n",
        "new_df = quote.filter(['Close'])\n",
        "last_n_days = ts_points\n",
        "last_n_days_arr = new_df[-last_n_days:].values "
      ]
    },
    {
      "cell_type": "code",
      "execution_count": 42,
      "metadata": {},
      "outputs": [],
      "source": [
        "last_n_days_scaled = scaler.transform(last_n_days_arr)\n",
        "X_test = []\n",
        "X_test.append(last_n_days_scaled)\n",
        "X_test = np.array(X_test)\n",
        "X_test = np.reshape(X_test,(X_test.shape[0], X_test.shape[1],1))\n"
      ]
    },
    {
      "cell_type": "code",
      "execution_count": 43,
      "metadata": {},
      "outputs": [
        {
          "name": "stdout",
          "output_type": "stream",
          "text": [
            "Model: \"sequential\"\n",
            "_________________________________________________________________\n",
            "Layer (type)                 Output Shape              Param #   \n",
            "=================================================================\n",
            "lstm (LSTM)                  (None, 120, 50)           10400     \n",
            "_________________________________________________________________\n",
            "lstm_1 (LSTM)                (None, 50)                20200     \n",
            "_________________________________________________________________\n",
            "dropout (Dropout)            (None, 50)                0         \n",
            "_________________________________________________________________\n",
            "dense (Dense)                (None, 25)                1275      \n",
            "_________________________________________________________________\n",
            "dense_1 (Dense)              (None, 1)                 26        \n",
            "=================================================================\n",
            "Total params: 31,901\n",
            "Trainable params: 31,901\n",
            "Non-trainable params: 0\n",
            "_________________________________________________________________\n",
            "Predicted Closing price for 'Fastenal Co' on 2021-10-26 is 56.8470\n"
          ]
        }
      ],
      "source": [
        "##########################loading saved model ###############################\n",
        "new_model = tf.keras.models.load_model('Saved_Models/Model_'+ticker+'.h5')\n",
        "\n",
        "# Check its architecture\n",
        "new_model.summary()\n",
        "nmpred_price = new_model.predict(X_test)\n",
        "nmpred_price = scaler.inverse_transform(nmpred_price)\n",
        "nmpred_price = nmpred_price[0][0]\n",
        "print(f\"Predicted Closing price for '{stock}' on {next_day} is {nmpred_price:.4f}\")"
      ]
    },
    {
      "cell_type": "code",
      "execution_count": 44,
      "metadata": {},
      "outputs": [
        {
          "name": "stdout",
          "output_type": "stream",
          "text": [
            "Predicted Closing price for 'Fastenal Co' on 2021-10-26 is 56.8470\n"
          ]
        }
      ],
      "source": [
        "pred_price = model.predict(X_test)\n",
        "pred_price = scaler.inverse_transform(pred_price)\n",
        "pred_price = pred_price[0][0]\n",
        "print(f\"Predicted Closing price for '{stock}' on {next_day} is {pred_price:.4f}\")"
      ]
    },
    {
      "cell_type": "code",
      "execution_count": 45,
      "metadata": {},
      "outputs": [
        {
          "data": {
            "text/html": [
              "<div>\n",
              "<style scoped>\n",
              "    .dataframe tbody tr th:only-of-type {\n",
              "        vertical-align: middle;\n",
              "    }\n",
              "\n",
              "    .dataframe tbody tr th {\n",
              "        vertical-align: top;\n",
              "    }\n",
              "\n",
              "    .dataframe thead th {\n",
              "        text-align: right;\n",
              "    }\n",
              "</style>\n",
              "<table border=\"1\" class=\"dataframe\">\n",
              "  <thead>\n",
              "    <tr style=\"text-align: right;\">\n",
              "      <th></th>\n",
              "      <th>High</th>\n",
              "      <th>Low</th>\n",
              "      <th>Open</th>\n",
              "      <th>Close</th>\n",
              "      <th>Volume</th>\n",
              "      <th>Adj Close</th>\n",
              "    </tr>\n",
              "    <tr>\n",
              "      <th>Date</th>\n",
              "      <th></th>\n",
              "      <th></th>\n",
              "      <th></th>\n",
              "      <th></th>\n",
              "      <th></th>\n",
              "      <th></th>\n",
              "    </tr>\n",
              "  </thead>\n",
              "  <tbody>\n",
              "    <tr>\n",
              "      <th>2021-10-20</th>\n",
              "      <td>56.590000</td>\n",
              "      <td>55.820000</td>\n",
              "      <td>56.270000</td>\n",
              "      <td>56.009998</td>\n",
              "      <td>2336000</td>\n",
              "      <td>56.009998</td>\n",
              "    </tr>\n",
              "    <tr>\n",
              "      <th>2021-10-21</th>\n",
              "      <td>56.139999</td>\n",
              "      <td>55.619999</td>\n",
              "      <td>56.000000</td>\n",
              "      <td>56.099998</td>\n",
              "      <td>1385700</td>\n",
              "      <td>56.099998</td>\n",
              "    </tr>\n",
              "    <tr>\n",
              "      <th>2021-10-22</th>\n",
              "      <td>56.599998</td>\n",
              "      <td>56.020000</td>\n",
              "      <td>56.290001</td>\n",
              "      <td>56.049999</td>\n",
              "      <td>1838700</td>\n",
              "      <td>56.049999</td>\n",
              "    </tr>\n",
              "    <tr>\n",
              "      <th>2021-10-25</th>\n",
              "      <td>56.619999</td>\n",
              "      <td>55.669998</td>\n",
              "      <td>56.000000</td>\n",
              "      <td>56.150002</td>\n",
              "      <td>2167639</td>\n",
              "      <td>56.150002</td>\n",
              "    </tr>\n",
              "  </tbody>\n",
              "</table>\n",
              "</div>"
            ],
            "text/plain": [
              "                 High        Low       Open      Close   Volume  Adj Close\n",
              "Date                                                                      \n",
              "2021-10-20  56.590000  55.820000  56.270000  56.009998  2336000  56.009998\n",
              "2021-10-21  56.139999  55.619999  56.000000  56.099998  1385700  56.099998\n",
              "2021-10-22  56.599998  56.020000  56.290001  56.049999  1838700  56.049999\n",
              "2021-10-25  56.619999  55.669998  56.000000  56.150002  2167639  56.150002"
            ]
          },
          "execution_count": 45,
          "metadata": {},
          "output_type": "execute_result"
        }
      ],
      "source": [
        "# verify\n",
        "d1 = today - timedelta(days=5)\n",
        "d1 = d1.strftime('%Y-%m-%d')\n",
        "\n",
        "quote2 = pdr.DataReader(ticker, data_source=\"yahoo\", start=d1)\n",
        "quote2"
      ]
    }
  ],
  "metadata": {
    "colab": {
      "name": "Untitled1.ipynb",
      "provenance": []
    },
    "interpreter": {
      "hash": "b3ba2566441a7c06988d0923437866b63cedc61552a5af99d1f4fb67d367b25f"
    },
    "kernelspec": {
      "display_name": "Python 3.8.5 64-bit ('base': conda)",
      "name": "python3"
    },
    "language_info": {
      "codemirror_mode": {
        "name": "ipython",
        "version": 3
      },
      "file_extension": ".py",
      "mimetype": "text/x-python",
      "name": "python",
      "nbconvert_exporter": "python",
      "pygments_lexer": "ipython3",
      "version": "3.8.5"
    }
  },
  "nbformat": 4,
  "nbformat_minor": 0
}
