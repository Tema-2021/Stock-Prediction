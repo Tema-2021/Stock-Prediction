{
  "cells": [
    {
      "cell_type": "code",
      "execution_count": 1,
      "metadata": {},
      "outputs": [],
      "source": [
        "# !pip install pandas_datareader"
      ]
    },
    {
      "cell_type": "code",
      "execution_count": 2,
      "metadata": {
        "id": "brsCiv-W6GZ2"
      },
      "outputs": [],
      "source": [
        "import math\n",
        "import numpy as np\n",
        "import os\n",
        "from sklearn.preprocessing import MinMaxScaler\n",
        "import tensorflow as tf\n",
        "import matplotlib.pyplot as plt\n",
        "plt.style.use('ggplot')\n",
        "import pandas_datareader as pdr\n",
        "from datetime import datetime, timedelta"
      ]
    },
    {
      "cell_type": "code",
      "execution_count": 3,
      "metadata": {},
      "outputs": [],
      "source": [
        "#Get the stock\n",
        "ticker = 'AAPL'\n",
        "stock =\"Apple\"\n",
        "# Time step n days, here we will use n  days historical data to predict next day closing\n",
        "ts_points = 120\n",
        "# train_data[0:60,0]  \n",
        "\n",
        "today = datetime.today()\n",
        "# start_date ='2016-01-01'\n",
        "start_date = (today - timedelta(days=5*365) ).strftime('%Y-%m-%d')\n",
        "\n",
        "# end_date   = today.strftime('%Y-%m-%d')\n",
        "end_date = (today - timedelta(days=31) ).strftime('%Y-%m-%d')\n",
        "\n",
        "stock_df = pdr.DataReader(ticker, data_source=\"yahoo\", start=start_date, end=end_date)"
      ]
    },
    {
      "cell_type": "code",
      "execution_count": 4,
      "metadata": {},
      "outputs": [
        {
          "data": {
            "text/html": [
              "<div>\n",
              "<style scoped>\n",
              "    .dataframe tbody tr th:only-of-type {\n",
              "        vertical-align: middle;\n",
              "    }\n",
              "\n",
              "    .dataframe tbody tr th {\n",
              "        vertical-align: top;\n",
              "    }\n",
              "\n",
              "    .dataframe thead th {\n",
              "        text-align: right;\n",
              "    }\n",
              "</style>\n",
              "<table border=\"1\" class=\"dataframe\">\n",
              "  <thead>\n",
              "    <tr style=\"text-align: right;\">\n",
              "      <th></th>\n",
              "      <th>High</th>\n",
              "      <th>Low</th>\n",
              "      <th>Open</th>\n",
              "      <th>Close</th>\n",
              "      <th>Volume</th>\n",
              "      <th>Adj Close</th>\n",
              "    </tr>\n",
              "    <tr>\n",
              "      <th>Date</th>\n",
              "      <th></th>\n",
              "      <th></th>\n",
              "      <th></th>\n",
              "      <th></th>\n",
              "      <th></th>\n",
              "      <th></th>\n",
              "    </tr>\n",
              "  </thead>\n",
              "  <tbody>\n",
              "    <tr>\n",
              "      <th>2016-10-25</th>\n",
              "      <td>29.590000</td>\n",
              "      <td>29.327499</td>\n",
              "      <td>29.487499</td>\n",
              "      <td>29.562500</td>\n",
              "      <td>192516000.0</td>\n",
              "      <td>27.724911</td>\n",
              "    </tr>\n",
              "    <tr>\n",
              "      <th>2016-10-26</th>\n",
              "      <td>28.924999</td>\n",
              "      <td>28.327499</td>\n",
              "      <td>28.577499</td>\n",
              "      <td>28.897499</td>\n",
              "      <td>264536800.0</td>\n",
              "      <td>27.101248</td>\n",
              "    </tr>\n",
              "    <tr>\n",
              "      <th>2016-10-27</th>\n",
              "      <td>28.965000</td>\n",
              "      <td>28.525000</td>\n",
              "      <td>28.847500</td>\n",
              "      <td>28.620001</td>\n",
              "      <td>138248000.0</td>\n",
              "      <td>26.841002</td>\n",
              "    </tr>\n",
              "    <tr>\n",
              "      <th>2016-10-28</th>\n",
              "      <td>28.802500</td>\n",
              "      <td>28.362499</td>\n",
              "      <td>28.467501</td>\n",
              "      <td>28.430000</td>\n",
              "      <td>151446800.0</td>\n",
              "      <td>26.662806</td>\n",
              "    </tr>\n",
              "    <tr>\n",
              "      <th>2016-10-31</th>\n",
              "      <td>28.557501</td>\n",
              "      <td>28.299999</td>\n",
              "      <td>28.412500</td>\n",
              "      <td>28.385000</td>\n",
              "      <td>105677600.0</td>\n",
              "      <td>26.620600</td>\n",
              "    </tr>\n",
              "    <tr>\n",
              "      <th>...</th>\n",
              "      <td>...</td>\n",
              "      <td>...</td>\n",
              "      <td>...</td>\n",
              "      <td>...</td>\n",
              "      <td>...</td>\n",
              "      <td>...</td>\n",
              "    </tr>\n",
              "    <tr>\n",
              "      <th>2021-09-17</th>\n",
              "      <td>148.820007</td>\n",
              "      <td>145.759995</td>\n",
              "      <td>148.820007</td>\n",
              "      <td>146.059998</td>\n",
              "      <td>129868800.0</td>\n",
              "      <td>146.059998</td>\n",
              "    </tr>\n",
              "    <tr>\n",
              "      <th>2021-09-20</th>\n",
              "      <td>144.839996</td>\n",
              "      <td>141.270004</td>\n",
              "      <td>143.800003</td>\n",
              "      <td>142.940002</td>\n",
              "      <td>123478900.0</td>\n",
              "      <td>142.940002</td>\n",
              "    </tr>\n",
              "    <tr>\n",
              "      <th>2021-09-21</th>\n",
              "      <td>144.600006</td>\n",
              "      <td>142.779999</td>\n",
              "      <td>143.929993</td>\n",
              "      <td>143.429993</td>\n",
              "      <td>75834000.0</td>\n",
              "      <td>143.429993</td>\n",
              "    </tr>\n",
              "    <tr>\n",
              "      <th>2021-09-22</th>\n",
              "      <td>146.429993</td>\n",
              "      <td>143.699997</td>\n",
              "      <td>144.449997</td>\n",
              "      <td>145.850006</td>\n",
              "      <td>76404300.0</td>\n",
              "      <td>145.850006</td>\n",
              "    </tr>\n",
              "    <tr>\n",
              "      <th>2021-09-23</th>\n",
              "      <td>147.080002</td>\n",
              "      <td>145.639999</td>\n",
              "      <td>146.649994</td>\n",
              "      <td>146.830002</td>\n",
              "      <td>64838200.0</td>\n",
              "      <td>146.830002</td>\n",
              "    </tr>\n",
              "  </tbody>\n",
              "</table>\n",
              "<p>1237 rows × 6 columns</p>\n",
              "</div>"
            ],
            "text/plain": [
              "                  High         Low        Open       Close       Volume  \\\n",
              "Date                                                                      \n",
              "2016-10-25   29.590000   29.327499   29.487499   29.562500  192516000.0   \n",
              "2016-10-26   28.924999   28.327499   28.577499   28.897499  264536800.0   \n",
              "2016-10-27   28.965000   28.525000   28.847500   28.620001  138248000.0   \n",
              "2016-10-28   28.802500   28.362499   28.467501   28.430000  151446800.0   \n",
              "2016-10-31   28.557501   28.299999   28.412500   28.385000  105677600.0   \n",
              "...                ...         ...         ...         ...          ...   \n",
              "2021-09-17  148.820007  145.759995  148.820007  146.059998  129868800.0   \n",
              "2021-09-20  144.839996  141.270004  143.800003  142.940002  123478900.0   \n",
              "2021-09-21  144.600006  142.779999  143.929993  143.429993   75834000.0   \n",
              "2021-09-22  146.429993  143.699997  144.449997  145.850006   76404300.0   \n",
              "2021-09-23  147.080002  145.639999  146.649994  146.830002   64838200.0   \n",
              "\n",
              "             Adj Close  \n",
              "Date                    \n",
              "2016-10-25   27.724911  \n",
              "2016-10-26   27.101248  \n",
              "2016-10-27   26.841002  \n",
              "2016-10-28   26.662806  \n",
              "2016-10-31   26.620600  \n",
              "...                ...  \n",
              "2021-09-17  146.059998  \n",
              "2021-09-20  142.940002  \n",
              "2021-09-21  143.429993  \n",
              "2021-09-22  145.850006  \n",
              "2021-09-23  146.830002  \n",
              "\n",
              "[1237 rows x 6 columns]"
            ]
          },
          "execution_count": 4,
          "metadata": {},
          "output_type": "execute_result"
        }
      ],
      "source": [
        "# Date is an index but to be sure , let's sort\n",
        "stock_df = stock_df.sort_index(ascending=True)\n",
        "stock_df"
      ]
    },
    {
      "cell_type": "code",
      "execution_count": 5,
      "metadata": {},
      "outputs": [
        {
          "data": {
            "text/plain": [
              "High         0\n",
              "Low          0\n",
              "Open         0\n",
              "Close        0\n",
              "Volume       0\n",
              "Adj Close    0\n",
              "dtype: int64"
            ]
          },
          "execution_count": 5,
          "metadata": {},
          "output_type": "execute_result"
        }
      ],
      "source": [
        "# check for nulls\n",
        "stock_df.isna().sum()"
      ]
    },
    {
      "cell_type": "code",
      "execution_count": 6,
      "metadata": {},
      "outputs": [
        {
          "data": {
            "text/plain": [
              "(1237, 6)"
            ]
          },
          "execution_count": 6,
          "metadata": {},
          "output_type": "execute_result"
        }
      ],
      "source": [
        "# Get shape\n",
        "stock_df.shape"
      ]
    },
    {
      "cell_type": "code",
      "execution_count": 7,
      "metadata": {},
      "outputs": [
        {
          "data": {
            "image/png": "[encoded data removed]",
            "text/plain": [
              "<Figure size 1152x576 with 1 Axes>"
            ]
          },
          "metadata": {},
          "output_type": "display_data"
        }
      ],
      "source": [
        "# Visualize closing price history\n",
        "plt.figure(figsize=(16,8))\n",
        "plt.title (f\"Closing Price History for '{stock}' - {ticker}\")\n",
        "plt.plot(stock_df['Close'])\n",
        "plt.xlabel('Date')\n",
        "plt.ylabel('Close Price USD', fontsize=16)\n",
        "plt.show()"
      ]
    },
    {
      "cell_type": "code",
      "execution_count": 8,
      "metadata": {},
      "outputs": [
        {
          "data": {
            "image/png": "[encoded data removed]",
            "text/plain": [
              "<Figure size 432x288 with 1 Axes>"
            ]
          },
          "metadata": {},
          "output_type": "display_data"
        }
      ],
      "source": [
        "stock_df['Close'].plot.density()\n",
        "plt.xlabel('Distribution of the closing stock price')\n",
        "plt.show()"
      ]
    },
    {
      "cell_type": "code",
      "execution_count": 9,
      "metadata": {},
      "outputs": [
        {
          "data": {
            "text/html": [
              "<div>\n",
              "<style scoped>\n",
              "    .dataframe tbody tr th:only-of-type {\n",
              "        vertical-align: middle;\n",
              "    }\n",
              "\n",
              "    .dataframe tbody tr th {\n",
              "        vertical-align: top;\n",
              "    }\n",
              "\n",
              "    .dataframe thead th {\n",
              "        text-align: right;\n",
              "    }\n",
              "</style>\n",
              "<table border=\"1\" class=\"dataframe\">\n",
              "  <thead>\n",
              "    <tr style=\"text-align: right;\">\n",
              "      <th></th>\n",
              "      <th>Close</th>\n",
              "    </tr>\n",
              "    <tr>\n",
              "      <th>Date</th>\n",
              "      <th></th>\n",
              "    </tr>\n",
              "  </thead>\n",
              "  <tbody>\n",
              "    <tr>\n",
              "      <th>2016-10-25</th>\n",
              "      <td>29.562500</td>\n",
              "    </tr>\n",
              "    <tr>\n",
              "      <th>2016-10-26</th>\n",
              "      <td>28.897499</td>\n",
              "    </tr>\n",
              "    <tr>\n",
              "      <th>2016-10-27</th>\n",
              "      <td>28.620001</td>\n",
              "    </tr>\n",
              "    <tr>\n",
              "      <th>2016-10-28</th>\n",
              "      <td>28.430000</td>\n",
              "    </tr>\n",
              "    <tr>\n",
              "      <th>2016-10-31</th>\n",
              "      <td>28.385000</td>\n",
              "    </tr>\n",
              "    <tr>\n",
              "      <th>...</th>\n",
              "      <td>...</td>\n",
              "    </tr>\n",
              "    <tr>\n",
              "      <th>2021-09-17</th>\n",
              "      <td>146.059998</td>\n",
              "    </tr>\n",
              "    <tr>\n",
              "      <th>2021-09-20</th>\n",
              "      <td>142.940002</td>\n",
              "    </tr>\n",
              "    <tr>\n",
              "      <th>2021-09-21</th>\n",
              "      <td>143.429993</td>\n",
              "    </tr>\n",
              "    <tr>\n",
              "      <th>2021-09-22</th>\n",
              "      <td>145.850006</td>\n",
              "    </tr>\n",
              "    <tr>\n",
              "      <th>2021-09-23</th>\n",
              "      <td>146.830002</td>\n",
              "    </tr>\n",
              "  </tbody>\n",
              "</table>\n",
              "<p>1237 rows × 1 columns</p>\n",
              "</div>"
            ],
            "text/plain": [
              "                 Close\n",
              "Date                  \n",
              "2016-10-25   29.562500\n",
              "2016-10-26   28.897499\n",
              "2016-10-27   28.620001\n",
              "2016-10-28   28.430000\n",
              "2016-10-31   28.385000\n",
              "...                ...\n",
              "2021-09-17  146.059998\n",
              "2021-09-20  142.940002\n",
              "2021-09-21  143.429993\n",
              "2021-09-22  145.850006\n",
              "2021-09-23  146.830002\n",
              "\n",
              "[1237 rows x 1 columns]"
            ]
          },
          "execution_count": 9,
          "metadata": {},
          "output_type": "execute_result"
        }
      ],
      "source": [
        "# DF with only close\n",
        "TSdata_df = stock_df.filter(['Close'])\n",
        "TSdata_df\n"
      ]
    },
    {
      "cell_type": "code",
      "execution_count": 10,
      "metadata": {},
      "outputs": [
        {
          "data": {
            "text/plain": [
              "array([[ 29.5625    ],\n",
              "       [ 28.89749908],\n",
              "       [ 28.62000084],\n",
              "       ...,\n",
              "       [143.42999268],\n",
              "       [145.8500061 ],\n",
              "       [146.83000183]])"
            ]
          },
          "execution_count": 10,
          "metadata": {},
          "output_type": "execute_result"
        }
      ],
      "source": [
        "TSdata_arr = TSdata_df.values # this creates an array of Close Price\n",
        "TSdata_arr"
      ]
    },
    {
      "cell_type": "code",
      "execution_count": 11,
      "metadata": {},
      "outputs": [
        {
          "name": "stdout",
          "output_type": "stream",
          "text": [
            "ADF Statistic: 0.347607\n",
            "p-value: 0.979426\n",
            "Critical Values:\n",
            "\t1%: -3.436\n",
            "\t5%: -2.864\n",
            "\t10%: -2.568\n",
            "Failed to Reject Ho - Time Series is Non-Stationary\n"
          ]
        }
      ],
      "source": [
        "from statsmodels.tsa.stattools import adfuller\n",
        "import pandas as pd\n",
        "import numpy as np\n",
        "\n",
        "# ADF Test\n",
        "result = adfuller(TSdata_arr, autolag='AIC')\n",
        "\n",
        "print('ADF Statistic: %f' % result[0])\n",
        "\n",
        "print('p-value: %f' % result[1])\n",
        "\n",
        "print('Critical Values:')\n",
        "\n",
        "for key, value in result[4].items():\n",
        "    print('\\t%s: %.3f' % (key, value))\n",
        "if result[0] < result[4][\"5%\"]:\n",
        "    print (\"Reject Ho - Time Series is Stationary\")\n",
        "else:\n",
        "    print (\"Failed to Reject Ho - Time Series is Non-Stationary\")"
      ]
    },
    {
      "cell_type": "code",
      "execution_count": 12,
      "metadata": {},
      "outputs": [
        {
          "data": {
            "text/html": [
              "<div>\n",
              "<style scoped>\n",
              "    .dataframe tbody tr th:only-of-type {\n",
              "        vertical-align: middle;\n",
              "    }\n",
              "\n",
              "    .dataframe tbody tr th {\n",
              "        vertical-align: top;\n",
              "    }\n",
              "\n",
              "    .dataframe thead th {\n",
              "        text-align: right;\n",
              "    }\n",
              "</style>\n",
              "<table border=\"1\" class=\"dataframe\">\n",
              "  <thead>\n",
              "    <tr style=\"text-align: right;\">\n",
              "      <th></th>\n",
              "      <th>Close</th>\n",
              "    </tr>\n",
              "    <tr>\n",
              "      <th>Date</th>\n",
              "      <th></th>\n",
              "    </tr>\n",
              "  </thead>\n",
              "  <tbody>\n",
              "    <tr>\n",
              "      <th>2016-10-26</th>\n",
              "      <td>-0.665001</td>\n",
              "    </tr>\n",
              "    <tr>\n",
              "      <th>2016-10-27</th>\n",
              "      <td>-0.277498</td>\n",
              "    </tr>\n",
              "    <tr>\n",
              "      <th>2016-10-28</th>\n",
              "      <td>-0.190001</td>\n",
              "    </tr>\n",
              "    <tr>\n",
              "      <th>2016-10-31</th>\n",
              "      <td>-0.045000</td>\n",
              "    </tr>\n",
              "    <tr>\n",
              "      <th>2016-11-01</th>\n",
              "      <td>-0.512501</td>\n",
              "    </tr>\n",
              "    <tr>\n",
              "      <th>...</th>\n",
              "      <td>...</td>\n",
              "    </tr>\n",
              "    <tr>\n",
              "      <th>2021-09-17</th>\n",
              "      <td>-2.729996</td>\n",
              "    </tr>\n",
              "    <tr>\n",
              "      <th>2021-09-20</th>\n",
              "      <td>-3.119995</td>\n",
              "    </tr>\n",
              "    <tr>\n",
              "      <th>2021-09-21</th>\n",
              "      <td>0.489990</td>\n",
              "    </tr>\n",
              "    <tr>\n",
              "      <th>2021-09-22</th>\n",
              "      <td>2.420013</td>\n",
              "    </tr>\n",
              "    <tr>\n",
              "      <th>2021-09-23</th>\n",
              "      <td>0.979996</td>\n",
              "    </tr>\n",
              "  </tbody>\n",
              "</table>\n",
              "<p>1236 rows × 1 columns</p>\n",
              "</div>"
            ],
            "text/plain": [
              "               Close\n",
              "Date                \n",
              "2016-10-26 -0.665001\n",
              "2016-10-27 -0.277498\n",
              "2016-10-28 -0.190001\n",
              "2016-10-31 -0.045000\n",
              "2016-11-01 -0.512501\n",
              "...              ...\n",
              "2021-09-17 -2.729996\n",
              "2021-09-20 -3.119995\n",
              "2021-09-21  0.489990\n",
              "2021-09-22  2.420013\n",
              "2021-09-23  0.979996\n",
              "\n",
              "[1236 rows x 1 columns]"
            ]
          },
          "execution_count": 12,
          "metadata": {},
          "output_type": "execute_result"
        }
      ],
      "source": [
        "df2 = TSdata_df['Close'].diff().dropna().to_frame()\n",
        "df2"
      ]
    },
    {
      "cell_type": "code",
      "execution_count": 13,
      "metadata": {},
      "outputs": [
        {
          "data": {
            "image/png": "[encoded data removed]",
            "text/plain": [
              "<Figure size 1152x576 with 1 Axes>"
            ]
          },
          "metadata": {},
          "output_type": "display_data"
        }
      ],
      "source": [
        "# Visualize closing price history\n",
        "plt.figure(figsize=(16,8))\n",
        "plt.title (f\"Closing Price History for '{stock}' - {ticker}\")\n",
        "plt.plot(df2['Close'])\n",
        "plt.xlabel('Date')\n",
        "plt.ylabel('Close Price USD', fontsize=16)\n",
        "plt.show()"
      ]
    },
    {
      "cell_type": "code",
      "execution_count": 14,
      "metadata": {},
      "outputs": [],
      "source": [
        "# TSdata_arr = df2.filter(['Close']).values\n",
        "# TSdata_arr"
      ]
    },
    {
      "cell_type": "code",
      "execution_count": 15,
      "metadata": {},
      "outputs": [],
      "source": [
        "# Scale the Data\n",
        "scaler = MinMaxScaler(feature_range =(0,1))\n",
        "scaled_data = scaler.fit_transform(TSdata_arr)\n",
        "# scaled_data"
      ]
    },
    {
      "cell_type": "code",
      "execution_count": 16,
      "metadata": {},
      "outputs": [
        {
          "data": {
            "text/plain": [
              "928"
            ]
          },
          "execution_count": 16,
          "metadata": {},
          "output_type": "execute_result"
        }
      ],
      "source": [
        "training_data_len = math.ceil(len(TSdata_arr) * 0.75)\n",
        "training_data_len"
      ]
    },
    {
      "cell_type": "code",
      "execution_count": 17,
      "metadata": {},
      "outputs": [
        {
          "data": {
            "text/plain": [
              "(928, 1)"
            ]
          },
          "execution_count": 17,
          "metadata": {},
          "output_type": "execute_result"
        }
      ],
      "source": [
        "# Created scaled training dataset\n",
        "train_data = scaled_data[0:training_data_len]\n",
        "train_data.shape"
      ]
    },
    {
      "cell_type": "code",
      "execution_count": 18,
      "metadata": {},
      "outputs": [],
      "source": [
        "# Split\n",
        "X_train = []\n",
        "y_train = []\n",
        "\n",
        "for i in range(ts_points, len(train_data)):\n",
        "    X_train.append(train_data[i-ts_points:i,0])\n",
        "    y_train.append(train_data[i,0])\n",
        "    # if i <= ts_points+3:\n",
        "    #     print(X_train)\n",
        "    #     print(y_train)\n",
        "    #     print()\n"
      ]
    },
    {
      "cell_type": "code",
      "execution_count": 19,
      "metadata": {},
      "outputs": [],
      "source": [
        "# convert X_train and y_train to numpy arrays for LSTM\n",
        "X_train, y_train = np.array(X_train), np.array(y_train)"
      ]
    },
    {
      "cell_type": "code",
      "execution_count": 20,
      "metadata": {},
      "outputs": [
        {
          "name": "stdout",
          "output_type": "stream",
          "text": [
            "(808, 120)\n",
            "(808,)\n"
          ]
        }
      ],
      "source": [
        "print (X_train.shape)\n",
        "print (y_train.shape)"
      ]
    },
    {
      "cell_type": "code",
      "execution_count": 21,
      "metadata": {},
      "outputs": [
        {
          "data": {
            "text/plain": [
              "(808, 120, 1)"
            ]
          },
          "execution_count": 21,
          "metadata": {},
          "output_type": "execute_result"
        }
      ],
      "source": [
        "# LSTM network expects a 3D input (No_of_Samples, number of time steps, and number of features) no_of_features = 1 (Close)\n",
        "X_train = np.reshape(X_train, (X_train.shape[0], X_train.shape[1], 1))\n",
        "X_train.shape"
      ]
    },
    {
      "cell_type": "code",
      "execution_count": 22,
      "metadata": {},
      "outputs": [
        {
          "data": {
            "text/plain": [
              "808"
            ]
          },
          "execution_count": 22,
          "metadata": {},
          "output_type": "execute_result"
        }
      ],
      "source": [
        "training_data_len - ts_points"
      ]
    },
    {
      "cell_type": "code",
      "execution_count": 23,
      "metadata": {},
      "outputs": [],
      "source": [
        "# hidden_nodes = int(2/3 * (X_train.shape[1] * 1))\n",
        "# print(f\"The number of hidden nodes is {hidden_nodes}.\")"
      ]
    },
    {
      "cell_type": "code",
      "execution_count": 24,
      "metadata": {},
      "outputs": [],
      "source": [
        "# LSTM MOdel\n",
        "model = tf.keras.models.Sequential()\n",
        "# model.add(tf.keras.layers.LSTM(50, return_sequences=True, input_shape=(X_train.shape[1],1)))\n",
        "# model.add(tf.keras.layers.LSTM(50, return_sequences=False))\n",
        "# model.add(tf.keras.layers.Dropout(0.2))\n",
        "# model.add(tf.keras.layers.Dense(25))\n",
        "# model.add(tf.keras.layers.Dense(1))\n",
        "# model.summary()\n"
      ]
    },
    {
      "cell_type": "code",
      "execution_count": 25,
      "metadata": {},
      "outputs": [
        {
          "name": "stdout",
          "output_type": "stream",
          "text": [
            "Model: \"sequential\"\n",
            "_________________________________________________________________\n",
            "Layer (type)                 Output Shape              Param #   \n",
            "=================================================================\n",
            "lstm (LSTM)                  (None, 120, 50)           10400     \n",
            "_________________________________________________________________\n",
            "lstm_1 (LSTM)                (None, 50)                20200     \n",
            "_________________________________________________________________\n",
            "dropout (Dropout)            (None, 50)                0         \n",
            "_________________________________________________________________\n",
            "dense (Dense)                (None, 25)                1275      \n",
            "_________________________________________________________________\n",
            "dense_1 (Dense)              (None, 1)                 26        \n",
            "=================================================================\n",
            "Total params: 31,901\n",
            "Trainable params: 31,901\n",
            "Non-trainable params: 0\n",
            "_________________________________________________________________\n"
          ]
        }
      ],
      "source": [
        "\n",
        "# # BEST FOR TESLA#\n",
        "model.add(tf.keras.layers.LSTM(50, return_sequences=True, input_shape=(X_train.shape[1],1)))\n",
        "model.add(tf.keras.layers.LSTM(50, return_sequences=False))\n",
        "model.add(tf.keras.layers.Dropout(0.2))\n",
        "model.add(tf.keras.layers.Dense(25))\n",
        "model.add(tf.keras.layers.Dense(1))\n",
        "model.summary()\n",
        "\n",
        "# #model.fit(X_train, y_train, batch_size=64, epochs=50"
      ]
    },
    {
      "cell_type": "code",
      "execution_count": 26,
      "metadata": {},
      "outputs": [],
      "source": [
        "model.compile(optimizer='adam', loss='mean_squared_error')\n",
        "# model.compile(loss=\"binary_crossentropy\", optimizer=\"adam\", metrics=[\"accuracy\"])"
      ]
    },
    {
      "cell_type": "code",
      "execution_count": 27,
      "metadata": {},
      "outputs": [
        {
          "name": "stdout",
          "output_type": "stream",
          "text": [
            "WARNING:tensorflow:`period` argument is deprecated. Please use `save_freq` to specify the frequency in number of batches seen.\n"
          ]
        }
      ],
      "source": [
        "import os\n",
        "from tensorflow.keras.callbacks import ModelCheckpoint\n",
        "\n",
        "batch_size=64\n",
        "\n",
        "os.makedirs(\"chk_points/\", exist_ok=True)\n",
        "chkpoint_path=\"chk_points/weights.{epoch}.hdf5\"\n",
        "\n",
        "# Create chk points\n",
        "chkpt_callback = ModelCheckpoint(filepath=chkpoint_path,\n",
        "                              verbose=1,\n",
        "                              save_weights_only=True,\n",
        "                              save_freq=\"epoch\",\n",
        "                              period=5)\n",
        "\n",
        "# chkpoint_path = \"chk_points/cp-{epoch:04d}.ckpt\"\n",
        "# chkpt_callback = tf.keras.callbacks.ModelCheckpoint(\n",
        "#     filepath=chkpoint_path, \n",
        "#     verbose=1, \n",
        "#     save_weights_only=True,\n",
        "#     save_freq=5*batch_size)                    \n",
        "\n",
        "# model.save_weights(chkpoint_path.format(epoch=0))    \n"
      ]
    },
    {
      "cell_type": "code",
      "execution_count": 28,
      "metadata": {},
      "outputs": [],
      "source": [
        "# training_data_len\n",
        "# scaled_data"
      ]
    },
    {
      "cell_type": "code",
      "execution_count": 29,
      "metadata": {},
      "outputs": [
        {
          "name": "stdout",
          "output_type": "stream",
          "text": [
            "Epoch 1/32\n",
            "13/13 [==============================] - 4s 113ms/step - loss: 0.0117\n",
            "Epoch 2/32\n",
            "13/13 [==============================] - 1s 115ms/step - loss: 0.0029\n",
            "Epoch 3/32\n",
            "13/13 [==============================] - 1s 107ms/step - loss: 0.0012\n",
            "Epoch 4/32\n",
            "13/13 [==============================] - 1s 108ms/step - loss: 7.9272e-04\n",
            "Epoch 5/32\n",
            "13/13 [==============================] - 1s 115ms/step - loss: 7.5538e-04\n",
            "Epoch 6/32\n",
            "13/13 [==============================] - 1s 105ms/step - loss: 5.6975e-04\n",
            "Epoch 7/32\n",
            "13/13 [==============================] - 1s 103ms/step - loss: 5.6462e-04\n",
            "Epoch 8/32\n",
            "13/13 [==============================] - 2s 167ms/step - loss: 5.0521e-04\n",
            "Epoch 9/32\n",
            "13/13 [==============================] - 2s 168ms/step - loss: 4.7456e-04\n",
            "Epoch 10/32\n",
            "13/13 [==============================] - 2s 159ms/step - loss: 4.9815e-04\n",
            "Epoch 11/32\n",
            "13/13 [==============================] - 2s 160ms/step - loss: 4.7956e-04\n",
            "Epoch 12/32\n",
            "13/13 [==============================] - 2s 164ms/step - loss: 4.8764e-04\n",
            "Epoch 13/32\n",
            "13/13 [==============================] - 2s 166ms/step - loss: 5.0942e-04\n",
            "Epoch 14/32\n",
            "13/13 [==============================] - 2s 173ms/step - loss: 4.4144e-04\n",
            "Epoch 15/32\n",
            "13/13 [==============================] - 2s 152ms/step - loss: 4.4388e-04\n",
            "Epoch 16/32\n",
            "13/13 [==============================] - 2s 155ms/step - loss: 4.4342e-04\n",
            "Epoch 17/32\n",
            "13/13 [==============================] - 2s 166ms/step - loss: 4.0665e-04\n",
            "Epoch 18/32\n",
            "13/13 [==============================] - 2s 185ms/step - loss: 4.3359e-04\n",
            "Epoch 19/32\n",
            "13/13 [==============================] - 2s 148ms/step - loss: 4.2727e-04\n",
            "Epoch 20/32\n",
            "13/13 [==============================] - 2s 133ms/step - loss: 3.5948e-04\n",
            "Epoch 21/32\n",
            "13/13 [==============================] - 2s 150ms/step - loss: 3.8617e-04\n",
            "Epoch 22/32\n",
            "13/13 [==============================] - 2s 141ms/step - loss: 3.6129e-04\n",
            "Epoch 23/32\n",
            "13/13 [==============================] - 2s 150ms/step - loss: 3.3526e-04\n",
            "Epoch 24/32\n",
            "13/13 [==============================] - 2s 164ms/step - loss: 3.5935e-04\n",
            "Epoch 25/32\n",
            "13/13 [==============================] - 2s 147ms/step - loss: 3.3419e-04\n",
            "Epoch 26/32\n",
            "13/13 [==============================] - 2s 125ms/step - loss: 3.1686e-04\n",
            "Epoch 27/32\n",
            "13/13 [==============================] - 2s 121ms/step - loss: 3.1035e-04\n",
            "Epoch 28/32\n",
            "13/13 [==============================] - 2s 120ms/step - loss: 3.0712e-04\n",
            "Epoch 29/32\n",
            "13/13 [==============================] - 2s 116ms/step - loss: 2.7880e-04\n",
            "Epoch 30/32\n",
            "13/13 [==============================] - 2s 120ms/step - loss: 3.7053e-04\n",
            "Epoch 31/32\n",
            "13/13 [==============================] - 2s 117ms/step - loss: 3.5302e-04\n",
            "Epoch 32/32\n",
            "13/13 [==============================] - 2s 117ms/step - loss: 3.1594e-04\n"
          ]
        },
        {
          "data": {
            "text/plain": [
              "<keras.callbacks.History at 0x1db23667580>"
            ]
          },
          "execution_count": 29,
          "metadata": {},
          "output_type": "execute_result"
        }
      ],
      "source": [
        "# model.fit(X_train, y_train, batch_size=batch_size, epochs=50, validation_split=0.43, callbacks=[chkpt_callback])\n",
        "model.fit(X_train, y_train, batch_size=64 ,epochs=32)"
      ]
    },
    {
      "cell_type": "code",
      "execution_count": 30,
      "metadata": {},
      "outputs": [],
      "source": [
        "model.save('Saved_Models/Model_'+ticker+'.h5')"
      ]
    },
    {
      "cell_type": "code",
      "execution_count": 31,
      "metadata": {},
      "outputs": [],
      "source": [
        "# test_data = scaled_data[training_data_len:]\n",
        "\n",
        "# Bring in the last 'ts_points' (60 values) from training set so when X_test is used to predict , predictions have same shape as Y_test\n",
        "# The for loop starts with 'ts_points' thatbmeans the resultant array will have 60 less rows\n",
        "test_data = scaled_data[training_data_len-ts_points:]\n",
        "# test_data[0:60,0]\n"
      ]
    },
    {
      "cell_type": "code",
      "execution_count": 32,
      "metadata": {},
      "outputs": [],
      "source": [
        "X_test = []\n",
        "y_test = TSdata_arr[training_data_len:]\n",
        "for i in range(ts_points, len(test_data)):\n",
        "    X_test.append(test_data[i-ts_points:i,0])\n"
      ]
    },
    {
      "cell_type": "code",
      "execution_count": 33,
      "metadata": {},
      "outputs": [],
      "source": [
        "# convert the data to a numpy array to use it in LSTM MODEL\n",
        "X_test = np.array(X_test)\n",
        "X_test = np.reshape(X_test, (X_test.shape[0],  X_test.shape[1], 1))"
      ]
    },
    {
      "cell_type": "code",
      "execution_count": 34,
      "metadata": {},
      "outputs": [],
      "source": [
        "from sklearn.metrics import mean_squared_error"
      ]
    },
    {
      "cell_type": "code",
      "execution_count": 35,
      "metadata": {},
      "outputs": [
        {
          "data": {
            "text/plain": [
              "1.759138898329136"
            ]
          },
          "execution_count": 35,
          "metadata": {},
          "output_type": "execute_result"
        }
      ],
      "source": [
        "# Models predicted price for X_train\n",
        "predictions_tr = model.predict(X_train)\n",
        "predictions_tr = scaler.inverse_transform(predictions_tr)\n",
        "\n",
        "y_train_tr =  scaler.inverse_transform(y_train.reshape(-1,1))\n",
        "rmse_tr = math.sqrt(mean_squared_error(y_train_tr, predictions_tr))\n",
        "rmse_tr"
      ]
    },
    {
      "cell_type": "code",
      "execution_count": 36,
      "metadata": {},
      "outputs": [],
      "source": [
        "# Models predicted price for X_test\n",
        "predictions = model.predict(X_test)\n",
        "predictions = scaler.inverse_transform(predictions)"
      ]
    },
    {
      "cell_type": "code",
      "execution_count": 37,
      "metadata": {},
      "outputs": [
        {
          "data": {
            "text/plain": [
              "((309, 1), (309, 1))"
            ]
          },
          "execution_count": 37,
          "metadata": {},
          "output_type": "execute_result"
        }
      ],
      "source": [
        "y_test.shape, predictions.shape"
      ]
    },
    {
      "cell_type": "code",
      "execution_count": 38,
      "metadata": {},
      "outputs": [
        {
          "data": {
            "text/plain": [
              "4.376630397012958"
            ]
          },
          "execution_count": 38,
          "metadata": {},
          "output_type": "execute_result"
        }
      ],
      "source": [
        "# RMSE to check accuracy\n",
        "\n",
        "rmse = math.sqrt(mean_squared_error(y_test, predictions))\n",
        "rmse"
      ]
    },
    {
      "cell_type": "code",
      "execution_count": 39,
      "metadata": {},
      "outputs": [
        {
          "name": "stderr",
          "output_type": "stream",
          "text": [
            "<ipython-input-39-bb86776ae978>:4: SettingWithCopyWarning: \n",
            "A value is trying to be set on a copy of a slice from a DataFrame.\n",
            "Try using .loc[row_indexer,col_indexer] = value instead\n",
            "\n",
            "See the caveats in the documentation: https://pandas.pydata.org/pandas-docs/stable/user_guide/indexing.html#returning-a-view-versus-a-copy\n",
            "  actual['Predictions'] = predictions\n"
          ]
        },
        {
          "data": {
            "text/html": [
              "<div>\n",
              "<style scoped>\n",
              "    .dataframe tbody tr th:only-of-type {\n",
              "        vertical-align: middle;\n",
              "    }\n",
              "\n",
              "    .dataframe tbody tr th {\n",
              "        vertical-align: top;\n",
              "    }\n",
              "\n",
              "    .dataframe thead th {\n",
              "        text-align: right;\n",
              "    }\n",
              "</style>\n",
              "<table border=\"1\" class=\"dataframe\">\n",
              "  <thead>\n",
              "    <tr style=\"text-align: right;\">\n",
              "      <th></th>\n",
              "      <th>Close</th>\n",
              "      <th>Predictions</th>\n",
              "    </tr>\n",
              "    <tr>\n",
              "      <th>Date</th>\n",
              "      <th></th>\n",
              "      <th></th>\n",
              "    </tr>\n",
              "  </thead>\n",
              "  <tbody>\n",
              "    <tr>\n",
              "      <th>2020-07-06</th>\n",
              "      <td>93.462502</td>\n",
              "      <td>91.562057</td>\n",
              "    </tr>\n",
              "    <tr>\n",
              "      <th>2020-07-07</th>\n",
              "      <td>93.172501</td>\n",
              "      <td>91.903183</td>\n",
              "    </tr>\n",
              "    <tr>\n",
              "      <th>2020-07-08</th>\n",
              "      <td>95.342499</td>\n",
              "      <td>92.284073</td>\n",
              "    </tr>\n",
              "    <tr>\n",
              "      <th>2020-07-09</th>\n",
              "      <td>95.752502</td>\n",
              "      <td>92.844994</td>\n",
              "    </tr>\n",
              "    <tr>\n",
              "      <th>2020-07-10</th>\n",
              "      <td>95.919998</td>\n",
              "      <td>93.511719</td>\n",
              "    </tr>\n",
              "    <tr>\n",
              "      <th>...</th>\n",
              "      <td>...</td>\n",
              "      <td>...</td>\n",
              "    </tr>\n",
              "    <tr>\n",
              "      <th>2021-09-17</th>\n",
              "      <td>146.059998</td>\n",
              "      <td>150.025162</td>\n",
              "    </tr>\n",
              "    <tr>\n",
              "      <th>2021-09-20</th>\n",
              "      <td>142.940002</td>\n",
              "      <td>148.848053</td>\n",
              "    </tr>\n",
              "    <tr>\n",
              "      <th>2021-09-21</th>\n",
              "      <td>143.429993</td>\n",
              "      <td>147.325653</td>\n",
              "    </tr>\n",
              "    <tr>\n",
              "      <th>2021-09-22</th>\n",
              "      <td>145.850006</td>\n",
              "      <td>145.742813</td>\n",
              "    </tr>\n",
              "    <tr>\n",
              "      <th>2021-09-23</th>\n",
              "      <td>146.830002</td>\n",
              "      <td>144.452713</td>\n",
              "    </tr>\n",
              "  </tbody>\n",
              "</table>\n",
              "<p>309 rows × 2 columns</p>\n",
              "</div>"
            ],
            "text/plain": [
              "                 Close  Predictions\n",
              "Date                               \n",
              "2020-07-06   93.462502    91.562057\n",
              "2020-07-07   93.172501    91.903183\n",
              "2020-07-08   95.342499    92.284073\n",
              "2020-07-09   95.752502    92.844994\n",
              "2020-07-10   95.919998    93.511719\n",
              "...                ...          ...\n",
              "2021-09-17  146.059998   150.025162\n",
              "2021-09-20  142.940002   148.848053\n",
              "2021-09-21  143.429993   147.325653\n",
              "2021-09-22  145.850006   145.742813\n",
              "2021-09-23  146.830002   144.452713\n",
              "\n",
              "[309 rows x 2 columns]"
            ]
          },
          "execution_count": 39,
          "metadata": {},
          "output_type": "execute_result"
        }
      ],
      "source": [
        "# Plot\n",
        "train = TSdata_df[:training_data_len]\n",
        "actual = TSdata_df[training_data_len:]\n",
        "actual['Predictions'] = predictions\n",
        "actual"
      ]
    },
    {
      "cell_type": "code",
      "execution_count": 40,
      "metadata": {},
      "outputs": [
        {
          "data": {
            "image/png": "[encoded data removed]",
            "text/plain": [
              "<Figure size 1152x576 with 1 Axes>"
            ]
          },
          "metadata": {},
          "output_type": "display_data"
        }
      ],
      "source": [
        "plt.figure(figsize=(16,8))\n",
        "plt.title(f\"Model for '{stock}' - {ticker}\")\n",
        "plt.xlabel(\"Date\")\n",
        "plt.ylabel(\"Close Price USD\")\n",
        "plt.plot(train['Close'])\n",
        "plt.plot(actual[['Close', 'Predictions']])\n",
        "plt.legend(['Train', 'Actual', 'Predictions'], loc='lower right')\n",
        "plt.show()"
      ]
    },
    {
      "cell_type": "markdown",
      "metadata": {},
      "source": [
        "# TEST"
      ]
    },
    {
      "cell_type": "code",
      "execution_count": 41,
      "metadata": {},
      "outputs": [],
      "source": [
        "# for predictions add 100 extra days to make sure it has more than ts_points to make up for missing days (weekends and holidays)\n",
        "\n",
        "fetch_days = ts_points + 100    \n",
        "\n",
        "sd =  today - timedelta(days=fetch_days)\n",
        "sd = sd.strftime('%Y-%m-%d')\n",
        "\n",
        "ed = today.strftime('%Y-%m-%d')\n",
        "ed\n",
        "\n",
        "next_day = (today + timedelta(days=1) ).strftime('%Y-%m-%d')\n",
        "# next_day"
      ]
    },
    {
      "cell_type": "code",
      "execution_count": 42,
      "metadata": {},
      "outputs": [],
      "source": [
        "# get the quote\n",
        "quote = pdr.DataReader(ticker, data_source=\"yahoo\", start=sd, end=ed)\n",
        "new_df = quote.filter(['Close'])\n",
        "last_n_days = ts_points\n",
        "last_n_days_arr = new_df[-last_n_days:].values "
      ]
    },
    {
      "cell_type": "code",
      "execution_count": 43,
      "metadata": {},
      "outputs": [],
      "source": [
        "last_n_days_scaled = scaler.transform(last_n_days_arr)\n",
        "X_test = []\n",
        "X_test.append(last_n_days_scaled)\n",
        "X_test = np.array(X_test)\n",
        "X_test = np.reshape(X_test,(X_test.shape[0], X_test.shape[1],1))\n"
      ]
    },
    {
      "cell_type": "code",
      "execution_count": 44,
      "metadata": {},
      "outputs": [
        {
          "name": "stdout",
          "output_type": "stream",
          "text": [
            "Model: \"sequential\"\n",
            "_________________________________________________________________\n",
            "Layer (type)                 Output Shape              Param #   \n",
            "=================================================================\n",
            "lstm (LSTM)                  (None, 120, 50)           10400     \n",
            "_________________________________________________________________\n",
            "lstm_1 (LSTM)                (None, 50)                20200     \n",
            "_________________________________________________________________\n",
            "dropout (Dropout)            (None, 50)                0         \n",
            "_________________________________________________________________\n",
            "dense (Dense)                (None, 25)                1275      \n",
            "_________________________________________________________________\n",
            "dense_1 (Dense)              (None, 1)                 26        \n",
            "=================================================================\n",
            "Total params: 31,901\n",
            "Trainable params: 31,901\n",
            "Non-trainable params: 0\n",
            "_________________________________________________________________\n",
            "Predicted Closing price for 'Apple' on 2021-10-25 is 145.7795\n"
          ]
        }
      ],
      "source": [
        "##########################loading saved model ###############################\n",
        "new_model = tf.keras.models.load_model('Saved_Models/Model_'+ticker+'.h5')\n",
        "\n",
        "# Check its architecture\n",
        "new_model.summary()\n",
        "nmpred_price = new_model.predict(X_test)\n",
        "nmpred_price = scaler.inverse_transform(nmpred_price)\n",
        "nmpred_price = nmpred_price[0][0]\n",
        "print(f\"Predicted Closing price for '{stock}' on {next_day} is {nmpred_price:.4f}\")"
      ]
    },
    {
      "cell_type": "code",
      "execution_count": 45,
      "metadata": {},
      "outputs": [
        {
          "name": "stdout",
          "output_type": "stream",
          "text": [
            "Predicted Closing price for 'Apple' on 2021-10-25 is 145.7795\n"
          ]
        }
      ],
      "source": [
        "pred_price = model.predict(X_test)\n",
        "pred_price = scaler.inverse_transform(pred_price)\n",
        "pred_price = pred_price[0][0]\n",
        "print(f\"Predicted Closing price for '{stock}' on {next_day} is {pred_price:.4f}\")"
      ]
    },
    {
      "cell_type": "code",
      "execution_count": 46,
      "metadata": {},
      "outputs": [
        {
          "data": {
            "text/html": [
              "<div>\n",
              "<style scoped>\n",
              "    .dataframe tbody tr th:only-of-type {\n",
              "        vertical-align: middle;\n",
              "    }\n",
              "\n",
              "    .dataframe tbody tr th {\n",
              "        vertical-align: top;\n",
              "    }\n",
              "\n",
              "    .dataframe thead th {\n",
              "        text-align: right;\n",
              "    }\n",
              "</style>\n",
              "<table border=\"1\" class=\"dataframe\">\n",
              "  <thead>\n",
              "    <tr style=\"text-align: right;\">\n",
              "      <th></th>\n",
              "      <th>High</th>\n",
              "      <th>Low</th>\n",
              "      <th>Open</th>\n",
              "      <th>Close</th>\n",
              "      <th>Volume</th>\n",
              "      <th>Adj Close</th>\n",
              "    </tr>\n",
              "    <tr>\n",
              "      <th>Date</th>\n",
              "      <th></th>\n",
              "      <th></th>\n",
              "      <th></th>\n",
              "      <th></th>\n",
              "      <th></th>\n",
              "      <th></th>\n",
              "    </tr>\n",
              "  </thead>\n",
              "  <tbody>\n",
              "    <tr>\n",
              "      <th>2021-10-19</th>\n",
              "      <td>149.169998</td>\n",
              "      <td>146.550003</td>\n",
              "      <td>147.009995</td>\n",
              "      <td>148.759995</td>\n",
              "      <td>76378900</td>\n",
              "      <td>148.759995</td>\n",
              "    </tr>\n",
              "    <tr>\n",
              "      <th>2021-10-20</th>\n",
              "      <td>149.750000</td>\n",
              "      <td>148.119995</td>\n",
              "      <td>148.699997</td>\n",
              "      <td>149.259995</td>\n",
              "      <td>58418800</td>\n",
              "      <td>149.259995</td>\n",
              "    </tr>\n",
              "    <tr>\n",
              "      <th>2021-10-21</th>\n",
              "      <td>149.639999</td>\n",
              "      <td>147.869995</td>\n",
              "      <td>148.809998</td>\n",
              "      <td>149.479996</td>\n",
              "      <td>61421000</td>\n",
              "      <td>149.479996</td>\n",
              "    </tr>\n",
              "    <tr>\n",
              "      <th>2021-10-22</th>\n",
              "      <td>150.179993</td>\n",
              "      <td>148.639999</td>\n",
              "      <td>149.690002</td>\n",
              "      <td>148.690002</td>\n",
              "      <td>58839600</td>\n",
              "      <td>148.690002</td>\n",
              "    </tr>\n",
              "  </tbody>\n",
              "</table>\n",
              "</div>"
            ],
            "text/plain": [
              "                  High         Low        Open       Close    Volume  \\\n",
              "Date                                                                   \n",
              "2021-10-19  149.169998  146.550003  147.009995  148.759995  76378900   \n",
              "2021-10-20  149.750000  148.119995  148.699997  149.259995  58418800   \n",
              "2021-10-21  149.639999  147.869995  148.809998  149.479996  61421000   \n",
              "2021-10-22  150.179993  148.639999  149.690002  148.690002  58839600   \n",
              "\n",
              "             Adj Close  \n",
              "Date                    \n",
              "2021-10-19  148.759995  \n",
              "2021-10-20  149.259995  \n",
              "2021-10-21  149.479996  \n",
              "2021-10-22  148.690002  "
            ]
          },
          "execution_count": 46,
          "metadata": {},
          "output_type": "execute_result"
        }
      ],
      "source": [
        "# verify\n",
        "d1 = today - timedelta(days=5)\n",
        "d1 = d1.strftime('%Y-%m-%d')\n",
        "\n",
        "quote2 = pdr.DataReader(ticker, data_source=\"yahoo\", start=d1)\n",
        "quote2"
      ]
    },
    {
      "cell_type": "code",
      "execution_count": null,
      "metadata": {},
      "outputs": [],
      "source": []
    },
    {
      "cell_type": "code",
      "execution_count": null,
      "metadata": {},
      "outputs": [],
      "source": []
    }
  ],
  "metadata": {
    "colab": {
      "name": "Untitled1.ipynb",
      "provenance": []
    },
    "interpreter": {
      "hash": "eb0a5deb85624cf39522bd9ea766efe3b585b85d5e69ded4a98e5c69611b9570"
    },
    "kernelspec": {
      "display_name": "Python 3.8.5 64-bit ('base': conda)",
      "name": "python3"
    },
    "language_info": {
      "codemirror_mode": {
        "name": "ipython",
        "version": 3
      },
      "file_extension": ".py",
      "mimetype": "text/x-python",
      "name": "python",
      "nbconvert_exporter": "python",
      "pygments_lexer": "ipython3",
      "version": "3.8.5"
    }
  },
  "nbformat": 4,
  "nbformat_minor": 0
}
