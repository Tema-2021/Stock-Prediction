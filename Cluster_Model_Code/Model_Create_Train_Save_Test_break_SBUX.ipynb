{
  "cells": [
    {
      "cell_type": "code",
      "execution_count": 285,
      "metadata": {},
      "outputs": [],
      "source": [
        "# !pip install pandas_datareader"
      ]
    },
    {
      "cell_type": "code",
      "execution_count": 286,
      "metadata": {
        "id": "brsCiv-W6GZ2"
      },
      "outputs": [],
      "source": [
        "import math\n",
        "import numpy as np\n",
        "import os\n",
        "from sklearn.preprocessing import MinMaxScaler\n",
        "import tensorflow as tf\n",
        "import matplotlib.pyplot as plt\n",
        "plt.style.use('ggplot')\n",
        "import pandas_datareader as pdr\n",
        "from datetime import datetime, timedelta"
      ]
    },
    {
      "cell_type": "code",
      "execution_count": 287,
      "metadata": {},
      "outputs": [],
      "source": [
        "#Get the stock\n",
        "ticker = 'SBUX'\n",
        "stock =\"Starbucks Corporation\"\n",
        "#  here we will use n  days historical data to predict next day closing\n",
        "ts_points = 120\n",
        "# train_data[0:60,0]  \n",
        "\n",
        "today = datetime.today()\n",
        "# start_date ='2016-01-01'\n",
        "start_date = (today - timedelta(days=5*365) ).strftime('%Y-%m-%d')\n",
        "\n",
        "# end_date   = today.strftime('%Y-%m-%d')\n",
        "end_date = (today - timedelta(days=62) ).strftime('%Y-%m-%d')\n",
        "\n",
        "stock_df = pdr.DataReader(ticker, data_source=\"yahoo\", start=start_date, end=end_date)"
      ]
    },
    {
      "cell_type": "code",
      "execution_count": 288,
      "metadata": {},
      "outputs": [
        {
          "data": {
            "text/html": [
              "<div>\n",
              "<style scoped>\n",
              "    .dataframe tbody tr th:only-of-type {\n",
              "        vertical-align: middle;\n",
              "    }\n",
              "\n",
              "    .dataframe tbody tr th {\n",
              "        vertical-align: top;\n",
              "    }\n",
              "\n",
              "    .dataframe thead th {\n",
              "        text-align: right;\n",
              "    }\n",
              "</style>\n",
              "<table border=\"1\" class=\"dataframe\">\n",
              "  <thead>\n",
              "    <tr style=\"text-align: right;\">\n",
              "      <th></th>\n",
              "      <th>High</th>\n",
              "      <th>Low</th>\n",
              "      <th>Open</th>\n",
              "      <th>Close</th>\n",
              "      <th>Volume</th>\n",
              "      <th>Adj Close</th>\n",
              "    </tr>\n",
              "    <tr>\n",
              "      <th>Date</th>\n",
              "      <th></th>\n",
              "      <th></th>\n",
              "      <th></th>\n",
              "      <th></th>\n",
              "      <th></th>\n",
              "      <th></th>\n",
              "    </tr>\n",
              "  </thead>\n",
              "  <tbody>\n",
              "    <tr>\n",
              "      <th>2016-11-01</th>\n",
              "      <td>53.209999</td>\n",
              "      <td>52.090000</td>\n",
              "      <td>53.139999</td>\n",
              "      <td>52.500000</td>\n",
              "      <td>15425800.0</td>\n",
              "      <td>47.644585</td>\n",
              "    </tr>\n",
              "    <tr>\n",
              "      <th>2016-11-02</th>\n",
              "      <td>53.459999</td>\n",
              "      <td>52.310001</td>\n",
              "      <td>52.340000</td>\n",
              "      <td>52.980000</td>\n",
              "      <td>10851700.0</td>\n",
              "      <td>48.080193</td>\n",
              "    </tr>\n",
              "    <tr>\n",
              "      <th>2016-11-03</th>\n",
              "      <td>53.000000</td>\n",
              "      <td>51.340000</td>\n",
              "      <td>52.990002</td>\n",
              "      <td>51.770000</td>\n",
              "      <td>21847300.0</td>\n",
              "      <td>46.982098</td>\n",
              "    </tr>\n",
              "    <tr>\n",
              "      <th>2016-11-04</th>\n",
              "      <td>53.740002</td>\n",
              "      <td>50.840000</td>\n",
              "      <td>51.430000</td>\n",
              "      <td>52.750000</td>\n",
              "      <td>21956800.0</td>\n",
              "      <td>47.871460</td>\n",
              "    </tr>\n",
              "    <tr>\n",
              "      <th>2016-11-07</th>\n",
              "      <td>54.680000</td>\n",
              "      <td>53.189999</td>\n",
              "      <td>53.500000</td>\n",
              "      <td>54.490002</td>\n",
              "      <td>14916800.0</td>\n",
              "      <td>49.450546</td>\n",
              "    </tr>\n",
              "    <tr>\n",
              "      <th>...</th>\n",
              "      <td>...</td>\n",
              "      <td>...</td>\n",
              "      <td>...</td>\n",
              "      <td>...</td>\n",
              "      <td>...</td>\n",
              "      <td>...</td>\n",
              "    </tr>\n",
              "    <tr>\n",
              "      <th>2021-08-24</th>\n",
              "      <td>115.849998</td>\n",
              "      <td>114.940002</td>\n",
              "      <td>115.389999</td>\n",
              "      <td>115.080002</td>\n",
              "      <td>3447300.0</td>\n",
              "      <td>115.080002</td>\n",
              "    </tr>\n",
              "    <tr>\n",
              "      <th>2021-08-25</th>\n",
              "      <td>115.989998</td>\n",
              "      <td>115.000000</td>\n",
              "      <td>115.589996</td>\n",
              "      <td>115.570000</td>\n",
              "      <td>3881500.0</td>\n",
              "      <td>115.570000</td>\n",
              "    </tr>\n",
              "    <tr>\n",
              "      <th>2021-08-26</th>\n",
              "      <td>115.769997</td>\n",
              "      <td>113.860001</td>\n",
              "      <td>115.620003</td>\n",
              "      <td>114.320000</td>\n",
              "      <td>5188200.0</td>\n",
              "      <td>114.320000</td>\n",
              "    </tr>\n",
              "    <tr>\n",
              "      <th>2021-08-27</th>\n",
              "      <td>115.389999</td>\n",
              "      <td>114.180000</td>\n",
              "      <td>114.610001</td>\n",
              "      <td>115.120003</td>\n",
              "      <td>4202900.0</td>\n",
              "      <td>115.120003</td>\n",
              "    </tr>\n",
              "    <tr>\n",
              "      <th>2021-08-30</th>\n",
              "      <td>115.820000</td>\n",
              "      <td>114.629997</td>\n",
              "      <td>115.610001</td>\n",
              "      <td>115.610001</td>\n",
              "      <td>3078200.0</td>\n",
              "      <td>115.610001</td>\n",
              "    </tr>\n",
              "  </tbody>\n",
              "</table>\n",
              "<p>1215 rows × 6 columns</p>\n",
              "</div>"
            ],
            "text/plain": [
              "                  High         Low        Open       Close      Volume  \\\n",
              "Date                                                                     \n",
              "2016-11-01   53.209999   52.090000   53.139999   52.500000  15425800.0   \n",
              "2016-11-02   53.459999   52.310001   52.340000   52.980000  10851700.0   \n",
              "2016-11-03   53.000000   51.340000   52.990002   51.770000  21847300.0   \n",
              "2016-11-04   53.740002   50.840000   51.430000   52.750000  21956800.0   \n",
              "2016-11-07   54.680000   53.189999   53.500000   54.490002  14916800.0   \n",
              "...                ...         ...         ...         ...         ...   \n",
              "2021-08-24  115.849998  114.940002  115.389999  115.080002   3447300.0   \n",
              "2021-08-25  115.989998  115.000000  115.589996  115.570000   3881500.0   \n",
              "2021-08-26  115.769997  113.860001  115.620003  114.320000   5188200.0   \n",
              "2021-08-27  115.389999  114.180000  114.610001  115.120003   4202900.0   \n",
              "2021-08-30  115.820000  114.629997  115.610001  115.610001   3078200.0   \n",
              "\n",
              "             Adj Close  \n",
              "Date                    \n",
              "2016-11-01   47.644585  \n",
              "2016-11-02   48.080193  \n",
              "2016-11-03   46.982098  \n",
              "2016-11-04   47.871460  \n",
              "2016-11-07   49.450546  \n",
              "...                ...  \n",
              "2021-08-24  115.080002  \n",
              "2021-08-25  115.570000  \n",
              "2021-08-26  114.320000  \n",
              "2021-08-27  115.120003  \n",
              "2021-08-30  115.610001  \n",
              "\n",
              "[1215 rows x 6 columns]"
            ]
          },
          "execution_count": 288,
          "metadata": {},
          "output_type": "execute_result"
        }
      ],
      "source": [
        "# Date is an index but to be sure , let's sort\n",
        "stock_df = stock_df.sort_index(ascending=True)\n",
        "stock_df"
      ]
    },
    {
      "cell_type": "code",
      "execution_count": 289,
      "metadata": {},
      "outputs": [
        {
          "data": {
            "text/plain": [
              "High         0\n",
              "Low          0\n",
              "Open         0\n",
              "Close        0\n",
              "Volume       0\n",
              "Adj Close    0\n",
              "dtype: int64"
            ]
          },
          "execution_count": 289,
          "metadata": {},
          "output_type": "execute_result"
        }
      ],
      "source": [
        "# check for nulls\n",
        "stock_df.isna().sum()"
      ]
    },
    {
      "cell_type": "code",
      "execution_count": 290,
      "metadata": {},
      "outputs": [
        {
          "data": {
            "text/plain": [
              "(1215, 6)"
            ]
          },
          "execution_count": 290,
          "metadata": {},
          "output_type": "execute_result"
        }
      ],
      "source": [
        "# Get shape\n",
        "stock_df.shape"
      ]
    },
    {
      "cell_type": "code",
      "execution_count": 291,
      "metadata": {},
      "outputs": [
        {
          "data": {
            "image/png": "[encoded data removed]",
            "text/plain": [
              "<Figure size 1152x576 with 1 Axes>"
            ]
          },
          "metadata": {},
          "output_type": "display_data"
        }
      ],
      "source": [
        "# Visualize closing price history\n",
        "plt.figure(figsize=(16,8))\n",
        "plt.title (f\"Closing Price History for '{stock}' - {ticker}\")\n",
        "plt.plot(stock_df['Close'])\n",
        "plt.xlabel('Date')\n",
        "plt.ylabel('Close Price USD', fontsize=16)\n",
        "plt.savefig('../static/Images/his_'+ticker+'.png')\n",
        "plt.show()"
      ]
    },
    {
      "cell_type": "code",
      "execution_count": 292,
      "metadata": {},
      "outputs": [
        {
          "data": {
            "image/png": "[encoded data removed]",
            "text/plain": [
              "<Figure size 432x288 with 1 Axes>"
            ]
          },
          "metadata": {},
          "output_type": "display_data"
        }
      ],
      "source": [
        "stock_df['Close'].plot.density()\n",
        "plt.xlabel('Distribution of the closing stock price')\n",
        "plt.savefig('../static/Images/den_'+ticker+'.png')\n",
        "plt.show()"
      ]
    },
    {
      "cell_type": "code",
      "execution_count": 293,
      "metadata": {},
      "outputs": [
        {
          "data": {
            "text/html": [
              "<div>\n",
              "<style scoped>\n",
              "    .dataframe tbody tr th:only-of-type {\n",
              "        vertical-align: middle;\n",
              "    }\n",
              "\n",
              "    .dataframe tbody tr th {\n",
              "        vertical-align: top;\n",
              "    }\n",
              "\n",
              "    .dataframe thead th {\n",
              "        text-align: right;\n",
              "    }\n",
              "</style>\n",
              "<table border=\"1\" class=\"dataframe\">\n",
              "  <thead>\n",
              "    <tr style=\"text-align: right;\">\n",
              "      <th></th>\n",
              "      <th>Close</th>\n",
              "    </tr>\n",
              "    <tr>\n",
              "      <th>Date</th>\n",
              "      <th></th>\n",
              "    </tr>\n",
              "  </thead>\n",
              "  <tbody>\n",
              "    <tr>\n",
              "      <th>2016-11-01</th>\n",
              "      <td>52.500000</td>\n",
              "    </tr>\n",
              "    <tr>\n",
              "      <th>2016-11-02</th>\n",
              "      <td>52.980000</td>\n",
              "    </tr>\n",
              "    <tr>\n",
              "      <th>2016-11-03</th>\n",
              "      <td>51.770000</td>\n",
              "    </tr>\n",
              "    <tr>\n",
              "      <th>2016-11-04</th>\n",
              "      <td>52.750000</td>\n",
              "    </tr>\n",
              "    <tr>\n",
              "      <th>2016-11-07</th>\n",
              "      <td>54.490002</td>\n",
              "    </tr>\n",
              "    <tr>\n",
              "      <th>...</th>\n",
              "      <td>...</td>\n",
              "    </tr>\n",
              "    <tr>\n",
              "      <th>2021-08-24</th>\n",
              "      <td>115.080002</td>\n",
              "    </tr>\n",
              "    <tr>\n",
              "      <th>2021-08-25</th>\n",
              "      <td>115.570000</td>\n",
              "    </tr>\n",
              "    <tr>\n",
              "      <th>2021-08-26</th>\n",
              "      <td>114.320000</td>\n",
              "    </tr>\n",
              "    <tr>\n",
              "      <th>2021-08-27</th>\n",
              "      <td>115.120003</td>\n",
              "    </tr>\n",
              "    <tr>\n",
              "      <th>2021-08-30</th>\n",
              "      <td>115.610001</td>\n",
              "    </tr>\n",
              "  </tbody>\n",
              "</table>\n",
              "<p>1215 rows × 1 columns</p>\n",
              "</div>"
            ],
            "text/plain": [
              "                 Close\n",
              "Date                  \n",
              "2016-11-01   52.500000\n",
              "2016-11-02   52.980000\n",
              "2016-11-03   51.770000\n",
              "2016-11-04   52.750000\n",
              "2016-11-07   54.490002\n",
              "...                ...\n",
              "2021-08-24  115.080002\n",
              "2021-08-25  115.570000\n",
              "2021-08-26  114.320000\n",
              "2021-08-27  115.120003\n",
              "2021-08-30  115.610001\n",
              "\n",
              "[1215 rows x 1 columns]"
            ]
          },
          "execution_count": 293,
          "metadata": {},
          "output_type": "execute_result"
        }
      ],
      "source": [
        "# DF with only close\n",
        "TSdata_df = stock_df.filter(['Close'])\n",
        "TSdata_df\n"
      ]
    },
    {
      "cell_type": "code",
      "execution_count": 294,
      "metadata": {},
      "outputs": [
        {
          "data": {
            "text/plain": [
              "array([[ 52.5       ],\n",
              "       [ 52.97999954],\n",
              "       [ 51.77000046],\n",
              "       ...,\n",
              "       [114.31999969],\n",
              "       [115.12000275],\n",
              "       [115.61000061]])"
            ]
          },
          "execution_count": 294,
          "metadata": {},
          "output_type": "execute_result"
        }
      ],
      "source": [
        "TSdata_arr = TSdata_df.values # this creates an array of Close Price\n",
        "TSdata_arr"
      ]
    },
    {
      "cell_type": "code",
      "execution_count": 295,
      "metadata": {},
      "outputs": [
        {
          "name": "stdout",
          "output_type": "stream",
          "text": [
            "ADF Statistic: -0.288526\n",
            "p-value: 0.927114\n",
            "Critical Values:\n",
            "\t1%: -3.436\n",
            "\t5%: -2.864\n",
            "\t10%: -2.568\n",
            "Failed to Reject Ho - Time Series is Non-Stationary\n"
          ]
        }
      ],
      "source": [
        "from statsmodels.tsa.stattools import adfuller\n",
        "import pandas as pd\n",
        "import numpy as np\n",
        "\n",
        "# ADF Test\n",
        "result = adfuller(TSdata_arr, autolag='AIC')\n",
        "\n",
        "print('ADF Statistic: %f' % result[0])\n",
        "\n",
        "print('p-value: %f' % result[1])\n",
        "\n",
        "print('Critical Values:')\n",
        "\n",
        "for key, value in result[4].items():\n",
        "    print('\\t%s: %.3f' % (key, value))\n",
        "if result[0] < result[4][\"5%\"]:\n",
        "    print (\"Reject Ho - Time Series is Stationary\")\n",
        "else:\n",
        "    print (\"Failed to Reject Ho - Time Series is Non-Stationary\")"
      ]
    },
    {
      "cell_type": "code",
      "execution_count": 296,
      "metadata": {},
      "outputs": [
        {
          "data": {
            "text/html": [
              "<div>\n",
              "<style scoped>\n",
              "    .dataframe tbody tr th:only-of-type {\n",
              "        vertical-align: middle;\n",
              "    }\n",
              "\n",
              "    .dataframe tbody tr th {\n",
              "        vertical-align: top;\n",
              "    }\n",
              "\n",
              "    .dataframe thead th {\n",
              "        text-align: right;\n",
              "    }\n",
              "</style>\n",
              "<table border=\"1\" class=\"dataframe\">\n",
              "  <thead>\n",
              "    <tr style=\"text-align: right;\">\n",
              "      <th></th>\n",
              "      <th>Close</th>\n",
              "    </tr>\n",
              "    <tr>\n",
              "      <th>Date</th>\n",
              "      <th></th>\n",
              "    </tr>\n",
              "  </thead>\n",
              "  <tbody>\n",
              "    <tr>\n",
              "      <th>2016-11-02</th>\n",
              "      <td>0.480000</td>\n",
              "    </tr>\n",
              "    <tr>\n",
              "      <th>2016-11-03</th>\n",
              "      <td>-1.209999</td>\n",
              "    </tr>\n",
              "    <tr>\n",
              "      <th>2016-11-04</th>\n",
              "      <td>0.980000</td>\n",
              "    </tr>\n",
              "    <tr>\n",
              "      <th>2016-11-07</th>\n",
              "      <td>1.740002</td>\n",
              "    </tr>\n",
              "    <tr>\n",
              "      <th>2016-11-08</th>\n",
              "      <td>0.129997</td>\n",
              "    </tr>\n",
              "    <tr>\n",
              "      <th>...</th>\n",
              "      <td>...</td>\n",
              "    </tr>\n",
              "    <tr>\n",
              "      <th>2021-08-24</th>\n",
              "      <td>-0.070000</td>\n",
              "    </tr>\n",
              "    <tr>\n",
              "      <th>2021-08-25</th>\n",
              "      <td>0.489998</td>\n",
              "    </tr>\n",
              "    <tr>\n",
              "      <th>2021-08-26</th>\n",
              "      <td>-1.250000</td>\n",
              "    </tr>\n",
              "    <tr>\n",
              "      <th>2021-08-27</th>\n",
              "      <td>0.800003</td>\n",
              "    </tr>\n",
              "    <tr>\n",
              "      <th>2021-08-30</th>\n",
              "      <td>0.489998</td>\n",
              "    </tr>\n",
              "  </tbody>\n",
              "</table>\n",
              "<p>1214 rows × 1 columns</p>\n",
              "</div>"
            ],
            "text/plain": [
              "               Close\n",
              "Date                \n",
              "2016-11-02  0.480000\n",
              "2016-11-03 -1.209999\n",
              "2016-11-04  0.980000\n",
              "2016-11-07  1.740002\n",
              "2016-11-08  0.129997\n",
              "...              ...\n",
              "2021-08-24 -0.070000\n",
              "2021-08-25  0.489998\n",
              "2021-08-26 -1.250000\n",
              "2021-08-27  0.800003\n",
              "2021-08-30  0.489998\n",
              "\n",
              "[1214 rows x 1 columns]"
            ]
          },
          "execution_count": 296,
          "metadata": {},
          "output_type": "execute_result"
        }
      ],
      "source": [
        "df2 = TSdata_df['Close'].diff().dropna().to_frame()\n",
        "df2"
      ]
    },
    {
      "cell_type": "code",
      "execution_count": 297,
      "metadata": {},
      "outputs": [
        {
          "data": {
            "image/png": "[encoded data removed]",
            "text/plain": [
              "<Figure size 1152x576 with 1 Axes>"
            ]
          },
          "metadata": {},
          "output_type": "display_data"
        }
      ],
      "source": [
        "# Visualize closing price history\n",
        "plt.figure(figsize=(16,8))\n",
        "plt.title (f\"Closing Price History for '{stock}' - {ticker}\")\n",
        "plt.plot(df2['Close'])\n",
        "plt.xlabel('Date')\n",
        "plt.ylabel('Close Price USD', fontsize=16)\n",
        "plt.savefig('../static/Images/diff_'+ticker+'.png')\n",
        "plt.show()"
      ]
    },
    {
      "cell_type": "code",
      "execution_count": 298,
      "metadata": {},
      "outputs": [],
      "source": [
        "# TSdata_arr = df2.filter(['Close']).values\n",
        "# TSdata_arr"
      ]
    },
    {
      "cell_type": "code",
      "execution_count": 299,
      "metadata": {},
      "outputs": [],
      "source": [
        "# Scale the Data\n",
        "scaler = MinMaxScaler(feature_range =(0,1))\n",
        "scaled_data = scaler.fit_transform(TSdata_arr)\n",
        "# scaled_data"
      ]
    },
    {
      "cell_type": "code",
      "execution_count": 300,
      "metadata": {},
      "outputs": [
        {
          "data": {
            "text/plain": [
              "912"
            ]
          },
          "execution_count": 300,
          "metadata": {},
          "output_type": "execute_result"
        }
      ],
      "source": [
        "training_data_len = math.ceil(len(TSdata_arr) * 0.75)\n",
        "training_data_len"
      ]
    },
    {
      "cell_type": "code",
      "execution_count": 301,
      "metadata": {},
      "outputs": [
        {
          "data": {
            "text/plain": [
              "(912, 1)"
            ]
          },
          "execution_count": 301,
          "metadata": {},
          "output_type": "execute_result"
        }
      ],
      "source": [
        "# Created scaled training dataset\n",
        "train_data = scaled_data[0:training_data_len]\n",
        "train_data.shape"
      ]
    },
    {
      "cell_type": "code",
      "execution_count": 302,
      "metadata": {},
      "outputs": [],
      "source": [
        "# Split\n",
        "X_train = []\n",
        "y_train = []\n",
        "\n",
        "for i in range(ts_points, len(train_data)):\n",
        "    X_train.append(train_data[i-ts_points:i,0])\n",
        "    y_train.append(train_data[i,0])\n",
        "    # if i <= ts_points+3:\n",
        "    #     print(X_train)\n",
        "    #     print(y_train)\n",
        "    #     print()\n"
      ]
    },
    {
      "cell_type": "code",
      "execution_count": 303,
      "metadata": {},
      "outputs": [],
      "source": [
        "# convert X_train and y_train to numpy arrays for LSTM\n",
        "X_train, y_train = np.array(X_train), np.array(y_train)"
      ]
    },
    {
      "cell_type": "code",
      "execution_count": 304,
      "metadata": {},
      "outputs": [
        {
          "name": "stdout",
          "output_type": "stream",
          "text": [
            "(792, 120)\n",
            "(792,)\n"
          ]
        }
      ],
      "source": [
        "print (X_train.shape)\n",
        "print (y_train.shape)"
      ]
    },
    {
      "cell_type": "code",
      "execution_count": 305,
      "metadata": {},
      "outputs": [
        {
          "data": {
            "text/plain": [
              "(792, 120, 1)"
            ]
          },
          "execution_count": 305,
          "metadata": {},
          "output_type": "execute_result"
        }
      ],
      "source": [
        "# LSTM network expects a 3D input (No_of_Samples, number of time steps, and number of features) no_of_features = 1 (Close)\n",
        "X_train = np.reshape(X_train, (X_train.shape[0], X_train.shape[1], 1))\n",
        "X_train.shape"
      ]
    },
    {
      "cell_type": "code",
      "execution_count": 306,
      "metadata": {},
      "outputs": [
        {
          "data": {
            "text/plain": [
              "792"
            ]
          },
          "execution_count": 306,
          "metadata": {},
          "output_type": "execute_result"
        }
      ],
      "source": [
        "training_data_len - ts_points"
      ]
    },
    {
      "cell_type": "code",
      "execution_count": 307,
      "metadata": {},
      "outputs": [],
      "source": [
        "# hidden_nodes = int(2/3 * (X_train.shape[1] * 1))\n",
        "# print(f\"The number of hidden nodes is {hidden_nodes}.\")"
      ]
    },
    {
      "cell_type": "code",
      "execution_count": 308,
      "metadata": {},
      "outputs": [],
      "source": [
        "# LSTM MOdel\n",
        "model = tf.keras.models.Sequential()\n",
        "# model.add(tf.keras.layers.LSTM(50, return_sequences=True, input_shape=(X_train.shape[1],1)))\n",
        "# model.add(tf.keras.layers.LSTM(50, return_sequences=False))\n",
        "# model.add(tf.keras.layers.Dropout(0.2))\n",
        "# model.add(tf.keras.layers.Dense(25))\n",
        "# model.add(tf.keras.layers.Dense(1))\n",
        "# model.summary()\n"
      ]
    },
    {
      "cell_type": "code",
      "execution_count": 309,
      "metadata": {},
      "outputs": [
        {
          "name": "stdout",
          "output_type": "stream",
          "text": [
            "Model: \"sequential_13\"\n",
            "_________________________________________________________________\n",
            "Layer (type)                 Output Shape              Param #   \n",
            "=================================================================\n",
            "lstm_12 (LSTM)               (None, 120, 50)           10400     \n",
            "_________________________________________________________________\n",
            "lstm_13 (LSTM)               (None, 50)                20200     \n",
            "_________________________________________________________________\n",
            "dropout_6 (Dropout)          (None, 50)                0         \n",
            "_________________________________________________________________\n",
            "dense_12 (Dense)             (None, 25)                1275      \n",
            "_________________________________________________________________\n",
            "dense_13 (Dense)             (None, 1)                 26        \n",
            "=================================================================\n",
            "Total params: 31,901\n",
            "Trainable params: 31,901\n",
            "Non-trainable params: 0\n",
            "_________________________________________________________________\n"
          ]
        }
      ],
      "source": [
        "\n",
        "# # BEST FOR TESLA#\n",
        "model = tf.keras.models.Sequential()\n",
        "model.add(tf.keras.layers.LSTM(50, return_sequences=True, input_shape=(X_train.shape[1],1)))\n",
        "model.add(tf.keras.layers.LSTM(50, return_sequences=False))\n",
        "model.add(tf.keras.layers.Dropout(0.2))\n",
        "model.add(tf.keras.layers.Dense(25))\n",
        "model.add(tf.keras.layers.Dense(1))\n",
        "model.summary()\n",
        "\n",
        "# #model.fit(X_train, y_train, batch_size=64, epochs=50"
      ]
    },
    {
      "cell_type": "code",
      "execution_count": 310,
      "metadata": {},
      "outputs": [],
      "source": [
        "model.compile(optimizer='adam', loss='mean_squared_error')\n",
        "# model.compile(loss=\"binary_crossentropy\", optimizer=\"adam\", metrics=[\"accuracy\"])"
      ]
    },
    {
      "cell_type": "code",
      "execution_count": 311,
      "metadata": {},
      "outputs": [
        {
          "name": "stdout",
          "output_type": "stream",
          "text": [
            "WARNING:tensorflow:`period` argument is deprecated. Please use `save_freq` to specify the frequency in number of batches seen.\n"
          ]
        }
      ],
      "source": [
        "import os\n",
        "from tensorflow.keras.callbacks import ModelCheckpoint\n",
        "\n",
        "batch_size=64\n",
        "\n",
        "os.makedirs(\"chk_points/\", exist_ok=True)\n",
        "chkpoint_path=\"chk_points/weights.{epoch}.hdf5\"\n",
        "\n",
        "# Create chk points\n",
        "chkpt_callback = ModelCheckpoint(filepath=chkpoint_path,\n",
        "                              verbose=1,\n",
        "                              save_weights_only=True,\n",
        "                              save_freq=\"epoch\",\n",
        "                              period=5)\n",
        "\n",
        "# chkpoint_path = \"chk_points/cp-{epoch:04d}.ckpt\"\n",
        "# chkpt_callback = tf.keras.callbacks.ModelCheckpoint(\n",
        "#     filepath=chkpoint_path, \n",
        "#     verbose=1, \n",
        "#     save_weights_only=True,\n",
        "#     save_freq=5*batch_size)                    \n",
        "\n",
        "# model.save_weights(chkpoint_path.format(epoch=0))    \n"
      ]
    },
    {
      "cell_type": "code",
      "execution_count": 312,
      "metadata": {},
      "outputs": [],
      "source": [
        "# training_data_len\n",
        "# scaled_data"
      ]
    },
    {
      "cell_type": "code",
      "execution_count": 313,
      "metadata": {},
      "outputs": [
        {
          "name": "stdout",
          "output_type": "stream",
          "text": [
            "Epoch 1/100\n",
            "13/13 [==============================] - 3s 72ms/step - loss: 0.0314\n",
            "Epoch 2/100\n",
            "13/13 [==============================] - 1s 74ms/step - loss: 0.0061\n",
            "Epoch 3/100\n",
            "13/13 [==============================] - 1s 78ms/step - loss: 0.0031\n",
            "Epoch 4/100\n",
            "13/13 [==============================] - 2s 126ms/step - loss: 0.0024\n",
            "Epoch 5/100\n",
            "13/13 [==============================] - 2s 143ms/step - loss: 0.0022\n",
            "Epoch 6/100\n",
            "13/13 [==============================] - 2s 155ms/step - loss: 0.0019\n",
            "Epoch 7/100\n",
            "13/13 [==============================] - 2s 134ms/step - loss: 0.0019\n",
            "Epoch 8/100\n",
            "13/13 [==============================] - 2s 135ms/step - loss: 0.0019\n",
            "Epoch 9/100\n",
            "13/13 [==============================] - 2s 162ms/step - loss: 0.0019\n",
            "Epoch 10/100\n",
            "13/13 [==============================] - 2s 150ms/step - loss: 0.0017\n",
            "Epoch 11/100\n",
            "13/13 [==============================] - 2s 139ms/step - loss: 0.0015\n",
            "Epoch 12/100\n",
            "13/13 [==============================] - 2s 143ms/step - loss: 0.0015\n",
            "Epoch 13/100\n",
            "13/13 [==============================] - 2s 151ms/step - loss: 0.0015\n",
            "Epoch 14/100\n",
            "13/13 [==============================] - 2s 129ms/step - loss: 0.0014\n",
            "Epoch 15/100\n",
            "13/13 [==============================] - 2s 126ms/step - loss: 0.0015\n",
            "Epoch 16/100\n",
            "13/13 [==============================] - 2s 124ms/step - loss: 0.0014\n",
            "Epoch 17/100\n",
            "13/13 [==============================] - 2s 145ms/step - loss: 0.0016\n",
            "Epoch 18/100\n",
            "13/13 [==============================] - 2s 139ms/step - loss: 0.0013\n",
            "Epoch 19/100\n",
            "13/13 [==============================] - 2s 163ms/step - loss: 0.0013\n",
            "Epoch 20/100\n",
            "13/13 [==============================] - 2s 120ms/step - loss: 0.0013\n",
            "Epoch 21/100\n",
            "13/13 [==============================] - 1s 112ms/step - loss: 0.0013\n",
            "Epoch 22/100\n",
            "13/13 [==============================] - 1s 113ms/step - loss: 0.0015\n",
            "Epoch 23/100\n",
            "13/13 [==============================] - 1s 110ms/step - loss: 0.0013\n",
            "Epoch 24/100\n",
            "13/13 [==============================] - 2s 126ms/step - loss: 0.0012\n",
            "Epoch 25/100\n",
            "13/13 [==============================] - 2s 119ms/step - loss: 0.0012\n",
            "Epoch 26/100\n",
            "13/13 [==============================] - 1s 108ms/step - loss: 0.0012\n",
            "Epoch 27/100\n",
            "13/13 [==============================] - 1s 109ms/step - loss: 0.0010\n",
            "Epoch 28/100\n",
            "13/13 [==============================] - 1s 110ms/step - loss: 0.0010\n",
            "Epoch 29/100\n",
            "13/13 [==============================] - 1s 110ms/step - loss: 0.0011\n",
            "Epoch 30/100\n",
            "13/13 [==============================] - 1s 109ms/step - loss: 0.0010\n",
            "Epoch 31/100\n",
            "13/13 [==============================] - 1s 110ms/step - loss: 9.6985e-04\n",
            "Epoch 32/100\n",
            "13/13 [==============================] - 1s 112ms/step - loss: 0.0010\n",
            "Epoch 33/100\n",
            "13/13 [==============================] - 1s 110ms/step - loss: 0.0012\n",
            "Epoch 34/100\n",
            "13/13 [==============================] - 1s 109ms/step - loss: 0.0010\n",
            "Epoch 35/100\n",
            "13/13 [==============================] - 1s 115ms/step - loss: 9.3784e-04\n",
            "Epoch 36/100\n",
            "13/13 [==============================] - 2s 123ms/step - loss: 0.0013\n",
            "Epoch 37/100\n",
            "13/13 [==============================] - 2s 116ms/step - loss: 0.0011\n",
            "Epoch 38/100\n",
            "13/13 [==============================] - 2s 189ms/step - loss: 9.4644e-04\n",
            "Epoch 39/100\n",
            "13/13 [==============================] - 2s 129ms/step - loss: 9.8583e-04\n",
            "Epoch 40/100\n",
            "13/13 [==============================] - 2s 134ms/step - loss: 0.0010\n",
            "Epoch 41/100\n",
            "13/13 [==============================] - 3s 225ms/step - loss: 0.0010\n",
            "Epoch 42/100\n",
            "13/13 [==============================] - 2s 187ms/step - loss: 9.8113e-04\n",
            "Epoch 43/100\n",
            "13/13 [==============================] - 3s 202ms/step - loss: 0.0010\n",
            "Epoch 44/100\n",
            "13/13 [==============================] - 3s 197ms/step - loss: 0.0011\n",
            "Epoch 45/100\n",
            "13/13 [==============================] - 3s 206ms/step - loss: 0.0011\n",
            "Epoch 46/100\n",
            "13/13 [==============================] - 2s 144ms/step - loss: 9.3284e-04\n",
            "Epoch 47/100\n",
            "13/13 [==============================] - 2s 156ms/step - loss: 9.7776e-04\n",
            "Epoch 48/100\n",
            "13/13 [==============================] - 2s 140ms/step - loss: 8.3000e-04\n",
            "Epoch 49/100\n",
            "13/13 [==============================] - 2s 148ms/step - loss: 8.7934e-04\n",
            "Epoch 50/100\n",
            "13/13 [==============================] - 2s 130ms/step - loss: 9.1770e-04\n",
            "Epoch 51/100\n",
            "13/13 [==============================] - 2s 135ms/step - loss: 9.2914e-04\n",
            "Epoch 52/100\n",
            "13/13 [==============================] - 2s 124ms/step - loss: 9.3185e-04\n",
            "Epoch 53/100\n",
            "13/13 [==============================] - 2s 117ms/step - loss: 9.0630e-04\n",
            "Epoch 54/100\n",
            "13/13 [==============================] - 2s 117ms/step - loss: 7.9310e-04\n",
            "Epoch 55/100\n",
            "13/13 [==============================] - 2s 120ms/step - loss: 8.1006e-04\n",
            "Epoch 56/100\n",
            "13/13 [==============================] - 2s 117ms/step - loss: 8.2911e-04\n",
            "Epoch 57/100\n",
            "13/13 [==============================] - 2s 124ms/step - loss: 8.2168e-04\n",
            "Epoch 58/100\n",
            "13/13 [==============================] - 2s 121ms/step - loss: 7.7859e-04\n",
            "Epoch 59/100\n",
            "13/13 [==============================] - 1s 102ms/step - loss: 8.4598e-04\n",
            "Epoch 60/100\n",
            "13/13 [==============================] - 1s 110ms/step - loss: 7.7475e-04\n",
            "Epoch 61/100\n",
            "13/13 [==============================] - 1s 100ms/step - loss: 8.0376e-04\n",
            "Epoch 62/100\n",
            "13/13 [==============================] - 1s 100ms/step - loss: 8.3757e-04\n",
            "Epoch 63/100\n",
            "13/13 [==============================] - 1s 98ms/step - loss: 8.0276e-04\n",
            "Epoch 64/100\n",
            "13/13 [==============================] - 1s 96ms/step - loss: 7.8032e-04\n",
            "Epoch 65/100\n",
            "13/13 [==============================] - 1s 98ms/step - loss: 7.7319e-04\n",
            "Epoch 66/100\n",
            "13/13 [==============================] - 1s 101ms/step - loss: 8.0834e-04\n",
            "Epoch 67/100\n",
            "13/13 [==============================] - 1s 100ms/step - loss: 7.8859e-04\n",
            "Epoch 68/100\n",
            "13/13 [==============================] - 1s 100ms/step - loss: 8.3639e-04\n",
            "Epoch 69/100\n",
            "13/13 [==============================] - 1s 95ms/step - loss: 6.7210e-04\n",
            "Epoch 70/100\n",
            "13/13 [==============================] - 1s 97ms/step - loss: 7.5843e-04\n",
            "Epoch 71/100\n",
            "13/13 [==============================] - 1s 95ms/step - loss: 7.3479e-04\n",
            "Epoch 72/100\n",
            "13/13 [==============================] - 1s 96ms/step - loss: 7.7237e-04\n",
            "Epoch 73/100\n",
            "13/13 [==============================] - 1s 96ms/step - loss: 7.7732e-04\n",
            "Epoch 74/100\n",
            "13/13 [==============================] - 1s 96ms/step - loss: 7.6095e-04\n",
            "Epoch 75/100\n",
            "13/13 [==============================] - 1s 96ms/step - loss: 6.9245e-04\n",
            "Epoch 76/100\n",
            "13/13 [==============================] - 1s 98ms/step - loss: 7.5173e-04\n",
            "Epoch 77/100\n",
            "13/13 [==============================] - 1s 98ms/step - loss: 7.1004e-04\n",
            "Epoch 78/100\n",
            "13/13 [==============================] - 1s 94ms/step - loss: 7.1706e-04\n",
            "Epoch 79/100\n",
            "13/13 [==============================] - 1s 95ms/step - loss: 7.3770e-04\n",
            "Epoch 80/100\n",
            "13/13 [==============================] - 1s 96ms/step - loss: 6.5166e-04\n",
            "Epoch 81/100\n",
            "13/13 [==============================] - 1s 94ms/step - loss: 7.1379e-04\n",
            "Epoch 82/100\n",
            "13/13 [==============================] - 1s 92ms/step - loss: 7.7224e-04\n",
            "Epoch 83/100\n",
            "13/13 [==============================] - 1s 91ms/step - loss: 6.8167e-04\n",
            "Epoch 84/100\n",
            "13/13 [==============================] - 1s 93ms/step - loss: 6.9282e-04\n",
            "Epoch 85/100\n",
            "13/13 [==============================] - 1s 92ms/step - loss: 7.6435e-04\n",
            "Epoch 86/100\n",
            "13/13 [==============================] - 1s 97ms/step - loss: 7.0007e-04\n",
            "Epoch 87/100\n",
            "13/13 [==============================] - 1s 91ms/step - loss: 6.9895e-04\n",
            "Epoch 88/100\n",
            "13/13 [==============================] - 1s 92ms/step - loss: 6.2210e-04\n",
            "Epoch 89/100\n",
            "13/13 [==============================] - 1s 91ms/step - loss: 7.2257e-04\n",
            "Epoch 90/100\n",
            "13/13 [==============================] - 1s 94ms/step - loss: 7.2657e-04\n",
            "Epoch 91/100\n",
            "13/13 [==============================] - 1s 93ms/step - loss: 6.7124e-04\n",
            "Epoch 92/100\n",
            "13/13 [==============================] - 1s 92ms/step - loss: 7.4426e-04\n",
            "Epoch 93/100\n",
            "13/13 [==============================] - 1s 89ms/step - loss: 6.9927e-04\n",
            "Epoch 94/100\n",
            "13/13 [==============================] - 1s 92ms/step - loss: 7.1375e-04\n",
            "Epoch 95/100\n",
            "13/13 [==============================] - 1s 96ms/step - loss: 6.8962e-04\n",
            "Epoch 96/100\n",
            "13/13 [==============================] - 1s 90ms/step - loss: 6.9023e-04\n",
            "Epoch 97/100\n",
            "13/13 [==============================] - 1s 90ms/step - loss: 7.1174e-04\n",
            "Epoch 98/100\n",
            "13/13 [==============================] - 1s 96ms/step - loss: 7.2511e-04\n",
            "Epoch 99/100\n",
            "13/13 [==============================] - 1s 93ms/step - loss: 6.3716e-04\n",
            "Epoch 100/100\n",
            "13/13 [==============================] - 1s 92ms/step - loss: 6.1620e-04\n"
          ]
        },
        {
          "data": {
            "text/plain": [
              "<keras.callbacks.History at 0x2867916f5e0>"
            ]
          },
          "execution_count": 313,
          "metadata": {},
          "output_type": "execute_result"
        }
      ],
      "source": [
        "# model.fit(X_train, y_train, batch_size=batch_size, epochs=50, validation_split=0.43, callbacks=[chkpt_callback])\n",
        "model.fit(X_train, y_train, batch_size=64 ,epochs=100)"
      ]
    },
    {
      "cell_type": "code",
      "execution_count": 314,
      "metadata": {},
      "outputs": [],
      "source": [
        "model.save('..assets/Model_'+ticker+'.h5')"
      ]
    },
    {
      "cell_type": "code",
      "execution_count": 315,
      "metadata": {},
      "outputs": [],
      "source": [
        "# test_data = scaled_data[training_data_len:]\n",
        "\n",
        "# Bring in the last 'ts_points' (120 values) from training set so when X_test is used to predict , predictions have same shape as Y_test\n",
        "# The for loop starts with 'ts_points' thatbmeans the resultant array will have 120 less rows\n",
        "test_data = scaled_data[training_data_len-ts_points:]\n",
        "\n"
      ]
    },
    {
      "cell_type": "code",
      "execution_count": 316,
      "metadata": {},
      "outputs": [],
      "source": [
        "X_test = []\n",
        "y_test = TSdata_arr[training_data_len:]\n",
        "for i in range(ts_points, len(test_data)):\n",
        "    X_test.append(test_data[i-ts_points:i,0])\n"
      ]
    },
    {
      "cell_type": "code",
      "execution_count": 317,
      "metadata": {},
      "outputs": [],
      "source": [
        "# convert the data to a numpy array to use it in LSTM MODEL\n",
        "X_test = np.array(X_test)\n",
        "X_test = np.reshape(X_test, (X_test.shape[0],  X_test.shape[1], 1))"
      ]
    },
    {
      "cell_type": "code",
      "execution_count": 318,
      "metadata": {},
      "outputs": [],
      "source": [
        "from sklearn.metrics import mean_squared_error"
      ]
    },
    {
      "cell_type": "code",
      "execution_count": 319,
      "metadata": {},
      "outputs": [
        {
          "data": {
            "text/plain": [
              "1.7036646257206884"
            ]
          },
          "execution_count": 319,
          "metadata": {},
          "output_type": "execute_result"
        }
      ],
      "source": [
        "# Models predicted price for X_train\n",
        "predictions_tr = model.predict(X_train)\n",
        "predictions_tr = scaler.inverse_transform(predictions_tr)\n",
        "\n",
        "y_train_tr =  scaler.inverse_transform(y_train.reshape(-1,1))\n",
        "rmse_tr = math.sqrt(mean_squared_error(y_train_tr, predictions_tr))\n",
        "rmse_tr"
      ]
    },
    {
      "cell_type": "code",
      "execution_count": 320,
      "metadata": {},
      "outputs": [],
      "source": [
        "# Models predicted price for X_test\n",
        "predictions = model.predict(X_test)\n",
        "predictions = scaler.inverse_transform(predictions)"
      ]
    },
    {
      "cell_type": "code",
      "execution_count": 321,
      "metadata": {},
      "outputs": [
        {
          "data": {
            "text/plain": [
              "((303, 1), (303, 1))"
            ]
          },
          "execution_count": 321,
          "metadata": {},
          "output_type": "execute_result"
        }
      ],
      "source": [
        "y_test.shape, predictions.shape"
      ]
    },
    {
      "cell_type": "code",
      "execution_count": 322,
      "metadata": {},
      "outputs": [
        {
          "data": {
            "text/plain": [
              "1.9495382756679178"
            ]
          },
          "execution_count": 322,
          "metadata": {},
          "output_type": "execute_result"
        }
      ],
      "source": [
        "# RMSE to check accuracy\n",
        "\n",
        "rmse = math.sqrt(mean_squared_error(y_test, predictions))\n",
        "rmse"
      ]
    },
    {
      "cell_type": "code",
      "execution_count": 323,
      "metadata": {},
      "outputs": [
        {
          "name": "stderr",
          "output_type": "stream",
          "text": [
            "<ipython-input-323-bb86776ae978>:4: SettingWithCopyWarning: \n",
            "A value is trying to be set on a copy of a slice from a DataFrame.\n",
            "Try using .loc[row_indexer,col_indexer] = value instead\n",
            "\n",
            "See the caveats in the documentation: https://pandas.pydata.org/pandas-docs/stable/user_guide/indexing.html#returning-a-view-versus-a-copy\n",
            "  actual['Predictions'] = predictions\n"
          ]
        },
        {
          "data": {
            "text/html": [
              "<div>\n",
              "<style scoped>\n",
              "    .dataframe tbody tr th:only-of-type {\n",
              "        vertical-align: middle;\n",
              "    }\n",
              "\n",
              "    .dataframe tbody tr th {\n",
              "        vertical-align: top;\n",
              "    }\n",
              "\n",
              "    .dataframe thead th {\n",
              "        text-align: right;\n",
              "    }\n",
              "</style>\n",
              "<table border=\"1\" class=\"dataframe\">\n",
              "  <thead>\n",
              "    <tr style=\"text-align: right;\">\n",
              "      <th></th>\n",
              "      <th>Close</th>\n",
              "      <th>Predictions</th>\n",
              "    </tr>\n",
              "    <tr>\n",
              "      <th>Date</th>\n",
              "      <th></th>\n",
              "      <th></th>\n",
              "    </tr>\n",
              "  </thead>\n",
              "  <tbody>\n",
              "    <tr>\n",
              "      <th>2020-06-18</th>\n",
              "      <td>76.309998</td>\n",
              "      <td>76.715096</td>\n",
              "    </tr>\n",
              "    <tr>\n",
              "      <th>2020-06-19</th>\n",
              "      <td>75.400002</td>\n",
              "      <td>76.650650</td>\n",
              "    </tr>\n",
              "    <tr>\n",
              "      <th>2020-06-22</th>\n",
              "      <td>75.400002</td>\n",
              "      <td>76.409386</td>\n",
              "    </tr>\n",
              "    <tr>\n",
              "      <th>2020-06-23</th>\n",
              "      <td>75.489998</td>\n",
              "      <td>76.153458</td>\n",
              "    </tr>\n",
              "    <tr>\n",
              "      <th>2020-06-24</th>\n",
              "      <td>73.639999</td>\n",
              "      <td>75.980232</td>\n",
              "    </tr>\n",
              "    <tr>\n",
              "      <th>...</th>\n",
              "      <td>...</td>\n",
              "      <td>...</td>\n",
              "    </tr>\n",
              "    <tr>\n",
              "      <th>2021-08-24</th>\n",
              "      <td>115.080002</td>\n",
              "      <td>114.454590</td>\n",
              "    </tr>\n",
              "    <tr>\n",
              "      <th>2021-08-25</th>\n",
              "      <td>115.570000</td>\n",
              "      <td>114.368423</td>\n",
              "    </tr>\n",
              "    <tr>\n",
              "      <th>2021-08-26</th>\n",
              "      <td>114.320000</td>\n",
              "      <td>114.555534</td>\n",
              "    </tr>\n",
              "    <tr>\n",
              "      <th>2021-08-27</th>\n",
              "      <td>115.120003</td>\n",
              "      <td>114.470039</td>\n",
              "    </tr>\n",
              "    <tr>\n",
              "      <th>2021-08-30</th>\n",
              "      <td>115.610001</td>\n",
              "      <td>114.533188</td>\n",
              "    </tr>\n",
              "  </tbody>\n",
              "</table>\n",
              "<p>303 rows × 2 columns</p>\n",
              "</div>"
            ],
            "text/plain": [
              "                 Close  Predictions\n",
              "Date                               \n",
              "2020-06-18   76.309998    76.715096\n",
              "2020-06-19   75.400002    76.650650\n",
              "2020-06-22   75.400002    76.409386\n",
              "2020-06-23   75.489998    76.153458\n",
              "2020-06-24   73.639999    75.980232\n",
              "...                ...          ...\n",
              "2021-08-24  115.080002   114.454590\n",
              "2021-08-25  115.570000   114.368423\n",
              "2021-08-26  114.320000   114.555534\n",
              "2021-08-27  115.120003   114.470039\n",
              "2021-08-30  115.610001   114.533188\n",
              "\n",
              "[303 rows x 2 columns]"
            ]
          },
          "execution_count": 323,
          "metadata": {},
          "output_type": "execute_result"
        }
      ],
      "source": [
        "# Plot\n",
        "train = TSdata_df[:training_data_len]\n",
        "actual = TSdata_df[training_data_len:]\n",
        "actual['Predictions'] = predictions\n",
        "actual"
      ]
    },
    {
      "cell_type": "code",
      "execution_count": 324,
      "metadata": {},
      "outputs": [
        {
          "data": {
            "image/png": "[encoded data removed]",
            "text/plain": [
              "<Figure size 1152x576 with 1 Axes>"
            ]
          },
          "metadata": {},
          "output_type": "display_data"
        }
      ],
      "source": [
        "plt.figure(figsize=(16,8))\n",
        "plt.title(f\"Model for '{stock}' - {ticker}\")\n",
        "plt.xlabel(\"Date\")\n",
        "plt.ylabel(\"Close Price USD\")\n",
        "plt.plot(train['Close'])\n",
        "plt.plot(actual[['Close', 'Predictions']])\n",
        "plt.legend(['Train', 'Actual', 'Predictions'], loc='lower right')\n",
        "plt.savefig('../static/Images/'+ticker+'.png')\n",
        "plt.show()"
      ]
    },
    {
      "cell_type": "markdown",
      "metadata": {},
      "source": [
        "# TEST"
      ]
    },
    {
      "cell_type": "code",
      "execution_count": 325,
      "metadata": {},
      "outputs": [],
      "source": [
        "# for predictions add 100 extra days to make sure it has more than ts_points to make up for missing days (weekends and holidays)\n",
        "\n",
        "fetch_days = ts_points + 100    \n",
        "\n",
        "sd =  today - timedelta(days=fetch_days)\n",
        "sd = sd.strftime('%Y-%m-%d')\n",
        "\n",
        "ed = today.strftime('%Y-%m-%d')\n",
        "ed\n",
        "\n",
        "next_day = (today + timedelta(days=1) ).strftime('%Y-%m-%d')\n",
        "# next_day"
      ]
    },
    {
      "cell_type": "code",
      "execution_count": 326,
      "metadata": {},
      "outputs": [],
      "source": [
        "# get the quote\n",
        "quote = pdr.DataReader(ticker, data_source=\"yahoo\", start=sd, end=ed)\n",
        "new_df = quote.filter(['Close'])\n",
        "last_n_days = ts_points\n",
        "last_n_days_arr = new_df[-last_n_days:].values "
      ]
    },
    {
      "cell_type": "code",
      "execution_count": 327,
      "metadata": {},
      "outputs": [],
      "source": [
        "last_n_days_scaled = scaler.transform(last_n_days_arr)\n",
        "X_test = []\n",
        "X_test.append(last_n_days_scaled)\n",
        "X_test = np.array(X_test)\n",
        "X_test = np.reshape(X_test,(X_test.shape[0], X_test.shape[1],1))\n"
      ]
    },
    {
      "cell_type": "code",
      "execution_count": 328,
      "metadata": {},
      "outputs": [
        {
          "name": "stdout",
          "output_type": "stream",
          "text": [
            "Model: \"sequential_3\"\n",
            "_________________________________________________________________\n",
            "Layer (type)                 Output Shape              Param #   \n",
            "=================================================================\n",
            "lstm_6 (LSTM)                (None, 120, 50)           10400     \n",
            "_________________________________________________________________\n",
            "lstm_7 (LSTM)                (None, 50)                20200     \n",
            "_________________________________________________________________\n",
            "dropout_3 (Dropout)          (None, 50)                0         \n",
            "_________________________________________________________________\n",
            "dense_6 (Dense)              (None, 25)                1275      \n",
            "_________________________________________________________________\n",
            "dense_7 (Dense)              (None, 1)                 26        \n",
            "=================================================================\n",
            "Total params: 31,901\n",
            "Trainable params: 31,901\n",
            "Non-trainable params: 0\n",
            "_________________________________________________________________\n",
            "Predicted Closing price for 'Starbucks Corporation' on 2021-11-01 is 113.1516\n"
          ]
        }
      ],
      "source": [
        "##########################loading saved model ###############################\n",
        "new_model = tf.keras.models.load_model('../assets/Model_'+ticker+'.h5')\n",
        "\n",
        "# Check its architecture\n",
        "new_model.summary()\n",
        "nmpred_price = new_model.predict(X_test)\n",
        "nmpred_price = scaler.inverse_transform(nmpred_price)\n",
        "nmpred_price = nmpred_price[0][0]\n",
        "print(f\"Predicted Closing price for '{stock}' on {next_day} is {nmpred_price:.4f}\")"
      ]
    },
    {
      "cell_type": "code",
      "execution_count": 329,
      "metadata": {},
      "outputs": [
        {
          "name": "stdout",
          "output_type": "stream",
          "text": [
            "Predicted Closing price for 'Starbucks Corporation' on 2021-11-01 is 111.4938\n"
          ]
        }
      ],
      "source": [
        "pred_price = model.predict(X_test)\n",
        "pred_price = scaler.inverse_transform(pred_price)\n",
        "pred_price = pred_price[0][0]\n",
        "print(f\"Predicted Closing price for '{stock}' on {next_day} is {pred_price:.4f}\")"
      ]
    },
    {
      "cell_type": "code",
      "execution_count": 330,
      "metadata": {},
      "outputs": [
        {
          "data": {
            "text/html": [
              "<div>\n",
              "<style scoped>\n",
              "    .dataframe tbody tr th:only-of-type {\n",
              "        vertical-align: middle;\n",
              "    }\n",
              "\n",
              "    .dataframe tbody tr th {\n",
              "        vertical-align: top;\n",
              "    }\n",
              "\n",
              "    .dataframe thead th {\n",
              "        text-align: right;\n",
              "    }\n",
              "</style>\n",
              "<table border=\"1\" class=\"dataframe\">\n",
              "  <thead>\n",
              "    <tr style=\"text-align: right;\">\n",
              "      <th></th>\n",
              "      <th>High</th>\n",
              "      <th>Low</th>\n",
              "      <th>Open</th>\n",
              "      <th>Close</th>\n",
              "      <th>Volume</th>\n",
              "      <th>Adj Close</th>\n",
              "    </tr>\n",
              "    <tr>\n",
              "      <th>Date</th>\n",
              "      <th></th>\n",
              "      <th></th>\n",
              "      <th></th>\n",
              "      <th></th>\n",
              "      <th></th>\n",
              "      <th></th>\n",
              "    </tr>\n",
              "  </thead>\n",
              "  <tbody>\n",
              "    <tr>\n",
              "      <th>2021-10-26</th>\n",
              "      <td>115.279999</td>\n",
              "      <td>114.250000</td>\n",
              "      <td>114.919998</td>\n",
              "      <td>114.919998</td>\n",
              "      <td>5948000</td>\n",
              "      <td>114.919998</td>\n",
              "    </tr>\n",
              "    <tr>\n",
              "      <th>2021-10-27</th>\n",
              "      <td>115.570000</td>\n",
              "      <td>113.080002</td>\n",
              "      <td>115.570000</td>\n",
              "      <td>113.510002</td>\n",
              "      <td>5853900</td>\n",
              "      <td>113.510002</td>\n",
              "    </tr>\n",
              "    <tr>\n",
              "      <th>2021-10-28</th>\n",
              "      <td>114.599998</td>\n",
              "      <td>112.459999</td>\n",
              "      <td>113.739998</td>\n",
              "      <td>113.199997</td>\n",
              "      <td>7697600</td>\n",
              "      <td>113.199997</td>\n",
              "    </tr>\n",
              "    <tr>\n",
              "      <th>2021-10-29</th>\n",
              "      <td>107.989998</td>\n",
              "      <td>104.019997</td>\n",
              "      <td>107.500000</td>\n",
              "      <td>106.070000</td>\n",
              "      <td>27401600</td>\n",
              "      <td>106.070000</td>\n",
              "    </tr>\n",
              "  </tbody>\n",
              "</table>\n",
              "</div>"
            ],
            "text/plain": [
              "                  High         Low        Open       Close    Volume  \\\n",
              "Date                                                                   \n",
              "2021-10-26  115.279999  114.250000  114.919998  114.919998   5948000   \n",
              "2021-10-27  115.570000  113.080002  115.570000  113.510002   5853900   \n",
              "2021-10-28  114.599998  112.459999  113.739998  113.199997   7697600   \n",
              "2021-10-29  107.989998  104.019997  107.500000  106.070000  27401600   \n",
              "\n",
              "             Adj Close  \n",
              "Date                    \n",
              "2021-10-26  114.919998  \n",
              "2021-10-27  113.510002  \n",
              "2021-10-28  113.199997  \n",
              "2021-10-29  106.070000  "
            ]
          },
          "execution_count": 330,
          "metadata": {},
          "output_type": "execute_result"
        }
      ],
      "source": [
        "# verify\n",
        "d1 = today - timedelta(days=5)\n",
        "d1 = d1.strftime('%Y-%m-%d')\n",
        "\n",
        "quote2 = pdr.DataReader(ticker, data_source=\"yahoo\", start=d1)\n",
        "quote2"
      ]
    }
  ],
  "metadata": {
    "colab": {
      "name": "Untitled1.ipynb",
      "provenance": []
    },
    "interpreter": {
      "hash": "eb0a5deb85624cf39522bd9ea766efe3b585b85d5e69ded4a98e5c69611b9570"
    },
    "kernelspec": {
      "display_name": "Python 3.8.5 64-bit ('base': conda)",
      "name": "python3"
    },
    "language_info": {
      "codemirror_mode": {
        "name": "ipython",
        "version": 3
      },
      "file_extension": ".py",
      "mimetype": "text/x-python",
      "name": "python",
      "nbconvert_exporter": "python",
      "pygments_lexer": "ipython3",
      "version": "3.8.5"
    }
  },
  "nbformat": 4,
  "nbformat_minor": 0
}
