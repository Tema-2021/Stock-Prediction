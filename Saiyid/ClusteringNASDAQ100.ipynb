{
 "cells": [
  {
   "cell_type": "code",
   "execution_count": 2,
   "metadata": {},
   "outputs": [],
   "source": [
    "import numpy as np\n",
    "import pandas as pd\n",
    "import pandas_datareader as pdr\n",
    "from math import sqrt\n",
    "from sklearn.cluster import KMeans\n",
    "from matplotlib import pyplot as plt\n",
    "from sklearn.preprocessing import StandardScaler\n",
    "from scipy.spatial.distance import cdist\n",
    "from sklearn.decomposition import PCA"
   ]
  },
  {
   "cell_type": "code",
   "execution_count": 6,
   "metadata": {},
   "outputs": [
    {
     "data": {
      "text/html": [
       "<div>\n",
       "<style scoped>\n",
       "    .dataframe tbody tr th:only-of-type {\n",
       "        vertical-align: middle;\n",
       "    }\n",
       "\n",
       "    .dataframe tbody tr th {\n",
       "        vertical-align: top;\n",
       "    }\n",
       "\n",
       "    .dataframe thead th {\n",
       "        text-align: right;\n",
       "    }\n",
       "</style>\n",
       "<table border=\"1\" class=\"dataframe\">\n",
       "  <thead>\n",
       "    <tr style=\"text-align: right;\">\n",
       "      <th></th>\n",
       "      <th>Symbol</th>\n",
       "      <th>Company</th>\n",
       "    </tr>\n",
       "  </thead>\n",
       "  <tbody>\n",
       "    <tr>\n",
       "      <th>0</th>\n",
       "      <td>AMD</td>\n",
       "      <td>Advanced Micro Devices Inc</td>\n",
       "    </tr>\n",
       "    <tr>\n",
       "      <th>1</th>\n",
       "      <td>ADBE</td>\n",
       "      <td>Adobe Inc.</td>\n",
       "    </tr>\n",
       "    <tr>\n",
       "      <th>2</th>\n",
       "      <td>ALGN</td>\n",
       "      <td>Align Technology Inc</td>\n",
       "    </tr>\n",
       "    <tr>\n",
       "      <th>3</th>\n",
       "      <td>AMZN</td>\n",
       "      <td>Amazon.com Inc</td>\n",
       "    </tr>\n",
       "    <tr>\n",
       "      <th>4</th>\n",
       "      <td>AMGN</td>\n",
       "      <td>Amgen Inc</td>\n",
       "    </tr>\n",
       "    <tr>\n",
       "      <th>...</th>\n",
       "      <td>...</td>\n",
       "      <td>...</td>\n",
       "    </tr>\n",
       "    <tr>\n",
       "      <th>98</th>\n",
       "      <td>WBA</td>\n",
       "      <td>Walgreens Boots Alliance Inc</td>\n",
       "    </tr>\n",
       "    <tr>\n",
       "      <th>99</th>\n",
       "      <td>WDAY</td>\n",
       "      <td>Workday Inc</td>\n",
       "    </tr>\n",
       "    <tr>\n",
       "      <th>100</th>\n",
       "      <td>XEL</td>\n",
       "      <td>Xcel Energy Inc</td>\n",
       "    </tr>\n",
       "    <tr>\n",
       "      <th>101</th>\n",
       "      <td>XLNX</td>\n",
       "      <td>Xilinx Inc</td>\n",
       "    </tr>\n",
       "    <tr>\n",
       "      <th>102</th>\n",
       "      <td>ZM</td>\n",
       "      <td>Zoom Video Communications Inc</td>\n",
       "    </tr>\n",
       "  </tbody>\n",
       "</table>\n",
       "<p>103 rows × 2 columns</p>\n",
       "</div>"
      ],
      "text/plain": [
       "    Symbol                        Company\n",
       "0      AMD     Advanced Micro Devices Inc\n",
       "1     ADBE                     Adobe Inc.\n",
       "2     ALGN           Align Technology Inc\n",
       "3     AMZN                 Amazon.com Inc\n",
       "4     AMGN                      Amgen Inc\n",
       "..     ...                            ...\n",
       "98     WBA   Walgreens Boots Alliance Inc\n",
       "99    WDAY                    Workday Inc\n",
       "100    XEL                Xcel Energy Inc\n",
       "101   XLNX                     Xilinx Inc\n",
       "102     ZM  Zoom Video Communications Inc\n",
       "\n",
       "[103 rows x 2 columns]"
      ]
     },
     "execution_count": 6,
     "metadata": {},
     "output_type": "execute_result"
    }
   ],
   "source": [
    "\n",
    "#read in the url and scrape ticker data\n",
    "data_table = pd.read_csv('Data/NASDAQ100.csv')\n",
    "# data_table=data_table.drop(['Unnamed: 2','Unnamed: 3','Unnamed: 4'], axis=1)\n",
    "data_table\n"
   ]
  },
  {
   "cell_type": "code",
   "execution_count": 28,
   "metadata": {},
   "outputs": [],
   "source": [
    "############################ run this once And save the results to a csv. Taked approx. 22 mins \n",
    "################### Comment after it has executed once. \n",
    "# tickers = company_list\n",
    "tickers = data_table['Symbol'].str.strip()\n",
    "\n",
    "closing_prices_list = []\n",
    "for ticker in tickers:\n",
    "    try:\n",
    "        prices = pdr.DataReader(ticker,'yahoo','10/21/2020')\n",
    "        # print(prices)\n",
    "        prices = prices['Close']\n",
    "        prices = pd.DataFrame(prices)\n",
    "        # print(prices)\n",
    "        prices.columns = [ticker]\n",
    "        closing_prices_list.append(prices)\n",
    "        # print(closing_prices_list)\n",
    "    except:\n",
    "        pass\n",
    "    # print(closing_prices_list)\n",
    "    prices_df = pd.concat(closing_prices_list,axis=1)\n",
    "\n",
    "prices_df.sort_index(inplace=True)\n",
    "prices_df\n",
    "prices_df.to_csv(\"Data/NASDAQ100prices_df.csv\", index=True)"
   ]
  },
  {
   "cell_type": "code",
   "execution_count": 30,
   "metadata": {},
   "outputs": [
    {
     "data": {
      "text/plain": [
       "(254, 103)"
      ]
     },
     "execution_count": 30,
     "metadata": {},
     "output_type": "execute_result"
    }
   ],
   "source": [
    "# the data gathered in the above dataframe and saved to csv file is being retrieved here\n",
    "fromcsv = pd.read_csv('Data/NASDAQ100prices_df.csv')\n",
    "fromcsv=fromcsv.set_index('Date')\n",
    "fromcsv\n",
    "\n",
    "prices_df = fromcsv\n",
    "prices_df.shape"
   ]
  },
  {
   "cell_type": "code",
   "execution_count": 31,
   "metadata": {},
   "outputs": [
    {
     "data": {
      "text/plain": [
       "Index(['AMD', 'ADBE', 'ALGN', 'AMZN', 'AMGN', 'AEP', 'ADI', 'ANSS', 'AAPL',\n",
       "       'AMAT',\n",
       "       ...\n",
       "       'TXN', 'TMUS', 'VRSN', 'VRSK', 'VRTX', 'WBA', 'WDAY', 'XEL', 'XLNX',\n",
       "       'ZM'],\n",
       "      dtype='object', length=103)"
      ]
     },
     "execution_count": 31,
     "metadata": {},
     "output_type": "execute_result"
    }
   ],
   "source": [
    "prices_df.columns"
   ]
  },
  {
   "cell_type": "code",
   "execution_count": 32,
   "metadata": {},
   "outputs": [],
   "source": [
    "# prices_df.pct_change()"
   ]
  },
  {
   "cell_type": "code",
   "execution_count": 33,
   "metadata": {},
   "outputs": [],
   "source": [
    "# prices_df.pct_change() # gets the precentage change across column leaving the first row NAN\n",
    "# (prices_df.pct_change().sum()/len(prices_df)-1)*len(prices_df)\n",
    "# this can be replaced by the following"
   ]
  },
  {
   "cell_type": "code",
   "execution_count": 34,
   "metadata": {},
   "outputs": [
    {
     "data": {
      "text/html": [
       "<div>\n",
       "<style scoped>\n",
       "    .dataframe tbody tr th:only-of-type {\n",
       "        vertical-align: middle;\n",
       "    }\n",
       "\n",
       "    .dataframe tbody tr th {\n",
       "        vertical-align: top;\n",
       "    }\n",
       "\n",
       "    .dataframe thead th {\n",
       "        text-align: right;\n",
       "    }\n",
       "</style>\n",
       "<table border=\"1\" class=\"dataframe\">\n",
       "  <thead>\n",
       "    <tr style=\"text-align: right;\">\n",
       "      <th></th>\n",
       "      <th>0</th>\n",
       "    </tr>\n",
       "  </thead>\n",
       "  <tbody>\n",
       "    <tr>\n",
       "      <th>AMD</th>\n",
       "      <td>0.487067</td>\n",
       "    </tr>\n",
       "    <tr>\n",
       "      <th>ADBE</th>\n",
       "      <td>0.294472</td>\n",
       "    </tr>\n",
       "    <tr>\n",
       "      <th>ALGN</th>\n",
       "      <td>0.681129</td>\n",
       "    </tr>\n",
       "    <tr>\n",
       "      <th>AMZN</th>\n",
       "      <td>0.078604</td>\n",
       "    </tr>\n",
       "    <tr>\n",
       "      <th>AMGN</th>\n",
       "      <td>-0.068388</td>\n",
       "    </tr>\n",
       "    <tr>\n",
       "      <th>...</th>\n",
       "      <td>...</td>\n",
       "    </tr>\n",
       "    <tr>\n",
       "      <th>WBA</th>\n",
       "      <td>0.325187</td>\n",
       "    </tr>\n",
       "    <tr>\n",
       "      <th>WDAY</th>\n",
       "      <td>0.285494</td>\n",
       "    </tr>\n",
       "    <tr>\n",
       "      <th>XEL</th>\n",
       "      <td>-0.068217</td>\n",
       "    </tr>\n",
       "    <tr>\n",
       "      <th>XLNX</th>\n",
       "      <td>0.517384</td>\n",
       "    </tr>\n",
       "    <tr>\n",
       "      <th>ZM</th>\n",
       "      <td>-0.448337</td>\n",
       "    </tr>\n",
       "  </tbody>\n",
       "</table>\n",
       "<p>103 rows × 1 columns</p>\n",
       "</div>"
      ],
      "text/plain": [
       "             0\n",
       "AMD   0.487067\n",
       "ADBE  0.294472\n",
       "ALGN  0.681129\n",
       "AMZN  0.078604\n",
       "AMGN -0.068388\n",
       "...        ...\n",
       "WBA   0.325187\n",
       "WDAY  0.285494\n",
       "XEL  -0.068217\n",
       "XLNX  0.517384\n",
       "ZM   -0.448337\n",
       "\n",
       "[103 rows x 1 columns]"
      ]
     },
     "execution_count": 34,
     "metadata": {},
     "output_type": "execute_result"
    }
   ],
   "source": [
    "per_change = prices_df.pct_change().mean()*252\n",
    "per_change = per_change.to_frame()\n",
    "per_change"
   ]
  },
  {
   "cell_type": "code",
   "execution_count": 35,
   "metadata": {},
   "outputs": [],
   "source": [
    "# change for time intervel\n",
    "# ((41.248280-27.372362)/27.372362)*100"
   ]
  },
  {
   "cell_type": "code",
   "execution_count": 36,
   "metadata": {},
   "outputs": [],
   "source": [
    "# prices_df.pct_change()"
   ]
  },
  {
   "cell_type": "code",
   "execution_count": 37,
   "metadata": {},
   "outputs": [
    {
     "data": {
      "text/html": [
       "<div>\n",
       "<style scoped>\n",
       "    .dataframe tbody tr th:only-of-type {\n",
       "        vertical-align: middle;\n",
       "    }\n",
       "\n",
       "    .dataframe tbody tr th {\n",
       "        vertical-align: top;\n",
       "    }\n",
       "\n",
       "    .dataframe thead th {\n",
       "        text-align: right;\n",
       "    }\n",
       "</style>\n",
       "<table border=\"1\" class=\"dataframe\">\n",
       "  <thead>\n",
       "    <tr style=\"text-align: right;\">\n",
       "      <th></th>\n",
       "      <th>Returns</th>\n",
       "    </tr>\n",
       "  </thead>\n",
       "  <tbody>\n",
       "    <tr>\n",
       "      <th>AMD</th>\n",
       "      <td>0.487067</td>\n",
       "    </tr>\n",
       "    <tr>\n",
       "      <th>ADBE</th>\n",
       "      <td>0.294472</td>\n",
       "    </tr>\n",
       "    <tr>\n",
       "      <th>ALGN</th>\n",
       "      <td>0.681129</td>\n",
       "    </tr>\n",
       "    <tr>\n",
       "      <th>AMZN</th>\n",
       "      <td>0.078604</td>\n",
       "    </tr>\n",
       "    <tr>\n",
       "      <th>AMGN</th>\n",
       "      <td>-0.068388</td>\n",
       "    </tr>\n",
       "    <tr>\n",
       "      <th>...</th>\n",
       "      <td>...</td>\n",
       "    </tr>\n",
       "    <tr>\n",
       "      <th>WBA</th>\n",
       "      <td>0.325187</td>\n",
       "    </tr>\n",
       "    <tr>\n",
       "      <th>WDAY</th>\n",
       "      <td>0.285494</td>\n",
       "    </tr>\n",
       "    <tr>\n",
       "      <th>XEL</th>\n",
       "      <td>-0.068217</td>\n",
       "    </tr>\n",
       "    <tr>\n",
       "      <th>XLNX</th>\n",
       "      <td>0.517384</td>\n",
       "    </tr>\n",
       "    <tr>\n",
       "      <th>ZM</th>\n",
       "      <td>-0.448337</td>\n",
       "    </tr>\n",
       "  </tbody>\n",
       "</table>\n",
       "<p>103 rows × 1 columns</p>\n",
       "</div>"
      ],
      "text/plain": [
       "       Returns\n",
       "AMD   0.487067\n",
       "ADBE  0.294472\n",
       "ALGN  0.681129\n",
       "AMZN  0.078604\n",
       "AMGN -0.068388\n",
       "...        ...\n",
       "WBA   0.325187\n",
       "WDAY  0.285494\n",
       "XEL  -0.068217\n",
       "XLNX  0.517384\n",
       "ZM   -0.448337\n",
       "\n",
       "[103 rows x 1 columns]"
      ]
     },
     "execution_count": 37,
     "metadata": {},
     "output_type": "execute_result"
    }
   ],
   "source": [
    "per_change = per_change.rename(columns={0:'Returns'})\n",
    "per_change"
   ]
  },
  {
   "cell_type": "code",
   "execution_count": 38,
   "metadata": {},
   "outputs": [
    {
     "data": {
      "text/html": [
       "<div>\n",
       "<style scoped>\n",
       "    .dataframe tbody tr th:only-of-type {\n",
       "        vertical-align: middle;\n",
       "    }\n",
       "\n",
       "    .dataframe tbody tr th {\n",
       "        vertical-align: top;\n",
       "    }\n",
       "\n",
       "    .dataframe thead th {\n",
       "        text-align: right;\n",
       "    }\n",
       "</style>\n",
       "<table border=\"1\" class=\"dataframe\">\n",
       "  <thead>\n",
       "    <tr style=\"text-align: right;\">\n",
       "      <th></th>\n",
       "      <th>Returns</th>\n",
       "      <th>Volatility</th>\n",
       "    </tr>\n",
       "  </thead>\n",
       "  <tbody>\n",
       "    <tr>\n",
       "      <th>AMD</th>\n",
       "      <td>0.487067</td>\n",
       "      <td>0.386696</td>\n",
       "    </tr>\n",
       "    <tr>\n",
       "      <th>ADBE</th>\n",
       "      <td>0.294472</td>\n",
       "      <td>0.264296</td>\n",
       "    </tr>\n",
       "    <tr>\n",
       "      <th>ALGN</th>\n",
       "      <td>0.681129</td>\n",
       "      <td>0.510917</td>\n",
       "    </tr>\n",
       "    <tr>\n",
       "      <th>AMZN</th>\n",
       "      <td>0.078604</td>\n",
       "      <td>0.255232</td>\n",
       "    </tr>\n",
       "    <tr>\n",
       "      <th>AMGN</th>\n",
       "      <td>-0.068388</td>\n",
       "      <td>0.206091</td>\n",
       "    </tr>\n",
       "    <tr>\n",
       "      <th>...</th>\n",
       "      <td>...</td>\n",
       "      <td>...</td>\n",
       "    </tr>\n",
       "    <tr>\n",
       "      <th>WBA</th>\n",
       "      <td>0.325187</td>\n",
       "      <td>0.334956</td>\n",
       "    </tr>\n",
       "    <tr>\n",
       "      <th>WDAY</th>\n",
       "      <td>0.285494</td>\n",
       "      <td>0.352287</td>\n",
       "    </tr>\n",
       "    <tr>\n",
       "      <th>XEL</th>\n",
       "      <td>-0.068217</td>\n",
       "      <td>0.193854</td>\n",
       "    </tr>\n",
       "    <tr>\n",
       "      <th>XLNX</th>\n",
       "      <td>0.517384</td>\n",
       "      <td>0.401511</td>\n",
       "    </tr>\n",
       "    <tr>\n",
       "      <th>ZM</th>\n",
       "      <td>-0.448337</td>\n",
       "      <td>0.564173</td>\n",
       "    </tr>\n",
       "  </tbody>\n",
       "</table>\n",
       "<p>103 rows × 2 columns</p>\n",
       "</div>"
      ],
      "text/plain": [
       "       Returns  Volatility\n",
       "AMD   0.487067    0.386696\n",
       "ADBE  0.294472    0.264296\n",
       "ALGN  0.681129    0.510917\n",
       "AMZN  0.078604    0.255232\n",
       "AMGN -0.068388    0.206091\n",
       "...        ...         ...\n",
       "WBA   0.325187    0.334956\n",
       "WDAY  0.285494    0.352287\n",
       "XEL  -0.068217    0.193854\n",
       "XLNX  0.517384    0.401511\n",
       "ZM   -0.448337    0.564173\n",
       "\n",
       "[103 rows x 2 columns]"
      ]
     },
     "execution_count": 38,
     "metadata": {},
     "output_type": "execute_result"
    }
   ],
   "source": [
    "#Calculate average annual percentage return and volatilities over a theoretical one year period\n",
    "# returns = prices_df.pct_change().mean() * 252\n",
    "# returns = pd.DataFrame(returns)\n",
    "# returns.columns = ['Returns']\n",
    "per_change['Volatility'] = prices_df.pct_change().std() * sqrt(252)\n",
    "per_change"
   ]
  },
  {
   "cell_type": "markdown",
   "metadata": {},
   "source": [
    "# Clusters with Unscaled Data"
   ]
  },
  {
   "cell_type": "code",
   "execution_count": 39,
   "metadata": {},
   "outputs": [
    {
     "name": "stderr",
     "output_type": "stream",
     "text": [
      "C:\\Users\\SMKazmi\\anaconda3\\lib\\site-packages\\sklearn\\cluster\\_kmeans.py:881: UserWarning: KMeans is known to have a memory leak on Windows with MKL, when there are less chunks than available threads. You can avoid it by setting the environment variable OMP_NUM_THREADS=1.\n",
      "  warnings.warn(\n"
     ]
    }
   ],
   "source": [
    "distortions = []\n",
    "inertia = []\n",
    "k = range(1, 11)\n",
    "# Calculate the inertia for the range of k values\n",
    "for i in k:\n",
    "    km = KMeans(n_clusters=i, random_state=0)\n",
    "    km.fit(per_change)\n",
    "    distortions.append(sum(np.min(cdist(per_change, km.cluster_centers_,\n",
    "                                        'euclidean'), axis=1)) / per_change.shape[0])\n",
    "    inertia.append(km.inertia_)"
   ]
  },
  {
   "cell_type": "code",
   "execution_count": 40,
   "metadata": {},
   "outputs": [
    {
     "data": {
      "image/png": "[encoded data removed]",
      "text/plain": [
       "<Figure size 720x360 with 1 Axes>"
      ]
     },
     "metadata": {
      "needs_background": "light"
     },
     "output_type": "display_data"
    }
   ],
   "source": [
    "# Create the Elbow Curve\n",
    "elbow_data = {\"k\": k, \"inertia\": inertia}\n",
    "df_elbow = pd.DataFrame(elbow_data)\n",
    "plt.figure(figsize=(10, 5))\n",
    "# Plot the elbow curve to find the best candidate(s) for k\n",
    "plt.plot(df_elbow['k'], df_elbow['inertia'])\n",
    "# plt.plot(df_elbow['k'], distortions, 'bx-')\n",
    "plt.xticks(range(1,11))\n",
    "plt.xlabel('Number of clusters')\n",
    "plt.ylabel('Inertia')\n",
    "plt.title('Elbow Method')\n",
    "\n",
    "plt.grid(True)\n",
    "plt.show()"
   ]
  },
  {
   "cell_type": "markdown",
   "metadata": {},
   "source": [
    "#### Looks like there or 4 or 5 clusters. Let's try scaling the data first"
   ]
  },
  {
   "cell_type": "markdown",
   "metadata": {},
   "source": [
    "# Clusters with Scaled Data"
   ]
  },
  {
   "cell_type": "code",
   "execution_count": 41,
   "metadata": {},
   "outputs": [
    {
     "data": {
      "text/plain": [
       "(103, 2)"
      ]
     },
     "execution_count": 41,
     "metadata": {},
     "output_type": "execute_result"
    }
   ],
   "source": [
    "stock_data_scaled = StandardScaler().fit_transform(per_change)\n",
    "stock_data_scaled_df = pd.DataFrame(stock_data_scaled)\n",
    "stock_data_scaled_df.shape\n",
    "# stock_data_scaled"
   ]
  },
  {
   "cell_type": "code",
   "execution_count": 42,
   "metadata": {},
   "outputs": [
    {
     "name": "stderr",
     "output_type": "stream",
     "text": [
      "C:\\Users\\SMKazmi\\anaconda3\\lib\\site-packages\\sklearn\\cluster\\_kmeans.py:881: UserWarning: KMeans is known to have a memory leak on Windows with MKL, when there are less chunks than available threads. You can avoid it by setting the environment variable OMP_NUM_THREADS=1.\n",
      "  warnings.warn(\n"
     ]
    }
   ],
   "source": [
    "distortions = []\n",
    "inertia = []\n",
    "k = range(1, 11)\n",
    "# Calculate the inertia for the range of k values\n",
    "for i in k:\n",
    "    km = KMeans(n_clusters=i, random_state=0)\n",
    "    km.fit(stock_data_scaled)\n",
    "    distortions.append(sum(np.min(cdist(stock_data_scaled, km.cluster_centers_,\n",
    "                                        'euclidean'), axis=1)) / stock_data_scaled.shape[0])\n",
    "    inertia.append(km.inertia_)"
   ]
  },
  {
   "cell_type": "code",
   "execution_count": 43,
   "metadata": {},
   "outputs": [
    {
     "data": {
      "image/png": "[encoded data removed]",
      "text/plain": [
       "<Figure size 720x360 with 1 Axes>"
      ]
     },
     "metadata": {
      "needs_background": "light"
     },
     "output_type": "display_data"
    }
   ],
   "source": [
    "# Create the Elbow Curve using hvPlot\n",
    "elbow_data = {\"k\": k, \"inertia\": inertia}\n",
    "df_elbow = pd.DataFrame(elbow_data)\n",
    "plt.figure(figsize=(10, 5))\n",
    "# Plot the elbow curve to find the best candidate(s) for k\n",
    "plt.plot(df_elbow['k'], df_elbow['inertia'])\n",
    "plt.xticks(range(1,11))\n",
    "plt.xlabel('Number of clusters')\n",
    "plt.ylabel('Inertia')\n",
    "plt.title('Elbow Method')\n",
    "\n",
    "plt.grid(True)\n",
    "plt.show()"
   ]
  },
  {
   "cell_type": "code",
   "execution_count": 44,
   "metadata": {},
   "outputs": [],
   "source": [
    "# Predicting clusters with k=4\n",
    "\n",
    "# Initialize the k-means model\n",
    "model = KMeans(n_clusters=4, random_state=0)\n",
    "\n",
    "# Fit the model\n",
    "model.fit(stock_data_scaled)\n",
    "\n",
    "# Predict clusters\n",
    "predictions = model.predict(stock_data_scaled)"
   ]
  },
  {
   "cell_type": "code",
   "execution_count": 45,
   "metadata": {},
   "outputs": [],
   "source": [
    "# Add the predicted cluster column to the dataframe (name it class)\n",
    "per_change[\"Cluster\"] = model.labels_\n",
    "per_change[\"Cluster\"].unique()\n",
    "centroids = model.cluster_centers_\n",
    "centroids_x = centroids[:,0]\n",
    "centroids_y = centroids[:,1]\n"
   ]
  },
  {
   "cell_type": "code",
   "execution_count": 46,
   "metadata": {},
   "outputs": [
    {
     "data": {
      "image/png": "[encoded data removed]",
      "text/plain": [
       "<Figure size 720x360 with 1 Axes>"
      ]
     },
     "metadata": {
      "needs_background": "light"
     },
     "output_type": "display_data"
    }
   ],
   "source": [
    "plt.figure(figsize=(10, 5))\n",
    "plt.scatter(x=per_change['Returns'], y=per_change['Volatility'], c=per_change['Cluster'])\n",
    "\n",
    "plt.title('Clusters')\n",
    "plt.show()"
   ]
  },
  {
   "cell_type": "code",
   "execution_count": 47,
   "metadata": {},
   "outputs": [
    {
     "data": {
      "text/html": [
       "<div>\n",
       "<style scoped>\n",
       "    .dataframe tbody tr th:only-of-type {\n",
       "        vertical-align: middle;\n",
       "    }\n",
       "\n",
       "    .dataframe tbody tr th {\n",
       "        vertical-align: top;\n",
       "    }\n",
       "\n",
       "    .dataframe thead th {\n",
       "        text-align: right;\n",
       "    }\n",
       "</style>\n",
       "<table border=\"1\" class=\"dataframe\">\n",
       "  <thead>\n",
       "    <tr style=\"text-align: right;\">\n",
       "      <th></th>\n",
       "      <th>Stock</th>\n",
       "      <th>Returns</th>\n",
       "      <th>Volatility</th>\n",
       "      <th>Cluster</th>\n",
       "    </tr>\n",
       "  </thead>\n",
       "  <tbody>\n",
       "    <tr>\n",
       "      <th>0</th>\n",
       "      <td>MNST</td>\n",
       "      <td>0.078119</td>\n",
       "      <td>0.210580</td>\n",
       "      <td>0</td>\n",
       "    </tr>\n",
       "    <tr>\n",
       "      <th>1</th>\n",
       "      <td>MDLZ</td>\n",
       "      <td>0.075034</td>\n",
       "      <td>0.156283</td>\n",
       "      <td>0</td>\n",
       "    </tr>\n",
       "    <tr>\n",
       "      <th>2</th>\n",
       "      <td>SBUX</td>\n",
       "      <td>0.284254</td>\n",
       "      <td>0.222034</td>\n",
       "      <td>0</td>\n",
       "    </tr>\n",
       "    <tr>\n",
       "      <th>3</th>\n",
       "      <td>DLTR</td>\n",
       "      <td>0.141056</td>\n",
       "      <td>0.343464</td>\n",
       "      <td>0</td>\n",
       "    </tr>\n",
       "    <tr>\n",
       "      <th>4</th>\n",
       "      <td>EA</td>\n",
       "      <td>0.132496</td>\n",
       "      <td>0.255675</td>\n",
       "      <td>0</td>\n",
       "    </tr>\n",
       "    <tr>\n",
       "      <th>...</th>\n",
       "      <td>...</td>\n",
       "      <td>...</td>\n",
       "      <td>...</td>\n",
       "      <td>...</td>\n",
       "    </tr>\n",
       "    <tr>\n",
       "      <th>98</th>\n",
       "      <td>MELI</td>\n",
       "      <td>0.256242</td>\n",
       "      <td>0.471642</td>\n",
       "      <td>2</td>\n",
       "    </tr>\n",
       "    <tr>\n",
       "      <th>99</th>\n",
       "      <td>NTES</td>\n",
       "      <td>0.269051</td>\n",
       "      <td>0.496133</td>\n",
       "      <td>2</td>\n",
       "    </tr>\n",
       "    <tr>\n",
       "      <th>100</th>\n",
       "      <td>PTON</td>\n",
       "      <td>-0.065098</td>\n",
       "      <td>0.652266</td>\n",
       "      <td>2</td>\n",
       "    </tr>\n",
       "    <tr>\n",
       "      <th>101</th>\n",
       "      <td>ZM</td>\n",
       "      <td>-0.448337</td>\n",
       "      <td>0.564173</td>\n",
       "      <td>2</td>\n",
       "    </tr>\n",
       "    <tr>\n",
       "      <th>102</th>\n",
       "      <td>MRNA</td>\n",
       "      <td>1.874780</td>\n",
       "      <td>0.797253</td>\n",
       "      <td>3</td>\n",
       "    </tr>\n",
       "  </tbody>\n",
       "</table>\n",
       "<p>103 rows × 4 columns</p>\n",
       "</div>"
      ],
      "text/plain": [
       "    Stock   Returns  Volatility  Cluster\n",
       "0    MNST  0.078119    0.210580        0\n",
       "1    MDLZ  0.075034    0.156283        0\n",
       "2    SBUX  0.284254    0.222034        0\n",
       "3    DLTR  0.141056    0.343464        0\n",
       "4      EA  0.132496    0.255675        0\n",
       "..    ...       ...         ...      ...\n",
       "98   MELI  0.256242    0.471642        2\n",
       "99   NTES  0.269051    0.496133        2\n",
       "100  PTON -0.065098    0.652266        2\n",
       "101    ZM -0.448337    0.564173        2\n",
       "102  MRNA  1.874780    0.797253        3\n",
       "\n",
       "[103 rows x 4 columns]"
      ]
     },
     "execution_count": 47,
     "metadata": {},
     "output_type": "execute_result"
    }
   ],
   "source": [
    "per_change = per_change.sort_values(by='Cluster')\n",
    "per_change = per_change.reset_index()\n",
    "per_change = per_change.rename(columns={'index':'Stock'})\n",
    "per_change"
   ]
  },
  {
   "cell_type": "code",
   "execution_count": 48,
   "metadata": {},
   "outputs": [],
   "source": [
    "file_path = \"Data/Analyzed/Clustered_StocksNASDAQ100.csv\"\n",
    "per_change.to_csv(file_path)"
   ]
  },
  {
   "cell_type": "markdown",
   "metadata": {},
   "source": [
    "# PCA ??\n",
    "As there were only 2 features , we do not require any dimenssionality reduction"
   ]
  },
  {
   "cell_type": "markdown",
   "metadata": {},
   "source": [
    "#### uncomment the following cells if you want to check with PCA (Principal component analysis)"
   ]
  },
  {
   "cell_type": "code",
   "execution_count": 155,
   "metadata": {},
   "outputs": [],
   "source": [
    "# # Initialize PCA model\n",
    "# pca = PCA(n_components=0.90)\n",
    "# stock_data_scaled_df\n",
    "# stock_data_scaled_df\n",
    "# # stock_data_scaled\n",
    "# stock_data_scaled.shape\n",
    "# stock_data_for_pca = pca.fit_transform(stock_data_scaled)\n",
    "# stock_data_for_pca.shape\n",
    "# # stock_data_for_pca\n",
    "# plt.figure(figsize=(10, 5))\n",
    "# plt.scatter(x=stock_data_for_pca[:,0], y=stock_data_for_pca[:,1], alpha=0.4)\n",
    "# plt.title('Cryptocurrency clusters')\n",
    "# plt.show()"
   ]
  },
  {
   "cell_type": "code",
   "execution_count": 156,
   "metadata": {},
   "outputs": [],
   "source": [
    "# distortions = []\n",
    "# inertia = []\n",
    "# k = range(1, 11)\n",
    "# # Calculate the inertia for the range of k values\n",
    "# for i in k:\n",
    "#     km = KMeans(n_clusters=i, random_state=0)\n",
    "#     km.fit(stock_data_for_pca)\n",
    "#     distortions.append(sum(np.min(cdist(stock_data_for_pca, km.cluster_centers_,\n",
    "#                                         'euclidean'), axis=1)) / stock_data_for_pca.shape[0])\n",
    "#     inertia.append(km.inertia_)\n",
    "# # # Add the predicted cluster column to the dataframe (name it class)\n",
    "# # per_change[\"Cluster\"] = model.labels_\n",
    "# # per_change[\"Cluster\"].unique()\n",
    "# # centroids = model.cluster_centers_\n",
    "# # centroids_x = centroids[:,0]\n",
    "# # centroids_y = centroids[:,1]\n",
    "# # Predicting clusters with k=4\n"
   ]
  },
  {
   "cell_type": "code",
   "execution_count": 157,
   "metadata": {},
   "outputs": [],
   "source": [
    "\n",
    "# # Initialize the k-means model\n",
    "# model = KMeans(n_clusters=4, random_state=0)\n",
    "\n",
    "# # Fit the model\n",
    "# model.fit(stock_data_for_pca)\n",
    "\n",
    "# # Predict clusters\n",
    "# predictions = model.predict(stock_data_for_pca)\n",
    "# plt.figure(figsize=(8, 4))\n",
    "# plt.scatter(x=stock_data_for_pca[:,0], y=stock_data_for_pca[:,1], c=model.labels_)\n",
    "# plt.title('Stock Clusters')\n",
    "# plt.show()"
   ]
  },
  {
   "cell_type": "code",
   "execution_count": null,
   "metadata": {},
   "outputs": [],
   "source": []
  }
 ],
 "metadata": {
  "interpreter": {
   "hash": "9b61444079777301881e5d5f3f9cdf2367fb5f6e8303aaf82655a6c06b6ddbc6"
  },
  "kernelspec": {
   "display_name": "Python 3.8.8 64-bit ('base': conda)",
   "name": "python3"
  },
  "language_info": {
   "codemirror_mode": {
    "name": "ipython",
    "version": 3
   },
   "file_extension": ".py",
   "mimetype": "text/x-python",
   "name": "python",
   "nbconvert_exporter": "python",
   "pygments_lexer": "ipython3",
   "version": "3.8.8"
  },
  "orig_nbformat": 4
 },
 "nbformat": 4,
 "nbformat_minor": 2
}
