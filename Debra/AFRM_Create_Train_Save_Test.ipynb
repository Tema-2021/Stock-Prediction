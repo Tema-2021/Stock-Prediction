{
 "cells": [
  {
   "cell_type": "code",
   "execution_count": 1,
   "metadata": {
    "id": "brsCiv-W6GZ2"
   },
   "outputs": [],
   "source": [
    "import math\n",
    "import numpy as np\n",
    "import os\n",
    "from sklearn.preprocessing import MinMaxScaler\n",
    "import tensorflow as tf\n",
    "import matplotlib.pyplot as plt\n",
    "plt.style.use('ggplot')\n",
    "import pandas_datareader as pdr\n",
    "from datetime import datetime, timedelta"
   ]
  },
  {
   "cell_type": "code",
   "execution_count": 2,
   "metadata": {},
   "outputs": [],
   "source": [
    "#Get the stock\n",
    "ticker = 'AFRM'\n",
    "stock =\"Affirm Holdings\"\n",
    "# Time step n days, here we will use n  days historical data to predict next day closing\n",
    "ts_points = 120\n",
    "# train_data[0:60,0]  \n",
    "\n",
    "today = datetime.today()\n",
    "# start_date ='2016-01-01'\n",
    "start_date = (today - timedelta(days=5*365) ).strftime('%Y-%m-%d')\n",
    "\n",
    "end_date   = today.strftime('%Y-%m-%d')\n",
    "stock_df = pdr.DataReader(ticker, data_source=\"yahoo\", start=start_date, end=end_date)"
   ]
  },
  {
   "cell_type": "code",
   "execution_count": 3,
   "metadata": {},
   "outputs": [
    {
     "data": {
      "text/html": [
       "<div>\n",
       "<style scoped>\n",
       "    .dataframe tbody tr th:only-of-type {\n",
       "        vertical-align: middle;\n",
       "    }\n",
       "\n",
       "    .dataframe tbody tr th {\n",
       "        vertical-align: top;\n",
       "    }\n",
       "\n",
       "    .dataframe thead th {\n",
       "        text-align: right;\n",
       "    }\n",
       "</style>\n",
       "<table border=\"1\" class=\"dataframe\">\n",
       "  <thead>\n",
       "    <tr style=\"text-align: right;\">\n",
       "      <th></th>\n",
       "      <th>High</th>\n",
       "      <th>Low</th>\n",
       "      <th>Open</th>\n",
       "      <th>Close</th>\n",
       "      <th>Volume</th>\n",
       "      <th>Adj Close</th>\n",
       "    </tr>\n",
       "    <tr>\n",
       "      <th>Date</th>\n",
       "      <th></th>\n",
       "      <th></th>\n",
       "      <th></th>\n",
       "      <th></th>\n",
       "      <th></th>\n",
       "      <th></th>\n",
       "    </tr>\n",
       "  </thead>\n",
       "  <tbody>\n",
       "    <tr>\n",
       "      <th>2021-01-13</th>\n",
       "      <td>103.000000</td>\n",
       "      <td>90.010002</td>\n",
       "      <td>90.900002</td>\n",
       "      <td>96.364998</td>\n",
       "      <td>25159000</td>\n",
       "      <td>96.364998</td>\n",
       "    </tr>\n",
       "    <tr>\n",
       "      <th>2021-01-14</th>\n",
       "      <td>137.979996</td>\n",
       "      <td>101.000000</td>\n",
       "      <td>103.500000</td>\n",
       "      <td>114.940002</td>\n",
       "      <td>20858700</td>\n",
       "      <td>114.940002</td>\n",
       "    </tr>\n",
       "    <tr>\n",
       "      <th>2021-01-15</th>\n",
       "      <td>127.239998</td>\n",
       "      <td>107.000000</td>\n",
       "      <td>123.054001</td>\n",
       "      <td>117.000000</td>\n",
       "      <td>8310700</td>\n",
       "      <td>117.000000</td>\n",
       "    </tr>\n",
       "    <tr>\n",
       "      <th>2021-01-19</th>\n",
       "      <td>117.675003</td>\n",
       "      <td>108.000000</td>\n",
       "      <td>117.000000</td>\n",
       "      <td>110.989998</td>\n",
       "      <td>3304900</td>\n",
       "      <td>110.989998</td>\n",
       "    </tr>\n",
       "    <tr>\n",
       "      <th>2021-01-20</th>\n",
       "      <td>112.000000</td>\n",
       "      <td>103.250000</td>\n",
       "      <td>110.000000</td>\n",
       "      <td>106.209999</td>\n",
       "      <td>5091400</td>\n",
       "      <td>106.209999</td>\n",
       "    </tr>\n",
       "    <tr>\n",
       "      <th>...</th>\n",
       "      <td>...</td>\n",
       "      <td>...</td>\n",
       "      <td>...</td>\n",
       "      <td>...</td>\n",
       "      <td>...</td>\n",
       "      <td>...</td>\n",
       "    </tr>\n",
       "    <tr>\n",
       "      <th>2021-10-18</th>\n",
       "      <td>159.669998</td>\n",
       "      <td>146.610001</td>\n",
       "      <td>146.729996</td>\n",
       "      <td>157.250000</td>\n",
       "      <td>23542500</td>\n",
       "      <td>157.250000</td>\n",
       "    </tr>\n",
       "    <tr>\n",
       "      <th>2021-10-19</th>\n",
       "      <td>160.690002</td>\n",
       "      <td>153.300003</td>\n",
       "      <td>157.516998</td>\n",
       "      <td>155.350006</td>\n",
       "      <td>12814500</td>\n",
       "      <td>155.350006</td>\n",
       "    </tr>\n",
       "    <tr>\n",
       "      <th>2021-10-20</th>\n",
       "      <td>158.289993</td>\n",
       "      <td>146.149994</td>\n",
       "      <td>156.289993</td>\n",
       "      <td>147.639999</td>\n",
       "      <td>10450900</td>\n",
       "      <td>147.639999</td>\n",
       "    </tr>\n",
       "    <tr>\n",
       "      <th>2021-10-21</th>\n",
       "      <td>156.160004</td>\n",
       "      <td>149.869995</td>\n",
       "      <td>150.660004</td>\n",
       "      <td>155.339996</td>\n",
       "      <td>9504600</td>\n",
       "      <td>155.339996</td>\n",
       "    </tr>\n",
       "    <tr>\n",
       "      <th>2021-10-22</th>\n",
       "      <td>159.820007</td>\n",
       "      <td>150.750000</td>\n",
       "      <td>154.169998</td>\n",
       "      <td>155.210007</td>\n",
       "      <td>9896800</td>\n",
       "      <td>155.210007</td>\n",
       "    </tr>\n",
       "  </tbody>\n",
       "</table>\n",
       "<p>197 rows × 6 columns</p>\n",
       "</div>"
      ],
      "text/plain": [
       "                  High         Low        Open       Close    Volume  \\\n",
       "Date                                                                   \n",
       "2021-01-13  103.000000   90.010002   90.900002   96.364998  25159000   \n",
       "2021-01-14  137.979996  101.000000  103.500000  114.940002  20858700   \n",
       "2021-01-15  127.239998  107.000000  123.054001  117.000000   8310700   \n",
       "2021-01-19  117.675003  108.000000  117.000000  110.989998   3304900   \n",
       "2021-01-20  112.000000  103.250000  110.000000  106.209999   5091400   \n",
       "...                ...         ...         ...         ...       ...   \n",
       "2021-10-18  159.669998  146.610001  146.729996  157.250000  23542500   \n",
       "2021-10-19  160.690002  153.300003  157.516998  155.350006  12814500   \n",
       "2021-10-20  158.289993  146.149994  156.289993  147.639999  10450900   \n",
       "2021-10-21  156.160004  149.869995  150.660004  155.339996   9504600   \n",
       "2021-10-22  159.820007  150.750000  154.169998  155.210007   9896800   \n",
       "\n",
       "             Adj Close  \n",
       "Date                    \n",
       "2021-01-13   96.364998  \n",
       "2021-01-14  114.940002  \n",
       "2021-01-15  117.000000  \n",
       "2021-01-19  110.989998  \n",
       "2021-01-20  106.209999  \n",
       "...                ...  \n",
       "2021-10-18  157.250000  \n",
       "2021-10-19  155.350006  \n",
       "2021-10-20  147.639999  \n",
       "2021-10-21  155.339996  \n",
       "2021-10-22  155.210007  \n",
       "\n",
       "[197 rows x 6 columns]"
      ]
     },
     "execution_count": 3,
     "metadata": {},
     "output_type": "execute_result"
    }
   ],
   "source": [
    "# Date is an index but to be sure , let's sort\n",
    "stock_df = stock_df.sort_index(ascending=True)\n",
    "stock_df"
   ]
  },
  {
   "cell_type": "code",
   "execution_count": 4,
   "metadata": {},
   "outputs": [
    {
     "data": {
      "text/plain": [
       "High         0\n",
       "Low          0\n",
       "Open         0\n",
       "Close        0\n",
       "Volume       0\n",
       "Adj Close    0\n",
       "dtype: int64"
      ]
     },
     "execution_count": 4,
     "metadata": {},
     "output_type": "execute_result"
    }
   ],
   "source": [
    "# check for nulls\n",
    "stock_df.isna().sum()"
   ]
  },
  {
   "cell_type": "code",
   "execution_count": 5,
   "metadata": {},
   "outputs": [
    {
     "data": {
      "text/plain": [
       "(197, 6)"
      ]
     },
     "execution_count": 5,
     "metadata": {},
     "output_type": "execute_result"
    }
   ],
   "source": [
    "# Get shape\n",
    "stock_df.shape"
   ]
  },
  {
   "cell_type": "code",
   "execution_count": 6,
   "metadata": {},
   "outputs": [
    {
     "data": {
      "image/png": "[encoded data removed]",
      "text/plain": [
       "<Figure size 1152x576 with 1 Axes>"
      ]
     },
     "metadata": {},
     "output_type": "display_data"
    }
   ],
   "source": [
    "# Visualize closing price history\n",
    "plt.figure(figsize=(16,8))\n",
    "plt.title (f\"Closing Price History for '{stock}' - {ticker}\")\n",
    "plt.plot(stock_df['Close'])\n",
    "plt.xlabel('Date')\n",
    "plt.ylabel('Close Price USD', fontsize=16)\n",
    "plt.show()"
   ]
  },
  {
   "cell_type": "code",
   "execution_count": 7,
   "metadata": {},
   "outputs": [
    {
     "data": {
      "image/png": "[encoded data removed]",
      "text/plain": [
       "<Figure size 432x288 with 1 Axes>"
      ]
     },
     "metadata": {},
     "output_type": "display_data"
    }
   ],
   "source": [
    "stock_df['Close'].plot.density()\n",
    "plt.xlabel('Distribution of the closing stock price')\n",
    "plt.show()"
   ]
  },
  {
   "cell_type": "code",
   "execution_count": 8,
   "metadata": {},
   "outputs": [
    {
     "data": {
      "text/plain": [
       "array([[ 96.36499786],\n",
       "       [114.94000244],\n",
       "       [117.        ],\n",
       "       [110.98999786],\n",
       "       [106.20999908],\n",
       "       [108.97000122],\n",
       "       [119.94999695],\n",
       "       [112.69999695],\n",
       "       [110.08000183],\n",
       "       [105.29000092],\n",
       "       [ 99.41999817],\n",
       "       [ 99.58999634],\n",
       "       [107.61000061],\n",
       "       [113.        ],\n",
       "       [110.94999695],\n",
       "       [108.76999664],\n",
       "       [103.44999695],\n",
       "       [122.76000214],\n",
       "       [131.        ],\n",
       "       [136.22999573],\n",
       "       [139.99000549],\n",
       "       [125.88999939],\n",
       "       [119.15000153],\n",
       "       [112.52999878],\n",
       "       [105.55000305],\n",
       "       [105.98999786],\n",
       "       [104.83000183],\n",
       "       [102.01000214],\n",
       "       [102.48999786],\n",
       "       [ 94.19499969],\n",
       "       [ 93.05999756],\n",
       "       [ 91.44000244],\n",
       "       [ 91.80000305],\n",
       "       [ 86.30999756],\n",
       "       [ 84.45999908],\n",
       "       [ 81.13999939],\n",
       "       [ 74.30999756],\n",
       "       [ 79.66000366],\n",
       "       [ 80.76000214],\n",
       "       [ 81.25      ],\n",
       "       [ 79.56999969],\n",
       "       [ 81.34999847],\n",
       "       [ 80.80000305],\n",
       "       [ 81.08999634],\n",
       "       [ 74.38999939],\n",
       "       [ 77.37000275],\n",
       "       [ 81.98999786],\n",
       "       [ 78.87000275],\n",
       "       [ 72.62999725],\n",
       "       [ 69.55999756],\n",
       "       [ 69.72000122],\n",
       "       [ 69.98999786],\n",
       "       [ 66.38999939],\n",
       "       [ 70.72000122],\n",
       "       [ 71.44999695],\n",
       "       [ 69.38999939],\n",
       "       [ 73.        ],\n",
       "       [ 71.5       ],\n",
       "       [ 69.80999756],\n",
       "       [ 70.70999908],\n",
       "       [ 67.93000031],\n",
       "       [ 70.11000061],\n",
       "       [ 68.73000336],\n",
       "       [ 68.66999817],\n",
       "       [ 69.72000122],\n",
       "       [ 66.01999664],\n",
       "       [ 65.        ],\n",
       "       [ 67.55000305],\n",
       "       [ 68.62000275],\n",
       "       [ 74.12000275],\n",
       "       [ 77.97000122],\n",
       "       [ 76.37000275],\n",
       "       [ 77.20999908],\n",
       "       [ 74.01999664],\n",
       "       [ 70.5       ],\n",
       "       [ 66.77999878],\n",
       "       [ 62.16999817],\n",
       "       [ 57.59999847],\n",
       "       [ 54.43999863],\n",
       "       [ 54.        ],\n",
       "       [ 57.        ],\n",
       "       [ 55.45000076],\n",
       "       [ 49.81999969],\n",
       "       [ 48.36999893],\n",
       "       [ 54.        ],\n",
       "       [ 50.59999847],\n",
       "       [ 51.63999939],\n",
       "       [ 50.45000076],\n",
       "       [ 54.88999939],\n",
       "       [ 53.36000061],\n",
       "       [ 53.15000153],\n",
       "       [ 54.04000092],\n",
       "       [ 57.        ],\n",
       "       [ 57.29000092],\n",
       "       [ 60.81000137],\n",
       "       [ 62.52000046],\n",
       "       [ 65.23999786],\n",
       "       [ 63.24000168],\n",
       "       [ 59.65000153],\n",
       "       [ 59.45999908],\n",
       "       [ 62.49000168],\n",
       "       [ 60.25999832],\n",
       "       [ 63.68000031],\n",
       "       [ 67.98000336],\n",
       "       [ 68.94000244],\n",
       "       [ 67.26000214],\n",
       "       [ 67.41000366],\n",
       "       [ 69.38999939],\n",
       "       [ 68.18000031],\n",
       "       [ 63.79999924],\n",
       "       [ 63.45000076],\n",
       "       [ 65.16000366],\n",
       "       [ 66.33000183],\n",
       "       [ 64.40000153],\n",
       "       [ 64.43000031],\n",
       "       [ 66.45999908],\n",
       "       [ 67.34999847],\n",
       "       [ 68.37000275],\n",
       "       [ 68.87000275],\n",
       "       [ 67.98999786],\n",
       "       [ 64.29000092],\n",
       "       [ 63.99000168],\n",
       "       [ 67.25      ],\n",
       "       [ 65.        ],\n",
       "       [ 58.20999908],\n",
       "       [ 56.75999832],\n",
       "       [ 57.45000076],\n",
       "       [ 57.5       ],\n",
       "       [ 55.86000061],\n",
       "       [ 57.40999985],\n",
       "       [ 60.63000107],\n",
       "       [ 59.        ],\n",
       "       [ 58.68999863],\n",
       "       [ 59.41999817],\n",
       "       [ 59.5       ],\n",
       "       [ 61.18000031],\n",
       "       [ 60.86000061],\n",
       "       [ 56.31999969],\n",
       "       [ 64.70999908],\n",
       "       [ 66.66999817],\n",
       "       [ 68.22000122],\n",
       "       [ 67.16000366],\n",
       "       [ 67.16999817],\n",
       "       [ 65.87999725],\n",
       "       [ 65.55999756],\n",
       "       [ 68.62000275],\n",
       "       [ 67.54000092],\n",
       "       [ 65.94999695],\n",
       "       [ 63.59000015],\n",
       "       [ 63.5       ],\n",
       "       [ 64.68000031],\n",
       "       [ 63.45999908],\n",
       "       [ 64.76000214],\n",
       "       [ 67.70999908],\n",
       "       [ 68.52999878],\n",
       "       [ 72.70999908],\n",
       "       [ 69.98000336],\n",
       "       [ 67.90000153],\n",
       "       [ 99.58999634],\n",
       "       [ 96.33999634],\n",
       "       [ 96.48000336],\n",
       "       [ 98.98999786],\n",
       "       [ 93.05000305],\n",
       "       [ 91.51000214],\n",
       "       [ 87.54000092],\n",
       "       [ 92.05999756],\n",
       "       [123.69999695],\n",
       "       [109.30000305],\n",
       "       [108.05999756],\n",
       "       [109.75      ],\n",
       "       [117.58000183],\n",
       "       [116.27999878],\n",
       "       [107.69999695],\n",
       "       [108.11000061],\n",
       "       [114.06999969],\n",
       "       [126.88999939],\n",
       "       [123.73000336],\n",
       "       [128.36999512],\n",
       "       [114.51999664],\n",
       "       [112.76999664],\n",
       "       [119.12999725],\n",
       "       [117.84999847],\n",
       "       [107.93000031],\n",
       "       [111.45999908],\n",
       "       [133.69999695],\n",
       "       [133.8999939 ],\n",
       "       [141.19000244],\n",
       "       [135.02999878],\n",
       "       [140.66999817],\n",
       "       [146.13000488],\n",
       "       [148.47000122],\n",
       "       [146.72999573],\n",
       "       [157.25      ],\n",
       "       [155.3500061 ],\n",
       "       [147.63999939],\n",
       "       [155.33999634],\n",
       "       [155.21000671]])"
      ]
     },
     "execution_count": 8,
     "metadata": {},
     "output_type": "execute_result"
    }
   ],
   "source": [
    "# DF with only close\n",
    "TSdata_df = stock_df.filter(['Close'])\n",
    "TSdata_arr = TSdata_df.values # this creates an array of Close Price\n",
    "TSdata_arr"
   ]
  },
  {
   "cell_type": "code",
   "execution_count": 9,
   "metadata": {},
   "outputs": [],
   "source": [
    "# Scale the Data\n",
    "scaler = MinMaxScaler(feature_range =(0,1))\n",
    "scaled_data = scaler.fit_transform(TSdata_arr)\n",
    "# scaled_data"
   ]
  },
  {
   "cell_type": "code",
   "execution_count": 10,
   "metadata": {},
   "outputs": [
    {
     "data": {
      "text/plain": [
       "148"
      ]
     },
     "execution_count": 10,
     "metadata": {},
     "output_type": "execute_result"
    }
   ],
   "source": [
    "training_data_len = math.ceil(len(TSdata_arr) * 0.75)\n",
    "training_data_len"
   ]
  },
  {
   "cell_type": "code",
   "execution_count": 11,
   "metadata": {},
   "outputs": [
    {
     "data": {
      "text/plain": [
       "(148, 1)"
      ]
     },
     "execution_count": 11,
     "metadata": {},
     "output_type": "execute_result"
    }
   ],
   "source": [
    "# Created scaled training dataset\n",
    "train_data = scaled_data[0:training_data_len]\n",
    "train_data.shape"
   ]
  },
  {
   "cell_type": "code",
   "execution_count": 12,
   "metadata": {},
   "outputs": [],
   "source": [
    "# Split\n",
    "X_train = []\n",
    "y_train = []\n",
    "\n",
    "for i in range(ts_points, len(train_data)):\n",
    "    X_train.append(train_data[i-ts_points:i,0])\n",
    "    y_train.append(train_data[i,0])\n",
    "    # if i <= ts_points+3:\n",
    "    #     print(X_train)\n",
    "    #     print(y_train)\n",
    "    #     print()\n"
   ]
  },
  {
   "cell_type": "code",
   "execution_count": 13,
   "metadata": {},
   "outputs": [],
   "source": [
    "# convert X_train and y_train to numpy arrays for LSTM\n",
    "X_train, y_train = np.array(X_train), np.array(y_train)"
   ]
  },
  {
   "cell_type": "code",
   "execution_count": 14,
   "metadata": {},
   "outputs": [
    {
     "name": "stdout",
     "output_type": "stream",
     "text": [
      "(28, 120)\n",
      "(28,)\n"
     ]
    }
   ],
   "source": [
    "print (X_train.shape)\n",
    "print (y_train.shape)"
   ]
  },
  {
   "cell_type": "code",
   "execution_count": 15,
   "metadata": {},
   "outputs": [
    {
     "data": {
      "text/plain": [
       "(28, 120, 1)"
      ]
     },
     "execution_count": 15,
     "metadata": {},
     "output_type": "execute_result"
    }
   ],
   "source": [
    "# LSTM network expects a 3D input (No_of_Samples, number of time steps, and number of features) no_of_features = 1 (Close)\n",
    "X_train = np.reshape(X_train, (X_train.shape[0], X_train.shape[1], 1))\n",
    "X_train.shape"
   ]
  },
  {
   "cell_type": "code",
   "execution_count": 16,
   "metadata": {},
   "outputs": [
    {
     "data": {
      "text/plain": [
       "28"
      ]
     },
     "execution_count": 16,
     "metadata": {},
     "output_type": "execute_result"
    }
   ],
   "source": [
    "training_data_len - ts_points"
   ]
  },
  {
   "cell_type": "code",
   "execution_count": 202,
   "metadata": {},
   "outputs": [],
   "source": [
    "# hidden_nodes = int(2/3 * (X_train.shape[1] * 1))\n",
    "# print(f\"The number of hidden nodes is {hidden_nodes}.\")"
   ]
  },
  {
   "cell_type": "code",
   "execution_count": 17,
   "metadata": {},
   "outputs": [],
   "source": [
    "# LSTM MOdel\n",
    "model = tf.keras.models.Sequential()\n",
    "# model.add(tf.keras.layers.LSTM(50, return_sequences=True, input_shape=(X_train.shape[1],1)))\n",
    "# model.add(tf.keras.layers.LSTM(50, return_sequences=False))\n",
    "# model.add(tf.keras.layers.Dropout(0.2))\n",
    "# model.add(tf.keras.layers.Dense(25))\n",
    "# model.add(tf.keras.layers.Dense(1))\n",
    "# model.summary()\n"
   ]
  },
  {
   "cell_type": "code",
   "execution_count": 18,
   "metadata": {},
   "outputs": [
    {
     "name": "stdout",
     "output_type": "stream",
     "text": [
      "Model: \"sequential\"\n",
      "_________________________________________________________________\n",
      "Layer (type)                 Output Shape              Param #   \n",
      "=================================================================\n",
      "lstm (LSTM)                  (None, 120, 50)           10400     \n",
      "_________________________________________________________________\n",
      "lstm_1 (LSTM)                (None, 50)                20200     \n",
      "_________________________________________________________________\n",
      "dense (Dense)                (None, 25)                1275      \n",
      "_________________________________________________________________\n",
      "dense_1 (Dense)              (None, 1)                 26        \n",
      "=================================================================\n",
      "Total params: 31,901\n",
      "Trainable params: 31,901\n",
      "Non-trainable params: 0\n",
      "_________________________________________________________________\n"
     ]
    }
   ],
   "source": [
    "\n",
    "# BEST FOR TESLA#\n",
    "model.add(tf.keras.layers.LSTM(50, return_sequences=True, input_shape=(X_train.shape[1],1)))\n",
    "model.add(tf.keras.layers.LSTM(50, return_sequences=False))\n",
    "# model.add(tf.keras.layers.Dropout(0.2))\n",
    "model.add(tf.keras.layers.Dense(25))\n",
    "model.add(tf.keras.layers.Dense(1))\n",
    "model.summary()\n",
    "\n",
    "#model.fit(X_train, y_train, batch_size=64, epochs=50"
   ]
  },
  {
   "cell_type": "code",
   "execution_count": 19,
   "metadata": {},
   "outputs": [],
   "source": [
    "model.compile(optimizer='adam', loss='mean_squared_error')\n",
    "# model.compile(loss=\"binary_crossentropy\", optimizer=\"adam\", metrics=[\"accuracy\"])"
   ]
  },
  {
   "cell_type": "code",
   "execution_count": 20,
   "metadata": {},
   "outputs": [
    {
     "name": "stdout",
     "output_type": "stream",
     "text": [
      "WARNING:tensorflow:`period` argument is deprecated. Please use `save_freq` to specify the frequency in number of batches seen.\n"
     ]
    }
   ],
   "source": [
    "import os\n",
    "from tensorflow.keras.callbacks import ModelCheckpoint\n",
    "\n",
    "batch_size=64\n",
    "\n",
    "os.makedirs(\"chk_points/\", exist_ok=True)\n",
    "chkpoint_path=\"chk_points/weights.{epoch}.hdf5\"\n",
    "\n",
    "# Create chk points\n",
    "chkpt_callback = ModelCheckpoint(filepath=chkpoint_path,\n",
    "                              verbose=1,\n",
    "                              save_weights_only=True,\n",
    "                              save_freq=\"epoch\",\n",
    "                              period=5)\n",
    "\n",
    "# chkpoint_path = \"chk_points/cp-{epoch:04d}.ckpt\"\n",
    "# chkpt_callback = tf.keras.callbacks.ModelCheckpoint(\n",
    "#     filepath=chkpoint_path, \n",
    "#     verbose=1, \n",
    "#     save_weights_only=True,\n",
    "#     save_freq=5*batch_size)                    \n",
    "\n",
    "# model.save_weights(chkpoint_path.format(epoch=0))    \n"
   ]
  },
  {
   "cell_type": "code",
   "execution_count": 207,
   "metadata": {},
   "outputs": [],
   "source": [
    "# training_data_len\n",
    "# scaled_data"
   ]
  },
  {
   "cell_type": "code",
   "execution_count": 21,
   "metadata": {},
   "outputs": [
    {
     "name": "stdout",
     "output_type": "stream",
     "text": [
      "Epoch 1/50\n",
      "1/1 [==============================] - 3s 3s/step - loss: 0.0167\n",
      "Epoch 2/50\n",
      "1/1 [==============================] - 0s 80ms/step - loss: 0.0089\n",
      "Epoch 3/50\n",
      "1/1 [==============================] - 0s 82ms/step - loss: 0.0038\n",
      "Epoch 4/50\n",
      "1/1 [==============================] - 0s 87ms/step - loss: 0.0018\n",
      "Epoch 5/50\n",
      "1/1 [==============================] - 0s 93ms/step - loss: 0.0031\n",
      "Epoch 6/50\n",
      "1/1 [==============================] - 0s 92ms/step - loss: 0.0046\n",
      "Epoch 7/50\n",
      "1/1 [==============================] - 0s 95ms/step - loss: 0.0043\n",
      "Epoch 8/50\n",
      "1/1 [==============================] - 0s 95ms/step - loss: 0.0032\n",
      "Epoch 9/50\n",
      "1/1 [==============================] - 0s 94ms/step - loss: 0.0022\n",
      "Epoch 10/50\n",
      "1/1 [==============================] - 0s 100ms/step - loss: 0.0017\n",
      "Epoch 11/50\n",
      "1/1 [==============================] - 0s 102ms/step - loss: 0.0017\n",
      "Epoch 12/50\n",
      "1/1 [==============================] - 0s 93ms/step - loss: 0.0019\n",
      "Epoch 13/50\n",
      "1/1 [==============================] - 0s 92ms/step - loss: 0.0021\n",
      "Epoch 14/50\n",
      "1/1 [==============================] - 0s 90ms/step - loss: 0.0023\n",
      "Epoch 15/50\n",
      "1/1 [==============================] - 0s 93ms/step - loss: 0.0023\n",
      "Epoch 16/50\n",
      "1/1 [==============================] - 0s 92ms/step - loss: 0.0022\n",
      "Epoch 17/50\n",
      "1/1 [==============================] - 0s 92ms/step - loss: 0.0021\n",
      "Epoch 18/50\n",
      "1/1 [==============================] - 0s 87ms/step - loss: 0.0019\n",
      "Epoch 19/50\n",
      "1/1 [==============================] - 0s 91ms/step - loss: 0.0017\n",
      "Epoch 20/50\n",
      "1/1 [==============================] - 0s 90ms/step - loss: 0.0016\n",
      "Epoch 21/50\n",
      "1/1 [==============================] - 0s 91ms/step - loss: 0.0015\n",
      "Epoch 22/50\n",
      "1/1 [==============================] - 0s 93ms/step - loss: 0.0016\n",
      "Epoch 23/50\n",
      "1/1 [==============================] - 0s 87ms/step - loss: 0.0016\n",
      "Epoch 24/50\n",
      "1/1 [==============================] - 0s 88ms/step - loss: 0.0017\n",
      "Epoch 25/50\n",
      "1/1 [==============================] - 0s 95ms/step - loss: 0.0017\n",
      "Epoch 26/50\n",
      "1/1 [==============================] - 0s 95ms/step - loss: 0.0017\n",
      "Epoch 27/50\n",
      "1/1 [==============================] - 0s 101ms/step - loss: 0.0017\n",
      "Epoch 28/50\n",
      "1/1 [==============================] - 0s 110ms/step - loss: 0.0016\n",
      "Epoch 29/50\n",
      "1/1 [==============================] - 0s 106ms/step - loss: 0.0016\n",
      "Epoch 30/50\n",
      "1/1 [==============================] - 0s 98ms/step - loss: 0.0015\n",
      "Epoch 31/50\n",
      "1/1 [==============================] - 0s 114ms/step - loss: 0.0015\n",
      "Epoch 32/50\n",
      "1/1 [==============================] - 0s 108ms/step - loss: 0.0015\n",
      "Epoch 33/50\n",
      "1/1 [==============================] - 0s 113ms/step - loss: 0.0015\n",
      "Epoch 34/50\n",
      "1/1 [==============================] - 0s 112ms/step - loss: 0.0015\n",
      "Epoch 35/50\n",
      "1/1 [==============================] - 0s 116ms/step - loss: 0.0015\n",
      "Epoch 36/50\n",
      "1/1 [==============================] - 0s 107ms/step - loss: 0.0015\n",
      "Epoch 37/50\n",
      "1/1 [==============================] - 0s 108ms/step - loss: 0.0015\n",
      "Epoch 38/50\n",
      "1/1 [==============================] - 0s 110ms/step - loss: 0.0015\n",
      "Epoch 39/50\n",
      "1/1 [==============================] - 0s 109ms/step - loss: 0.0015\n",
      "Epoch 40/50\n",
      "1/1 [==============================] - 0s 115ms/step - loss: 0.0015\n",
      "Epoch 41/50\n",
      "1/1 [==============================] - 0s 103ms/step - loss: 0.0014\n",
      "Epoch 42/50\n",
      "1/1 [==============================] - 0s 108ms/step - loss: 0.0014\n",
      "Epoch 43/50\n",
      "1/1 [==============================] - 0s 108ms/step - loss: 0.0014\n",
      "Epoch 44/50\n",
      "1/1 [==============================] - 0s 107ms/step - loss: 0.0014\n",
      "Epoch 45/50\n",
      "1/1 [==============================] - 0s 110ms/step - loss: 0.0014\n",
      "Epoch 46/50\n",
      "1/1 [==============================] - 0s 108ms/step - loss: 0.0014\n",
      "Epoch 47/50\n",
      "1/1 [==============================] - 0s 135ms/step - loss: 0.0014\n",
      "Epoch 48/50\n",
      "1/1 [==============================] - 0s 101ms/step - loss: 0.0014\n",
      "Epoch 49/50\n",
      "1/1 [==============================] - 0s 96ms/step - loss: 0.0014\n",
      "Epoch 50/50\n",
      "1/1 [==============================] - 0s 105ms/step - loss: 0.0014\n"
     ]
    },
    {
     "data": {
      "text/plain": [
       "<keras.callbacks.History at 0x17f14d4db20>"
      ]
     },
     "execution_count": 21,
     "metadata": {},
     "output_type": "execute_result"
    }
   ],
   "source": [
    "# model.fit(X_train, y_train, batch_size=batch_size, epochs=50, validation_split=0.43, callbacks=[chkpt_callback])\n",
    "model.fit(X_train, y_train, batch_size=64, epochs=50)"
   ]
  },
  {
   "cell_type": "code",
   "execution_count": 22,
   "metadata": {},
   "outputs": [],
   "source": [
    "model.save('Saved_Models/Model_'+ticker+'.h5')"
   ]
  },
  {
   "cell_type": "code",
   "execution_count": 23,
   "metadata": {},
   "outputs": [],
   "source": [
    "# test_data = scaled_data[training_data_len:]\n",
    "\n",
    "# Bring in the last 'ts_points' (60 values) from training set so when X_test is used to predict , predictions have same shape as Y_test\n",
    "# The for loop starts with 'ts_points' thatbmeans the resultant array will have 60 less rows\n",
    "test_data = scaled_data[training_data_len-ts_points:]\n",
    "# test_data[0:60,0]\n"
   ]
  },
  {
   "cell_type": "code",
   "execution_count": 24,
   "metadata": {},
   "outputs": [],
   "source": [
    "X_test = []\n",
    "y_test = TSdata_arr[training_data_len:]\n",
    "for i in range(ts_points, len(test_data)):\n",
    "    X_test.append(test_data[i-ts_points:i,0])\n"
   ]
  },
  {
   "cell_type": "code",
   "execution_count": 25,
   "metadata": {},
   "outputs": [],
   "source": [
    "# convert the data to a numpy array to use it in LSTM MODEL\n",
    "X_test = np.array(X_test)\n",
    "X_test = np.reshape(X_test, (X_test.shape[0],  X_test.shape[1], 1))"
   ]
  },
  {
   "cell_type": "code",
   "execution_count": 26,
   "metadata": {},
   "outputs": [],
   "source": [
    "from sklearn.metrics import mean_squared_error"
   ]
  },
  {
   "cell_type": "code",
   "execution_count": 27,
   "metadata": {},
   "outputs": [
    {
     "data": {
      "text/plain": [
       "4.05240052238334"
      ]
     },
     "execution_count": 27,
     "metadata": {},
     "output_type": "execute_result"
    }
   ],
   "source": [
    "# Models predicted price for X_train\n",
    "predictions_tr = model.predict(X_train)\n",
    "predictions_tr = scaler.inverse_transform(predictions_tr)\n",
    "\n",
    "y_train_tr =  scaler.inverse_transform(y_train.reshape(-1,1))\n",
    "rmse_tr = math.sqrt(mean_squared_error(y_train_tr, predictions_tr))\n",
    "rmse_tr"
   ]
  },
  {
   "cell_type": "code",
   "execution_count": 28,
   "metadata": {},
   "outputs": [],
   "source": [
    "# Models predicted price for X_test\n",
    "predictions = model.predict(X_test)\n",
    "predictions = scaler.inverse_transform(predictions)"
   ]
  },
  {
   "cell_type": "code",
   "execution_count": 29,
   "metadata": {},
   "outputs": [
    {
     "data": {
      "text/plain": [
       "((49, 1), (49, 1))"
      ]
     },
     "execution_count": 29,
     "metadata": {},
     "output_type": "execute_result"
    }
   ],
   "source": [
    "y_test.shape, predictions.shape"
   ]
  },
  {
   "cell_type": "code",
   "execution_count": 30,
   "metadata": {},
   "outputs": [
    {
     "data": {
      "text/plain": [
       "43.966601674952884"
      ]
     },
     "execution_count": 30,
     "metadata": {},
     "output_type": "execute_result"
    }
   ],
   "source": [
    "# RMSE to check accuracy\n",
    "\n",
    "rmse = math.sqrt(mean_squared_error(y_test, predictions))\n",
    "rmse"
   ]
  },
  {
   "cell_type": "code",
   "execution_count": 31,
   "metadata": {},
   "outputs": [
    {
     "name": "stderr",
     "output_type": "stream",
     "text": [
      "<ipython-input-31-bb86776ae978>:4: SettingWithCopyWarning: \n",
      "A value is trying to be set on a copy of a slice from a DataFrame.\n",
      "Try using .loc[row_indexer,col_indexer] = value instead\n",
      "\n",
      "See the caveats in the documentation: https://pandas.pydata.org/pandas-docs/stable/user_guide/indexing.html#returning-a-view-versus-a-copy\n",
      "  actual['Predictions'] = predictions\n"
     ]
    },
    {
     "data": {
      "text/html": [
       "<div>\n",
       "<style scoped>\n",
       "    .dataframe tbody tr th:only-of-type {\n",
       "        vertical-align: middle;\n",
       "    }\n",
       "\n",
       "    .dataframe tbody tr th {\n",
       "        vertical-align: top;\n",
       "    }\n",
       "\n",
       "    .dataframe thead th {\n",
       "        text-align: right;\n",
       "    }\n",
       "</style>\n",
       "<table border=\"1\" class=\"dataframe\">\n",
       "  <thead>\n",
       "    <tr style=\"text-align: right;\">\n",
       "      <th></th>\n",
       "      <th>Close</th>\n",
       "      <th>Predictions</th>\n",
       "    </tr>\n",
       "    <tr>\n",
       "      <th>Date</th>\n",
       "      <th></th>\n",
       "      <th></th>\n",
       "    </tr>\n",
       "  </thead>\n",
       "  <tbody>\n",
       "    <tr>\n",
       "      <th>2021-08-16</th>\n",
       "      <td>63.590000</td>\n",
       "      <td>63.533100</td>\n",
       "    </tr>\n",
       "    <tr>\n",
       "      <th>2021-08-17</th>\n",
       "      <td>63.500000</td>\n",
       "      <td>63.528343</td>\n",
       "    </tr>\n",
       "    <tr>\n",
       "      <th>2021-08-18</th>\n",
       "      <td>64.680000</td>\n",
       "      <td>63.470413</td>\n",
       "    </tr>\n",
       "    <tr>\n",
       "      <th>2021-08-19</th>\n",
       "      <td>63.459999</td>\n",
       "      <td>63.409283</td>\n",
       "    </tr>\n",
       "    <tr>\n",
       "      <th>2021-08-20</th>\n",
       "      <td>64.760002</td>\n",
       "      <td>63.327976</td>\n",
       "    </tr>\n",
       "    <tr>\n",
       "      <th>2021-08-23</th>\n",
       "      <td>67.709999</td>\n",
       "      <td>63.266979</td>\n",
       "    </tr>\n",
       "    <tr>\n",
       "      <th>2021-08-24</th>\n",
       "      <td>68.529999</td>\n",
       "      <td>63.282143</td>\n",
       "    </tr>\n",
       "    <tr>\n",
       "      <th>2021-08-25</th>\n",
       "      <td>72.709999</td>\n",
       "      <td>63.359005</td>\n",
       "    </tr>\n",
       "    <tr>\n",
       "      <th>2021-08-26</th>\n",
       "      <td>69.980003</td>\n",
       "      <td>63.549641</td>\n",
       "    </tr>\n",
       "    <tr>\n",
       "      <th>2021-08-27</th>\n",
       "      <td>67.900002</td>\n",
       "      <td>63.740265</td>\n",
       "    </tr>\n",
       "    <tr>\n",
       "      <th>2021-08-30</th>\n",
       "      <td>99.589996</td>\n",
       "      <td>63.873547</td>\n",
       "    </tr>\n",
       "    <tr>\n",
       "      <th>2021-08-31</th>\n",
       "      <td>96.339996</td>\n",
       "      <td>64.584198</td>\n",
       "    </tr>\n",
       "    <tr>\n",
       "      <th>2021-09-01</th>\n",
       "      <td>96.480003</td>\n",
       "      <td>65.528183</td>\n",
       "    </tr>\n",
       "    <tr>\n",
       "      <th>2021-09-02</th>\n",
       "      <td>98.989998</td>\n",
       "      <td>66.537895</td>\n",
       "    </tr>\n",
       "    <tr>\n",
       "      <th>2021-09-03</th>\n",
       "      <td>93.050003</td>\n",
       "      <td>67.553398</td>\n",
       "    </tr>\n",
       "    <tr>\n",
       "      <th>2021-09-07</th>\n",
       "      <td>91.510002</td>\n",
       "      <td>68.377968</td>\n",
       "    </tr>\n",
       "    <tr>\n",
       "      <th>2021-09-08</th>\n",
       "      <td>87.540001</td>\n",
       "      <td>68.992538</td>\n",
       "    </tr>\n",
       "    <tr>\n",
       "      <th>2021-09-09</th>\n",
       "      <td>92.059998</td>\n",
       "      <td>69.358192</td>\n",
       "    </tr>\n",
       "    <tr>\n",
       "      <th>2021-09-10</th>\n",
       "      <td>123.699997</td>\n",
       "      <td>69.634407</td>\n",
       "    </tr>\n",
       "    <tr>\n",
       "      <th>2021-09-13</th>\n",
       "      <td>109.300003</td>\n",
       "      <td>70.442406</td>\n",
       "    </tr>\n",
       "    <tr>\n",
       "      <th>2021-09-14</th>\n",
       "      <td>108.059998</td>\n",
       "      <td>71.245056</td>\n",
       "    </tr>\n",
       "    <tr>\n",
       "      <th>2021-09-15</th>\n",
       "      <td>109.750000</td>\n",
       "      <td>71.954506</td>\n",
       "    </tr>\n",
       "    <tr>\n",
       "      <th>2021-09-16</th>\n",
       "      <td>117.580002</td>\n",
       "      <td>72.583267</td>\n",
       "    </tr>\n",
       "    <tr>\n",
       "      <th>2021-09-17</th>\n",
       "      <td>116.279999</td>\n",
       "      <td>73.262222</td>\n",
       "    </tr>\n",
       "    <tr>\n",
       "      <th>2021-09-20</th>\n",
       "      <td>107.699997</td>\n",
       "      <td>73.898071</td>\n",
       "    </tr>\n",
       "    <tr>\n",
       "      <th>2021-09-21</th>\n",
       "      <td>108.110001</td>\n",
       "      <td>74.300438</td>\n",
       "    </tr>\n",
       "    <tr>\n",
       "      <th>2021-09-22</th>\n",
       "      <td>114.070000</td>\n",
       "      <td>74.537697</td>\n",
       "    </tr>\n",
       "    <tr>\n",
       "      <th>2021-09-23</th>\n",
       "      <td>126.889999</td>\n",
       "      <td>74.770645</td>\n",
       "    </tr>\n",
       "    <tr>\n",
       "      <th>2021-09-24</th>\n",
       "      <td>123.730003</td>\n",
       "      <td>75.224678</td>\n",
       "    </tr>\n",
       "    <tr>\n",
       "      <th>2021-09-27</th>\n",
       "      <td>128.369995</td>\n",
       "      <td>75.723930</td>\n",
       "    </tr>\n",
       "    <tr>\n",
       "      <th>2021-09-28</th>\n",
       "      <td>114.519997</td>\n",
       "      <td>76.295769</td>\n",
       "    </tr>\n",
       "    <tr>\n",
       "      <th>2021-09-29</th>\n",
       "      <td>112.769997</td>\n",
       "      <td>76.615013</td>\n",
       "    </tr>\n",
       "    <tr>\n",
       "      <th>2021-09-30</th>\n",
       "      <td>119.129997</td>\n",
       "      <td>76.721230</td>\n",
       "    </tr>\n",
       "    <tr>\n",
       "      <th>2021-10-01</th>\n",
       "      <td>117.849998</td>\n",
       "      <td>76.808517</td>\n",
       "    </tr>\n",
       "    <tr>\n",
       "      <th>2021-10-04</th>\n",
       "      <td>107.930000</td>\n",
       "      <td>76.859222</td>\n",
       "    </tr>\n",
       "    <tr>\n",
       "      <th>2021-10-05</th>\n",
       "      <td>111.459999</td>\n",
       "      <td>76.703728</td>\n",
       "    </tr>\n",
       "    <tr>\n",
       "      <th>2021-10-06</th>\n",
       "      <td>133.699997</td>\n",
       "      <td>76.499123</td>\n",
       "    </tr>\n",
       "    <tr>\n",
       "      <th>2021-10-07</th>\n",
       "      <td>133.899994</td>\n",
       "      <td>76.691727</td>\n",
       "    </tr>\n",
       "    <tr>\n",
       "      <th>2021-10-08</th>\n",
       "      <td>141.190002</td>\n",
       "      <td>77.119507</td>\n",
       "    </tr>\n",
       "    <tr>\n",
       "      <th>2021-10-11</th>\n",
       "      <td>135.029999</td>\n",
       "      <td>77.785255</td>\n",
       "    </tr>\n",
       "    <tr>\n",
       "      <th>2021-10-12</th>\n",
       "      <td>140.669998</td>\n",
       "      <td>78.430611</td>\n",
       "    </tr>\n",
       "    <tr>\n",
       "      <th>2021-10-13</th>\n",
       "      <td>146.130005</td>\n",
       "      <td>79.109985</td>\n",
       "    </tr>\n",
       "    <tr>\n",
       "      <th>2021-10-14</th>\n",
       "      <td>148.470001</td>\n",
       "      <td>79.854134</td>\n",
       "    </tr>\n",
       "    <tr>\n",
       "      <th>2021-10-15</th>\n",
       "      <td>146.729996</td>\n",
       "      <td>80.622047</td>\n",
       "    </tr>\n",
       "    <tr>\n",
       "      <th>2021-10-18</th>\n",
       "      <td>157.250000</td>\n",
       "      <td>81.314941</td>\n",
       "    </tr>\n",
       "    <tr>\n",
       "      <th>2021-10-19</th>\n",
       "      <td>155.350006</td>\n",
       "      <td>82.092422</td>\n",
       "    </tr>\n",
       "    <tr>\n",
       "      <th>2021-10-20</th>\n",
       "      <td>147.639999</td>\n",
       "      <td>82.831520</td>\n",
       "    </tr>\n",
       "    <tr>\n",
       "      <th>2021-10-21</th>\n",
       "      <td>155.339996</td>\n",
       "      <td>83.358017</td>\n",
       "    </tr>\n",
       "    <tr>\n",
       "      <th>2021-10-22</th>\n",
       "      <td>155.210007</td>\n",
       "      <td>83.847900</td>\n",
       "    </tr>\n",
       "  </tbody>\n",
       "</table>\n",
       "</div>"
      ],
      "text/plain": [
       "                 Close  Predictions\n",
       "Date                               \n",
       "2021-08-16   63.590000    63.533100\n",
       "2021-08-17   63.500000    63.528343\n",
       "2021-08-18   64.680000    63.470413\n",
       "2021-08-19   63.459999    63.409283\n",
       "2021-08-20   64.760002    63.327976\n",
       "2021-08-23   67.709999    63.266979\n",
       "2021-08-24   68.529999    63.282143\n",
       "2021-08-25   72.709999    63.359005\n",
       "2021-08-26   69.980003    63.549641\n",
       "2021-08-27   67.900002    63.740265\n",
       "2021-08-30   99.589996    63.873547\n",
       "2021-08-31   96.339996    64.584198\n",
       "2021-09-01   96.480003    65.528183\n",
       "2021-09-02   98.989998    66.537895\n",
       "2021-09-03   93.050003    67.553398\n",
       "2021-09-07   91.510002    68.377968\n",
       "2021-09-08   87.540001    68.992538\n",
       "2021-09-09   92.059998    69.358192\n",
       "2021-09-10  123.699997    69.634407\n",
       "2021-09-13  109.300003    70.442406\n",
       "2021-09-14  108.059998    71.245056\n",
       "2021-09-15  109.750000    71.954506\n",
       "2021-09-16  117.580002    72.583267\n",
       "2021-09-17  116.279999    73.262222\n",
       "2021-09-20  107.699997    73.898071\n",
       "2021-09-21  108.110001    74.300438\n",
       "2021-09-22  114.070000    74.537697\n",
       "2021-09-23  126.889999    74.770645\n",
       "2021-09-24  123.730003    75.224678\n",
       "2021-09-27  128.369995    75.723930\n",
       "2021-09-28  114.519997    76.295769\n",
       "2021-09-29  112.769997    76.615013\n",
       "2021-09-30  119.129997    76.721230\n",
       "2021-10-01  117.849998    76.808517\n",
       "2021-10-04  107.930000    76.859222\n",
       "2021-10-05  111.459999    76.703728\n",
       "2021-10-06  133.699997    76.499123\n",
       "2021-10-07  133.899994    76.691727\n",
       "2021-10-08  141.190002    77.119507\n",
       "2021-10-11  135.029999    77.785255\n",
       "2021-10-12  140.669998    78.430611\n",
       "2021-10-13  146.130005    79.109985\n",
       "2021-10-14  148.470001    79.854134\n",
       "2021-10-15  146.729996    80.622047\n",
       "2021-10-18  157.250000    81.314941\n",
       "2021-10-19  155.350006    82.092422\n",
       "2021-10-20  147.639999    82.831520\n",
       "2021-10-21  155.339996    83.358017\n",
       "2021-10-22  155.210007    83.847900"
      ]
     },
     "execution_count": 31,
     "metadata": {},
     "output_type": "execute_result"
    }
   ],
   "source": [
    "# Plot\n",
    "train = TSdata_df[:training_data_len]\n",
    "actual = TSdata_df[training_data_len:]\n",
    "actual['Predictions'] = predictions\n",
    "actual"
   ]
  },
  {
   "cell_type": "code",
   "execution_count": 32,
   "metadata": {},
   "outputs": [
    {
     "data": {
      "image/png": "[encoded data removed]",
      "text/plain": [
       "<Figure size 1152x576 with 1 Axes>"
      ]
     },
     "metadata": {},
     "output_type": "display_data"
    }
   ],
   "source": [
    "plt.figure(figsize=(16,8))\n",
    "plt.title(f\"Model for '{stock}' - {ticker}\")\n",
    "plt.xlabel(\"Date\")\n",
    "plt.ylabel(\"Close Price USD\")\n",
    "plt.plot(train['Close'])\n",
    "plt.plot(actual[['Close', 'Predictions']])\n",
    "plt.legend(['Train', 'Actual', 'Predictions'], loc='lower right')\n",
    "plt.show()"
   ]
  },
  {
   "cell_type": "markdown",
   "metadata": {},
   "source": [
    "# TEST"
   ]
  },
  {
   "cell_type": "code",
   "execution_count": 33,
   "metadata": {},
   "outputs": [],
   "source": [
    "# for predictions add 100 extra days to make sure it has more than ts_points to make up for missing days (weekends and holidays)\n",
    "\n",
    "fetch_days = ts_points + 100    \n",
    "\n",
    "sd =  today - timedelta(days=fetch_days)\n",
    "sd = sd.strftime('%Y-%m-%d')\n",
    "\n",
    "ed = today.strftime('%Y-%m-%d')\n",
    "ed\n",
    "\n",
    "next_day = (today + timedelta(days=1) ).strftime('%Y-%m-%d')\n",
    "# next_day"
   ]
  },
  {
   "cell_type": "code",
   "execution_count": 34,
   "metadata": {},
   "outputs": [],
   "source": [
    "# get the quote\n",
    "quote = pdr.DataReader(ticker, data_source=\"yahoo\", start=sd, end=ed)\n",
    "new_df = quote.filter(['Close'])\n",
    "last_n_days = ts_points\n",
    "last_n_days_arr = new_df[-last_n_days:].values "
   ]
  },
  {
   "cell_type": "code",
   "execution_count": 35,
   "metadata": {},
   "outputs": [],
   "source": [
    "last_n_days_scaled = scaler.transform(last_n_days_arr)\n",
    "X_test = []\n",
    "X_test.append(last_n_days_scaled)\n",
    "X_test = np.array(X_test)\n",
    "X_test = np.reshape(X_test,(X_test.shape[0], X_test.shape[1],1))\n"
   ]
  },
  {
   "cell_type": "code",
   "execution_count": 36,
   "metadata": {},
   "outputs": [
    {
     "name": "stdout",
     "output_type": "stream",
     "text": [
      "Model: \"sequential\"\n",
      "_________________________________________________________________\n",
      "Layer (type)                 Output Shape              Param #   \n",
      "=================================================================\n",
      "lstm (LSTM)                  (None, 120, 50)           10400     \n",
      "_________________________________________________________________\n",
      "lstm_1 (LSTM)                (None, 50)                20200     \n",
      "_________________________________________________________________\n",
      "dense (Dense)                (None, 25)                1275      \n",
      "_________________________________________________________________\n",
      "dense_1 (Dense)              (None, 1)                 26        \n",
      "=================================================================\n",
      "Total params: 31,901\n",
      "Trainable params: 31,901\n",
      "Non-trainable params: 0\n",
      "_________________________________________________________________\n",
      "Predicted Closing price for 'Affirm Holdings' on 2021-10-24 is 84.2804\n"
     ]
    }
   ],
   "source": [
    "##########################loading saved model ###############################\n",
    "new_model = tf.keras.models.load_model('Saved_Models/Model_'+ticker+'.h5')\n",
    "\n",
    "# Check its architecture\n",
    "new_model.summary()\n",
    "nmpred_price = new_model.predict(X_test)\n",
    "nmpred_price = scaler.inverse_transform(nmpred_price)\n",
    "nmpred_price = nmpred_price[0][0]\n",
    "print(f\"Predicted Closing price for '{stock}' on {next_day} is {nmpred_price:.4f}\")"
   ]
  },
  {
   "cell_type": "code",
   "execution_count": 37,
   "metadata": {},
   "outputs": [
    {
     "name": "stdout",
     "output_type": "stream",
     "text": [
      "Predicted Closing price for 'Affirm Holdings' on 2021-10-24 is 84.2804\n"
     ]
    }
   ],
   "source": [
    "pred_price = model.predict(X_test)\n",
    "pred_price = scaler.inverse_transform(pred_price)\n",
    "pred_price = pred_price[0][0]\n",
    "print(f\"Predicted Closing price for '{stock}' on {next_day} is {pred_price:.4f}\")"
   ]
  },
  {
   "cell_type": "code",
   "execution_count": 38,
   "metadata": {},
   "outputs": [
    {
     "data": {
      "text/html": [
       "<div>\n",
       "<style scoped>\n",
       "    .dataframe tbody tr th:only-of-type {\n",
       "        vertical-align: middle;\n",
       "    }\n",
       "\n",
       "    .dataframe tbody tr th {\n",
       "        vertical-align: top;\n",
       "    }\n",
       "\n",
       "    .dataframe thead th {\n",
       "        text-align: right;\n",
       "    }\n",
       "</style>\n",
       "<table border=\"1\" class=\"dataframe\">\n",
       "  <thead>\n",
       "    <tr style=\"text-align: right;\">\n",
       "      <th></th>\n",
       "      <th>High</th>\n",
       "      <th>Low</th>\n",
       "      <th>Open</th>\n",
       "      <th>Close</th>\n",
       "      <th>Volume</th>\n",
       "      <th>Adj Close</th>\n",
       "    </tr>\n",
       "    <tr>\n",
       "      <th>Date</th>\n",
       "      <th></th>\n",
       "      <th></th>\n",
       "      <th></th>\n",
       "      <th></th>\n",
       "      <th></th>\n",
       "      <th></th>\n",
       "    </tr>\n",
       "  </thead>\n",
       "  <tbody>\n",
       "    <tr>\n",
       "      <th>2021-10-18</th>\n",
       "      <td>159.669998</td>\n",
       "      <td>146.610001</td>\n",
       "      <td>146.729996</td>\n",
       "      <td>157.250000</td>\n",
       "      <td>23542500</td>\n",
       "      <td>157.250000</td>\n",
       "    </tr>\n",
       "    <tr>\n",
       "      <th>2021-10-19</th>\n",
       "      <td>160.690002</td>\n",
       "      <td>153.300003</td>\n",
       "      <td>157.516998</td>\n",
       "      <td>155.350006</td>\n",
       "      <td>12814500</td>\n",
       "      <td>155.350006</td>\n",
       "    </tr>\n",
       "    <tr>\n",
       "      <th>2021-10-20</th>\n",
       "      <td>158.289993</td>\n",
       "      <td>146.149994</td>\n",
       "      <td>156.289993</td>\n",
       "      <td>147.639999</td>\n",
       "      <td>10450900</td>\n",
       "      <td>147.639999</td>\n",
       "    </tr>\n",
       "    <tr>\n",
       "      <th>2021-10-21</th>\n",
       "      <td>156.160004</td>\n",
       "      <td>149.869995</td>\n",
       "      <td>150.660004</td>\n",
       "      <td>155.339996</td>\n",
       "      <td>9504600</td>\n",
       "      <td>155.339996</td>\n",
       "    </tr>\n",
       "    <tr>\n",
       "      <th>2021-10-22</th>\n",
       "      <td>159.820007</td>\n",
       "      <td>150.750000</td>\n",
       "      <td>154.169998</td>\n",
       "      <td>155.210007</td>\n",
       "      <td>9896800</td>\n",
       "      <td>155.210007</td>\n",
       "    </tr>\n",
       "  </tbody>\n",
       "</table>\n",
       "</div>"
      ],
      "text/plain": [
       "                  High         Low        Open       Close    Volume  \\\n",
       "Date                                                                   \n",
       "2021-10-18  159.669998  146.610001  146.729996  157.250000  23542500   \n",
       "2021-10-19  160.690002  153.300003  157.516998  155.350006  12814500   \n",
       "2021-10-20  158.289993  146.149994  156.289993  147.639999  10450900   \n",
       "2021-10-21  156.160004  149.869995  150.660004  155.339996   9504600   \n",
       "2021-10-22  159.820007  150.750000  154.169998  155.210007   9896800   \n",
       "\n",
       "             Adj Close  \n",
       "Date                    \n",
       "2021-10-18  157.250000  \n",
       "2021-10-19  155.350006  \n",
       "2021-10-20  147.639999  \n",
       "2021-10-21  155.339996  \n",
       "2021-10-22  155.210007  "
      ]
     },
     "execution_count": 38,
     "metadata": {},
     "output_type": "execute_result"
    }
   ],
   "source": [
    "# verify\n",
    "d1 = today - timedelta(days=5)\n",
    "d1 = d1.strftime('%Y-%m-%d')\n",
    "\n",
    "quote2 = pdr.DataReader(ticker, data_source=\"yahoo\", start=d1)\n",
    "quote2"
   ]
  },
  {
   "cell_type": "code",
   "execution_count": null,
   "metadata": {},
   "outputs": [],
   "source": []
  },
  {
   "cell_type": "code",
   "execution_count": null,
   "metadata": {},
   "outputs": [],
   "source": []
  }
 ],
 "metadata": {
  "colab": {
   "name": "Untitled1.ipynb",
   "provenance": []
  },
  "interpreter": {
   "hash": "eb0a5deb85624cf39522bd9ea766efe3b585b85d5e69ded4a98e5c69611b9570"
  },
  "kernelspec": {
   "display_name": "Python 3",
   "language": "python",
   "name": "python3"
  },
  "language_info": {
   "codemirror_mode": {
    "name": "ipython",
    "version": 3
   },
   "file_extension": ".py",
   "mimetype": "text/x-python",
   "name": "python",
   "nbconvert_exporter": "python",
   "pygments_lexer": "ipython3",
   "version": "3.8.5"
  }
 },
 "nbformat": 4,
 "nbformat_minor": 4
}
